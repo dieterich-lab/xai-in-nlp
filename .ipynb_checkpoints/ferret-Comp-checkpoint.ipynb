{
 "cells": [
  {
   "cell_type": "code",
   "execution_count": 16,
   "id": "3faa4adf-a3e5-47ea-aafd-452db39e3c8d",
   "metadata": {},
   "outputs": [],
   "source": [
    "from transformers import AutoModelForSequenceClassification, AutoTokenizer\n",
    "from ferret import Benchmark\n",
    "from statistics import mean\n",
    "from tabulate import tabulate\n",
    "import numpy as np"
   ]
  },
  {
   "cell_type": "code",
   "execution_count": 17,
   "id": "8ef9ad20-fc10-4867-9382-d96c8ad77174",
   "metadata": {},
   "outputs": [],
   "source": [
    "name = \"/beegfs/scratch/rsari/BertSeqCA/checkpoint-10000/\"\n",
    "model = AutoModelForSequenceClassification.from_pretrained(name)\n",
    "tokenizer = AutoTokenizer.from_pretrained(name)"
   ]
  },
  {
   "cell_type": "code",
   "execution_count": 14,
   "id": "b1a63979-d3a2-4675-8e46-1e5c3a102ff3",
   "metadata": {},
   "outputs": [],
   "source": [
    "id2tag = {0: 'Anrede', 1: 'Diagnosen', 2: 'AllergienUnverträglichkeitenRisiken', 3: 'Anamnese', 4: 'Medikation', 5: 'KUBefunde', 6: 'Befunde', 7: 'EchoBefunde', 8: 'Zusammenfassung', 9: 'Mix', 10: 'Abschluss'}\n",
    "tag2id = {tag: id for id, tag in id2tag.items()}\n",
    "\n",
    "labels = list(id2tag.values())"
   ]
  },
  {
   "cell_type": "code",
   "execution_count": 8,
   "id": "759064e6-c018-4c2a-870e-6955a89b37bd",
   "metadata": {
    "collapsed": true,
    "jupyter": {
     "outputs_hidden": true
    },
    "tags": []
   },
   "outputs": [
    {
     "name": "stderr",
     "output_type": "stream",
     "text": [
      "2023-03-16 13:16:07.631261: I tensorflow/core/platform/cpu_feature_guard.cc:193] This TensorFlow binary is optimized with oneAPI Deep Neural Network Library (oneDNN) to use the following CPU instructions in performance-critical operations:  AVX2 FMA\n",
      "To enable them in other operations, rebuild TensorFlow with the appropriate compiler flags.\n",
      "2023-03-16 13:16:11.921508: W tensorflow/stream_executor/platform/default/dso_loader.cc:64] Could not load dynamic library 'libcudart.so.11.0'; dlerror: libcudart.so.11.0: cannot open shared object file: No such file or directory; LD_LIBRARY_PATH: /beegfs/homes/rsari/MIEdeep/lib/python3.9/site-packages/cv2/../../lib64:\n",
      "2023-03-16 13:16:11.921571: I tensorflow/stream_executor/cuda/cudart_stub.cc:29] Ignore above cudart dlerror if you do not have a GPU set up on your machine.\n",
      "2023-03-16 13:16:12.350876: E tensorflow/stream_executor/cuda/cuda_blas.cc:2981] Unable to register cuBLAS factory: Attempting to register factory for plugin cuBLAS when one has already been registered\n",
      "2023-03-16 13:16:41.156275: W tensorflow/stream_executor/platform/default/dso_loader.cc:64] Could not load dynamic library 'libnvinfer.so.7'; dlerror: libnvinfer.so.7: cannot open shared object file: No such file or directory; LD_LIBRARY_PATH: /beegfs/homes/rsari/MIEdeep/lib/python3.9/site-packages/cv2/../../lib64:\n",
      "2023-03-16 13:16:41.157703: W tensorflow/stream_executor/platform/default/dso_loader.cc:64] Could not load dynamic library 'libnvinfer_plugin.so.7'; dlerror: libnvinfer_plugin.so.7: cannot open shared object file: No such file or directory; LD_LIBRARY_PATH: /beegfs/homes/rsari/MIEdeep/lib/python3.9/site-packages/cv2/../../lib64:\n",
      "2023-03-16 13:16:41.157733: W tensorflow/compiler/tf2tensorrt/utils/py_utils.cc:38] TF-TRT Warning: Cannot dlopen some TensorRT libraries. If you would like to use Nvidia GPU with TensorRT, please make sure the missing libraries mentioned above are installed properly.\n"
     ]
    }
   ],
   "source": [
    "import tensorflow as tf\n",
    "import torch"
   ]
  },
  {
   "cell_type": "code",
   "execution_count": 10,
   "id": "6fef4250-c787-43ae-8780-6506ba173d04",
   "metadata": {},
   "outputs": [],
   "source": [
    "data, count = {l: [] for l in labels}, {l:0 for l in labels}\n",
    "\n",
    "with open(\"../doctoral_letters/MIEdeep/data/PETsectionclass/50shot/set_1.tsv\", \"r\") as f:\n",
    "    lines = f.readlines()\n",
    "    for line in lines:\n",
    "        sent, lab = line.strip().split(\"\\t\")\n",
    "        pred = torch.argmax(model(tokenizer.encode(sent, return_tensors=\"pt\"))[0])\n",
    "        l = id2tag[int(pred)]        \n",
    "        if l==lab and count[lab]>=10:\n",
    "            continue\n",
    "        elif l!= lab:\n",
    "            data[lab].append((l, sent))\n",
    "        else:\n",
    "            data[lab].append((l, sent))\n",
    "            count[lab]+=1"
   ]
  },
  {
   "cell_type": "markdown",
   "id": "aa6dc336-02cd-478a-8661-c280bd291bf4",
   "metadata": {},
   "source": [
    "#### Score sentences with bench.explain for IG & SHAP"
   ]
  },
  {
   "cell_type": "code",
   "execution_count": 18,
   "id": "22a6fb5c-4624-4b6e-913d-980af18c74e8",
   "metadata": {},
   "outputs": [],
   "source": [
    "bench = Benchmark(model, tokenizer)"
   ]
  },
  {
   "cell_type": "code",
   "execution_count": 15,
   "id": "24a20175-031b-431c-9e37-947912080457",
   "metadata": {},
   "outputs": [],
   "source": [
    "ig, shap = {l: [] for l in labels}, {l: [] for l in labels}"
   ]
  },
  {
   "cell_type": "code",
   "execution_count": null,
   "id": "a1dbcaee-f08c-49fe-9be4-dd44aeef09db",
   "metadata": {
    "tags": []
   },
   "outputs": [],
   "source": [
    "from tqdm import tqdm\n",
    "\n",
    "for lab in tqdm(labels):\n",
    "    for tup in data[lab]:\n",
    "        if tup[0] == lab:\n",
    "            explanations = bench.explain(tup[1], target=tag2id[lab])                                    \n",
    "            ig[lab].append(explanations[4])\n",
    "            shap[lab].append(explanations[0])\n",
    "        else:\n",
    "            pass"
   ]
  },
  {
   "cell_type": "code",
   "execution_count": 58,
   "id": "dc00126a-8241-4ded-a828-77503d573527",
   "metadata": {},
   "outputs": [],
   "source": [
    "assert all([i[0] == s[0] == d[0] for i,s,d in zip(ig.items(), shap.items(), data.items())])"
   ]
  },
  {
   "cell_type": "code",
   "execution_count": 59,
   "id": "0a066a4b-2c3f-49bf-9321-3a72884342a0",
   "metadata": {},
   "outputs": [],
   "source": [
    "eva_ig, eva_shap = {l: [] for l in labels}, {l: [] for l in labels}"
   ]
  },
  {
   "cell_type": "code",
   "execution_count": 60,
   "id": "3fd2cd70-4ac1-46f6-b6ee-935aaa161fdc",
   "metadata": {
    "collapsed": true,
    "jupyter": {
     "outputs_hidden": true
    },
    "tags": []
   },
   "outputs": [
    {
     "name": "stderr",
     "output_type": "stream",
     "text": [
      "  0%|          | 0/11 [00:00<?, ?it/s]"
     ]
    },
    {
     "data": {
      "application/vnd.jupyter.widget-view+json": {
       "model_id": "",
       "version_major": 2,
       "version_minor": 0
      },
      "text/plain": [
       "Evaluator:   0%|          | 0/6 [00:00<?, ?it/s]"
      ]
     },
     "metadata": {},
     "output_type": "display_data"
    },
    {
     "data": {
      "application/vnd.jupyter.widget-view+json": {
       "model_id": "",
       "version_major": 2,
       "version_minor": 0
      },
      "text/plain": [
       "Evaluator:   0%|          | 0/6 [00:00<?, ?it/s]"
      ]
     },
     "metadata": {},
     "output_type": "display_data"
    },
    {
     "data": {
      "application/vnd.jupyter.widget-view+json": {
       "model_id": "",
       "version_major": 2,
       "version_minor": 0
      },
      "text/plain": [
       "Evaluator:   0%|          | 0/6 [00:00<?, ?it/s]"
      ]
     },
     "metadata": {},
     "output_type": "display_data"
    },
    {
     "data": {
      "application/vnd.jupyter.widget-view+json": {
       "model_id": "",
       "version_major": 2,
       "version_minor": 0
      },
      "text/plain": [
       "Evaluator:   0%|          | 0/6 [00:00<?, ?it/s]"
      ]
     },
     "metadata": {},
     "output_type": "display_data"
    },
    {
     "data": {
      "application/vnd.jupyter.widget-view+json": {
       "model_id": "",
       "version_major": 2,
       "version_minor": 0
      },
      "text/plain": [
       "Evaluator:   0%|          | 0/6 [00:00<?, ?it/s]"
      ]
     },
     "metadata": {},
     "output_type": "display_data"
    },
    {
     "data": {
      "application/vnd.jupyter.widget-view+json": {
       "model_id": "",
       "version_major": 2,
       "version_minor": 0
      },
      "text/plain": [
       "Evaluator:   0%|          | 0/6 [00:00<?, ?it/s]"
      ]
     },
     "metadata": {},
     "output_type": "display_data"
    },
    {
     "data": {
      "application/vnd.jupyter.widget-view+json": {
       "model_id": "",
       "version_major": 2,
       "version_minor": 0
      },
      "text/plain": [
       "Evaluator:   0%|          | 0/6 [00:00<?, ?it/s]"
      ]
     },
     "metadata": {},
     "output_type": "display_data"
    },
    {
     "data": {
      "application/vnd.jupyter.widget-view+json": {
       "model_id": "",
       "version_major": 2,
       "version_minor": 0
      },
      "text/plain": [
       "Evaluator:   0%|          | 0/6 [00:00<?, ?it/s]"
      ]
     },
     "metadata": {},
     "output_type": "display_data"
    },
    {
     "data": {
      "application/vnd.jupyter.widget-view+json": {
       "model_id": "",
       "version_major": 2,
       "version_minor": 0
      },
      "text/plain": [
       "Evaluator:   0%|          | 0/6 [00:00<?, ?it/s]"
      ]
     },
     "metadata": {},
     "output_type": "display_data"
    },
    {
     "data": {
      "application/vnd.jupyter.widget-view+json": {
       "model_id": "",
       "version_major": 2,
       "version_minor": 0
      },
      "text/plain": [
       "Evaluator:   0%|          | 0/6 [00:00<?, ?it/s]"
      ]
     },
     "metadata": {},
     "output_type": "display_data"
    },
    {
     "data": {
      "application/vnd.jupyter.widget-view+json": {
       "model_id": "",
       "version_major": 2,
       "version_minor": 0
      },
      "text/plain": [
       "Evaluator:   0%|          | 0/6 [00:00<?, ?it/s]"
      ]
     },
     "metadata": {},
     "output_type": "display_data"
    },
    {
     "data": {
      "application/vnd.jupyter.widget-view+json": {
       "model_id": "",
       "version_major": 2,
       "version_minor": 0
      },
      "text/plain": [
       "Evaluator:   0%|          | 0/6 [00:00<?, ?it/s]"
      ]
     },
     "metadata": {},
     "output_type": "display_data"
    },
    {
     "data": {
      "application/vnd.jupyter.widget-view+json": {
       "model_id": "",
       "version_major": 2,
       "version_minor": 0
      },
      "text/plain": [
       "Evaluator:   0%|          | 0/6 [00:00<?, ?it/s]"
      ]
     },
     "metadata": {},
     "output_type": "display_data"
    },
    {
     "data": {
      "application/vnd.jupyter.widget-view+json": {
       "model_id": "",
       "version_major": 2,
       "version_minor": 0
      },
      "text/plain": [
       "Evaluator:   0%|          | 0/6 [00:00<?, ?it/s]"
      ]
     },
     "metadata": {},
     "output_type": "display_data"
    },
    {
     "data": {
      "application/vnd.jupyter.widget-view+json": {
       "model_id": "",
       "version_major": 2,
       "version_minor": 0
      },
      "text/plain": [
       "Evaluator:   0%|          | 0/6 [00:00<?, ?it/s]"
      ]
     },
     "metadata": {},
     "output_type": "display_data"
    },
    {
     "data": {
      "application/vnd.jupyter.widget-view+json": {
       "model_id": "",
       "version_major": 2,
       "version_minor": 0
      },
      "text/plain": [
       "Evaluator:   0%|          | 0/6 [00:00<?, ?it/s]"
      ]
     },
     "metadata": {},
     "output_type": "display_data"
    },
    {
     "data": {
      "application/vnd.jupyter.widget-view+json": {
       "model_id": "",
       "version_major": 2,
       "version_minor": 0
      },
      "text/plain": [
       "Evaluator:   0%|          | 0/6 [00:00<?, ?it/s]"
      ]
     },
     "metadata": {},
     "output_type": "display_data"
    },
    {
     "data": {
      "application/vnd.jupyter.widget-view+json": {
       "model_id": "",
       "version_major": 2,
       "version_minor": 0
      },
      "text/plain": [
       "Evaluator:   0%|          | 0/6 [00:00<?, ?it/s]"
      ]
     },
     "metadata": {},
     "output_type": "display_data"
    },
    {
     "data": {
      "application/vnd.jupyter.widget-view+json": {
       "model_id": "",
       "version_major": 2,
       "version_minor": 0
      },
      "text/plain": [
       "Evaluator:   0%|          | 0/6 [00:00<?, ?it/s]"
      ]
     },
     "metadata": {},
     "output_type": "display_data"
    },
    {
     "data": {
      "application/vnd.jupyter.widget-view+json": {
       "model_id": "",
       "version_major": 2,
       "version_minor": 0
      },
      "text/plain": [
       "Evaluator:   0%|          | 0/6 [00:00<?, ?it/s]"
      ]
     },
     "metadata": {},
     "output_type": "display_data"
    },
    {
     "data": {
      "application/vnd.jupyter.widget-view+json": {
       "model_id": "",
       "version_major": 2,
       "version_minor": 0
      },
      "text/plain": [
       "Evaluator:   0%|          | 0/6 [00:00<?, ?it/s]"
      ]
     },
     "metadata": {},
     "output_type": "display_data"
    },
    {
     "data": {
      "application/vnd.jupyter.widget-view+json": {
       "model_id": "",
       "version_major": 2,
       "version_minor": 0
      },
      "text/plain": [
       "Evaluator:   0%|          | 0/6 [00:00<?, ?it/s]"
      ]
     },
     "metadata": {},
     "output_type": "display_data"
    },
    {
     "data": {
      "application/vnd.jupyter.widget-view+json": {
       "model_id": "",
       "version_major": 2,
       "version_minor": 0
      },
      "text/plain": [
       "Evaluator:   0%|          | 0/6 [00:00<?, ?it/s]"
      ]
     },
     "metadata": {},
     "output_type": "display_data"
    },
    {
     "data": {
      "application/vnd.jupyter.widget-view+json": {
       "model_id": "",
       "version_major": 2,
       "version_minor": 0
      },
      "text/plain": [
       "Evaluator:   0%|          | 0/6 [00:00<?, ?it/s]"
      ]
     },
     "metadata": {},
     "output_type": "display_data"
    },
    {
     "data": {
      "application/vnd.jupyter.widget-view+json": {
       "model_id": "",
       "version_major": 2,
       "version_minor": 0
      },
      "text/plain": [
       "Evaluator:   0%|          | 0/6 [00:00<?, ?it/s]"
      ]
     },
     "metadata": {},
     "output_type": "display_data"
    },
    {
     "data": {
      "application/vnd.jupyter.widget-view+json": {
       "model_id": "",
       "version_major": 2,
       "version_minor": 0
      },
      "text/plain": [
       "Evaluator:   0%|          | 0/6 [00:00<?, ?it/s]"
      ]
     },
     "metadata": {},
     "output_type": "display_data"
    },
    {
     "data": {
      "application/vnd.jupyter.widget-view+json": {
       "model_id": "",
       "version_major": 2,
       "version_minor": 0
      },
      "text/plain": [
       "Evaluator:   0%|          | 0/6 [00:00<?, ?it/s]"
      ]
     },
     "metadata": {},
     "output_type": "display_data"
    },
    {
     "data": {
      "application/vnd.jupyter.widget-view+json": {
       "model_id": "",
       "version_major": 2,
       "version_minor": 0
      },
      "text/plain": [
       "Evaluator:   0%|          | 0/6 [00:00<?, ?it/s]"
      ]
     },
     "metadata": {},
     "output_type": "display_data"
    },
    {
     "data": {
      "application/vnd.jupyter.widget-view+json": {
       "model_id": "",
       "version_major": 2,
       "version_minor": 0
      },
      "text/plain": [
       "Evaluator:   0%|          | 0/6 [00:00<?, ?it/s]"
      ]
     },
     "metadata": {},
     "output_type": "display_data"
    },
    {
     "data": {
      "application/vnd.jupyter.widget-view+json": {
       "model_id": "",
       "version_major": 2,
       "version_minor": 0
      },
      "text/plain": [
       "Evaluator:   0%|          | 0/6 [00:00<?, ?it/s]"
      ]
     },
     "metadata": {},
     "output_type": "display_data"
    },
    {
     "data": {
      "application/vnd.jupyter.widget-view+json": {
       "model_id": "",
       "version_major": 2,
       "version_minor": 0
      },
      "text/plain": [
       "Evaluator:   0%|          | 0/6 [00:00<?, ?it/s]"
      ]
     },
     "metadata": {},
     "output_type": "display_data"
    },
    {
     "data": {
      "application/vnd.jupyter.widget-view+json": {
       "model_id": "",
       "version_major": 2,
       "version_minor": 0
      },
      "text/plain": [
       "Evaluator:   0%|          | 0/6 [00:00<?, ?it/s]"
      ]
     },
     "metadata": {},
     "output_type": "display_data"
    },
    {
     "data": {
      "application/vnd.jupyter.widget-view+json": {
       "model_id": "",
       "version_major": 2,
       "version_minor": 0
      },
      "text/plain": [
       "Evaluator:   0%|          | 0/6 [00:00<?, ?it/s]"
      ]
     },
     "metadata": {},
     "output_type": "display_data"
    },
    {
     "data": {
      "application/vnd.jupyter.widget-view+json": {
       "model_id": "",
       "version_major": 2,
       "version_minor": 0
      },
      "text/plain": [
       "Evaluator:   0%|          | 0/6 [00:00<?, ?it/s]"
      ]
     },
     "metadata": {},
     "output_type": "display_data"
    },
    {
     "data": {
      "application/vnd.jupyter.widget-view+json": {
       "model_id": "",
       "version_major": 2,
       "version_minor": 0
      },
      "text/plain": [
       "Evaluator:   0%|          | 0/6 [00:00<?, ?it/s]"
      ]
     },
     "metadata": {},
     "output_type": "display_data"
    },
    {
     "data": {
      "application/vnd.jupyter.widget-view+json": {
       "model_id": "",
       "version_major": 2,
       "version_minor": 0
      },
      "text/plain": [
       "Evaluator:   0%|          | 0/6 [00:00<?, ?it/s]"
      ]
     },
     "metadata": {},
     "output_type": "display_data"
    },
    {
     "data": {
      "application/vnd.jupyter.widget-view+json": {
       "model_id": "",
       "version_major": 2,
       "version_minor": 0
      },
      "text/plain": [
       "Evaluator:   0%|          | 0/6 [00:00<?, ?it/s]"
      ]
     },
     "metadata": {},
     "output_type": "display_data"
    },
    {
     "data": {
      "application/vnd.jupyter.widget-view+json": {
       "model_id": "",
       "version_major": 2,
       "version_minor": 0
      },
      "text/plain": [
       "Evaluator:   0%|          | 0/6 [00:00<?, ?it/s]"
      ]
     },
     "metadata": {},
     "output_type": "display_data"
    },
    {
     "data": {
      "application/vnd.jupyter.widget-view+json": {
       "model_id": "",
       "version_major": 2,
       "version_minor": 0
      },
      "text/plain": [
       "Evaluator:   0%|          | 0/6 [00:00<?, ?it/s]"
      ]
     },
     "metadata": {},
     "output_type": "display_data"
    },
    {
     "data": {
      "application/vnd.jupyter.widget-view+json": {
       "model_id": "",
       "version_major": 2,
       "version_minor": 0
      },
      "text/plain": [
       "Evaluator:   0%|          | 0/6 [00:00<?, ?it/s]"
      ]
     },
     "metadata": {},
     "output_type": "display_data"
    },
    {
     "name": "stderr",
     "output_type": "stream",
     "text": [
      "  9%|▉         | 1/11 [01:11<11:52, 71.29s/it]"
     ]
    },
    {
     "data": {
      "application/vnd.jupyter.widget-view+json": {
       "model_id": "",
       "version_major": 2,
       "version_minor": 0
      },
      "text/plain": [
       "Evaluator:   0%|          | 0/6 [00:00<?, ?it/s]"
      ]
     },
     "metadata": {},
     "output_type": "display_data"
    },
    {
     "data": {
      "application/vnd.jupyter.widget-view+json": {
       "model_id": "",
       "version_major": 2,
       "version_minor": 0
      },
      "text/plain": [
       "Evaluator:   0%|          | 0/6 [00:00<?, ?it/s]"
      ]
     },
     "metadata": {},
     "output_type": "display_data"
    },
    {
     "data": {
      "application/vnd.jupyter.widget-view+json": {
       "model_id": "",
       "version_major": 2,
       "version_minor": 0
      },
      "text/plain": [
       "Evaluator:   0%|          | 0/6 [00:00<?, ?it/s]"
      ]
     },
     "metadata": {},
     "output_type": "display_data"
    },
    {
     "data": {
      "application/vnd.jupyter.widget-view+json": {
       "model_id": "",
       "version_major": 2,
       "version_minor": 0
      },
      "text/plain": [
       "Evaluator:   0%|          | 0/6 [00:00<?, ?it/s]"
      ]
     },
     "metadata": {},
     "output_type": "display_data"
    },
    {
     "data": {
      "application/vnd.jupyter.widget-view+json": {
       "model_id": "",
       "version_major": 2,
       "version_minor": 0
      },
      "text/plain": [
       "Evaluator:   0%|          | 0/6 [00:00<?, ?it/s]"
      ]
     },
     "metadata": {},
     "output_type": "display_data"
    },
    {
     "data": {
      "application/vnd.jupyter.widget-view+json": {
       "model_id": "",
       "version_major": 2,
       "version_minor": 0
      },
      "text/plain": [
       "Evaluator:   0%|          | 0/6 [00:00<?, ?it/s]"
      ]
     },
     "metadata": {},
     "output_type": "display_data"
    },
    {
     "data": {
      "application/vnd.jupyter.widget-view+json": {
       "model_id": "",
       "version_major": 2,
       "version_minor": 0
      },
      "text/plain": [
       "Evaluator:   0%|          | 0/6 [00:00<?, ?it/s]"
      ]
     },
     "metadata": {},
     "output_type": "display_data"
    },
    {
     "data": {
      "application/vnd.jupyter.widget-view+json": {
       "model_id": "",
       "version_major": 2,
       "version_minor": 0
      },
      "text/plain": [
       "Evaluator:   0%|          | 0/6 [00:00<?, ?it/s]"
      ]
     },
     "metadata": {},
     "output_type": "display_data"
    },
    {
     "data": {
      "application/vnd.jupyter.widget-view+json": {
       "model_id": "8ae3f8ce72a5403892a08eac8ab1099e",
       "version_major": 2,
       "version_minor": 0
      },
      "text/plain": [
       "Evaluator:   0%|          | 0/6 [00:00<?, ?it/s]"
      ]
     },
     "metadata": {},
     "output_type": "display_data"
    },
    {
     "data": {
      "application/vnd.jupyter.widget-view+json": {
       "model_id": "4a34b3e7b0304ff8a5a7d8e895e56644",
       "version_major": 2,
       "version_minor": 0
      },
      "text/plain": [
       "Evaluator:   0%|          | 0/6 [00:00<?, ?it/s]"
      ]
     },
     "metadata": {},
     "output_type": "display_data"
    },
    {
     "data": {
      "application/vnd.jupyter.widget-view+json": {
       "model_id": "d464dade740242db8ef2f0dbec4db490",
       "version_major": 2,
       "version_minor": 0
      },
      "text/plain": [
       "Evaluator:   0%|          | 0/6 [00:00<?, ?it/s]"
      ]
     },
     "metadata": {},
     "output_type": "display_data"
    },
    {
     "data": {
      "application/vnd.jupyter.widget-view+json": {
       "model_id": "0fd0635e9eae49f3a3d28c266188cf6c",
       "version_major": 2,
       "version_minor": 0
      },
      "text/plain": [
       "Evaluator:   0%|          | 0/6 [00:00<?, ?it/s]"
      ]
     },
     "metadata": {},
     "output_type": "display_data"
    },
    {
     "data": {
      "application/vnd.jupyter.widget-view+json": {
       "model_id": "1e3979c589eb435bb1ed78fd5fcaea4b",
       "version_major": 2,
       "version_minor": 0
      },
      "text/plain": [
       "Evaluator:   0%|          | 0/6 [00:00<?, ?it/s]"
      ]
     },
     "metadata": {},
     "output_type": "display_data"
    },
    {
     "data": {
      "application/vnd.jupyter.widget-view+json": {
       "model_id": "b1db8da3983946f186ae2f7c71686cdd",
       "version_major": 2,
       "version_minor": 0
      },
      "text/plain": [
       "Evaluator:   0%|          | 0/6 [00:00<?, ?it/s]"
      ]
     },
     "metadata": {},
     "output_type": "display_data"
    },
    {
     "data": {
      "application/vnd.jupyter.widget-view+json": {
       "model_id": "5937861162124d3687c41fe9f7edda55",
       "version_major": 2,
       "version_minor": 0
      },
      "text/plain": [
       "Evaluator:   0%|          | 0/6 [00:00<?, ?it/s]"
      ]
     },
     "metadata": {},
     "output_type": "display_data"
    },
    {
     "data": {
      "application/vnd.jupyter.widget-view+json": {
       "model_id": "bf7fd068050b4849a16e9bf62965c982",
       "version_major": 2,
       "version_minor": 0
      },
      "text/plain": [
       "Evaluator:   0%|          | 0/6 [00:00<?, ?it/s]"
      ]
     },
     "metadata": {},
     "output_type": "display_data"
    },
    {
     "data": {
      "application/vnd.jupyter.widget-view+json": {
       "model_id": "29d86ca833484a4e91767ef1535810a1",
       "version_major": 2,
       "version_minor": 0
      },
      "text/plain": [
       "Evaluator:   0%|          | 0/6 [00:00<?, ?it/s]"
      ]
     },
     "metadata": {},
     "output_type": "display_data"
    },
    {
     "data": {
      "application/vnd.jupyter.widget-view+json": {
       "model_id": "7352b0156b0045569ceaf3df2a795a58",
       "version_major": 2,
       "version_minor": 0
      },
      "text/plain": [
       "Evaluator:   0%|          | 0/6 [00:00<?, ?it/s]"
      ]
     },
     "metadata": {},
     "output_type": "display_data"
    },
    {
     "data": {
      "application/vnd.jupyter.widget-view+json": {
       "model_id": "0da1cb3713f5430cbb76ca1e90f461a5",
       "version_major": 2,
       "version_minor": 0
      },
      "text/plain": [
       "Evaluator:   0%|          | 0/6 [00:00<?, ?it/s]"
      ]
     },
     "metadata": {},
     "output_type": "display_data"
    },
    {
     "data": {
      "application/vnd.jupyter.widget-view+json": {
       "model_id": "45f25551e08147fda1a8f5794b964b6c",
       "version_major": 2,
       "version_minor": 0
      },
      "text/plain": [
       "Evaluator:   0%|          | 0/6 [00:00<?, ?it/s]"
      ]
     },
     "metadata": {},
     "output_type": "display_data"
    },
    {
     "name": "stderr",
     "output_type": "stream",
     "text": [
      " 18%|█▊        | 2/11 [01:25<05:38, 37.59s/it]"
     ]
    },
    {
     "data": {
      "application/vnd.jupyter.widget-view+json": {
       "model_id": "03ec50b68664448eb459bf6651a492f5",
       "version_major": 2,
       "version_minor": 0
      },
      "text/plain": [
       "Evaluator:   0%|          | 0/6 [00:00<?, ?it/s]"
      ]
     },
     "metadata": {},
     "output_type": "display_data"
    },
    {
     "data": {
      "application/vnd.jupyter.widget-view+json": {
       "model_id": "1031b57a36294aaab82d73ef6f3e0ffe",
       "version_major": 2,
       "version_minor": 0
      },
      "text/plain": [
       "Evaluator:   0%|          | 0/6 [00:00<?, ?it/s]"
      ]
     },
     "metadata": {},
     "output_type": "display_data"
    },
    {
     "data": {
      "application/vnd.jupyter.widget-view+json": {
       "model_id": "1aced5486a3c4bacbdd6359395b9905f",
       "version_major": 2,
       "version_minor": 0
      },
      "text/plain": [
       "Evaluator:   0%|          | 0/6 [00:00<?, ?it/s]"
      ]
     },
     "metadata": {},
     "output_type": "display_data"
    },
    {
     "data": {
      "application/vnd.jupyter.widget-view+json": {
       "model_id": "311b93981d734028b691192bba6bc0fd",
       "version_major": 2,
       "version_minor": 0
      },
      "text/plain": [
       "Evaluator:   0%|          | 0/6 [00:00<?, ?it/s]"
      ]
     },
     "metadata": {},
     "output_type": "display_data"
    },
    {
     "data": {
      "application/vnd.jupyter.widget-view+json": {
       "model_id": "a6bd84e4bc1240e482a8c17d4492e59f",
       "version_major": 2,
       "version_minor": 0
      },
      "text/plain": [
       "Evaluator:   0%|          | 0/6 [00:00<?, ?it/s]"
      ]
     },
     "metadata": {},
     "output_type": "display_data"
    },
    {
     "data": {
      "application/vnd.jupyter.widget-view+json": {
       "model_id": "f33b30a4f9a64361b329ae4e903ef636",
       "version_major": 2,
       "version_minor": 0
      },
      "text/plain": [
       "Evaluator:   0%|          | 0/6 [00:00<?, ?it/s]"
      ]
     },
     "metadata": {},
     "output_type": "display_data"
    },
    {
     "data": {
      "application/vnd.jupyter.widget-view+json": {
       "model_id": "b0573bad14794be986dc63642cbbdefe",
       "version_major": 2,
       "version_minor": 0
      },
      "text/plain": [
       "Evaluator:   0%|          | 0/6 [00:00<?, ?it/s]"
      ]
     },
     "metadata": {},
     "output_type": "display_data"
    },
    {
     "data": {
      "application/vnd.jupyter.widget-view+json": {
       "model_id": "84e22daaff9849af803167dc15ed5cfa",
       "version_major": 2,
       "version_minor": 0
      },
      "text/plain": [
       "Evaluator:   0%|          | 0/6 [00:00<?, ?it/s]"
      ]
     },
     "metadata": {},
     "output_type": "display_data"
    },
    {
     "data": {
      "application/vnd.jupyter.widget-view+json": {
       "model_id": "19dc3c1f4cc645acb98abf17b602c4ff",
       "version_major": 2,
       "version_minor": 0
      },
      "text/plain": [
       "Evaluator:   0%|          | 0/6 [00:00<?, ?it/s]"
      ]
     },
     "metadata": {},
     "output_type": "display_data"
    },
    {
     "data": {
      "application/vnd.jupyter.widget-view+json": {
       "model_id": "b874c87168c94f4e86b1c7c4f2f3808f",
       "version_major": 2,
       "version_minor": 0
      },
      "text/plain": [
       "Evaluator:   0%|          | 0/6 [00:00<?, ?it/s]"
      ]
     },
     "metadata": {},
     "output_type": "display_data"
    },
    {
     "data": {
      "application/vnd.jupyter.widget-view+json": {
       "model_id": "c554a6eb55f2478f80b19756abb1640e",
       "version_major": 2,
       "version_minor": 0
      },
      "text/plain": [
       "Evaluator:   0%|          | 0/6 [00:00<?, ?it/s]"
      ]
     },
     "metadata": {},
     "output_type": "display_data"
    },
    {
     "data": {
      "application/vnd.jupyter.widget-view+json": {
       "model_id": "6a860c4685fe4172b2dd110d135fa01d",
       "version_major": 2,
       "version_minor": 0
      },
      "text/plain": [
       "Evaluator:   0%|          | 0/6 [00:00<?, ?it/s]"
      ]
     },
     "metadata": {},
     "output_type": "display_data"
    },
    {
     "data": {
      "application/vnd.jupyter.widget-view+json": {
       "model_id": "8fdba9a381f048b3b9d8d030327650dc",
       "version_major": 2,
       "version_minor": 0
      },
      "text/plain": [
       "Evaluator:   0%|          | 0/6 [00:00<?, ?it/s]"
      ]
     },
     "metadata": {},
     "output_type": "display_data"
    },
    {
     "data": {
      "application/vnd.jupyter.widget-view+json": {
       "model_id": "dd2b2f750bec48f8b01999c7ba913764",
       "version_major": 2,
       "version_minor": 0
      },
      "text/plain": [
       "Evaluator:   0%|          | 0/6 [00:00<?, ?it/s]"
      ]
     },
     "metadata": {},
     "output_type": "display_data"
    },
    {
     "data": {
      "application/vnd.jupyter.widget-view+json": {
       "model_id": "8bfd73eba2c54832b9333bb81ac9b5bf",
       "version_major": 2,
       "version_minor": 0
      },
      "text/plain": [
       "Evaluator:   0%|          | 0/6 [00:00<?, ?it/s]"
      ]
     },
     "metadata": {},
     "output_type": "display_data"
    },
    {
     "data": {
      "application/vnd.jupyter.widget-view+json": {
       "model_id": "0c4fbc42b3994f91a863b270b7c3511f",
       "version_major": 2,
       "version_minor": 0
      },
      "text/plain": [
       "Evaluator:   0%|          | 0/6 [00:00<?, ?it/s]"
      ]
     },
     "metadata": {},
     "output_type": "display_data"
    },
    {
     "data": {
      "application/vnd.jupyter.widget-view+json": {
       "model_id": "9078c24e006544ad8c913aa854e3b67a",
       "version_major": 2,
       "version_minor": 0
      },
      "text/plain": [
       "Evaluator:   0%|          | 0/6 [00:00<?, ?it/s]"
      ]
     },
     "metadata": {},
     "output_type": "display_data"
    },
    {
     "data": {
      "application/vnd.jupyter.widget-view+json": {
       "model_id": "97451b296e844513afa724aace96c877",
       "version_major": 2,
       "version_minor": 0
      },
      "text/plain": [
       "Evaluator:   0%|          | 0/6 [00:00<?, ?it/s]"
      ]
     },
     "metadata": {},
     "output_type": "display_data"
    },
    {
     "data": {
      "application/vnd.jupyter.widget-view+json": {
       "model_id": "9f122eaaccf54370b939c6cd24b84970",
       "version_major": 2,
       "version_minor": 0
      },
      "text/plain": [
       "Evaluator:   0%|          | 0/6 [00:00<?, ?it/s]"
      ]
     },
     "metadata": {},
     "output_type": "display_data"
    },
    {
     "data": {
      "application/vnd.jupyter.widget-view+json": {
       "model_id": "b68464c879d04e1a84c4b909fdf45bed",
       "version_major": 2,
       "version_minor": 0
      },
      "text/plain": [
       "Evaluator:   0%|          | 0/6 [00:00<?, ?it/s]"
      ]
     },
     "metadata": {},
     "output_type": "display_data"
    },
    {
     "name": "stderr",
     "output_type": "stream",
     "text": [
      " 27%|██▋       | 3/11 [01:36<03:24, 25.56s/it]"
     ]
    },
    {
     "data": {
      "application/vnd.jupyter.widget-view+json": {
       "model_id": "159ea1b795404a13882a23706d4a4808",
       "version_major": 2,
       "version_minor": 0
      },
      "text/plain": [
       "Evaluator:   0%|          | 0/6 [00:00<?, ?it/s]"
      ]
     },
     "metadata": {},
     "output_type": "display_data"
    },
    {
     "data": {
      "application/vnd.jupyter.widget-view+json": {
       "model_id": "f7c8b88690e24b14a17759271e09238b",
       "version_major": 2,
       "version_minor": 0
      },
      "text/plain": [
       "Evaluator:   0%|          | 0/6 [00:00<?, ?it/s]"
      ]
     },
     "metadata": {},
     "output_type": "display_data"
    },
    {
     "data": {
      "application/vnd.jupyter.widget-view+json": {
       "model_id": "8dcc5a6705af4a18a7b4e33dd4b37912",
       "version_major": 2,
       "version_minor": 0
      },
      "text/plain": [
       "Evaluator:   0%|          | 0/6 [00:00<?, ?it/s]"
      ]
     },
     "metadata": {},
     "output_type": "display_data"
    },
    {
     "data": {
      "application/vnd.jupyter.widget-view+json": {
       "model_id": "c2d47faa3ffa499295aa229f171737f9",
       "version_major": 2,
       "version_minor": 0
      },
      "text/plain": [
       "Evaluator:   0%|          | 0/6 [00:00<?, ?it/s]"
      ]
     },
     "metadata": {},
     "output_type": "display_data"
    },
    {
     "data": {
      "application/vnd.jupyter.widget-view+json": {
       "model_id": "fefd9020d0314ce288eb14fb7f75aadb",
       "version_major": 2,
       "version_minor": 0
      },
      "text/plain": [
       "Evaluator:   0%|          | 0/6 [00:00<?, ?it/s]"
      ]
     },
     "metadata": {},
     "output_type": "display_data"
    },
    {
     "data": {
      "application/vnd.jupyter.widget-view+json": {
       "model_id": "f0ea57c78bd341fdb5e207371a50ca74",
       "version_major": 2,
       "version_minor": 0
      },
      "text/plain": [
       "Evaluator:   0%|          | 0/6 [00:00<?, ?it/s]"
      ]
     },
     "metadata": {},
     "output_type": "display_data"
    },
    {
     "data": {
      "application/vnd.jupyter.widget-view+json": {
       "model_id": "42ad9c31734647fb9f0a3c5c31b8a6f4",
       "version_major": 2,
       "version_minor": 0
      },
      "text/plain": [
       "Evaluator:   0%|          | 0/6 [00:00<?, ?it/s]"
      ]
     },
     "metadata": {},
     "output_type": "display_data"
    },
    {
     "data": {
      "application/vnd.jupyter.widget-view+json": {
       "model_id": "d10f4478f719466582771c50dc1e9138",
       "version_major": 2,
       "version_minor": 0
      },
      "text/plain": [
       "Evaluator:   0%|          | 0/6 [00:00<?, ?it/s]"
      ]
     },
     "metadata": {},
     "output_type": "display_data"
    },
    {
     "data": {
      "application/vnd.jupyter.widget-view+json": {
       "model_id": "a130f7e5b9ca48359cb942d13abb40d8",
       "version_major": 2,
       "version_minor": 0
      },
      "text/plain": [
       "Evaluator:   0%|          | 0/6 [00:00<?, ?it/s]"
      ]
     },
     "metadata": {},
     "output_type": "display_data"
    },
    {
     "data": {
      "application/vnd.jupyter.widget-view+json": {
       "model_id": "6578c3e8832344dab2798700a711acd9",
       "version_major": 2,
       "version_minor": 0
      },
      "text/plain": [
       "Evaluator:   0%|          | 0/6 [00:00<?, ?it/s]"
      ]
     },
     "metadata": {},
     "output_type": "display_data"
    },
    {
     "data": {
      "application/vnd.jupyter.widget-view+json": {
       "model_id": "52a6cae3f4a341ed9d2343b32ab3433a",
       "version_major": 2,
       "version_minor": 0
      },
      "text/plain": [
       "Evaluator:   0%|          | 0/6 [00:00<?, ?it/s]"
      ]
     },
     "metadata": {},
     "output_type": "display_data"
    },
    {
     "data": {
      "application/vnd.jupyter.widget-view+json": {
       "model_id": "825d2675ecef4c66879f5ac4a9454dac",
       "version_major": 2,
       "version_minor": 0
      },
      "text/plain": [
       "Evaluator:   0%|          | 0/6 [00:00<?, ?it/s]"
      ]
     },
     "metadata": {},
     "output_type": "display_data"
    },
    {
     "data": {
      "application/vnd.jupyter.widget-view+json": {
       "model_id": "bc6d426a09c64f58b6149813f3026844",
       "version_major": 2,
       "version_minor": 0
      },
      "text/plain": [
       "Evaluator:   0%|          | 0/6 [00:00<?, ?it/s]"
      ]
     },
     "metadata": {},
     "output_type": "display_data"
    },
    {
     "data": {
      "application/vnd.jupyter.widget-view+json": {
       "model_id": "88b9d41f16be4ba69918147de4ead5a0",
       "version_major": 2,
       "version_minor": 0
      },
      "text/plain": [
       "Evaluator:   0%|          | 0/6 [00:00<?, ?it/s]"
      ]
     },
     "metadata": {},
     "output_type": "display_data"
    },
    {
     "data": {
      "application/vnd.jupyter.widget-view+json": {
       "model_id": "c928c4e836c244b4989077f65080b382",
       "version_major": 2,
       "version_minor": 0
      },
      "text/plain": [
       "Evaluator:   0%|          | 0/6 [00:00<?, ?it/s]"
      ]
     },
     "metadata": {},
     "output_type": "display_data"
    },
    {
     "data": {
      "application/vnd.jupyter.widget-view+json": {
       "model_id": "50f16474106f41639e49d96d53d026ab",
       "version_major": 2,
       "version_minor": 0
      },
      "text/plain": [
       "Evaluator:   0%|          | 0/6 [00:00<?, ?it/s]"
      ]
     },
     "metadata": {},
     "output_type": "display_data"
    },
    {
     "data": {
      "application/vnd.jupyter.widget-view+json": {
       "model_id": "22cb8677d0d84dc3832119a1701bc8d7",
       "version_major": 2,
       "version_minor": 0
      },
      "text/plain": [
       "Evaluator:   0%|          | 0/6 [00:00<?, ?it/s]"
      ]
     },
     "metadata": {},
     "output_type": "display_data"
    },
    {
     "data": {
      "application/vnd.jupyter.widget-view+json": {
       "model_id": "b979451022c748219f913b16e805ac7a",
       "version_major": 2,
       "version_minor": 0
      },
      "text/plain": [
       "Evaluator:   0%|          | 0/6 [00:00<?, ?it/s]"
      ]
     },
     "metadata": {},
     "output_type": "display_data"
    },
    {
     "data": {
      "application/vnd.jupyter.widget-view+json": {
       "model_id": "0579257b24684c86bb0ca7843e93525d",
       "version_major": 2,
       "version_minor": 0
      },
      "text/plain": [
       "Evaluator:   0%|          | 0/6 [00:00<?, ?it/s]"
      ]
     },
     "metadata": {},
     "output_type": "display_data"
    },
    {
     "data": {
      "application/vnd.jupyter.widget-view+json": {
       "model_id": "dfc89dbc20024d389ba2902a4aaf5aba",
       "version_major": 2,
       "version_minor": 0
      },
      "text/plain": [
       "Evaluator:   0%|          | 0/6 [00:00<?, ?it/s]"
      ]
     },
     "metadata": {},
     "output_type": "display_data"
    },
    {
     "name": "stderr",
     "output_type": "stream",
     "text": [
      " 36%|███▋      | 4/11 [01:45<02:11, 18.82s/it]"
     ]
    },
    {
     "data": {
      "application/vnd.jupyter.widget-view+json": {
       "model_id": "858a176e9d7f46f989c5fe4a97163b10",
       "version_major": 2,
       "version_minor": 0
      },
      "text/plain": [
       "Evaluator:   0%|          | 0/6 [00:00<?, ?it/s]"
      ]
     },
     "metadata": {},
     "output_type": "display_data"
    },
    {
     "data": {
      "application/vnd.jupyter.widget-view+json": {
       "model_id": "aeb28495671040068bf18eb7e8b522dd",
       "version_major": 2,
       "version_minor": 0
      },
      "text/plain": [
       "Evaluator:   0%|          | 0/6 [00:00<?, ?it/s]"
      ]
     },
     "metadata": {},
     "output_type": "display_data"
    },
    {
     "data": {
      "application/vnd.jupyter.widget-view+json": {
       "model_id": "180d744762da43b88ccbac746fb46905",
       "version_major": 2,
       "version_minor": 0
      },
      "text/plain": [
       "Evaluator:   0%|          | 0/6 [00:00<?, ?it/s]"
      ]
     },
     "metadata": {},
     "output_type": "display_data"
    },
    {
     "data": {
      "application/vnd.jupyter.widget-view+json": {
       "model_id": "c1391943a4fd4f73936a4dcf936450d5",
       "version_major": 2,
       "version_minor": 0
      },
      "text/plain": [
       "Evaluator:   0%|          | 0/6 [00:00<?, ?it/s]"
      ]
     },
     "metadata": {},
     "output_type": "display_data"
    },
    {
     "data": {
      "application/vnd.jupyter.widget-view+json": {
       "model_id": "9b54de62b54d4a54b9ab0a998264f7e2",
       "version_major": 2,
       "version_minor": 0
      },
      "text/plain": [
       "Evaluator:   0%|          | 0/6 [00:00<?, ?it/s]"
      ]
     },
     "metadata": {},
     "output_type": "display_data"
    },
    {
     "data": {
      "application/vnd.jupyter.widget-view+json": {
       "model_id": "7cb90175dd0143f3926f24b9a3839e56",
       "version_major": 2,
       "version_minor": 0
      },
      "text/plain": [
       "Evaluator:   0%|          | 0/6 [00:00<?, ?it/s]"
      ]
     },
     "metadata": {},
     "output_type": "display_data"
    },
    {
     "data": {
      "application/vnd.jupyter.widget-view+json": {
       "model_id": "95451efd16a846dcb6aae13726a63302",
       "version_major": 2,
       "version_minor": 0
      },
      "text/plain": [
       "Evaluator:   0%|          | 0/6 [00:00<?, ?it/s]"
      ]
     },
     "metadata": {},
     "output_type": "display_data"
    },
    {
     "data": {
      "application/vnd.jupyter.widget-view+json": {
       "model_id": "c42ba726c3cc4d38bc660914f8ddc4de",
       "version_major": 2,
       "version_minor": 0
      },
      "text/plain": [
       "Evaluator:   0%|          | 0/6 [00:00<?, ?it/s]"
      ]
     },
     "metadata": {},
     "output_type": "display_data"
    },
    {
     "data": {
      "application/vnd.jupyter.widget-view+json": {
       "model_id": "3fb1f4b41a3c48d8acc8e0e3b160b8cb",
       "version_major": 2,
       "version_minor": 0
      },
      "text/plain": [
       "Evaluator:   0%|          | 0/6 [00:00<?, ?it/s]"
      ]
     },
     "metadata": {},
     "output_type": "display_data"
    },
    {
     "data": {
      "application/vnd.jupyter.widget-view+json": {
       "model_id": "69210fa530524944a2f4c6758546051e",
       "version_major": 2,
       "version_minor": 0
      },
      "text/plain": [
       "Evaluator:   0%|          | 0/6 [00:00<?, ?it/s]"
      ]
     },
     "metadata": {},
     "output_type": "display_data"
    },
    {
     "data": {
      "application/vnd.jupyter.widget-view+json": {
       "model_id": "7af6ca649aea45ec88e3820a9e05ee04",
       "version_major": 2,
       "version_minor": 0
      },
      "text/plain": [
       "Evaluator:   0%|          | 0/6 [00:00<?, ?it/s]"
      ]
     },
     "metadata": {},
     "output_type": "display_data"
    },
    {
     "data": {
      "application/vnd.jupyter.widget-view+json": {
       "model_id": "6a363d97d0ed45e0aeb4f8eee1f2ddc8",
       "version_major": 2,
       "version_minor": 0
      },
      "text/plain": [
       "Evaluator:   0%|          | 0/6 [00:00<?, ?it/s]"
      ]
     },
     "metadata": {},
     "output_type": "display_data"
    },
    {
     "data": {
      "application/vnd.jupyter.widget-view+json": {
       "model_id": "dd421af41a184470aeca9780d06379c2",
       "version_major": 2,
       "version_minor": 0
      },
      "text/plain": [
       "Evaluator:   0%|          | 0/6 [00:00<?, ?it/s]"
      ]
     },
     "metadata": {},
     "output_type": "display_data"
    },
    {
     "data": {
      "application/vnd.jupyter.widget-view+json": {
       "model_id": "0f656139021b4fdc877914c79a7aaff3",
       "version_major": 2,
       "version_minor": 0
      },
      "text/plain": [
       "Evaluator:   0%|          | 0/6 [00:00<?, ?it/s]"
      ]
     },
     "metadata": {},
     "output_type": "display_data"
    },
    {
     "data": {
      "application/vnd.jupyter.widget-view+json": {
       "model_id": "437dab1505bf4bdf8049b66b0b43bfb9",
       "version_major": 2,
       "version_minor": 0
      },
      "text/plain": [
       "Evaluator:   0%|          | 0/6 [00:00<?, ?it/s]"
      ]
     },
     "metadata": {},
     "output_type": "display_data"
    },
    {
     "data": {
      "application/vnd.jupyter.widget-view+json": {
       "model_id": "89824d8b297648cdabdbd03bd6a535c2",
       "version_major": 2,
       "version_minor": 0
      },
      "text/plain": [
       "Evaluator:   0%|          | 0/6 [00:00<?, ?it/s]"
      ]
     },
     "metadata": {},
     "output_type": "display_data"
    },
    {
     "data": {
      "application/vnd.jupyter.widget-view+json": {
       "model_id": "e33d4f30ed974d02b000cd8000ae5acc",
       "version_major": 2,
       "version_minor": 0
      },
      "text/plain": [
       "Evaluator:   0%|          | 0/6 [00:00<?, ?it/s]"
      ]
     },
     "metadata": {},
     "output_type": "display_data"
    },
    {
     "data": {
      "application/vnd.jupyter.widget-view+json": {
       "model_id": "ed970814bdff48fdbb9bcccef938e15f",
       "version_major": 2,
       "version_minor": 0
      },
      "text/plain": [
       "Evaluator:   0%|          | 0/6 [00:00<?, ?it/s]"
      ]
     },
     "metadata": {},
     "output_type": "display_data"
    },
    {
     "data": {
      "application/vnd.jupyter.widget-view+json": {
       "model_id": "38cebd3ab5b94affbb41993de79876e7",
       "version_major": 2,
       "version_minor": 0
      },
      "text/plain": [
       "Evaluator:   0%|          | 0/6 [00:00<?, ?it/s]"
      ]
     },
     "metadata": {},
     "output_type": "display_data"
    },
    {
     "data": {
      "application/vnd.jupyter.widget-view+json": {
       "model_id": "49d9549b132447dab29a45cf2954aa7b",
       "version_major": 2,
       "version_minor": 0
      },
      "text/plain": [
       "Evaluator:   0%|          | 0/6 [00:00<?, ?it/s]"
      ]
     },
     "metadata": {},
     "output_type": "display_data"
    },
    {
     "name": "stderr",
     "output_type": "stream",
     "text": [
      " 45%|████▌     | 5/11 [01:51<01:27, 14.53s/it]"
     ]
    },
    {
     "data": {
      "application/vnd.jupyter.widget-view+json": {
       "model_id": "3d94509e2a4e4ee8a3f7871bea73d091",
       "version_major": 2,
       "version_minor": 0
      },
      "text/plain": [
       "Evaluator:   0%|          | 0/6 [00:00<?, ?it/s]"
      ]
     },
     "metadata": {},
     "output_type": "display_data"
    },
    {
     "data": {
      "application/vnd.jupyter.widget-view+json": {
       "model_id": "14c15b3553be40029e090fb5f926b136",
       "version_major": 2,
       "version_minor": 0
      },
      "text/plain": [
       "Evaluator:   0%|          | 0/6 [00:00<?, ?it/s]"
      ]
     },
     "metadata": {},
     "output_type": "display_data"
    },
    {
     "data": {
      "application/vnd.jupyter.widget-view+json": {
       "model_id": "1b7a900af14f43d9bb63526b8abd7b4e",
       "version_major": 2,
       "version_minor": 0
      },
      "text/plain": [
       "Evaluator:   0%|          | 0/6 [00:00<?, ?it/s]"
      ]
     },
     "metadata": {},
     "output_type": "display_data"
    },
    {
     "data": {
      "application/vnd.jupyter.widget-view+json": {
       "model_id": "aa37d5caea50404d9d584f03a7c974cf",
       "version_major": 2,
       "version_minor": 0
      },
      "text/plain": [
       "Evaluator:   0%|          | 0/6 [00:00<?, ?it/s]"
      ]
     },
     "metadata": {},
     "output_type": "display_data"
    },
    {
     "data": {
      "application/vnd.jupyter.widget-view+json": {
       "model_id": "0fcc2c5c32b6423a965629a7b214c204",
       "version_major": 2,
       "version_minor": 0
      },
      "text/plain": [
       "Evaluator:   0%|          | 0/6 [00:00<?, ?it/s]"
      ]
     },
     "metadata": {},
     "output_type": "display_data"
    },
    {
     "data": {
      "application/vnd.jupyter.widget-view+json": {
       "model_id": "e33dc0e2caa847198165bf82718eb417",
       "version_major": 2,
       "version_minor": 0
      },
      "text/plain": [
       "Evaluator:   0%|          | 0/6 [00:00<?, ?it/s]"
      ]
     },
     "metadata": {},
     "output_type": "display_data"
    },
    {
     "data": {
      "application/vnd.jupyter.widget-view+json": {
       "model_id": "9adf88604706402d877c7875d6aaa03d",
       "version_major": 2,
       "version_minor": 0
      },
      "text/plain": [
       "Evaluator:   0%|          | 0/6 [00:00<?, ?it/s]"
      ]
     },
     "metadata": {},
     "output_type": "display_data"
    },
    {
     "data": {
      "application/vnd.jupyter.widget-view+json": {
       "model_id": "43e233fa254a4e969e7bc80b3923fce8",
       "version_major": 2,
       "version_minor": 0
      },
      "text/plain": [
       "Evaluator:   0%|          | 0/6 [00:00<?, ?it/s]"
      ]
     },
     "metadata": {},
     "output_type": "display_data"
    },
    {
     "data": {
      "application/vnd.jupyter.widget-view+json": {
       "model_id": "1ff0a714b88b472ab70656d5b13bfe39",
       "version_major": 2,
       "version_minor": 0
      },
      "text/plain": [
       "Evaluator:   0%|          | 0/6 [00:00<?, ?it/s]"
      ]
     },
     "metadata": {},
     "output_type": "display_data"
    },
    {
     "data": {
      "application/vnd.jupyter.widget-view+json": {
       "model_id": "fa30ba8bf9f94336a1387a9a43faa043",
       "version_major": 2,
       "version_minor": 0
      },
      "text/plain": [
       "Evaluator:   0%|          | 0/6 [00:00<?, ?it/s]"
      ]
     },
     "metadata": {},
     "output_type": "display_data"
    },
    {
     "data": {
      "application/vnd.jupyter.widget-view+json": {
       "model_id": "b1bf336c8aeb4eea81783d79858c5554",
       "version_major": 2,
       "version_minor": 0
      },
      "text/plain": [
       "Evaluator:   0%|          | 0/6 [00:00<?, ?it/s]"
      ]
     },
     "metadata": {},
     "output_type": "display_data"
    },
    {
     "data": {
      "application/vnd.jupyter.widget-view+json": {
       "model_id": "a468e643316a4a76a359be60ce01c409",
       "version_major": 2,
       "version_minor": 0
      },
      "text/plain": [
       "Evaluator:   0%|          | 0/6 [00:00<?, ?it/s]"
      ]
     },
     "metadata": {},
     "output_type": "display_data"
    },
    {
     "data": {
      "application/vnd.jupyter.widget-view+json": {
       "model_id": "eb56f3b17cde4f8cb99868f05aedd17c",
       "version_major": 2,
       "version_minor": 0
      },
      "text/plain": [
       "Evaluator:   0%|          | 0/6 [00:00<?, ?it/s]"
      ]
     },
     "metadata": {},
     "output_type": "display_data"
    },
    {
     "data": {
      "application/vnd.jupyter.widget-view+json": {
       "model_id": "9243e3458dea4790b670951a2e5f6106",
       "version_major": 2,
       "version_minor": 0
      },
      "text/plain": [
       "Evaluator:   0%|          | 0/6 [00:00<?, ?it/s]"
      ]
     },
     "metadata": {},
     "output_type": "display_data"
    },
    {
     "data": {
      "application/vnd.jupyter.widget-view+json": {
       "model_id": "10831ba8a14f49739ff35c7be75d2b97",
       "version_major": 2,
       "version_minor": 0
      },
      "text/plain": [
       "Evaluator:   0%|          | 0/6 [00:00<?, ?it/s]"
      ]
     },
     "metadata": {},
     "output_type": "display_data"
    },
    {
     "data": {
      "application/vnd.jupyter.widget-view+json": {
       "model_id": "ad4ee9e1df1847c5af874dc0e30231b0",
       "version_major": 2,
       "version_minor": 0
      },
      "text/plain": [
       "Evaluator:   0%|          | 0/6 [00:00<?, ?it/s]"
      ]
     },
     "metadata": {},
     "output_type": "display_data"
    },
    {
     "data": {
      "application/vnd.jupyter.widget-view+json": {
       "model_id": "4e517ed79c80474cb41709b93f0740f0",
       "version_major": 2,
       "version_minor": 0
      },
      "text/plain": [
       "Evaluator:   0%|          | 0/6 [00:00<?, ?it/s]"
      ]
     },
     "metadata": {},
     "output_type": "display_data"
    },
    {
     "data": {
      "application/vnd.jupyter.widget-view+json": {
       "model_id": "2ac549e25fe64c9890b04f8ce874830b",
       "version_major": 2,
       "version_minor": 0
      },
      "text/plain": [
       "Evaluator:   0%|          | 0/6 [00:00<?, ?it/s]"
      ]
     },
     "metadata": {},
     "output_type": "display_data"
    },
    {
     "data": {
      "application/vnd.jupyter.widget-view+json": {
       "model_id": "3b527fd4e0ed4dc29241fe2d09ca2b2d",
       "version_major": 2,
       "version_minor": 0
      },
      "text/plain": [
       "Evaluator:   0%|          | 0/6 [00:00<?, ?it/s]"
      ]
     },
     "metadata": {},
     "output_type": "display_data"
    },
    {
     "data": {
      "application/vnd.jupyter.widget-view+json": {
       "model_id": "f503dd95d96246cf97d34f84a432f214",
       "version_major": 2,
       "version_minor": 0
      },
      "text/plain": [
       "Evaluator:   0%|          | 0/6 [00:00<?, ?it/s]"
      ]
     },
     "metadata": {},
     "output_type": "display_data"
    },
    {
     "name": "stderr",
     "output_type": "stream",
     "text": [
      " 55%|█████▍    | 6/11 [01:58<00:59, 11.96s/it]"
     ]
    },
    {
     "data": {
      "application/vnd.jupyter.widget-view+json": {
       "model_id": "c4fb4c86d23d402187c25155d81f4893",
       "version_major": 2,
       "version_minor": 0
      },
      "text/plain": [
       "Evaluator:   0%|          | 0/6 [00:00<?, ?it/s]"
      ]
     },
     "metadata": {},
     "output_type": "display_data"
    },
    {
     "data": {
      "application/vnd.jupyter.widget-view+json": {
       "model_id": "864f3c2db75f4ffc88df4b47b4e4924a",
       "version_major": 2,
       "version_minor": 0
      },
      "text/plain": [
       "Evaluator:   0%|          | 0/6 [00:00<?, ?it/s]"
      ]
     },
     "metadata": {},
     "output_type": "display_data"
    },
    {
     "data": {
      "application/vnd.jupyter.widget-view+json": {
       "model_id": "e812168ba28741d2a529765fe5b5f9c6",
       "version_major": 2,
       "version_minor": 0
      },
      "text/plain": [
       "Evaluator:   0%|          | 0/6 [00:00<?, ?it/s]"
      ]
     },
     "metadata": {},
     "output_type": "display_data"
    },
    {
     "data": {
      "application/vnd.jupyter.widget-view+json": {
       "model_id": "a9e5abd48a3843c291ea4b07b70b103f",
       "version_major": 2,
       "version_minor": 0
      },
      "text/plain": [
       "Evaluator:   0%|          | 0/6 [00:00<?, ?it/s]"
      ]
     },
     "metadata": {},
     "output_type": "display_data"
    },
    {
     "data": {
      "application/vnd.jupyter.widget-view+json": {
       "model_id": "f2c597f2297b41ef9adb6c22b52a54dd",
       "version_major": 2,
       "version_minor": 0
      },
      "text/plain": [
       "Evaluator:   0%|          | 0/6 [00:00<?, ?it/s]"
      ]
     },
     "metadata": {},
     "output_type": "display_data"
    },
    {
     "data": {
      "application/vnd.jupyter.widget-view+json": {
       "model_id": "ae84a9c2b9e143a8a825c1cb98a87659",
       "version_major": 2,
       "version_minor": 0
      },
      "text/plain": [
       "Evaluator:   0%|          | 0/6 [00:00<?, ?it/s]"
      ]
     },
     "metadata": {},
     "output_type": "display_data"
    },
    {
     "data": {
      "application/vnd.jupyter.widget-view+json": {
       "model_id": "2d3413d93fa7468a9aca401514a6c869",
       "version_major": 2,
       "version_minor": 0
      },
      "text/plain": [
       "Evaluator:   0%|          | 0/6 [00:00<?, ?it/s]"
      ]
     },
     "metadata": {},
     "output_type": "display_data"
    },
    {
     "data": {
      "application/vnd.jupyter.widget-view+json": {
       "model_id": "24246635ba5447438e519de549f72c10",
       "version_major": 2,
       "version_minor": 0
      },
      "text/plain": [
       "Evaluator:   0%|          | 0/6 [00:00<?, ?it/s]"
      ]
     },
     "metadata": {},
     "output_type": "display_data"
    },
    {
     "data": {
      "application/vnd.jupyter.widget-view+json": {
       "model_id": "0f434338c7b2400b8165ab9532be5123",
       "version_major": 2,
       "version_minor": 0
      },
      "text/plain": [
       "Evaluator:   0%|          | 0/6 [00:00<?, ?it/s]"
      ]
     },
     "metadata": {},
     "output_type": "display_data"
    },
    {
     "data": {
      "application/vnd.jupyter.widget-view+json": {
       "model_id": "e390a1231e7f4cd2b972ef3ff3d1e40e",
       "version_major": 2,
       "version_minor": 0
      },
      "text/plain": [
       "Evaluator:   0%|          | 0/6 [00:00<?, ?it/s]"
      ]
     },
     "metadata": {},
     "output_type": "display_data"
    },
    {
     "data": {
      "application/vnd.jupyter.widget-view+json": {
       "model_id": "26e84dbbe4714c38a9997271a54568f9",
       "version_major": 2,
       "version_minor": 0
      },
      "text/plain": [
       "Evaluator:   0%|          | 0/6 [00:00<?, ?it/s]"
      ]
     },
     "metadata": {},
     "output_type": "display_data"
    },
    {
     "data": {
      "application/vnd.jupyter.widget-view+json": {
       "model_id": "12b3c2de906b4a95b2fe6d78bbfc65fc",
       "version_major": 2,
       "version_minor": 0
      },
      "text/plain": [
       "Evaluator:   0%|          | 0/6 [00:00<?, ?it/s]"
      ]
     },
     "metadata": {},
     "output_type": "display_data"
    },
    {
     "data": {
      "application/vnd.jupyter.widget-view+json": {
       "model_id": "c6d31cfa57774f6680f66f1797723749",
       "version_major": 2,
       "version_minor": 0
      },
      "text/plain": [
       "Evaluator:   0%|          | 0/6 [00:00<?, ?it/s]"
      ]
     },
     "metadata": {},
     "output_type": "display_data"
    },
    {
     "data": {
      "application/vnd.jupyter.widget-view+json": {
       "model_id": "f760d64a08b74492a5314b8df28bfbe8",
       "version_major": 2,
       "version_minor": 0
      },
      "text/plain": [
       "Evaluator:   0%|          | 0/6 [00:00<?, ?it/s]"
      ]
     },
     "metadata": {},
     "output_type": "display_data"
    },
    {
     "data": {
      "application/vnd.jupyter.widget-view+json": {
       "model_id": "a75db697acf042888e1e05cec2e4f023",
       "version_major": 2,
       "version_minor": 0
      },
      "text/plain": [
       "Evaluator:   0%|          | 0/6 [00:00<?, ?it/s]"
      ]
     },
     "metadata": {},
     "output_type": "display_data"
    },
    {
     "data": {
      "application/vnd.jupyter.widget-view+json": {
       "model_id": "c8920293091c43958edad9a38d11a8a6",
       "version_major": 2,
       "version_minor": 0
      },
      "text/plain": [
       "Evaluator:   0%|          | 0/6 [00:00<?, ?it/s]"
      ]
     },
     "metadata": {},
     "output_type": "display_data"
    },
    {
     "data": {
      "application/vnd.jupyter.widget-view+json": {
       "model_id": "37ef30b7be1547589c0b939275004eb6",
       "version_major": 2,
       "version_minor": 0
      },
      "text/plain": [
       "Evaluator:   0%|          | 0/6 [00:00<?, ?it/s]"
      ]
     },
     "metadata": {},
     "output_type": "display_data"
    },
    {
     "data": {
      "application/vnd.jupyter.widget-view+json": {
       "model_id": "89f1ad6637b54927bbb0151bf5d3155f",
       "version_major": 2,
       "version_minor": 0
      },
      "text/plain": [
       "Evaluator:   0%|          | 0/6 [00:00<?, ?it/s]"
      ]
     },
     "metadata": {},
     "output_type": "display_data"
    },
    {
     "data": {
      "application/vnd.jupyter.widget-view+json": {
       "model_id": "ae4ec5246d084560b51486de0890fe08",
       "version_major": 2,
       "version_minor": 0
      },
      "text/plain": [
       "Evaluator:   0%|          | 0/6 [00:00<?, ?it/s]"
      ]
     },
     "metadata": {},
     "output_type": "display_data"
    },
    {
     "data": {
      "application/vnd.jupyter.widget-view+json": {
       "model_id": "2cfbec126d9d421780c6241d75d99119",
       "version_major": 2,
       "version_minor": 0
      },
      "text/plain": [
       "Evaluator:   0%|          | 0/6 [00:00<?, ?it/s]"
      ]
     },
     "metadata": {},
     "output_type": "display_data"
    },
    {
     "name": "stderr",
     "output_type": "stream",
     "text": [
      " 64%|██████▎   | 7/11 [02:17<00:56, 14.07s/it]"
     ]
    },
    {
     "data": {
      "application/vnd.jupyter.widget-view+json": {
       "model_id": "18e1860f3608456f927b9192267d2c88",
       "version_major": 2,
       "version_minor": 0
      },
      "text/plain": [
       "Evaluator:   0%|          | 0/6 [00:00<?, ?it/s]"
      ]
     },
     "metadata": {},
     "output_type": "display_data"
    },
    {
     "data": {
      "application/vnd.jupyter.widget-view+json": {
       "model_id": "b4b767a10854431cae87922429f3b42f",
       "version_major": 2,
       "version_minor": 0
      },
      "text/plain": [
       "Evaluator:   0%|          | 0/6 [00:00<?, ?it/s]"
      ]
     },
     "metadata": {},
     "output_type": "display_data"
    },
    {
     "data": {
      "application/vnd.jupyter.widget-view+json": {
       "model_id": "ffa02b025b274930ae0677f6d171e599",
       "version_major": 2,
       "version_minor": 0
      },
      "text/plain": [
       "Evaluator:   0%|          | 0/6 [00:00<?, ?it/s]"
      ]
     },
     "metadata": {},
     "output_type": "display_data"
    },
    {
     "data": {
      "application/vnd.jupyter.widget-view+json": {
       "model_id": "aeebc317c85b4171bc6230e65d7b0610",
       "version_major": 2,
       "version_minor": 0
      },
      "text/plain": [
       "Evaluator:   0%|          | 0/6 [00:00<?, ?it/s]"
      ]
     },
     "metadata": {},
     "output_type": "display_data"
    },
    {
     "data": {
      "application/vnd.jupyter.widget-view+json": {
       "model_id": "5248718edebf49acad8353197681a125",
       "version_major": 2,
       "version_minor": 0
      },
      "text/plain": [
       "Evaluator:   0%|          | 0/6 [00:00<?, ?it/s]"
      ]
     },
     "metadata": {},
     "output_type": "display_data"
    },
    {
     "data": {
      "application/vnd.jupyter.widget-view+json": {
       "model_id": "5fb6ec5e84ef42a69bb5e8d437ad2bea",
       "version_major": 2,
       "version_minor": 0
      },
      "text/plain": [
       "Evaluator:   0%|          | 0/6 [00:00<?, ?it/s]"
      ]
     },
     "metadata": {},
     "output_type": "display_data"
    },
    {
     "data": {
      "application/vnd.jupyter.widget-view+json": {
       "model_id": "ceefac741d9f4f90a393d190256f37bc",
       "version_major": 2,
       "version_minor": 0
      },
      "text/plain": [
       "Evaluator:   0%|          | 0/6 [00:00<?, ?it/s]"
      ]
     },
     "metadata": {},
     "output_type": "display_data"
    },
    {
     "data": {
      "application/vnd.jupyter.widget-view+json": {
       "model_id": "0bd78355ab314af2b1f6cd0db39d9e7e",
       "version_major": 2,
       "version_minor": 0
      },
      "text/plain": [
       "Evaluator:   0%|          | 0/6 [00:00<?, ?it/s]"
      ]
     },
     "metadata": {},
     "output_type": "display_data"
    },
    {
     "data": {
      "application/vnd.jupyter.widget-view+json": {
       "model_id": "eb75ee7fb706475698b3b0b769a5c7ea",
       "version_major": 2,
       "version_minor": 0
      },
      "text/plain": [
       "Evaluator:   0%|          | 0/6 [00:00<?, ?it/s]"
      ]
     },
     "metadata": {},
     "output_type": "display_data"
    },
    {
     "data": {
      "application/vnd.jupyter.widget-view+json": {
       "model_id": "83d69d8a96bf4a899f25ff105d23c20c",
       "version_major": 2,
       "version_minor": 0
      },
      "text/plain": [
       "Evaluator:   0%|          | 0/6 [00:00<?, ?it/s]"
      ]
     },
     "metadata": {},
     "output_type": "display_data"
    },
    {
     "data": {
      "application/vnd.jupyter.widget-view+json": {
       "model_id": "1817866a3245482db4ec60dc1075df89",
       "version_major": 2,
       "version_minor": 0
      },
      "text/plain": [
       "Evaluator:   0%|          | 0/6 [00:00<?, ?it/s]"
      ]
     },
     "metadata": {},
     "output_type": "display_data"
    },
    {
     "data": {
      "application/vnd.jupyter.widget-view+json": {
       "model_id": "b7673688174e42dcb61e5ecd91298daa",
       "version_major": 2,
       "version_minor": 0
      },
      "text/plain": [
       "Evaluator:   0%|          | 0/6 [00:00<?, ?it/s]"
      ]
     },
     "metadata": {},
     "output_type": "display_data"
    },
    {
     "data": {
      "application/vnd.jupyter.widget-view+json": {
       "model_id": "2bc8d769ed9542eba35d4e2d1c22ca22",
       "version_major": 2,
       "version_minor": 0
      },
      "text/plain": [
       "Evaluator:   0%|          | 0/6 [00:00<?, ?it/s]"
      ]
     },
     "metadata": {},
     "output_type": "display_data"
    },
    {
     "data": {
      "application/vnd.jupyter.widget-view+json": {
       "model_id": "f85383893d9a4c358466e142d1ff2adc",
       "version_major": 2,
       "version_minor": 0
      },
      "text/plain": [
       "Evaluator:   0%|          | 0/6 [00:00<?, ?it/s]"
      ]
     },
     "metadata": {},
     "output_type": "display_data"
    },
    {
     "data": {
      "application/vnd.jupyter.widget-view+json": {
       "model_id": "f41b39f2404e4367b89c29df91ce249a",
       "version_major": 2,
       "version_minor": 0
      },
      "text/plain": [
       "Evaluator:   0%|          | 0/6 [00:00<?, ?it/s]"
      ]
     },
     "metadata": {},
     "output_type": "display_data"
    },
    {
     "data": {
      "application/vnd.jupyter.widget-view+json": {
       "model_id": "91d32e8e0e584fb2867e76322b9f82a0",
       "version_major": 2,
       "version_minor": 0
      },
      "text/plain": [
       "Evaluator:   0%|          | 0/6 [00:00<?, ?it/s]"
      ]
     },
     "metadata": {},
     "output_type": "display_data"
    },
    {
     "data": {
      "application/vnd.jupyter.widget-view+json": {
       "model_id": "630b73ca28c145cbbc3435e9a31196ae",
       "version_major": 2,
       "version_minor": 0
      },
      "text/plain": [
       "Evaluator:   0%|          | 0/6 [00:00<?, ?it/s]"
      ]
     },
     "metadata": {},
     "output_type": "display_data"
    },
    {
     "data": {
      "application/vnd.jupyter.widget-view+json": {
       "model_id": "beb2cdcc5c06466cafb19d0a4920059d",
       "version_major": 2,
       "version_minor": 0
      },
      "text/plain": [
       "Evaluator:   0%|          | 0/6 [00:00<?, ?it/s]"
      ]
     },
     "metadata": {},
     "output_type": "display_data"
    },
    {
     "data": {
      "application/vnd.jupyter.widget-view+json": {
       "model_id": "5224570823504e62acda2928be0f2ac8",
       "version_major": 2,
       "version_minor": 0
      },
      "text/plain": [
       "Evaluator:   0%|          | 0/6 [00:00<?, ?it/s]"
      ]
     },
     "metadata": {},
     "output_type": "display_data"
    },
    {
     "data": {
      "application/vnd.jupyter.widget-view+json": {
       "model_id": "b573d00164744713a3fa34ead9c9f10e",
       "version_major": 2,
       "version_minor": 0
      },
      "text/plain": [
       "Evaluator:   0%|          | 0/6 [00:00<?, ?it/s]"
      ]
     },
     "metadata": {},
     "output_type": "display_data"
    },
    {
     "name": "stderr",
     "output_type": "stream",
     "text": [
      " 73%|███████▎  | 8/11 [04:00<02:07, 42.55s/it]"
     ]
    },
    {
     "data": {
      "application/vnd.jupyter.widget-view+json": {
       "model_id": "144ee3a5ba5c41baa1c0364d2600934c",
       "version_major": 2,
       "version_minor": 0
      },
      "text/plain": [
       "Evaluator:   0%|          | 0/6 [00:00<?, ?it/s]"
      ]
     },
     "metadata": {},
     "output_type": "display_data"
    },
    {
     "data": {
      "application/vnd.jupyter.widget-view+json": {
       "model_id": "8d5a316f49894ee99db3e200fcd6af3b",
       "version_major": 2,
       "version_minor": 0
      },
      "text/plain": [
       "Evaluator:   0%|          | 0/6 [00:00<?, ?it/s]"
      ]
     },
     "metadata": {},
     "output_type": "display_data"
    },
    {
     "data": {
      "application/vnd.jupyter.widget-view+json": {
       "model_id": "68d0a8630b5c4900b4a76599338d27b8",
       "version_major": 2,
       "version_minor": 0
      },
      "text/plain": [
       "Evaluator:   0%|          | 0/6 [00:00<?, ?it/s]"
      ]
     },
     "metadata": {},
     "output_type": "display_data"
    },
    {
     "data": {
      "application/vnd.jupyter.widget-view+json": {
       "model_id": "7592c60e5d8a45c3ad2b734aa86b8337",
       "version_major": 2,
       "version_minor": 0
      },
      "text/plain": [
       "Evaluator:   0%|          | 0/6 [00:00<?, ?it/s]"
      ]
     },
     "metadata": {},
     "output_type": "display_data"
    },
    {
     "data": {
      "application/vnd.jupyter.widget-view+json": {
       "model_id": "0129e270754a4b8f8ee5e501619137cb",
       "version_major": 2,
       "version_minor": 0
      },
      "text/plain": [
       "Evaluator:   0%|          | 0/6 [00:00<?, ?it/s]"
      ]
     },
     "metadata": {},
     "output_type": "display_data"
    },
    {
     "data": {
      "application/vnd.jupyter.widget-view+json": {
       "model_id": "0b2fb2d1bc8e4c1a81de22a9433e6768",
       "version_major": 2,
       "version_minor": 0
      },
      "text/plain": [
       "Evaluator:   0%|          | 0/6 [00:00<?, ?it/s]"
      ]
     },
     "metadata": {},
     "output_type": "display_data"
    },
    {
     "data": {
      "application/vnd.jupyter.widget-view+json": {
       "model_id": "7a79c798093b43d69674211e3ad25565",
       "version_major": 2,
       "version_minor": 0
      },
      "text/plain": [
       "Evaluator:   0%|          | 0/6 [00:00<?, ?it/s]"
      ]
     },
     "metadata": {},
     "output_type": "display_data"
    },
    {
     "data": {
      "application/vnd.jupyter.widget-view+json": {
       "model_id": "37db50672191482d95379703d32e0564",
       "version_major": 2,
       "version_minor": 0
      },
      "text/plain": [
       "Evaluator:   0%|          | 0/6 [00:00<?, ?it/s]"
      ]
     },
     "metadata": {},
     "output_type": "display_data"
    },
    {
     "data": {
      "application/vnd.jupyter.widget-view+json": {
       "model_id": "b1914c31a0f84216a2fa4683372d88ad",
       "version_major": 2,
       "version_minor": 0
      },
      "text/plain": [
       "Evaluator:   0%|          | 0/6 [00:00<?, ?it/s]"
      ]
     },
     "metadata": {},
     "output_type": "display_data"
    },
    {
     "data": {
      "application/vnd.jupyter.widget-view+json": {
       "model_id": "ee19c13330b24056bcf2329f0af1e613",
       "version_major": 2,
       "version_minor": 0
      },
      "text/plain": [
       "Evaluator:   0%|          | 0/6 [00:00<?, ?it/s]"
      ]
     },
     "metadata": {},
     "output_type": "display_data"
    },
    {
     "data": {
      "application/vnd.jupyter.widget-view+json": {
       "model_id": "5d28db97bdcf44b8880e1097fb45d11f",
       "version_major": 2,
       "version_minor": 0
      },
      "text/plain": [
       "Evaluator:   0%|          | 0/6 [00:00<?, ?it/s]"
      ]
     },
     "metadata": {},
     "output_type": "display_data"
    },
    {
     "data": {
      "application/vnd.jupyter.widget-view+json": {
       "model_id": "f025f5b12ddb411a857f0140f0989922",
       "version_major": 2,
       "version_minor": 0
      },
      "text/plain": [
       "Evaluator:   0%|          | 0/6 [00:00<?, ?it/s]"
      ]
     },
     "metadata": {},
     "output_type": "display_data"
    },
    {
     "data": {
      "application/vnd.jupyter.widget-view+json": {
       "model_id": "b2cba6d3158e42f7b6edc037a922fce4",
       "version_major": 2,
       "version_minor": 0
      },
      "text/plain": [
       "Evaluator:   0%|          | 0/6 [00:00<?, ?it/s]"
      ]
     },
     "metadata": {},
     "output_type": "display_data"
    },
    {
     "data": {
      "application/vnd.jupyter.widget-view+json": {
       "model_id": "894d6c8a55e945439d68120f1d5ffe3b",
       "version_major": 2,
       "version_minor": 0
      },
      "text/plain": [
       "Evaluator:   0%|          | 0/6 [00:00<?, ?it/s]"
      ]
     },
     "metadata": {},
     "output_type": "display_data"
    },
    {
     "data": {
      "application/vnd.jupyter.widget-view+json": {
       "model_id": "cc437b17415a49e1b993f3eed0ca5802",
       "version_major": 2,
       "version_minor": 0
      },
      "text/plain": [
       "Evaluator:   0%|          | 0/6 [00:00<?, ?it/s]"
      ]
     },
     "metadata": {},
     "output_type": "display_data"
    },
    {
     "data": {
      "application/vnd.jupyter.widget-view+json": {
       "model_id": "f686e176fedc488693c4d3182532313e",
       "version_major": 2,
       "version_minor": 0
      },
      "text/plain": [
       "Evaluator:   0%|          | 0/6 [00:00<?, ?it/s]"
      ]
     },
     "metadata": {},
     "output_type": "display_data"
    },
    {
     "data": {
      "application/vnd.jupyter.widget-view+json": {
       "model_id": "525c34cab34140b3826ae23a5bae72a6",
       "version_major": 2,
       "version_minor": 0
      },
      "text/plain": [
       "Evaluator:   0%|          | 0/6 [00:00<?, ?it/s]"
      ]
     },
     "metadata": {},
     "output_type": "display_data"
    },
    {
     "data": {
      "application/vnd.jupyter.widget-view+json": {
       "model_id": "63470d3aad004b6cac4f67c9da5a65f7",
       "version_major": 2,
       "version_minor": 0
      },
      "text/plain": [
       "Evaluator:   0%|          | 0/6 [00:00<?, ?it/s]"
      ]
     },
     "metadata": {},
     "output_type": "display_data"
    },
    {
     "data": {
      "application/vnd.jupyter.widget-view+json": {
       "model_id": "d0f82c66abe243b0a6e1216103e2d27b",
       "version_major": 2,
       "version_minor": 0
      },
      "text/plain": [
       "Evaluator:   0%|          | 0/6 [00:00<?, ?it/s]"
      ]
     },
     "metadata": {},
     "output_type": "display_data"
    },
    {
     "data": {
      "application/vnd.jupyter.widget-view+json": {
       "model_id": "868c9fe58dcb43a5945548a0c3e2d140",
       "version_major": 2,
       "version_minor": 0
      },
      "text/plain": [
       "Evaluator:   0%|          | 0/6 [00:00<?, ?it/s]"
      ]
     },
     "metadata": {},
     "output_type": "display_data"
    },
    {
     "name": "stderr",
     "output_type": "stream",
     "text": [
      " 82%|████████▏ | 9/11 [04:18<01:09, 34.63s/it]"
     ]
    },
    {
     "data": {
      "application/vnd.jupyter.widget-view+json": {
       "model_id": "cceb2af1cb194b0486f47f61dc7099aa",
       "version_major": 2,
       "version_minor": 0
      },
      "text/plain": [
       "Evaluator:   0%|          | 0/6 [00:00<?, ?it/s]"
      ]
     },
     "metadata": {},
     "output_type": "display_data"
    },
    {
     "data": {
      "application/vnd.jupyter.widget-view+json": {
       "model_id": "ca8a15c569c44dc6877df1bd2274f02e",
       "version_major": 2,
       "version_minor": 0
      },
      "text/plain": [
       "Evaluator:   0%|          | 0/6 [00:00<?, ?it/s]"
      ]
     },
     "metadata": {},
     "output_type": "display_data"
    },
    {
     "data": {
      "application/vnd.jupyter.widget-view+json": {
       "model_id": "8d8cd110611d4270ba50ef7f027d4ec2",
       "version_major": 2,
       "version_minor": 0
      },
      "text/plain": [
       "Evaluator:   0%|          | 0/6 [00:00<?, ?it/s]"
      ]
     },
     "metadata": {},
     "output_type": "display_data"
    },
    {
     "data": {
      "application/vnd.jupyter.widget-view+json": {
       "model_id": "95ec45a5a97645d2a613355ff09907bd",
       "version_major": 2,
       "version_minor": 0
      },
      "text/plain": [
       "Evaluator:   0%|          | 0/6 [00:00<?, ?it/s]"
      ]
     },
     "metadata": {},
     "output_type": "display_data"
    },
    {
     "data": {
      "application/vnd.jupyter.widget-view+json": {
       "model_id": "1f710c8b97a74257b152baee8d07eedc",
       "version_major": 2,
       "version_minor": 0
      },
      "text/plain": [
       "Evaluator:   0%|          | 0/6 [00:00<?, ?it/s]"
      ]
     },
     "metadata": {},
     "output_type": "display_data"
    },
    {
     "data": {
      "application/vnd.jupyter.widget-view+json": {
       "model_id": "e11462853ca34b20aa3f13b4674d4a33",
       "version_major": 2,
       "version_minor": 0
      },
      "text/plain": [
       "Evaluator:   0%|          | 0/6 [00:00<?, ?it/s]"
      ]
     },
     "metadata": {},
     "output_type": "display_data"
    },
    {
     "data": {
      "application/vnd.jupyter.widget-view+json": {
       "model_id": "1301a733a6364e88bc6b6e0377417737",
       "version_major": 2,
       "version_minor": 0
      },
      "text/plain": [
       "Evaluator:   0%|          | 0/6 [00:00<?, ?it/s]"
      ]
     },
     "metadata": {},
     "output_type": "display_data"
    },
    {
     "data": {
      "application/vnd.jupyter.widget-view+json": {
       "model_id": "8c8964e31b83409ea593a1c2a3d8637a",
       "version_major": 2,
       "version_minor": 0
      },
      "text/plain": [
       "Evaluator:   0%|          | 0/6 [00:00<?, ?it/s]"
      ]
     },
     "metadata": {},
     "output_type": "display_data"
    },
    {
     "data": {
      "application/vnd.jupyter.widget-view+json": {
       "model_id": "8318425e8f52411aa147631f27c431da",
       "version_major": 2,
       "version_minor": 0
      },
      "text/plain": [
       "Evaluator:   0%|          | 0/6 [00:00<?, ?it/s]"
      ]
     },
     "metadata": {},
     "output_type": "display_data"
    },
    {
     "data": {
      "application/vnd.jupyter.widget-view+json": {
       "model_id": "34f9cbd2c2b04396befb4759ee70719c",
       "version_major": 2,
       "version_minor": 0
      },
      "text/plain": [
       "Evaluator:   0%|          | 0/6 [00:00<?, ?it/s]"
      ]
     },
     "metadata": {},
     "output_type": "display_data"
    },
    {
     "data": {
      "application/vnd.jupyter.widget-view+json": {
       "model_id": "2a77ca9ba7e74f9c9e00571e0d690ba1",
       "version_major": 2,
       "version_minor": 0
      },
      "text/plain": [
       "Evaluator:   0%|          | 0/6 [00:00<?, ?it/s]"
      ]
     },
     "metadata": {},
     "output_type": "display_data"
    },
    {
     "data": {
      "application/vnd.jupyter.widget-view+json": {
       "model_id": "e26861007df241fdae321530dfc85a4d",
       "version_major": 2,
       "version_minor": 0
      },
      "text/plain": [
       "Evaluator:   0%|          | 0/6 [00:00<?, ?it/s]"
      ]
     },
     "metadata": {},
     "output_type": "display_data"
    },
    {
     "data": {
      "application/vnd.jupyter.widget-view+json": {
       "model_id": "72d80a39aadf4ced8b23c03a3c3dda83",
       "version_major": 2,
       "version_minor": 0
      },
      "text/plain": [
       "Evaluator:   0%|          | 0/6 [00:00<?, ?it/s]"
      ]
     },
     "metadata": {},
     "output_type": "display_data"
    },
    {
     "data": {
      "application/vnd.jupyter.widget-view+json": {
       "model_id": "6958b54ae59144d1878e42253e9fc46e",
       "version_major": 2,
       "version_minor": 0
      },
      "text/plain": [
       "Evaluator:   0%|          | 0/6 [00:00<?, ?it/s]"
      ]
     },
     "metadata": {},
     "output_type": "display_data"
    },
    {
     "data": {
      "application/vnd.jupyter.widget-view+json": {
       "model_id": "95308d67165841abb1f0bea29a3f887f",
       "version_major": 2,
       "version_minor": 0
      },
      "text/plain": [
       "Evaluator:   0%|          | 0/6 [00:00<?, ?it/s]"
      ]
     },
     "metadata": {},
     "output_type": "display_data"
    },
    {
     "data": {
      "application/vnd.jupyter.widget-view+json": {
       "model_id": "d05c70a233e64b24b2d659e8206b7aa9",
       "version_major": 2,
       "version_minor": 0
      },
      "text/plain": [
       "Evaluator:   0%|          | 0/6 [00:00<?, ?it/s]"
      ]
     },
     "metadata": {},
     "output_type": "display_data"
    },
    {
     "data": {
      "application/vnd.jupyter.widget-view+json": {
       "model_id": "0c3dcac8d674442bb91349752a2e1b38",
       "version_major": 2,
       "version_minor": 0
      },
      "text/plain": [
       "Evaluator:   0%|          | 0/6 [00:00<?, ?it/s]"
      ]
     },
     "metadata": {},
     "output_type": "display_data"
    },
    {
     "data": {
      "application/vnd.jupyter.widget-view+json": {
       "model_id": "72c9a569496840d98b7df54884f1c754",
       "version_major": 2,
       "version_minor": 0
      },
      "text/plain": [
       "Evaluator:   0%|          | 0/6 [00:00<?, ?it/s]"
      ]
     },
     "metadata": {},
     "output_type": "display_data"
    },
    {
     "data": {
      "application/vnd.jupyter.widget-view+json": {
       "model_id": "0149a0128324468ea561680ba439cc53",
       "version_major": 2,
       "version_minor": 0
      },
      "text/plain": [
       "Evaluator:   0%|          | 0/6 [00:00<?, ?it/s]"
      ]
     },
     "metadata": {},
     "output_type": "display_data"
    },
    {
     "data": {
      "application/vnd.jupyter.widget-view+json": {
       "model_id": "275a433fe6064ebd958078f564df6496",
       "version_major": 2,
       "version_minor": 0
      },
      "text/plain": [
       "Evaluator:   0%|          | 0/6 [00:00<?, ?it/s]"
      ]
     },
     "metadata": {},
     "output_type": "display_data"
    },
    {
     "name": "stderr",
     "output_type": "stream",
     "text": [
      " 91%|█████████ | 10/11 [04:26<00:26, 26.48s/it]"
     ]
    },
    {
     "data": {
      "application/vnd.jupyter.widget-view+json": {
       "model_id": "9c7e0a07b6cc46aab57f8640d7746959",
       "version_major": 2,
       "version_minor": 0
      },
      "text/plain": [
       "Evaluator:   0%|          | 0/6 [00:00<?, ?it/s]"
      ]
     },
     "metadata": {},
     "output_type": "display_data"
    },
    {
     "data": {
      "application/vnd.jupyter.widget-view+json": {
       "model_id": "f739ca596ef44fb99b2f32627a404fc7",
       "version_major": 2,
       "version_minor": 0
      },
      "text/plain": [
       "Evaluator:   0%|          | 0/6 [00:00<?, ?it/s]"
      ]
     },
     "metadata": {},
     "output_type": "display_data"
    },
    {
     "data": {
      "application/vnd.jupyter.widget-view+json": {
       "model_id": "0abec4b8b5084b4fa6bf4710655452e7",
       "version_major": 2,
       "version_minor": 0
      },
      "text/plain": [
       "Evaluator:   0%|          | 0/6 [00:00<?, ?it/s]"
      ]
     },
     "metadata": {},
     "output_type": "display_data"
    },
    {
     "data": {
      "application/vnd.jupyter.widget-view+json": {
       "model_id": "fe7ae0b85f784696952e69822acc073c",
       "version_major": 2,
       "version_minor": 0
      },
      "text/plain": [
       "Evaluator:   0%|          | 0/6 [00:00<?, ?it/s]"
      ]
     },
     "metadata": {},
     "output_type": "display_data"
    },
    {
     "data": {
      "application/vnd.jupyter.widget-view+json": {
       "model_id": "3c48fea01b064bd085c90382f3bb71da",
       "version_major": 2,
       "version_minor": 0
      },
      "text/plain": [
       "Evaluator:   0%|          | 0/6 [00:00<?, ?it/s]"
      ]
     },
     "metadata": {},
     "output_type": "display_data"
    },
    {
     "data": {
      "application/vnd.jupyter.widget-view+json": {
       "model_id": "fe48baf6173d4786b41b3f329e0b2c2f",
       "version_major": 2,
       "version_minor": 0
      },
      "text/plain": [
       "Evaluator:   0%|          | 0/6 [00:00<?, ?it/s]"
      ]
     },
     "metadata": {},
     "output_type": "display_data"
    },
    {
     "data": {
      "application/vnd.jupyter.widget-view+json": {
       "model_id": "7a6882822d514fbe81aad6bf1a5409d0",
       "version_major": 2,
       "version_minor": 0
      },
      "text/plain": [
       "Evaluator:   0%|          | 0/6 [00:00<?, ?it/s]"
      ]
     },
     "metadata": {},
     "output_type": "display_data"
    },
    {
     "data": {
      "application/vnd.jupyter.widget-view+json": {
       "model_id": "3b63309d3aa047feacd35a63f7ff9173",
       "version_major": 2,
       "version_minor": 0
      },
      "text/plain": [
       "Evaluator:   0%|          | 0/6 [00:00<?, ?it/s]"
      ]
     },
     "metadata": {},
     "output_type": "display_data"
    },
    {
     "data": {
      "application/vnd.jupyter.widget-view+json": {
       "model_id": "6aab38958b114a9db6ef94d9be74e82c",
       "version_major": 2,
       "version_minor": 0
      },
      "text/plain": [
       "Evaluator:   0%|          | 0/6 [00:00<?, ?it/s]"
      ]
     },
     "metadata": {},
     "output_type": "display_data"
    },
    {
     "data": {
      "application/vnd.jupyter.widget-view+json": {
       "model_id": "da67fb0e05114953aef60c4081aee464",
       "version_major": 2,
       "version_minor": 0
      },
      "text/plain": [
       "Evaluator:   0%|          | 0/6 [00:00<?, ?it/s]"
      ]
     },
     "metadata": {},
     "output_type": "display_data"
    },
    {
     "data": {
      "application/vnd.jupyter.widget-view+json": {
       "model_id": "f8b0df6bcb694a33a5970d3c8e905252",
       "version_major": 2,
       "version_minor": 0
      },
      "text/plain": [
       "Evaluator:   0%|          | 0/6 [00:00<?, ?it/s]"
      ]
     },
     "metadata": {},
     "output_type": "display_data"
    },
    {
     "data": {
      "application/vnd.jupyter.widget-view+json": {
       "model_id": "2b905674b7944bcbac01e948cbd73094",
       "version_major": 2,
       "version_minor": 0
      },
      "text/plain": [
       "Evaluator:   0%|          | 0/6 [00:00<?, ?it/s]"
      ]
     },
     "metadata": {},
     "output_type": "display_data"
    },
    {
     "data": {
      "application/vnd.jupyter.widget-view+json": {
       "model_id": "d44a07ac38f643199c5dd98005e78e0f",
       "version_major": 2,
       "version_minor": 0
      },
      "text/plain": [
       "Evaluator:   0%|          | 0/6 [00:00<?, ?it/s]"
      ]
     },
     "metadata": {},
     "output_type": "display_data"
    },
    {
     "data": {
      "application/vnd.jupyter.widget-view+json": {
       "model_id": "0642aafd1bc44c6b8b7de23d59ec1c53",
       "version_major": 2,
       "version_minor": 0
      },
      "text/plain": [
       "Evaluator:   0%|          | 0/6 [00:00<?, ?it/s]"
      ]
     },
     "metadata": {},
     "output_type": "display_data"
    },
    {
     "data": {
      "application/vnd.jupyter.widget-view+json": {
       "model_id": "1a95237ce5094d0d8afa8e7788b1606f",
       "version_major": 2,
       "version_minor": 0
      },
      "text/plain": [
       "Evaluator:   0%|          | 0/6 [00:00<?, ?it/s]"
      ]
     },
     "metadata": {},
     "output_type": "display_data"
    },
    {
     "data": {
      "application/vnd.jupyter.widget-view+json": {
       "model_id": "774e4795051440dbab982c83508adf2c",
       "version_major": 2,
       "version_minor": 0
      },
      "text/plain": [
       "Evaluator:   0%|          | 0/6 [00:00<?, ?it/s]"
      ]
     },
     "metadata": {},
     "output_type": "display_data"
    },
    {
     "data": {
      "application/vnd.jupyter.widget-view+json": {
       "model_id": "d80c936a298a4dc2ba213fed680fdb2a",
       "version_major": 2,
       "version_minor": 0
      },
      "text/plain": [
       "Evaluator:   0%|          | 0/6 [00:00<?, ?it/s]"
      ]
     },
     "metadata": {},
     "output_type": "display_data"
    },
    {
     "data": {
      "application/vnd.jupyter.widget-view+json": {
       "model_id": "f237391a9e8f4e82857c6e3513bd7176",
       "version_major": 2,
       "version_minor": 0
      },
      "text/plain": [
       "Evaluator:   0%|          | 0/6 [00:00<?, ?it/s]"
      ]
     },
     "metadata": {},
     "output_type": "display_data"
    },
    {
     "data": {
      "application/vnd.jupyter.widget-view+json": {
       "model_id": "a731b162aa7b408fb2a92511195021a4",
       "version_major": 2,
       "version_minor": 0
      },
      "text/plain": [
       "Evaluator:   0%|          | 0/6 [00:00<?, ?it/s]"
      ]
     },
     "metadata": {},
     "output_type": "display_data"
    },
    {
     "data": {
      "application/vnd.jupyter.widget-view+json": {
       "model_id": "77947053736247429d3e49bdf911f3f0",
       "version_major": 2,
       "version_minor": 0
      },
      "text/plain": [
       "Evaluator:   0%|          | 0/6 [00:00<?, ?it/s]"
      ]
     },
     "metadata": {},
     "output_type": "display_data"
    },
    {
     "name": "stderr",
     "output_type": "stream",
     "text": [
      "100%|██████████| 11/11 [04:36<00:00, 25.09s/it]\n"
     ]
    }
   ],
   "source": [
    "for lab in tqdm(labels):\n",
    "    for exp1, exp2 in zip(ig[lab], shap[lab]):\n",
    "        eva_ig[lab].append(bench.evaluate_explanation(exp1, target = tag2id[lab]))\n",
    "        eva_shap[lab].append(bench.evaluate_explanation(exp2, target = tag2id[lab]))"
   ]
  },
  {
   "cell_type": "code",
   "execution_count": 61,
   "id": "b6cb8cfb-3e49-4d3f-9b52-e3215ceb86db",
   "metadata": {
    "scrolled": true,
    "tags": []
   },
   "outputs": [
    {
     "data": {
      "text/plain": [
       "[('Anrede', 20),\n",
       " ('Diagnosen', 10),\n",
       " ('AllergienUnverträglichkeitenRisiken', 10),\n",
       " ('Anamnese', 10),\n",
       " ('Medikation', 10),\n",
       " ('KUBefunde', 10),\n",
       " ('Befunde', 10),\n",
       " ('EchoBefunde', 10),\n",
       " ('Zusammenfassung', 10),\n",
       " ('Mix', 10),\n",
       " ('Abschluss', 10)]"
      ]
     },
     "execution_count": 61,
     "metadata": {},
     "output_type": "execute_result"
    }
   ],
   "source": [
    "[(k, len(v)) for k, v in eva_ig.items()]"
   ]
  },
  {
   "cell_type": "code",
   "execution_count": 9,
   "id": "f545d77a-c3b7-4329-a9e2-a4f0c209262c",
   "metadata": {},
   "outputs": [],
   "source": [
    "import pickle"
   ]
  },
  {
   "cell_type": "code",
   "execution_count": 62,
   "id": "98367ec1-3141-4f71-a414-cab86c157f3a",
   "metadata": {},
   "outputs": [],
   "source": [
    "pickle.dump(data, open(\"data.p\", \"wb\"))\n",
    "\n",
    "pickle.dump(ig, open(\"ig.p\", \"wb\"))\n",
    "pickle.dump(shap, open(\"shap.p\", \"wb\"))\n",
    "            \n",
    "pickle.dump(eva_ig, open(\"eva_ig.p\", \"wb\"))\n",
    "pickle.dump(eva_shap, open(\"eva_shap.p\", \"wb\"))"
   ]
  },
  {
   "cell_type": "code",
   "execution_count": 11,
   "id": "8e9bfdb5-62f3-496f-a926-af8c11a2da66",
   "metadata": {
    "tags": []
   },
   "outputs": [],
   "source": [
    "with open(\"data.p\", \"rb\") as f:\n",
    "    data = pickle.load(f)"
   ]
  },
  {
   "cell_type": "code",
   "execution_count": 12,
   "id": "37755405-81e9-4d17-aafc-6c53da19daa3",
   "metadata": {},
   "outputs": [],
   "source": [
    "with open(\"ig.p\", \"rb\") as f:\n",
    "    ig = pickle.load(f)\n",
    "    \n",
    "with open(\"shap.p\", \"rb\") as f:\n",
    "    shap = pickle.load(f)\n",
    "    \n",
    "with open(\"eva_ig.p\", \"rb\") as f:\n",
    "    eva_ig = pickle.load(f)\n",
    "    \n",
    "with open(\"eva_shap.p\", \"rb\") as f:\n",
    "    eva_shap = pickle.load(f)"
   ]
  },
  {
   "cell_type": "code",
   "execution_count": null,
   "id": "9d76893b-cd29-4866-a8d3-c38f0db69e4c",
   "metadata": {
    "tags": []
   },
   "outputs": [],
   "source": [
    "compr, suff = {l: None for l in [\"Anrede\"]}, {l: None for l in [\"Anrede\"]}\n",
    "\n",
    "for l in labels:\n",
    "    right = [data[l].index(d) for d in data[l] if d[0] == l]\n",
    "    wrong = [data[l].index(d) for d in data[l] if d[0] != l]\n",
    "    print(l, right, wrong)\n",
    "    compr_ig = [e.score for eva in eva_ig[l] for e in eva.evaluation_scores if e.name==\"aopc_compr\"]\n",
    "    compr_shap = [e.score for eva in eva_shap[l] for e in eva.evaluation_scores if e.name==\"aopc_compr\"]\n",
    "    \n",
    "    suff_ig = [e.score for eva in eva_ig[l] for e in eva.evaluation_scores if e.name==\"aopc_suff\"]\n",
    "    suff_shap = [e.score for eva in eva_shap[l] for e in eva.evaluation_scores if e.name==\"aopc_suff\"]\n",
    "    \n",
    "    compr[l] = {\"IG\": (np.nanmean([e for e in compr_ig if compr_ig.index(e) in right]), np.nanmean([e for e in compr_ig if compr_ig.index(e) in wrong])), \n",
    "                \"SHAP\":(np.nanmean([e for e in compr_shap if compr_shap.index(e) in right]), np.nanmean([e for e in compr_shap if compr_shap.index(e) in wrong]))}\n",
    "    suff[l] = {\"IG\": (np.nanmean([e for e in suff_ig if suff_ig.index(e) in right]), np.nanmean([e for e in suff_ig if suff_ig.index(e) in wrong])), \n",
    "                \"SHAP\":(np.nanmean([e for e in suff_shap if suff_shap.index(e) in right]), np.nanmean([e for e in suff_shap if suff_shap.index(e) in wrong]))}"
   ]
  },
  {
   "cell_type": "markdown",
   "id": "4bdc7105-3468-4a87-8f43-acf5dbad3259",
   "metadata": {
    "tags": []
   },
   "source": [
    "# Which of the interpretability methods is more faithful ?"
   ]
  },
  {
   "cell_type": "markdown",
   "id": "e80bb251-3cc7-4848-9204-79e690fa2fc7",
   "metadata": {},
   "source": [
    "**Approach:**\n",
    "Calculate for IG & SHAP each Comprehensiveness & Sufficiency\n",
    "* Which of them performs better in each ?\n",
    "    - Reasons?\n",
    "* Which labels are conspicious for scoring high/low or \n",
    "    - Metric specific tendencies ?\n",
    "    - Data Bias ?\n",
    "* Finally IG or SHAP \"better\" overall ?\n",
    "    - Pros/Cons of approach with Faithfulness metric"
   ]
  },
  {
   "cell_type": "markdown",
   "id": "d3b251bf-3e57-4bd1-8142-03ad059f6f5c",
   "metadata": {},
   "source": [
    "## **1. Comprehensiveness**\n",
    "$f(x)_j-f(x\\text\\r_j)_j$ → Score difference once most important tokens are removed.   \n",
    "**Higher scores better: Exclusion of top 10-100% most important tokens should harm prediction.**  \n",
    "We expect performance on sentence to suddenly drop once 10% significant tokens removed."
   ]
  },
  {
   "cell_type": "markdown",
   "id": "3d3bc2c0-07fb-4512-a63c-b051c42483dd",
   "metadata": {},
   "source": [
    "### **1.1. SHAP**"
   ]
  },
  {
   "cell_type": "code",
   "execution_count": 22,
   "id": "3c10f582-b5a2-4431-9f2f-450f16cefb86",
   "metadata": {},
   "outputs": [
    {
     "name": "stdout",
     "output_type": "stream",
     "text": [
      "Label                                Comprehensiveness mean scores\n",
      "-----------------------------------  -------------------------------\n",
      "Anrede                               [[1.0, nan]]\n",
      "AllergienUnverträglichkeitenRisiken  [[0.85, nan]]\n",
      "Mix                                  [[0.85, 0.99]]\n",
      "Zusammenfassung                      [[0.82, 0.12]]\n",
      "KUBefunde                            [[0.76, 0.93]]\n",
      "Diagnosen                            [[0.75, nan]]\n",
      "EchoBefunde                          [[0.66, nan]]\n",
      "Anamnese                             [[0.65, 0.62]]\n",
      "Befunde                              [[0.65, 0.79]]\n",
      "Medikation                           [[0.64, nan]]\n",
      "Abschluss                            [[0.58, 0.86]]\n"
     ]
    }
   ],
   "source": [
    "table = [(l, [[round(s, 2) for s in v] for k, v in compr[l].items() if k == \"SHAP\"]) for l in labels]\n",
    "table = sorted(table, key = lambda x: x[1][0][0], reverse = True)\n",
    "table.insert(0, [\"Label\", \"Comprehensiveness mean scores\"])\n",
    "\n",
    "print(tabulate(table, headers=\"firstrow\"))"
   ]
  },
  {
   "cell_type": "markdown",
   "id": "1e828783-a7b6-475e-aef2-bfedda3b9faa",
   "metadata": {},
   "source": [
    "#### SHAP - Best Label: Anrede"
   ]
  },
  {
   "cell_type": "code",
   "execution_count": null,
   "id": "600ebe36-7324-4a3e-a4c2-1b351f696130",
   "metadata": {
    "scrolled": true,
    "tags": []
   },
   "outputs": [],
   "source": [
    "len(eva_shap[\"Anrede\"]), [(eva.explanation.text, eva.evaluation_scores[0]) for eva in eva_shap[\"Anrede\"]]"
   ]
  },
  {
   "cell_type": "markdown",
   "id": "6d4e5b26-45af-4db2-904c-d966dcbf6794",
   "metadata": {},
   "source": [
    "### 1.1.1. Manual Comprehensiveness Scores"
   ]
  },
  {
   "cell_type": "markdown",
   "id": "2930c4fb-7122-483a-94b6-f22dbf07a4ec",
   "metadata": {},
   "source": [
    "**1. MASK TOKENS**"
   ]
  },
  {
   "cell_type": "code",
   "execution_count": null,
   "id": "cc0a7816-c5e3-4438-9839-a753cf947c7e",
   "metadata": {
    "scrolled": true,
    "tags": []
   },
   "outputs": [],
   "source": [
    "sent = data[\"Anrede\"][9][1]\n",
    "score = bench.score(sent)\n",
    "target = tag2id[\"Anrede\"]\n",
    "metr = bench.explain(sent, target=target)[0] ### SHAP ###\n",
    "scores = list(metr.scores[1:-1])\n",
    "tokens = [t if scores[i]>=0 else \"[MASK]\" for i, t in enumerate(metr.tokens[1:-1])] \n",
    "try:\n",
    "    assert score[f\"LABEL_{target}\"] <= bench.score(tokenizer.convert_tokens_to_string(list(filter(lambda x:x!=\"[MASK]\", tokens))))[f\"LABEL_{target}\"]\n",
    "except:\n",
    "    #print(\"! Prediction swayed by removal of negative contributing tokens to label: \", \n",
    "          id2tag[np.argmax(list(bench.score(tokenizer.convert_tokens_to_string(list(filter(lambda x:x!=\"[MASK]\", tokens)))).values()))]\n",
    "aggr = []\n",
    "\n",
    "#print(f\"Original sentence: {sent} \\tScore: {round(score[f'LABEL_{target}'],2)}\\nFiltered: {tokens}\\n\")\n",
    "\n",
    "for i in np.arange(.1, 1.1, .1):\n",
    "    sect = round(len([s for s in scores if i>=0])*i)\n",
    "    sor_scores = np.sort(scores)[::-1][:sect]\n",
    "    sentence = metr.tokens[1:-1]\n",
    "    real_i = [scores.index(s) for s in sor_scores if s>=0]\n",
    "    for x in real_i:\n",
    "        sentence[x] = \"[PAD]\"\n",
    "    sentence = tokenizer.convert_tokens_to_string(sentence)\n",
    "    new = score[f\"LABEL_{target}\"] - bench.score(sentence)[f\"LABEL_{target}\"]\n",
    "    #print(f\"{sect} important token(s) removed: {sentence} \\t affects original sentence score: {round(new, 2)} | Labeled: {id2tag[np.argmax(list(bench.score(sentence).values()))]}: {np.argmax(list(bench.score(sentence).values()))}\")\n",
    "    aggr.append(new)\n",
    "\n",
    "print(f\"\\nMean of all scores: {round(mean(set(aggr)),2)}\")"
   ]
  },
  {
   "cell_type": "markdown",
   "id": "9d4ba3a7-73a2-422f-b72f-130d411dcabd",
   "metadata": {},
   "source": [
    "**2. DELETE TOKENS**"
   ]
  },
  {
   "cell_type": "code",
   "execution_count": 25,
   "id": "fe06e21a-181f-414a-a590-94280805a77a",
   "metadata": {
    "tags": []
   },
   "outputs": [
    {
     "data": {
      "application/vnd.jupyter.widget-view+json": {
       "model_id": "",
       "version_major": 2,
       "version_minor": 0
      },
      "text/plain": [
       "Explainer:   0%|          | 0/6 [00:00<?, ?it/s]"
      ]
     },
     "metadata": {},
     "output_type": "display_data"
    },
    {
     "name": "stdout",
     "output_type": "stream",
     "text": [
      "\n",
      "Mean of all scores: 1.0\n"
     ]
    }
   ],
   "source": [
    "sent = data[\"Anrede\"][9][1]\n",
    "score = bench.score(sent)\n",
    "target = tag2id[\"Anrede\"]\n",
    "metr = bench.explain(sent, target=target)[0] ### SHAP ###\n",
    "scores = list(metr.scores[1:-1])\n",
    "tokens = [t if scores[i]>=0 else \"[MASK]\" for i, t in enumerate(metr.tokens[1:-1])] \n",
    "try:\n",
    "    assert score[f\"LABEL_{target}\"] <= bench.score(tokenizer.convert_tokens_to_string(list(filter(lambda x:x!=\"[MASK]\", tokens))))[f\"LABEL_{target}\"]\n",
    "except:\n",
    "    #print(\"! Prediction swayed by removal of negative contributing tokens to label: \", \n",
    "          id2tag[np.argmax(list(bench.score(tokenizer.convert_tokens_to_string(list(filter(lambda x:x!=\"[MASK]\", tokens)))).values()))]\n",
    "aggr = []\n",
    "sor_scores = np.sort(scores)[::-1]\n",
    "\n",
    "#print(f\"Original sentence: {sent} \\tScore: {round(score[f'LABEL_{target}'],2)}\\nFiltered: {[(t, s) for t, s in zip(tokens, scores)]}\\n\")\n",
    "\n",
    "for i in np.arange(.1, 1.1, .1):\n",
    "    sect = round(len([s for s in scores if s>=0])*i)\n",
    "    sentence = metr.tokens[1:-1]\n",
    "    real_i = [scores.index(s) for s in sor_scores if s>=0][:sect]\n",
    "    for x in real_i:\n",
    "        sentence[x] = \"[MASK]\"\n",
    "    sentence = list(filter(lambda x: x!= \"[MASK]\", sentence))\n",
    "    sentence = tokenizer.convert_tokens_to_string(sentence)\n",
    "    new = score[f\"LABEL_{target}\"] - bench.score(sentence)[f\"LABEL_{target}\"]\n",
    "    #print(f\"{sect} important token(s) removed: {sentence} \\t affects original sentence score: {round(new, 2)} | Labeled: {id2tag[np.argmax(list(bench.score(sentence).values()))]}: {np.max(list(bench.score(sentence).values()))}\")\n",
    "    aggr.append(new)\n",
    "\n",
    "print(f\"\\nMean of all scores: {round(mean(set(aggr)),2)}\")"
   ]
  },
  {
   "cell_type": "code",
   "execution_count": 28,
   "id": "ce78e1cc-58d9-4a32-8458-a4fd97ec45c3",
   "metadata": {},
   "outputs": [
    {
     "data": {
      "application/vnd.jupyter.widget-view+json": {
       "model_id": "",
       "version_major": 2,
       "version_minor": 0
      },
      "text/plain": [
       "Explainer:   0%|          | 0/6 [00:00<?, ?it/s]"
      ]
     },
     "metadata": {},
     "output_type": "display_data"
    },
    {
     "name": "stdout",
     "output_type": "stream",
     "text": [
      "\n",
      "Mean of all scores: 0.51\n"
     ]
    }
   ],
   "source": [
    "sent = data[\"Anrede\"][9][1]\n",
    "score = bench.score(sent)\n",
    "target = tag2id[\"Anrede\"]\n",
    "metr = bench.explain(sent, target=target)[4] ### IG ###\n",
    "scores = list(metr.scores[1:-1])\n",
    "tokens = [t if scores[i]>=0 else \"[MASK]\" for i, t in enumerate(metr.tokens[1:-1])] \n",
    "try:\n",
    "    assert score[f\"LABEL_{target}\"] <= bench.score(tokenizer.convert_tokens_to_string(list(filter(lambda x:x!=\"[MASK]\", tokens))))[f\"LABEL_{target}\"]\n",
    "except:\n",
    "    #print(\"! Prediction swayed by removal of negative contributing tokens to label: \", \n",
    "          id2tag[np.argmax(list(bench.score(tokenizer.convert_tokens_to_string(list(filter(lambda x:x!=\"[MASK]\", tokens)))).values()))]\n",
    "aggr = []\n",
    "\n",
    "#print(f\"Original sentence: {sent} \\tScore: {round(score[f'LABEL_{target}'],2)}\\nFiltered: {[(t, s) for t, s in zip(tokens, scores)]}\\n\")\n",
    "\n",
    "for i in np.arange(.1, 1.1, .1):\n",
    "    sect = round(len([s for s in scores if s>=0])*i)\n",
    "    sor_scores = np.sort(scores)[::-1]\n",
    "    sentence = metr.tokens[1:-1]\n",
    "    real_i = [scores.index(s) for s in sor_scores if s>=0][:sect]\n",
    "    for x in real_i:\n",
    "        sentence[x] = \"[MASK]\"\n",
    "    sentence = list(filter(lambda x: x!= \"[MASK]\", sentence))\n",
    "    sentence = tokenizer.convert_tokens_to_string(sentence)\n",
    "    new = score[f\"LABEL_{target}\"] - bench.score(sentence)[f\"LABEL_{target}\"]\n",
    "    #print(f\"{sect} important token(s) removed: {sentence} \\t affects original sentence score: {round(new, 2)} | Labeled: {id2tag[np.argmax(list(bench.score(sentence).values()))]}: {np.max(list(bench.score(sentence).values()))}\")\n",
    "    aggr.append(new)\n",
    "\n",
    "print(f\"\\nMean of all scores: {round(mean(set(aggr)),2)}\")"
   ]
  },
  {
   "cell_type": "markdown",
   "id": "cc501ff9-a1ec-4fca-98a3-dc56695cd96c",
   "metadata": {},
   "source": [
    "#### SHAP - Worst Label: Abschluss"
   ]
  },
  {
   "cell_type": "code",
   "execution_count": null,
   "id": "4350cd2c-ca1d-4c17-a589-6a3c549a6d64",
   "metadata": {
    "scrolled": true,
    "tags": []
   },
   "outputs": [],
   "source": [
    "len(eva_shap[\"Abschluss\"]), [(eva.explanation.text, eva.evaluation_scores[0]) for eva in eva_shap[\"Abschluss\"]]"
   ]
  },
  {
   "cell_type": "code",
   "execution_count": 29,
   "id": "1fe21ae8-d49e-418c-b065-2a20cc8d6eda",
   "metadata": {},
   "outputs": [
    {
     "data": {
      "application/vnd.jupyter.widget-view+json": {
       "model_id": "",
       "version_major": 2,
       "version_minor": 0
      },
      "text/plain": [
       "Explainer:   0%|          | 0/6 [00:00<?, ?it/s]"
      ]
     },
     "metadata": {},
     "output_type": "display_data"
    },
    {
     "name": "stdout",
     "output_type": "stream",
     "text": [
      "\n",
      "Mean of all scores: 0.86\n"
     ]
    }
   ],
   "source": [
    "sent = data[\"Abschluss\"][2][1]\n",
    "target = tag2id[\"Abschluss\"]\n",
    "score = bench.score(sent)\n",
    "metr = bench.explain(sent, target=target)[0] ### SHAP ###\n",
    "scores = list(metr.scores[1:-1])\n",
    "tokens = [t if scores[i]>=0 else \"[MASK]\" for i, t in enumerate(metr.tokens[1:-1])] \n",
    "try:\n",
    "    assert score[f\"LABEL_{target}\"] <= bench.score(tokenizer.convert_tokens_to_string(list(filter(lambda x:x!=\"[MASK]\", tokens))))[f\"LABEL_{target}\"]\n",
    "except:\n",
    "    #print(\"! Prediction swayed by removal of negative contributing tokens to label: \", \n",
    "          id2tag[np.argmax(list(bench.score(tokenizer.convert_tokens_to_string(list(filter(lambda x:x!=\"[MASK]\", tokens)))).values()))]\n",
    "aggr = []\n",
    "\n",
    "#print(f\"Original sentence: {sent} \\tScore: {round(score[f'LABEL_{target}'],2)}\\nFiltered: {[(t, s) for t, s in zip(tokens, scores)]}\\n\")\n",
    "\n",
    "for i in np.arange(.1, 1.1, .1):\n",
    "    sect = round(len([s for s in scores if s>=0])*i)\n",
    "    sor_scores = np.sort(scores)[::-1][:sect]\n",
    "    sentence = metr.tokens[1:-1]\n",
    "    real_i = [scores.index(s) for s in sor_scores if s>=0]\n",
    "    for x in real_i:\n",
    "        sentence[x] = \"[MASK]\"\n",
    "    sentence = list(filter(lambda x: x!= \"[MASK]\", sentence))\n",
    "    sentence = tokenizer.convert_tokens_to_string(sentence)\n",
    "    new = score[f\"LABEL_{target}\"] - bench.score(sentence)[f\"LABEL_{target}\"]\n",
    "    #print(f\"{sect} important token(s) removed: {sentence} \\t affects original sentence score: {round(new, 2)} | Labeled: {id2tag[np.max(list(bench.score(sentence).values()))]}: {np.argmax(list(bench.score(sentence).values()))}\")\n",
    "    if sect >= 1:\n",
    "        aggr.append(new)\n",
    "\n",
    "print(f\"\\nMean of all scores: {round(mean(set(aggr)),2)}\")"
   ]
  },
  {
   "cell_type": "code",
   "execution_count": 30,
   "id": "1034f3eb-e58e-480f-8b1a-f90c9f9a5a4d",
   "metadata": {},
   "outputs": [
    {
     "data": {
      "application/vnd.jupyter.widget-view+json": {
       "model_id": "",
       "version_major": 2,
       "version_minor": 0
      },
      "text/plain": [
       "Explainer:   0%|          | 0/6 [00:00<?, ?it/s]"
      ]
     },
     "metadata": {},
     "output_type": "display_data"
    },
    {
     "name": "stdout",
     "output_type": "stream",
     "text": [
      "\n",
      "Mean of all scores: 0.06\n"
     ]
    }
   ],
   "source": [
    "sent = data[\"Abschluss\"][2][1]\n",
    "target = tag2id[\"Abschluss\"]\n",
    "score = bench.score(sent)\n",
    "metr = bench.explain(sent, target=target)[4] ### IG ###\n",
    "scores = list(metr.scores[1:-1])\n",
    "tokens = [t if scores[i]>=0 else \"[MASK]\" for i, t in enumerate(metr.tokens[1:-1])] \n",
    "try:\n",
    "    assert score[f\"LABEL_{target}\"] <= bench.score(tokenizer.convert_tokens_to_string(list(filter(lambda x:x!=\"[MASK]\", tokens))))[f\"LABEL_{target}\"]\n",
    "except:\n",
    "    #print(\"! Prediction swayed by removal of negative contributing tokens to label: \", \n",
    "          id2tag[np.argmax(list(bench.score(tokenizer.convert_tokens_to_string(list(filter(lambda x:x!=\"[MASK]\", tokens)))).values()))]\n",
    "aggr = []\n",
    "\n",
    "#print(f\"Original sentence: {sent} \\tScore: {round(score[f'LABEL_{target}'],2)}\\nFiltered: {[(t, s) for t, s in zip(tokens, scores)]}\\n\")\n",
    "\n",
    "for i in np.arange(.1, 1.1, .1):\n",
    "    sect = round(len([s for s in scores if s>=0])*i)\n",
    "    sor_scores = np.sort(scores)[::-1][:sect]\n",
    "    sentence = metr.tokens[1:-1]\n",
    "    real_i = [scores.index(s) for s in sor_scores if s>=0]\n",
    "    for x in real_i:\n",
    "        sentence[x] = \"[MASK]\"\n",
    "    sentence = list(filter(lambda x: x!= \"[MASK]\", sentence))\n",
    "    sentence = tokenizer.convert_tokens_to_string(sentence)\n",
    "    new = score[f\"LABEL_{target}\"] - bench.score(sentence)[f\"LABEL_{target}\"]\n",
    "    #print(f\"{sect} important token(s) removed: {sentence} \\t affects original sentence score: {round(new, 2)} | Labeled: {id2tag[np.max(list(bench.score(sentence).values()))]}\")\n",
    "    if sect >= 1:\n",
    "        aggr.append(new)\n",
    "\n",
    "print(f\"\\nMean of all scores: {round(mean(set(aggr)),2)}\")"
   ]
  },
  {
   "cell_type": "markdown",
   "id": "db416662-d948-4678-8c9b-07df342f37aa",
   "metadata": {},
   "source": [
    "### **1.2. Integrated Gradients**"
   ]
  },
  {
   "cell_type": "code",
   "execution_count": 322,
   "id": "1f69b242-a764-4871-adf7-9bbb9e0a1da5",
   "metadata": {},
   "outputs": [
    {
     "name": "stdout",
     "output_type": "stream",
     "text": [
      "Label                                Comprehensiveness mean scores\n",
      "-----------------------------------  -------------------------------\n",
      "Mix                                  [[0.64, -0.06]]\n",
      "Anrede                               [[0.4, 0.01]]\n",
      "Diagnosen                            [[0.31, nan]]\n",
      "AllergienUnverträglichkeitenRisiken  [[0.31, 0.0]]\n",
      "KUBefunde                            [[0.3, -0.0]]\n",
      "Abschluss                            [[0.3, -0.06]]\n",
      "EchoBefunde                          [[0.25, -0.02]]\n",
      "Befunde                              [[0.2, -0.3]]\n",
      "Zusammenfassung                      [[0.14, -0.09]]\n",
      "Medikation                           [[0.13, nan]]\n",
      "Anamnese                             [[0.02, -0.23]]\n"
     ]
    }
   ],
   "source": [
    "table = [(l, [[round(s, 2) for s in v] for k, v in compr[l].items() if k == \"IG\"]) for l in labels]\n",
    "table = sorted(table, key = lambda x: x[1][0][0], reverse = True)\n",
    "table.insert(0, [\"Label\", \"Comprehensiveness mean scores\"])\n",
    "\n",
    "print(tabulate(table, headers=\"firstrow\"))"
   ]
  },
  {
   "cell_type": "code",
   "execution_count": null,
   "id": "b722a4c6-24f7-47cf-b70c-ee3a756261d3",
   "metadata": {
    "scrolled": true,
    "tags": []
   },
   "outputs": [],
   "source": [
    "len(eva_ig[\"Mix\"]), [(len(eva.explanation.tokens[1:-1]), eva.explanation.text, eva.evaluation_scores[0]) for eva in eva_ig[\"Mix\"]]"
   ]
  },
  {
   "cell_type": "markdown",
   "id": "e5599a34-f7bc-4d67-86a1-3fa809f459f1",
   "metadata": {},
   "source": [
    "#### IG - Best Label: Mix"
   ]
  },
  {
   "cell_type": "code",
   "execution_count": 31,
   "id": "cf3f00a6-76ee-4049-8423-d07a23a44a2d",
   "metadata": {},
   "outputs": [
    {
     "data": {
      "application/vnd.jupyter.widget-view+json": {
       "model_id": "",
       "version_major": 2,
       "version_minor": 0
      },
      "text/plain": [
       "Explainer:   0%|          | 0/6 [00:00<?, ?it/s]"
      ]
     },
     "metadata": {},
     "output_type": "display_data"
    },
    {
     "name": "stdout",
     "output_type": "stream",
     "text": [
      "\n",
      "Mean of all scores: 0.91\n"
     ]
    }
   ],
   "source": [
    "sent = data[\"Mix\"][4][1]\n",
    "score = bench.score(sent)\n",
    "target = tag2id[\"Mix\"]\n",
    "metr = bench.explain(sent, target=target)[4] ### IG ###\n",
    "scores = list(metr.scores[1:-1])\n",
    "tokens = [t if scores[i]>=0 else \"[MASK]\" for i, t in enumerate(metr.tokens[1:-1])] \n",
    "try:\n",
    "    assert score[f\"LABEL_{target}\"] <= bench.score(tokenizer.convert_tokens_to_string(list(filter(lambda x:x!=\"[MASK]\", tokens))))[f\"LABEL_{target}\"]\n",
    "except:\n",
    "    #print(\"! Prediction swayed by removal of negative contributing tokens to label: \", \n",
    "          id2tag[np.argmax(list(bench.score(tokenizer.convert_tokens_to_string(list(filter(lambda x:x!=\"[MASK]\", tokens)))).values()))]\n",
    "aggr = []\n",
    "\n",
    "#print(f\"Original sentence: {sent} \\tScore: {round(score[f'LABEL_{target}'],2)}\\nFiltered: {tokens}\\n\")\n",
    "\n",
    "for i in np.arange(.1, 1.1, .1):\n",
    "    sect = round(len([s for s in scores if s>=0])*i)\n",
    "    sor_scores = np.sort(scores)[::-1][:sect]\n",
    "    sentence = metr.tokens[1:-1]\n",
    "    real_i = [scores.index(s) for s in sor_scores if s>=0]\n",
    "    for x in real_i:\n",
    "        sentence[x] = \"[MASK]\"\n",
    "    sentence = list(filter(lambda x: x!= \"[MASK]\", sentence))\n",
    "    sentence = tokenizer.convert_tokens_to_string(sentence)\n",
    "    new = score[f\"LABEL_{target}\"] - bench.score(sentence)[f\"LABEL_{target}\"]\n",
    "    #print(f\"{sect} important token(s) removed: {sentence} \\t affects original sentence score: {round(new, 2)} | Labeled: {id2tag[np.argmax(list(bench.score(sentence).values()))]}: {np.max(list(bench.score(sentence).values()))}\")\n",
    "    if sect >= 1:\n",
    "        aggr.append(new)\n",
    "\n",
    "print(f\"\\nMean of all scores: {round(mean(set(aggr)),2)}\")"
   ]
  },
  {
   "cell_type": "markdown",
   "id": "fe59f128-550d-4c05-8c31-bf77e280f9d2",
   "metadata": {},
   "source": [
    "#### IG - Worst Label: Anamnese"
   ]
  },
  {
   "cell_type": "code",
   "execution_count": null,
   "id": "07ed6a00-62cb-40e1-a3f5-a43f29cf3a67",
   "metadata": {
    "scrolled": true,
    "tags": []
   },
   "outputs": [],
   "source": [
    "len(eva_ig[\"Anamnese\"]), [(len(eva.explanation.tokens[1:-1]), eva.explanation.text, eva.evaluation_scores[0]) for eva in eva_ig[\"Anamnese\"]]"
   ]
  },
  {
   "cell_type": "code",
   "execution_count": 32,
   "id": "03fccbf2-bc08-4fe9-9608-da1ef1d797b1",
   "metadata": {},
   "outputs": [
    {
     "data": {
      "application/vnd.jupyter.widget-view+json": {
       "model_id": "",
       "version_major": 2,
       "version_minor": 0
      },
      "text/plain": [
       "Explainer:   0%|          | 0/6 [00:00<?, ?it/s]"
      ]
     },
     "metadata": {},
     "output_type": "display_data"
    },
    {
     "name": "stdout",
     "output_type": "stream",
     "text": [
      "\n",
      "Mean of all scores: 0.0\n"
     ]
    }
   ],
   "source": [
    "sent = data[\"Anamnese\"][1][1]\n",
    "score = bench.score(sent)\n",
    "target = tag2id[f\"{data['Anamnese'][1][0]}\"]\n",
    "metr = bench.explain(sent, target=target)[4] ### IG ###\n",
    "scores = list(metr.scores[1:-1])\n",
    "tokens = [t if scores[i]>=0 else \"[MASK]\" for i, t in enumerate(metr.tokens[1:-1])] \n",
    "try:\n",
    "    assert score[f\"LABEL_{target}\"] <= bench.score(tokenizer.convert_tokens_to_string(list(filter(lambda x:x!=\"[MASK]\", tokens))))[f\"LABEL_{target}\"]\n",
    "except:\n",
    "    #print(\"! Prediction swayed by removal of negative contributing tokens to label: \", \n",
    "          id2tag[np.argmax(list(bench.score(tokenizer.convert_tokens_to_string(list(filter(lambda x:x!=\"[MASK]\", tokens)))).values()))]\n",
    "aggr = []\n",
    "\n",
    "#print(f\"Original sentence: {sent} \\tScore: {round(score[f'LABEL_{target}'],2)}\\nFiltered: {[(t, s) for t, s in zip(tokens, scores)]}\\n\")\n",
    "\n",
    "for i in np.arange(.1, 1.1, .1):\n",
    "    sect = round(len([s for s in scores if s>=0])*i)\n",
    "    sor_scores = np.sort(scores)[::-1][:sect]\n",
    "    sentence = metr.tokens[1:-1]\n",
    "    real_i = [scores.index(s) for s in sor_scores if s>=0]\n",
    "    for x in real_i:\n",
    "        sentence[x] = \"[MASK]\"\n",
    "    sentence = list(filter(lambda x: x!= \"[MASK]\", sentence))\n",
    "    sentence = tokenizer.convert_tokens_to_string(sentence)\n",
    "    new = score[f\"LABEL_{target}\"] - bench.score(sentence)[f\"LABEL_{target}\"]\n",
    "    #print(f\"{sect} important token(s) removed: {sentence} \\t affects original sentence score: {round(new, 2)} | Labeled: {id2tag[np.argmax(list(bench.score(sentence).values()))]}: {np.max(list(bench.score(sentence).values()))}\")\n",
    "    if sect >= 1:\n",
    "        aggr.append(new)\n",
    "\n",
    "print(f\"\\nMean of all scores: {round(mean(aggr),2)}\")"
   ]
  },
  {
   "cell_type": "markdown",
   "id": "3c0ffaae-9a23-4a5f-91f8-1eb33ebcc9a9",
   "metadata": {},
   "source": [
    "---"
   ]
  },
  {
   "cell_type": "markdown",
   "id": "ce201a45-d644-4643-b572-0c16f55b9d98",
   "metadata": {},
   "source": [
    "## 2.1 Additional Study: Include negative contributing tokens"
   ]
  },
  {
   "cell_type": "markdown",
   "id": "f568f525-7904-43f8-9ecb-c922797b10aa",
   "metadata": {},
   "source": [
    "### Anrede"
   ]
  },
  {
   "cell_type": "code",
   "execution_count": 33,
   "id": "774ec089-46d2-4b0d-959f-89336489bff1",
   "metadata": {
    "tags": []
   },
   "outputs": [
    {
     "data": {
      "application/vnd.jupyter.widget-view+json": {
       "model_id": "",
       "version_major": 2,
       "version_minor": 0
      },
      "text/plain": [
       "Explainer:   0%|          | 0/6 [00:00<?, ?it/s]"
      ]
     },
     "metadata": {},
     "output_type": "display_data"
    },
    {
     "name": "stdout",
     "output_type": "stream",
     "text": [
      "\n",
      "Mean of all scores: 1.0\n"
     ]
    }
   ],
   "source": [
    "sent = data[\"Anrede\"][9][1]\n",
    "score = bench.score(sent)\n",
    "target = tag2id[\"Anrede\"]\n",
    "metr = bench.explain(sent, target=target)[0] ### SHAP ###\n",
    "scores = [abs(i) for i in metr.scores[1:-1]]\n",
    "tokens = [t if scores[i]>=0 else \"[MASK]\" for i, t in enumerate(metr.tokens[1:-1])] \n",
    "try:\n",
    "    assert score[f\"LABEL_{target}\"] <= bench.score(tokenizer.convert_tokens_to_string(list(filter(lambda x:x!=\"[MASK]\", tokens))))[f\"LABEL_{target}\"]\n",
    "except:\n",
    "    #print(\"! Prediction swayed by removal of negative contributing tokens to label: \", \n",
    "          id2tag[np.argmax(list(bench.score(tokenizer.convert_tokens_to_string(list(filter(lambda x:x!=\"[MASK]\", tokens)))).values()))]\n",
    "aggr = []\n",
    "sor_scores = np.sort(scores)[::-1]\n",
    "\n",
    "#print(f\"Original sentence: {sent} \\tScore: {round(score[f'LABEL_{target}'],2)}\\nFiltered: {[(t, s) for t, s in zip(tokens, scores)]}\\n\")\n",
    "\n",
    "for i in np.arange(.1, 1.1, .1):\n",
    "    sect = round(len([s for s in scores if s>=0])*i)\n",
    "    sentence = metr.tokens[1:-1]\n",
    "    real_i = [scores.index(s) for s in sor_scores if s>=0][:sect]\n",
    "    for x in real_i:\n",
    "        sentence[x] = \"[MASK]\"\n",
    "    sentence = list(filter(lambda x: x!= \"[MASK]\", sentence))\n",
    "    sentence = tokenizer.convert_tokens_to_string(sentence)\n",
    "    new = score[f\"LABEL_{target}\"] - bench.score(sentence)[f\"LABEL_{target}\"]\n",
    "    #print(f\"{sect} important token(s) removed: {sentence} \\t affects original sentence score: {round(new, 2)} | Labeled: {id2tag[np.argmax(list(bench.score(sentence).values()))]}: {np.max(list(bench.score(sentence).values()))}\")\n",
    "    aggr.append(new)\n",
    "\n",
    "print(f\"\\nMean of all scores: {round(mean(set(aggr)),2)}\")"
   ]
  },
  {
   "cell_type": "markdown",
   "id": "d35d89d9-4eff-41e2-a48d-06a7f16a17e5",
   "metadata": {},
   "source": [
    "<span style=\"color:purple\">**! Inclusion of negative tokens doesn't improve score** </span>"
   ]
  },
  {
   "cell_type": "markdown",
   "id": "91c9cf2a-9c5b-4b17-9572-9935de57b0b0",
   "metadata": {},
   "source": [
    "### Abschluss"
   ]
  },
  {
   "cell_type": "code",
   "execution_count": 34,
   "id": "f9d9a452-1bb0-4914-bf32-ce9fdf0f07f4",
   "metadata": {},
   "outputs": [
    {
     "data": {
      "application/vnd.jupyter.widget-view+json": {
       "model_id": "",
       "version_major": 2,
       "version_minor": 0
      },
      "text/plain": [
       "Explainer:   0%|          | 0/6 [00:00<?, ?it/s]"
      ]
     },
     "metadata": {},
     "output_type": "display_data"
    },
    {
     "name": "stdout",
     "output_type": "stream",
     "text": [
      "\n",
      "Mean of all scores: 0.59\n"
     ]
    }
   ],
   "source": [
    "sent = data[\"Abschluss\"][2][1]\n",
    "target = tag2id[\"Abschluss\"]\n",
    "score = bench.score(sent)\n",
    "metr = bench.explain(sent, target=target)[0] ### SHAP ###\n",
    "scores = [abs(i) for i in metr.scores[1:-1]]\n",
    "tokens = [t if scores[i]>=0 else \"[MASK]\" for i, t in enumerate(metr.tokens[1:-1])] \n",
    "try:\n",
    "    assert score[f\"LABEL_{target}\"] <= bench.score(tokenizer.convert_tokens_to_string(list(filter(lambda x:x!=\"[MASK]\", tokens))))[f\"LABEL_{target}\"]\n",
    "except:\n",
    "    #print(\"! Prediction swayed by removal of negative contributing tokens to label: \", \n",
    "          id2tag[np.argmax(list(bench.score(tokenizer.convert_tokens_to_string(list(filter(lambda x:x!=\"[MASK]\", tokens)))).values()))]\n",
    "aggr = []\n",
    "\n",
    "#print(f\"Original sentence: {sent} \\tScore: {round(score[f'LABEL_{target}'],2)}\\nFiltered: {[(t, s) for t, s in zip(tokens, scores)]}\\n\")\n",
    "\n",
    "for i in np.arange(.1, 1.1, .1):\n",
    "    sect = round(len([s for s in scores if s>=0])*i)\n",
    "    sor_scores = np.sort(scores)[::-1][:sect]\n",
    "    sentence = metr.tokens[1:-1]\n",
    "    real_i = [scores.index(s) for s in sor_scores if s>=0]\n",
    "    for x in real_i:\n",
    "        sentence[x] = \"[MASK]\"\n",
    "    sentence = list(filter(lambda x: x!= \"[MASK]\", sentence))\n",
    "    sentence = tokenizer.convert_tokens_to_string(sentence)\n",
    "    new = score[f\"LABEL_{target}\"] - bench.score(sentence)[f\"LABEL_{target}\"]\n",
    "    #print(f\"{sect} important token(s) removed: {sentence} \\t affects original sentence score: {round(new, 2)} | Labeled: {id2tag[np.argmax(list(bench.score(sentence).values()))]}: {np.max(list(bench.score(sentence).values()))}\")\n",
    "    if sect >= 1:\n",
    "        aggr.append(new)\n",
    "\n",
    "print(f\"\\nMean of all scores: {round(mean(set(aggr)),2)}\")"
   ]
  },
  {
   "cell_type": "markdown",
   "id": "88891a2b-2474-49a5-9c1b-013f1375a6ea",
   "metadata": {},
   "source": [
    "<span style=\"color:purple\">**! Inclusion of negative tokens has disadvantage: Doesn't stray model that much away from right prediction, such that correct label in upper half is sometimes predicted** </span>"
   ]
  },
  {
   "cell_type": "markdown",
   "id": "c41dea85-fc7e-49f5-a949-238a4526876d",
   "metadata": {},
   "source": [
    "### Mix"
   ]
  },
  {
   "cell_type": "code",
   "execution_count": 35,
   "id": "0d3c715d-6361-4a20-88cf-ca6886e61f22",
   "metadata": {},
   "outputs": [
    {
     "data": {
      "application/vnd.jupyter.widget-view+json": {
       "model_id": "",
       "version_major": 2,
       "version_minor": 0
      },
      "text/plain": [
       "Explainer:   0%|          | 0/6 [00:00<?, ?it/s]"
      ]
     },
     "metadata": {},
     "output_type": "display_data"
    },
    {
     "name": "stdout",
     "output_type": "stream",
     "text": [
      "\n",
      "Mean of all scores: 0.93\n"
     ]
    }
   ],
   "source": [
    "sent = data[\"Mix\"][4][1]\n",
    "score = bench.score(sent)\n",
    "target = tag2id[\"Mix\"]\n",
    "metr = bench.explain(sent, target=target)[4] ### IG ###\n",
    "scores = [abs(i) for i in metr.scores[1:-1]]\n",
    "tokens = [t if scores[i]>=0 else \"[MASK]\" for i, t in enumerate(metr.tokens[1:-1])] \n",
    "try:\n",
    "    assert score[f\"LABEL_{target}\"] <= bench.score(tokenizer.convert_tokens_to_string(list(filter(lambda x:x!=\"[MASK]\", tokens))))[f\"LABEL_{target}\"]\n",
    "except:\n",
    "    #print(\"! Prediction swayed by removal of negative contributing tokens to label: \", \n",
    "          id2tag[np.argmax(list(bench.score(tokenizer.convert_tokens_to_string(list(filter(lambda x:x!=\"[MASK]\", tokens)))).values()))]\n",
    "aggr = []\n",
    "\n",
    "#print(f\"Original sentence: {sent} \\tScore: {round(score[f'LABEL_{target}'],2)}\\nFiltered: {tokens}\\n\")\n",
    "\n",
    "for i in np.arange(.1, 1.1, .1):\n",
    "    sect = round(len([s for s in scores if s>=0])*i)\n",
    "    sor_scores = np.sort(scores)[::-1][:sect]\n",
    "    sentence = metr.tokens[1:-1]\n",
    "    real_i = [scores.index(s) for s in sor_scores if s>=0]\n",
    "    for x in real_i:\n",
    "        sentence[x] = \"[MASK]\"\n",
    "    sentence = list(filter(lambda x: x!= \"[MASK]\", sentence))\n",
    "    sentence = tokenizer.convert_tokens_to_string(sentence)\n",
    "    new = score[f\"LABEL_{target}\"] - bench.score(sentence)[f\"LABEL_{target}\"]\n",
    "    #print(f\"{sect} important token(s) removed: {sentence} \\t affects original sentence score: {round(new, 2)} | Labeled: {id2tag[np.argmax(list(bench.score(sentence).values()))]}: {np.max(list(bench.score(sentence).values()))}\")\n",
    "    if sect >= 1:\n",
    "        aggr.append(new)\n",
    "\n",
    "print(f\"\\nMean of all scores: {round(mean(set(aggr)),2)}\")"
   ]
  },
  {
   "cell_type": "markdown",
   "id": "0addea9e-a54f-49ed-986d-3fabd5c25461",
   "metadata": {},
   "source": [
    "<span style=\"color:purple\">**! Inclusion of negative tokens has no siginificant effect** </span>"
   ]
  },
  {
   "cell_type": "code",
   "execution_count": 36,
   "id": "6c23e88f-7426-401c-b632-b00d5670e8e9",
   "metadata": {},
   "outputs": [
    {
     "data": {
      "application/vnd.jupyter.widget-view+json": {
       "model_id": "",
       "version_major": 2,
       "version_minor": 0
      },
      "text/plain": [
       "Explainer:   0%|          | 0/6 [00:00<?, ?it/s]"
      ]
     },
     "metadata": {},
     "output_type": "display_data"
    },
    {
     "name": "stdout",
     "output_type": "stream",
     "text": [
      "\n",
      "Mean of all scores: 0.46\n"
     ]
    }
   ],
   "source": [
    "sent = data[\"Anamnese\"][1][1]\n",
    "score = bench.score(sent)\n",
    "target = tag2id[f\"{data['Anamnese'][1][0]}\"]\n",
    "metr = bench.explain(sent, target=target)[4] ### IG ###\n",
    "scores = [abs(i) for i in metr.scores[1:-1]]\n",
    "tokens = [t if scores[i]>=0 else \"[MASK]\" for i, t in enumerate(metr.tokens[1:-1])] \n",
    "try:\n",
    "    assert score[f\"LABEL_{target}\"] <= bench.score(tokenizer.convert_tokens_to_string(list(filter(lambda x:x!=\"[MASK]\", tokens))))[f\"LABEL_{target}\"]\n",
    "except:\n",
    "    #print(\"! Prediction swayed by removal of negative contributing tokens to label: \", \n",
    "          id2tag[np.argmax(list(bench.score(tokenizer.convert_tokens_to_string(list(filter(lambda x:x!=\"[MASK]\", tokens)))).values()))]\n",
    "aggr = []\n",
    "\n",
    "#print(f\"Original sentence: {sent} \\tScore: {round(score[f'LABEL_{target}'],2)}\\nFiltered: {[(t, s) for t, s in zip(tokens, scores)]}\\n\")\n",
    "\n",
    "for i in np.arange(.1, 1.1, .1):\n",
    "    sect = round(len([s for s in scores if s>=0])*i)\n",
    "    sor_scores = np.sort(scores)[::-1][:sect]\n",
    "    sentence = metr.tokens[1:-1]\n",
    "    real_i = [scores.index(s) for s in sor_scores if s>=0]\n",
    "    for x in real_i:\n",
    "        sentence[x] = \"[MASK]\"\n",
    "    sentence = list(filter(lambda x: x!= \"[MASK]\", sentence))\n",
    "    sentence = tokenizer.convert_tokens_to_string(sentence)\n",
    "    new = score[f\"LABEL_{target}\"] - bench.score(sentence)[f\"LABEL_{target}\"]\n",
    "    #print(f\"{sect} important token(s) removed: {sentence} \\t affects original sentence score: {round(new, 2)} | Labeled: {id2tag[np.argmax(list(bench.score(sentence).values()))]}: {np.max(list(bench.score(sentence).values()))}\")\n",
    "    if sect >= 1:\n",
    "        aggr.append(new)\n",
    "\n",
    "print(f\"\\nMean of all scores: {round(mean(aggr),2)}\")"
   ]
  },
  {
   "cell_type": "markdown",
   "id": "42b551d7-b2f1-4233-8326-7cc54f7ba53a",
   "metadata": {},
   "source": [
    "<span style=\"color:purple\">**! Inclusion of negative tokens improves score such that Anamnese loses probability in upper half and false positives are predicted in lower half** </span>"
   ]
  }
 ],
 "metadata": {
  "kernelspec": {
   "display_name": "MIEdeep",
   "language": "python",
   "name": "miedeep"
  },
  "language_info": {
   "codemirror_mode": {
    "name": "ipython",
    "version": 3
   },
   "file_extension": ".py",
   "mimetype": "text/x-python",
   "name": "python",
   "nbconvert_exporter": "python",
   "pygments_lexer": "ipython3",
   "version": "3.9.2"
  }
 },
 "nbformat": 4,
 "nbformat_minor": 5
}
