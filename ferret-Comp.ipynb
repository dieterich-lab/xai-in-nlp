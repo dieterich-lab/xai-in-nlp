{
 "cells": [
  {
   "cell_type": "code",
   "execution_count": 5,
   "id": "3faa4adf-a3e5-47ea-aafd-452db39e3c8d",
   "metadata": {},
   "outputs": [],
   "source": [
    "from transformers import AutoModelForSequenceClassification, AutoTokenizer\n",
    "from ferret import Benchmark\n",
    "from statistics import mean\n",
    "from tabulate import tabulate\n",
    "import numpy as np"
   ]
  },
  {
   "cell_type": "code",
   "execution_count": 6,
   "id": "8ef9ad20-fc10-4867-9382-d96c8ad77174",
   "metadata": {},
   "outputs": [],
   "source": [
    "name = \"/beegfs/scratch/rsari/BertSeqCA/checkpoint-10000/\"\n",
    "model = AutoModelForSequenceClassification.from_pretrained(name)\n",
    "tokenizer = AutoTokenizer.from_pretrained(name)"
   ]
  },
  {
   "cell_type": "code",
   "execution_count": 7,
   "id": "b1a63979-d3a2-4675-8e46-1e5c3a102ff3",
   "metadata": {},
   "outputs": [],
   "source": [
    "id2tag = {0: 'Anrede', 1: 'Diagnosen', 2: 'AllergienUnverträglichkeitenRisiken', 3: 'Anamnese', 4: 'Medikation', 5: 'KUBefunde', 6: 'Befunde', 7: 'EchoBefunde', 8: 'Zusammenfassung', 9: 'Mix', 10: 'Abschluss'}\n",
    "tag2id = {tag: id for id, tag in id2tag.items()}\n",
    "\n",
    "labels = list(id2tag.values())"
   ]
  },
  {
   "cell_type": "code",
   "execution_count": 8,
   "id": "759064e6-c018-4c2a-870e-6955a89b37bd",
   "metadata": {
    "collapsed": true,
    "jupyter": {
     "outputs_hidden": true
    },
    "tags": []
   },
   "outputs": [
    {
     "name": "stderr",
     "output_type": "stream",
     "text": [
      "2023-03-16 13:16:07.631261: I tensorflow/core/platform/cpu_feature_guard.cc:193] This TensorFlow binary is optimized with oneAPI Deep Neural Network Library (oneDNN) to use the following CPU instructions in performance-critical operations:  AVX2 FMA\n",
      "To enable them in other operations, rebuild TensorFlow with the appropriate compiler flags.\n",
      "2023-03-16 13:16:11.921508: W tensorflow/stream_executor/platform/default/dso_loader.cc:64] Could not load dynamic library 'libcudart.so.11.0'; dlerror: libcudart.so.11.0: cannot open shared object file: No such file or directory; LD_LIBRARY_PATH: /beegfs/homes/rsari/MIEdeep/lib/python3.9/site-packages/cv2/../../lib64:\n",
      "2023-03-16 13:16:11.921571: I tensorflow/stream_executor/cuda/cudart_stub.cc:29] Ignore above cudart dlerror if you do not have a GPU set up on your machine.\n",
      "2023-03-16 13:16:12.350876: E tensorflow/stream_executor/cuda/cuda_blas.cc:2981] Unable to register cuBLAS factory: Attempting to register factory for plugin cuBLAS when one has already been registered\n",
      "2023-03-16 13:16:41.156275: W tensorflow/stream_executor/platform/default/dso_loader.cc:64] Could not load dynamic library 'libnvinfer.so.7'; dlerror: libnvinfer.so.7: cannot open shared object file: No such file or directory; LD_LIBRARY_PATH: /beegfs/homes/rsari/MIEdeep/lib/python3.9/site-packages/cv2/../../lib64:\n",
      "2023-03-16 13:16:41.157703: W tensorflow/stream_executor/platform/default/dso_loader.cc:64] Could not load dynamic library 'libnvinfer_plugin.so.7'; dlerror: libnvinfer_plugin.so.7: cannot open shared object file: No such file or directory; LD_LIBRARY_PATH: /beegfs/homes/rsari/MIEdeep/lib/python3.9/site-packages/cv2/../../lib64:\n",
      "2023-03-16 13:16:41.157733: W tensorflow/compiler/tf2tensorrt/utils/py_utils.cc:38] TF-TRT Warning: Cannot dlopen some TensorRT libraries. If you would like to use Nvidia GPU with TensorRT, please make sure the missing libraries mentioned above are installed properly.\n"
     ]
    }
   ],
   "source": [
    "import tensorflow as tf\n",
    "import torch"
   ]
  },
  {
   "cell_type": "code",
   "execution_count": 10,
   "id": "6fef4250-c787-43ae-8780-6506ba173d04",
   "metadata": {},
   "outputs": [],
   "source": [
    "data, count = {l: [] for l in labels}, {l:0 for l in labels}\n",
    "\n",
    "with open(\"../doctoral_letters/MIEdeep/data/PETsectionclass/50shot/set_1.tsv\", \"r\") as f:\n",
    "    lines = f.readlines()\n",
    "    for line in lines:\n",
    "        sent, lab = line.strip().split(\"\\t\")\n",
    "        pred = torch.argmax(model(tokenizer.encode(sent, return_tensors=\"pt\"))[0])\n",
    "        l = id2tag[int(pred)]        \n",
    "        if l==lab and count[lab]>=10:\n",
    "            continue\n",
    "        elif l!= lab:\n",
    "            data[lab].append((l, sent))\n",
    "        else:\n",
    "            data[lab].append((l, sent))\n",
    "            count[lab]+=1"
   ]
  },
  {
   "cell_type": "code",
   "execution_count": 12,
   "id": "be0a9fad-ac2d-4a5f-919f-3b13a21e1044",
   "metadata": {},
   "outputs": [],
   "source": [
    "import json\n",
    "\n",
    "with open(\"ferret_ready_data.json\", \"w\") as f:\n",
    "    json.dump(data, f)"
   ]
  },
  {
   "cell_type": "markdown",
   "id": "aa6dc336-02cd-478a-8661-c280bd291bf4",
   "metadata": {},
   "source": [
    "#### Score sentences with bench.explain for IG & SHAP"
   ]
  },
  {
   "cell_type": "code",
   "execution_count": 13,
   "id": "22a6fb5c-4624-4b6e-913d-980af18c74e8",
   "metadata": {},
   "outputs": [],
   "source": [
    "bench = Benchmark(model, tokenizer)"
   ]
  },
  {
   "cell_type": "code",
   "execution_count": 15,
   "id": "24a20175-031b-431c-9e37-947912080457",
   "metadata": {},
   "outputs": [],
   "source": [
    "ig, shap = {l: [] for l in labels}, {l: [] for l in labels}"
   ]
  },
  {
   "cell_type": "code",
   "execution_count": null,
   "id": "a1dbcaee-f08c-49fe-9be4-dd44aeef09db",
   "metadata": {
    "tags": []
   },
   "outputs": [],
   "source": [
    "from tqdm import tqdm\n",
    "\n",
    "for lab in tqdm(labels):\n",
    "    for tup in data[lab]:\n",
    "        if tup[0] == lab:\n",
    "            explanations = bench.explain(tup[1], target=tag2id[lab])                                    \n",
    "            ig[lab].append(explanations[4])\n",
    "            shap[lab].append(explanations[0])\n",
    "        else:\n",
    "            pass"
   ]
  },
  {
   "cell_type": "code",
   "execution_count": 58,
   "id": "dc00126a-8241-4ded-a828-77503d573527",
   "metadata": {},
   "outputs": [],
   "source": [
    "assert all([i[0] == s[0] == d[0] for i,s,d in zip(ig.items(), shap.items(), data.items())])"
   ]
  },
  {
   "cell_type": "code",
   "execution_count": 59,
   "id": "0a066a4b-2c3f-49bf-9321-3a72884342a0",
   "metadata": {},
   "outputs": [],
   "source": [
    "eva_ig, eva_shap = {l: [] for l in labels}, {l: [] for l in labels}"
   ]
  },
  {
   "cell_type": "code",
   "execution_count": 60,
   "id": "3fd2cd70-4ac1-46f6-b6ee-935aaa161fdc",
   "metadata": {
    "collapsed": true,
    "jupyter": {
     "outputs_hidden": true
    },
    "tags": []
   },
   "outputs": [
    {
     "name": "stderr",
     "output_type": "stream",
     "text": [
      "  0%|          | 0/11 [00:00<?, ?it/s]"
     ]
    },
    {
     "data": {
      "application/vnd.jupyter.widget-view+json": {
       "model_id": "",
       "version_major": 2,
       "version_minor": 0
      },
      "text/plain": [
       "Evaluator:   0%|          | 0/6 [00:00<?, ?it/s]"
      ]
     },
     "metadata": {},
     "output_type": "display_data"
    },
    {
     "data": {
      "application/vnd.jupyter.widget-view+json": {
       "model_id": "",
       "version_major": 2,
       "version_minor": 0
      },
      "text/plain": [
       "Evaluator:   0%|          | 0/6 [00:00<?, ?it/s]"
      ]
     },
     "metadata": {},
     "output_type": "display_data"
    },
    {
     "data": {
      "application/vnd.jupyter.widget-view+json": {
       "model_id": "",
       "version_major": 2,
       "version_minor": 0
      },
      "text/plain": [
       "Evaluator:   0%|          | 0/6 [00:00<?, ?it/s]"
      ]
     },
     "metadata": {},
     "output_type": "display_data"
    },
    {
     "data": {
      "application/vnd.jupyter.widget-view+json": {
       "model_id": "",
       "version_major": 2,
       "version_minor": 0
      },
      "text/plain": [
       "Evaluator:   0%|          | 0/6 [00:00<?, ?it/s]"
      ]
     },
     "metadata": {},
     "output_type": "display_data"
    },
    {
     "data": {
      "application/vnd.jupyter.widget-view+json": {
       "model_id": "",
       "version_major": 2,
       "version_minor": 0
      },
      "text/plain": [
       "Evaluator:   0%|          | 0/6 [00:00<?, ?it/s]"
      ]
     },
     "metadata": {},
     "output_type": "display_data"
    },
    {
     "data": {
      "application/vnd.jupyter.widget-view+json": {
       "model_id": "",
       "version_major": 2,
       "version_minor": 0
      },
      "text/plain": [
       "Evaluator:   0%|          | 0/6 [00:00<?, ?it/s]"
      ]
     },
     "metadata": {},
     "output_type": "display_data"
    },
    {
     "data": {
      "application/vnd.jupyter.widget-view+json": {
       "model_id": "",
       "version_major": 2,
       "version_minor": 0
      },
      "text/plain": [
       "Evaluator:   0%|          | 0/6 [00:00<?, ?it/s]"
      ]
     },
     "metadata": {},
     "output_type": "display_data"
    },
    {
     "data": {
      "application/vnd.jupyter.widget-view+json": {
       "model_id": "",
       "version_major": 2,
       "version_minor": 0
      },
      "text/plain": [
       "Evaluator:   0%|          | 0/6 [00:00<?, ?it/s]"
      ]
     },
     "metadata": {},
     "output_type": "display_data"
    },
    {
     "data": {
      "application/vnd.jupyter.widget-view+json": {
       "model_id": "",
       "version_major": 2,
       "version_minor": 0
      },
      "text/plain": [
       "Evaluator:   0%|          | 0/6 [00:00<?, ?it/s]"
      ]
     },
     "metadata": {},
     "output_type": "display_data"
    },
    {
     "data": {
      "application/vnd.jupyter.widget-view+json": {
       "model_id": "",
       "version_major": 2,
       "version_minor": 0
      },
      "text/plain": [
       "Evaluator:   0%|          | 0/6 [00:00<?, ?it/s]"
      ]
     },
     "metadata": {},
     "output_type": "display_data"
    },
    {
     "data": {
      "application/vnd.jupyter.widget-view+json": {
       "model_id": "",
       "version_major": 2,
       "version_minor": 0
      },
      "text/plain": [
       "Evaluator:   0%|          | 0/6 [00:00<?, ?it/s]"
      ]
     },
     "metadata": {},
     "output_type": "display_data"
    },
    {
     "data": {
      "application/vnd.jupyter.widget-view+json": {
       "model_id": "",
       "version_major": 2,
       "version_minor": 0
      },
      "text/plain": [
       "Evaluator:   0%|          | 0/6 [00:00<?, ?it/s]"
      ]
     },
     "metadata": {},
     "output_type": "display_data"
    },
    {
     "data": {
      "application/vnd.jupyter.widget-view+json": {
       "model_id": "",
       "version_major": 2,
       "version_minor": 0
      },
      "text/plain": [
       "Evaluator:   0%|          | 0/6 [00:00<?, ?it/s]"
      ]
     },
     "metadata": {},
     "output_type": "display_data"
    },
    {
     "data": {
      "application/vnd.jupyter.widget-view+json": {
       "model_id": "",
       "version_major": 2,
       "version_minor": 0
      },
      "text/plain": [
       "Evaluator:   0%|          | 0/6 [00:00<?, ?it/s]"
      ]
     },
     "metadata": {},
     "output_type": "display_data"
    },
    {
     "data": {
      "application/vnd.jupyter.widget-view+json": {
       "model_id": "",
       "version_major": 2,
       "version_minor": 0
      },
      "text/plain": [
       "Evaluator:   0%|          | 0/6 [00:00<?, ?it/s]"
      ]
     },
     "metadata": {},
     "output_type": "display_data"
    },
    {
     "data": {
      "application/vnd.jupyter.widget-view+json": {
       "model_id": "",
       "version_major": 2,
       "version_minor": 0
      },
      "text/plain": [
       "Evaluator:   0%|          | 0/6 [00:00<?, ?it/s]"
      ]
     },
     "metadata": {},
     "output_type": "display_data"
    },
    {
     "data": {
      "application/vnd.jupyter.widget-view+json": {
       "model_id": "",
       "version_major": 2,
       "version_minor": 0
      },
      "text/plain": [
       "Evaluator:   0%|          | 0/6 [00:00<?, ?it/s]"
      ]
     },
     "metadata": {},
     "output_type": "display_data"
    },
    {
     "data": {
      "application/vnd.jupyter.widget-view+json": {
       "model_id": "",
       "version_major": 2,
       "version_minor": 0
      },
      "text/plain": [
       "Evaluator:   0%|          | 0/6 [00:00<?, ?it/s]"
      ]
     },
     "metadata": {},
     "output_type": "display_data"
    },
    {
     "data": {
      "application/vnd.jupyter.widget-view+json": {
       "model_id": "",
       "version_major": 2,
       "version_minor": 0
      },
      "text/plain": [
       "Evaluator:   0%|          | 0/6 [00:00<?, ?it/s]"
      ]
     },
     "metadata": {},
     "output_type": "display_data"
    },
    {
     "data": {
      "application/vnd.jupyter.widget-view+json": {
       "model_id": "",
       "version_major": 2,
       "version_minor": 0
      },
      "text/plain": [
       "Evaluator:   0%|          | 0/6 [00:00<?, ?it/s]"
      ]
     },
     "metadata": {},
     "output_type": "display_data"
    },
    {
     "data": {
      "application/vnd.jupyter.widget-view+json": {
       "model_id": "",
       "version_major": 2,
       "version_minor": 0
      },
      "text/plain": [
       "Evaluator:   0%|          | 0/6 [00:00<?, ?it/s]"
      ]
     },
     "metadata": {},
     "output_type": "display_data"
    },
    {
     "data": {
      "application/vnd.jupyter.widget-view+json": {
       "model_id": "",
       "version_major": 2,
       "version_minor": 0
      },
      "text/plain": [
       "Evaluator:   0%|          | 0/6 [00:00<?, ?it/s]"
      ]
     },
     "metadata": {},
     "output_type": "display_data"
    },
    {
     "data": {
      "application/vnd.jupyter.widget-view+json": {
       "model_id": "",
       "version_major": 2,
       "version_minor": 0
      },
      "text/plain": [
       "Evaluator:   0%|          | 0/6 [00:00<?, ?it/s]"
      ]
     },
     "metadata": {},
     "output_type": "display_data"
    },
    {
     "data": {
      "application/vnd.jupyter.widget-view+json": {
       "model_id": "",
       "version_major": 2,
       "version_minor": 0
      },
      "text/plain": [
       "Evaluator:   0%|          | 0/6 [00:00<?, ?it/s]"
      ]
     },
     "metadata": {},
     "output_type": "display_data"
    },
    {
     "data": {
      "application/vnd.jupyter.widget-view+json": {
       "model_id": "",
       "version_major": 2,
       "version_minor": 0
      },
      "text/plain": [
       "Evaluator:   0%|          | 0/6 [00:00<?, ?it/s]"
      ]
     },
     "metadata": {},
     "output_type": "display_data"
    },
    {
     "data": {
      "application/vnd.jupyter.widget-view+json": {
       "model_id": "",
       "version_major": 2,
       "version_minor": 0
      },
      "text/plain": [
       "Evaluator:   0%|          | 0/6 [00:00<?, ?it/s]"
      ]
     },
     "metadata": {},
     "output_type": "display_data"
    },
    {
     "data": {
      "application/vnd.jupyter.widget-view+json": {
       "model_id": "",
       "version_major": 2,
       "version_minor": 0
      },
      "text/plain": [
       "Evaluator:   0%|          | 0/6 [00:00<?, ?it/s]"
      ]
     },
     "metadata": {},
     "output_type": "display_data"
    },
    {
     "data": {
      "application/vnd.jupyter.widget-view+json": {
       "model_id": "",
       "version_major": 2,
       "version_minor": 0
      },
      "text/plain": [
       "Evaluator:   0%|          | 0/6 [00:00<?, ?it/s]"
      ]
     },
     "metadata": {},
     "output_type": "display_data"
    },
    {
     "data": {
      "application/vnd.jupyter.widget-view+json": {
       "model_id": "",
       "version_major": 2,
       "version_minor": 0
      },
      "text/plain": [
       "Evaluator:   0%|          | 0/6 [00:00<?, ?it/s]"
      ]
     },
     "metadata": {},
     "output_type": "display_data"
    },
    {
     "data": {
      "application/vnd.jupyter.widget-view+json": {
       "model_id": "",
       "version_major": 2,
       "version_minor": 0
      },
      "text/plain": [
       "Evaluator:   0%|          | 0/6 [00:00<?, ?it/s]"
      ]
     },
     "metadata": {},
     "output_type": "display_data"
    },
    {
     "data": {
      "application/vnd.jupyter.widget-view+json": {
       "model_id": "",
       "version_major": 2,
       "version_minor": 0
      },
      "text/plain": [
       "Evaluator:   0%|          | 0/6 [00:00<?, ?it/s]"
      ]
     },
     "metadata": {},
     "output_type": "display_data"
    },
    {
     "data": {
      "application/vnd.jupyter.widget-view+json": {
       "model_id": "",
       "version_major": 2,
       "version_minor": 0
      },
      "text/plain": [
       "Evaluator:   0%|          | 0/6 [00:00<?, ?it/s]"
      ]
     },
     "metadata": {},
     "output_type": "display_data"
    },
    {
     "data": {
      "application/vnd.jupyter.widget-view+json": {
       "model_id": "",
       "version_major": 2,
       "version_minor": 0
      },
      "text/plain": [
       "Evaluator:   0%|          | 0/6 [00:00<?, ?it/s]"
      ]
     },
     "metadata": {},
     "output_type": "display_data"
    },
    {
     "data": {
      "application/vnd.jupyter.widget-view+json": {
       "model_id": "",
       "version_major": 2,
       "version_minor": 0
      },
      "text/plain": [
       "Evaluator:   0%|          | 0/6 [00:00<?, ?it/s]"
      ]
     },
     "metadata": {},
     "output_type": "display_data"
    },
    {
     "data": {
      "application/vnd.jupyter.widget-view+json": {
       "model_id": "",
       "version_major": 2,
       "version_minor": 0
      },
      "text/plain": [
       "Evaluator:   0%|          | 0/6 [00:00<?, ?it/s]"
      ]
     },
     "metadata": {},
     "output_type": "display_data"
    },
    {
     "data": {
      "application/vnd.jupyter.widget-view+json": {
       "model_id": "",
       "version_major": 2,
       "version_minor": 0
      },
      "text/plain": [
       "Evaluator:   0%|          | 0/6 [00:00<?, ?it/s]"
      ]
     },
     "metadata": {},
     "output_type": "display_data"
    },
    {
     "data": {
      "application/vnd.jupyter.widget-view+json": {
       "model_id": "",
       "version_major": 2,
       "version_minor": 0
      },
      "text/plain": [
       "Evaluator:   0%|          | 0/6 [00:00<?, ?it/s]"
      ]
     },
     "metadata": {},
     "output_type": "display_data"
    },
    {
     "data": {
      "application/vnd.jupyter.widget-view+json": {
       "model_id": "",
       "version_major": 2,
       "version_minor": 0
      },
      "text/plain": [
       "Evaluator:   0%|          | 0/6 [00:00<?, ?it/s]"
      ]
     },
     "metadata": {},
     "output_type": "display_data"
    },
    {
     "data": {
      "application/vnd.jupyter.widget-view+json": {
       "model_id": "",
       "version_major": 2,
       "version_minor": 0
      },
      "text/plain": [
       "Evaluator:   0%|          | 0/6 [00:00<?, ?it/s]"
      ]
     },
     "metadata": {},
     "output_type": "display_data"
    },
    {
     "data": {
      "application/vnd.jupyter.widget-view+json": {
       "model_id": "",
       "version_major": 2,
       "version_minor": 0
      },
      "text/plain": [
       "Evaluator:   0%|          | 0/6 [00:00<?, ?it/s]"
      ]
     },
     "metadata": {},
     "output_type": "display_data"
    },
    {
     "name": "stderr",
     "output_type": "stream",
     "text": [
      "  9%|▉         | 1/11 [01:11<11:52, 71.29s/it]"
     ]
    },
    {
     "data": {
      "application/vnd.jupyter.widget-view+json": {
       "model_id": "",
       "version_major": 2,
       "version_minor": 0
      },
      "text/plain": [
       "Evaluator:   0%|          | 0/6 [00:00<?, ?it/s]"
      ]
     },
     "metadata": {},
     "output_type": "display_data"
    },
    {
     "data": {
      "application/vnd.jupyter.widget-view+json": {
       "model_id": "",
       "version_major": 2,
       "version_minor": 0
      },
      "text/plain": [
       "Evaluator:   0%|          | 0/6 [00:00<?, ?it/s]"
      ]
     },
     "metadata": {},
     "output_type": "display_data"
    },
    {
     "data": {
      "application/vnd.jupyter.widget-view+json": {
       "model_id": "",
       "version_major": 2,
       "version_minor": 0
      },
      "text/plain": [
       "Evaluator:   0%|          | 0/6 [00:00<?, ?it/s]"
      ]
     },
     "metadata": {},
     "output_type": "display_data"
    },
    {
     "data": {
      "application/vnd.jupyter.widget-view+json": {
       "model_id": "",
       "version_major": 2,
       "version_minor": 0
      },
      "text/plain": [
       "Evaluator:   0%|          | 0/6 [00:00<?, ?it/s]"
      ]
     },
     "metadata": {},
     "output_type": "display_data"
    },
    {
     "data": {
      "application/vnd.jupyter.widget-view+json": {
       "model_id": "",
       "version_major": 2,
       "version_minor": 0
      },
      "text/plain": [
       "Evaluator:   0%|          | 0/6 [00:00<?, ?it/s]"
      ]
     },
     "metadata": {},
     "output_type": "display_data"
    },
    {
     "data": {
      "application/vnd.jupyter.widget-view+json": {
       "model_id": "",
       "version_major": 2,
       "version_minor": 0
      },
      "text/plain": [
       "Evaluator:   0%|          | 0/6 [00:00<?, ?it/s]"
      ]
     },
     "metadata": {},
     "output_type": "display_data"
    },
    {
     "data": {
      "application/vnd.jupyter.widget-view+json": {
       "model_id": "",
       "version_major": 2,
       "version_minor": 0
      },
      "text/plain": [
       "Evaluator:   0%|          | 0/6 [00:00<?, ?it/s]"
      ]
     },
     "metadata": {},
     "output_type": "display_data"
    },
    {
     "data": {
      "application/vnd.jupyter.widget-view+json": {
       "model_id": "",
       "version_major": 2,
       "version_minor": 0
      },
      "text/plain": [
       "Evaluator:   0%|          | 0/6 [00:00<?, ?it/s]"
      ]
     },
     "metadata": {},
     "output_type": "display_data"
    },
    {
     "data": {
      "application/vnd.jupyter.widget-view+json": {
       "model_id": "8ae3f8ce72a5403892a08eac8ab1099e",
       "version_major": 2,
       "version_minor": 0
      },
      "text/plain": [
       "Evaluator:   0%|          | 0/6 [00:00<?, ?it/s]"
      ]
     },
     "metadata": {},
     "output_type": "display_data"
    },
    {
     "data": {
      "application/vnd.jupyter.widget-view+json": {
       "model_id": "4a34b3e7b0304ff8a5a7d8e895e56644",
       "version_major": 2,
       "version_minor": 0
      },
      "text/plain": [
       "Evaluator:   0%|          | 0/6 [00:00<?, ?it/s]"
      ]
     },
     "metadata": {},
     "output_type": "display_data"
    },
    {
     "data": {
      "application/vnd.jupyter.widget-view+json": {
       "model_id": "d464dade740242db8ef2f0dbec4db490",
       "version_major": 2,
       "version_minor": 0
      },
      "text/plain": [
       "Evaluator:   0%|          | 0/6 [00:00<?, ?it/s]"
      ]
     },
     "metadata": {},
     "output_type": "display_data"
    },
    {
     "data": {
      "application/vnd.jupyter.widget-view+json": {
       "model_id": "0fd0635e9eae49f3a3d28c266188cf6c",
       "version_major": 2,
       "version_minor": 0
      },
      "text/plain": [
       "Evaluator:   0%|          | 0/6 [00:00<?, ?it/s]"
      ]
     },
     "metadata": {},
     "output_type": "display_data"
    },
    {
     "data": {
      "application/vnd.jupyter.widget-view+json": {
       "model_id": "1e3979c589eb435bb1ed78fd5fcaea4b",
       "version_major": 2,
       "version_minor": 0
      },
      "text/plain": [
       "Evaluator:   0%|          | 0/6 [00:00<?, ?it/s]"
      ]
     },
     "metadata": {},
     "output_type": "display_data"
    },
    {
     "data": {
      "application/vnd.jupyter.widget-view+json": {
       "model_id": "b1db8da3983946f186ae2f7c71686cdd",
       "version_major": 2,
       "version_minor": 0
      },
      "text/plain": [
       "Evaluator:   0%|          | 0/6 [00:00<?, ?it/s]"
      ]
     },
     "metadata": {},
     "output_type": "display_data"
    },
    {
     "data": {
      "application/vnd.jupyter.widget-view+json": {
       "model_id": "5937861162124d3687c41fe9f7edda55",
       "version_major": 2,
       "version_minor": 0
      },
      "text/plain": [
       "Evaluator:   0%|          | 0/6 [00:00<?, ?it/s]"
      ]
     },
     "metadata": {},
     "output_type": "display_data"
    },
    {
     "data": {
      "application/vnd.jupyter.widget-view+json": {
       "model_id": "bf7fd068050b4849a16e9bf62965c982",
       "version_major": 2,
       "version_minor": 0
      },
      "text/plain": [
       "Evaluator:   0%|          | 0/6 [00:00<?, ?it/s]"
      ]
     },
     "metadata": {},
     "output_type": "display_data"
    },
    {
     "data": {
      "application/vnd.jupyter.widget-view+json": {
       "model_id": "29d86ca833484a4e91767ef1535810a1",
       "version_major": 2,
       "version_minor": 0
      },
      "text/plain": [
       "Evaluator:   0%|          | 0/6 [00:00<?, ?it/s]"
      ]
     },
     "metadata": {},
     "output_type": "display_data"
    },
    {
     "data": {
      "application/vnd.jupyter.widget-view+json": {
       "model_id": "7352b0156b0045569ceaf3df2a795a58",
       "version_major": 2,
       "version_minor": 0
      },
      "text/plain": [
       "Evaluator:   0%|          | 0/6 [00:00<?, ?it/s]"
      ]
     },
     "metadata": {},
     "output_type": "display_data"
    },
    {
     "data": {
      "application/vnd.jupyter.widget-view+json": {
       "model_id": "0da1cb3713f5430cbb76ca1e90f461a5",
       "version_major": 2,
       "version_minor": 0
      },
      "text/plain": [
       "Evaluator:   0%|          | 0/6 [00:00<?, ?it/s]"
      ]
     },
     "metadata": {},
     "output_type": "display_data"
    },
    {
     "data": {
      "application/vnd.jupyter.widget-view+json": {
       "model_id": "45f25551e08147fda1a8f5794b964b6c",
       "version_major": 2,
       "version_minor": 0
      },
      "text/plain": [
       "Evaluator:   0%|          | 0/6 [00:00<?, ?it/s]"
      ]
     },
     "metadata": {},
     "output_type": "display_data"
    },
    {
     "name": "stderr",
     "output_type": "stream",
     "text": [
      " 18%|█▊        | 2/11 [01:25<05:38, 37.59s/it]"
     ]
    },
    {
     "data": {
      "application/vnd.jupyter.widget-view+json": {
       "model_id": "03ec50b68664448eb459bf6651a492f5",
       "version_major": 2,
       "version_minor": 0
      },
      "text/plain": [
       "Evaluator:   0%|          | 0/6 [00:00<?, ?it/s]"
      ]
     },
     "metadata": {},
     "output_type": "display_data"
    },
    {
     "data": {
      "application/vnd.jupyter.widget-view+json": {
       "model_id": "1031b57a36294aaab82d73ef6f3e0ffe",
       "version_major": 2,
       "version_minor": 0
      },
      "text/plain": [
       "Evaluator:   0%|          | 0/6 [00:00<?, ?it/s]"
      ]
     },
     "metadata": {},
     "output_type": "display_data"
    },
    {
     "data": {
      "application/vnd.jupyter.widget-view+json": {
       "model_id": "1aced5486a3c4bacbdd6359395b9905f",
       "version_major": 2,
       "version_minor": 0
      },
      "text/plain": [
       "Evaluator:   0%|          | 0/6 [00:00<?, ?it/s]"
      ]
     },
     "metadata": {},
     "output_type": "display_data"
    },
    {
     "data": {
      "application/vnd.jupyter.widget-view+json": {
       "model_id": "311b93981d734028b691192bba6bc0fd",
       "version_major": 2,
       "version_minor": 0
      },
      "text/plain": [
       "Evaluator:   0%|          | 0/6 [00:00<?, ?it/s]"
      ]
     },
     "metadata": {},
     "output_type": "display_data"
    },
    {
     "data": {
      "application/vnd.jupyter.widget-view+json": {
       "model_id": "a6bd84e4bc1240e482a8c17d4492e59f",
       "version_major": 2,
       "version_minor": 0
      },
      "text/plain": [
       "Evaluator:   0%|          | 0/6 [00:00<?, ?it/s]"
      ]
     },
     "metadata": {},
     "output_type": "display_data"
    },
    {
     "data": {
      "application/vnd.jupyter.widget-view+json": {
       "model_id": "f33b30a4f9a64361b329ae4e903ef636",
       "version_major": 2,
       "version_minor": 0
      },
      "text/plain": [
       "Evaluator:   0%|          | 0/6 [00:00<?, ?it/s]"
      ]
     },
     "metadata": {},
     "output_type": "display_data"
    },
    {
     "data": {
      "application/vnd.jupyter.widget-view+json": {
       "model_id": "b0573bad14794be986dc63642cbbdefe",
       "version_major": 2,
       "version_minor": 0
      },
      "text/plain": [
       "Evaluator:   0%|          | 0/6 [00:00<?, ?it/s]"
      ]
     },
     "metadata": {},
     "output_type": "display_data"
    },
    {
     "data": {
      "application/vnd.jupyter.widget-view+json": {
       "model_id": "84e22daaff9849af803167dc15ed5cfa",
       "version_major": 2,
       "version_minor": 0
      },
      "text/plain": [
       "Evaluator:   0%|          | 0/6 [00:00<?, ?it/s]"
      ]
     },
     "metadata": {},
     "output_type": "display_data"
    },
    {
     "data": {
      "application/vnd.jupyter.widget-view+json": {
       "model_id": "19dc3c1f4cc645acb98abf17b602c4ff",
       "version_major": 2,
       "version_minor": 0
      },
      "text/plain": [
       "Evaluator:   0%|          | 0/6 [00:00<?, ?it/s]"
      ]
     },
     "metadata": {},
     "output_type": "display_data"
    },
    {
     "data": {
      "application/vnd.jupyter.widget-view+json": {
       "model_id": "b874c87168c94f4e86b1c7c4f2f3808f",
       "version_major": 2,
       "version_minor": 0
      },
      "text/plain": [
       "Evaluator:   0%|          | 0/6 [00:00<?, ?it/s]"
      ]
     },
     "metadata": {},
     "output_type": "display_data"
    },
    {
     "data": {
      "application/vnd.jupyter.widget-view+json": {
       "model_id": "c554a6eb55f2478f80b19756abb1640e",
       "version_major": 2,
       "version_minor": 0
      },
      "text/plain": [
       "Evaluator:   0%|          | 0/6 [00:00<?, ?it/s]"
      ]
     },
     "metadata": {},
     "output_type": "display_data"
    },
    {
     "data": {
      "application/vnd.jupyter.widget-view+json": {
       "model_id": "6a860c4685fe4172b2dd110d135fa01d",
       "version_major": 2,
       "version_minor": 0
      },
      "text/plain": [
       "Evaluator:   0%|          | 0/6 [00:00<?, ?it/s]"
      ]
     },
     "metadata": {},
     "output_type": "display_data"
    },
    {
     "data": {
      "application/vnd.jupyter.widget-view+json": {
       "model_id": "8fdba9a381f048b3b9d8d030327650dc",
       "version_major": 2,
       "version_minor": 0
      },
      "text/plain": [
       "Evaluator:   0%|          | 0/6 [00:00<?, ?it/s]"
      ]
     },
     "metadata": {},
     "output_type": "display_data"
    },
    {
     "data": {
      "application/vnd.jupyter.widget-view+json": {
       "model_id": "dd2b2f750bec48f8b01999c7ba913764",
       "version_major": 2,
       "version_minor": 0
      },
      "text/plain": [
       "Evaluator:   0%|          | 0/6 [00:00<?, ?it/s]"
      ]
     },
     "metadata": {},
     "output_type": "display_data"
    },
    {
     "data": {
      "application/vnd.jupyter.widget-view+json": {
       "model_id": "8bfd73eba2c54832b9333bb81ac9b5bf",
       "version_major": 2,
       "version_minor": 0
      },
      "text/plain": [
       "Evaluator:   0%|          | 0/6 [00:00<?, ?it/s]"
      ]
     },
     "metadata": {},
     "output_type": "display_data"
    },
    {
     "data": {
      "application/vnd.jupyter.widget-view+json": {
       "model_id": "0c4fbc42b3994f91a863b270b7c3511f",
       "version_major": 2,
       "version_minor": 0
      },
      "text/plain": [
       "Evaluator:   0%|          | 0/6 [00:00<?, ?it/s]"
      ]
     },
     "metadata": {},
     "output_type": "display_data"
    },
    {
     "data": {
      "application/vnd.jupyter.widget-view+json": {
       "model_id": "9078c24e006544ad8c913aa854e3b67a",
       "version_major": 2,
       "version_minor": 0
      },
      "text/plain": [
       "Evaluator:   0%|          | 0/6 [00:00<?, ?it/s]"
      ]
     },
     "metadata": {},
     "output_type": "display_data"
    },
    {
     "data": {
      "application/vnd.jupyter.widget-view+json": {
       "model_id": "97451b296e844513afa724aace96c877",
       "version_major": 2,
       "version_minor": 0
      },
      "text/plain": [
       "Evaluator:   0%|          | 0/6 [00:00<?, ?it/s]"
      ]
     },
     "metadata": {},
     "output_type": "display_data"
    },
    {
     "data": {
      "application/vnd.jupyter.widget-view+json": {
       "model_id": "9f122eaaccf54370b939c6cd24b84970",
       "version_major": 2,
       "version_minor": 0
      },
      "text/plain": [
       "Evaluator:   0%|          | 0/6 [00:00<?, ?it/s]"
      ]
     },
     "metadata": {},
     "output_type": "display_data"
    },
    {
     "data": {
      "application/vnd.jupyter.widget-view+json": {
       "model_id": "b68464c879d04e1a84c4b909fdf45bed",
       "version_major": 2,
       "version_minor": 0
      },
      "text/plain": [
       "Evaluator:   0%|          | 0/6 [00:00<?, ?it/s]"
      ]
     },
     "metadata": {},
     "output_type": "display_data"
    },
    {
     "name": "stderr",
     "output_type": "stream",
     "text": [
      " 27%|██▋       | 3/11 [01:36<03:24, 25.56s/it]"
     ]
    },
    {
     "data": {
      "application/vnd.jupyter.widget-view+json": {
       "model_id": "159ea1b795404a13882a23706d4a4808",
       "version_major": 2,
       "version_minor": 0
      },
      "text/plain": [
       "Evaluator:   0%|          | 0/6 [00:00<?, ?it/s]"
      ]
     },
     "metadata": {},
     "output_type": "display_data"
    },
    {
     "data": {
      "application/vnd.jupyter.widget-view+json": {
       "model_id": "f7c8b88690e24b14a17759271e09238b",
       "version_major": 2,
       "version_minor": 0
      },
      "text/plain": [
       "Evaluator:   0%|          | 0/6 [00:00<?, ?it/s]"
      ]
     },
     "metadata": {},
     "output_type": "display_data"
    },
    {
     "data": {
      "application/vnd.jupyter.widget-view+json": {
       "model_id": "8dcc5a6705af4a18a7b4e33dd4b37912",
       "version_major": 2,
       "version_minor": 0
      },
      "text/plain": [
       "Evaluator:   0%|          | 0/6 [00:00<?, ?it/s]"
      ]
     },
     "metadata": {},
     "output_type": "display_data"
    },
    {
     "data": {
      "application/vnd.jupyter.widget-view+json": {
       "model_id": "c2d47faa3ffa499295aa229f171737f9",
       "version_major": 2,
       "version_minor": 0
      },
      "text/plain": [
       "Evaluator:   0%|          | 0/6 [00:00<?, ?it/s]"
      ]
     },
     "metadata": {},
     "output_type": "display_data"
    },
    {
     "data": {
      "application/vnd.jupyter.widget-view+json": {
       "model_id": "fefd9020d0314ce288eb14fb7f75aadb",
       "version_major": 2,
       "version_minor": 0
      },
      "text/plain": [
       "Evaluator:   0%|          | 0/6 [00:00<?, ?it/s]"
      ]
     },
     "metadata": {},
     "output_type": "display_data"
    },
    {
     "data": {
      "application/vnd.jupyter.widget-view+json": {
       "model_id": "f0ea57c78bd341fdb5e207371a50ca74",
       "version_major": 2,
       "version_minor": 0
      },
      "text/plain": [
       "Evaluator:   0%|          | 0/6 [00:00<?, ?it/s]"
      ]
     },
     "metadata": {},
     "output_type": "display_data"
    },
    {
     "data": {
      "application/vnd.jupyter.widget-view+json": {
       "model_id": "42ad9c31734647fb9f0a3c5c31b8a6f4",
       "version_major": 2,
       "version_minor": 0
      },
      "text/plain": [
       "Evaluator:   0%|          | 0/6 [00:00<?, ?it/s]"
      ]
     },
     "metadata": {},
     "output_type": "display_data"
    },
    {
     "data": {
      "application/vnd.jupyter.widget-view+json": {
       "model_id": "d10f4478f719466582771c50dc1e9138",
       "version_major": 2,
       "version_minor": 0
      },
      "text/plain": [
       "Evaluator:   0%|          | 0/6 [00:00<?, ?it/s]"
      ]
     },
     "metadata": {},
     "output_type": "display_data"
    },
    {
     "data": {
      "application/vnd.jupyter.widget-view+json": {
       "model_id": "a130f7e5b9ca48359cb942d13abb40d8",
       "version_major": 2,
       "version_minor": 0
      },
      "text/plain": [
       "Evaluator:   0%|          | 0/6 [00:00<?, ?it/s]"
      ]
     },
     "metadata": {},
     "output_type": "display_data"
    },
    {
     "data": {
      "application/vnd.jupyter.widget-view+json": {
       "model_id": "6578c3e8832344dab2798700a711acd9",
       "version_major": 2,
       "version_minor": 0
      },
      "text/plain": [
       "Evaluator:   0%|          | 0/6 [00:00<?, ?it/s]"
      ]
     },
     "metadata": {},
     "output_type": "display_data"
    },
    {
     "data": {
      "application/vnd.jupyter.widget-view+json": {
       "model_id": "52a6cae3f4a341ed9d2343b32ab3433a",
       "version_major": 2,
       "version_minor": 0
      },
      "text/plain": [
       "Evaluator:   0%|          | 0/6 [00:00<?, ?it/s]"
      ]
     },
     "metadata": {},
     "output_type": "display_data"
    },
    {
     "data": {
      "application/vnd.jupyter.widget-view+json": {
       "model_id": "825d2675ecef4c66879f5ac4a9454dac",
       "version_major": 2,
       "version_minor": 0
      },
      "text/plain": [
       "Evaluator:   0%|          | 0/6 [00:00<?, ?it/s]"
      ]
     },
     "metadata": {},
     "output_type": "display_data"
    },
    {
     "data": {
      "application/vnd.jupyter.widget-view+json": {
       "model_id": "bc6d426a09c64f58b6149813f3026844",
       "version_major": 2,
       "version_minor": 0
      },
      "text/plain": [
       "Evaluator:   0%|          | 0/6 [00:00<?, ?it/s]"
      ]
     },
     "metadata": {},
     "output_type": "display_data"
    },
    {
     "data": {
      "application/vnd.jupyter.widget-view+json": {
       "model_id": "88b9d41f16be4ba69918147de4ead5a0",
       "version_major": 2,
       "version_minor": 0
      },
      "text/plain": [
       "Evaluator:   0%|          | 0/6 [00:00<?, ?it/s]"
      ]
     },
     "metadata": {},
     "output_type": "display_data"
    },
    {
     "data": {
      "application/vnd.jupyter.widget-view+json": {
       "model_id": "c928c4e836c244b4989077f65080b382",
       "version_major": 2,
       "version_minor": 0
      },
      "text/plain": [
       "Evaluator:   0%|          | 0/6 [00:00<?, ?it/s]"
      ]
     },
     "metadata": {},
     "output_type": "display_data"
    },
    {
     "data": {
      "application/vnd.jupyter.widget-view+json": {
       "model_id": "50f16474106f41639e49d96d53d026ab",
       "version_major": 2,
       "version_minor": 0
      },
      "text/plain": [
       "Evaluator:   0%|          | 0/6 [00:00<?, ?it/s]"
      ]
     },
     "metadata": {},
     "output_type": "display_data"
    },
    {
     "data": {
      "application/vnd.jupyter.widget-view+json": {
       "model_id": "22cb8677d0d84dc3832119a1701bc8d7",
       "version_major": 2,
       "version_minor": 0
      },
      "text/plain": [
       "Evaluator:   0%|          | 0/6 [00:00<?, ?it/s]"
      ]
     },
     "metadata": {},
     "output_type": "display_data"
    },
    {
     "data": {
      "application/vnd.jupyter.widget-view+json": {
       "model_id": "b979451022c748219f913b16e805ac7a",
       "version_major": 2,
       "version_minor": 0
      },
      "text/plain": [
       "Evaluator:   0%|          | 0/6 [00:00<?, ?it/s]"
      ]
     },
     "metadata": {},
     "output_type": "display_data"
    },
    {
     "data": {
      "application/vnd.jupyter.widget-view+json": {
       "model_id": "0579257b24684c86bb0ca7843e93525d",
       "version_major": 2,
       "version_minor": 0
      },
      "text/plain": [
       "Evaluator:   0%|          | 0/6 [00:00<?, ?it/s]"
      ]
     },
     "metadata": {},
     "output_type": "display_data"
    },
    {
     "data": {
      "application/vnd.jupyter.widget-view+json": {
       "model_id": "dfc89dbc20024d389ba2902a4aaf5aba",
       "version_major": 2,
       "version_minor": 0
      },
      "text/plain": [
       "Evaluator:   0%|          | 0/6 [00:00<?, ?it/s]"
      ]
     },
     "metadata": {},
     "output_type": "display_data"
    },
    {
     "name": "stderr",
     "output_type": "stream",
     "text": [
      " 36%|███▋      | 4/11 [01:45<02:11, 18.82s/it]"
     ]
    },
    {
     "data": {
      "application/vnd.jupyter.widget-view+json": {
       "model_id": "858a176e9d7f46f989c5fe4a97163b10",
       "version_major": 2,
       "version_minor": 0
      },
      "text/plain": [
       "Evaluator:   0%|          | 0/6 [00:00<?, ?it/s]"
      ]
     },
     "metadata": {},
     "output_type": "display_data"
    },
    {
     "data": {
      "application/vnd.jupyter.widget-view+json": {
       "model_id": "aeb28495671040068bf18eb7e8b522dd",
       "version_major": 2,
       "version_minor": 0
      },
      "text/plain": [
       "Evaluator:   0%|          | 0/6 [00:00<?, ?it/s]"
      ]
     },
     "metadata": {},
     "output_type": "display_data"
    },
    {
     "data": {
      "application/vnd.jupyter.widget-view+json": {
       "model_id": "180d744762da43b88ccbac746fb46905",
       "version_major": 2,
       "version_minor": 0
      },
      "text/plain": [
       "Evaluator:   0%|          | 0/6 [00:00<?, ?it/s]"
      ]
     },
     "metadata": {},
     "output_type": "display_data"
    },
    {
     "data": {
      "application/vnd.jupyter.widget-view+json": {
       "model_id": "c1391943a4fd4f73936a4dcf936450d5",
       "version_major": 2,
       "version_minor": 0
      },
      "text/plain": [
       "Evaluator:   0%|          | 0/6 [00:00<?, ?it/s]"
      ]
     },
     "metadata": {},
     "output_type": "display_data"
    },
    {
     "data": {
      "application/vnd.jupyter.widget-view+json": {
       "model_id": "9b54de62b54d4a54b9ab0a998264f7e2",
       "version_major": 2,
       "version_minor": 0
      },
      "text/plain": [
       "Evaluator:   0%|          | 0/6 [00:00<?, ?it/s]"
      ]
     },
     "metadata": {},
     "output_type": "display_data"
    },
    {
     "data": {
      "application/vnd.jupyter.widget-view+json": {
       "model_id": "7cb90175dd0143f3926f24b9a3839e56",
       "version_major": 2,
       "version_minor": 0
      },
      "text/plain": [
       "Evaluator:   0%|          | 0/6 [00:00<?, ?it/s]"
      ]
     },
     "metadata": {},
     "output_type": "display_data"
    },
    {
     "data": {
      "application/vnd.jupyter.widget-view+json": {
       "model_id": "95451efd16a846dcb6aae13726a63302",
       "version_major": 2,
       "version_minor": 0
      },
      "text/plain": [
       "Evaluator:   0%|          | 0/6 [00:00<?, ?it/s]"
      ]
     },
     "metadata": {},
     "output_type": "display_data"
    },
    {
     "data": {
      "application/vnd.jupyter.widget-view+json": {
       "model_id": "c42ba726c3cc4d38bc660914f8ddc4de",
       "version_major": 2,
       "version_minor": 0
      },
      "text/plain": [
       "Evaluator:   0%|          | 0/6 [00:00<?, ?it/s]"
      ]
     },
     "metadata": {},
     "output_type": "display_data"
    },
    {
     "data": {
      "application/vnd.jupyter.widget-view+json": {
       "model_id": "3fb1f4b41a3c48d8acc8e0e3b160b8cb",
       "version_major": 2,
       "version_minor": 0
      },
      "text/plain": [
       "Evaluator:   0%|          | 0/6 [00:00<?, ?it/s]"
      ]
     },
     "metadata": {},
     "output_type": "display_data"
    },
    {
     "data": {
      "application/vnd.jupyter.widget-view+json": {
       "model_id": "69210fa530524944a2f4c6758546051e",
       "version_major": 2,
       "version_minor": 0
      },
      "text/plain": [
       "Evaluator:   0%|          | 0/6 [00:00<?, ?it/s]"
      ]
     },
     "metadata": {},
     "output_type": "display_data"
    },
    {
     "data": {
      "application/vnd.jupyter.widget-view+json": {
       "model_id": "7af6ca649aea45ec88e3820a9e05ee04",
       "version_major": 2,
       "version_minor": 0
      },
      "text/plain": [
       "Evaluator:   0%|          | 0/6 [00:00<?, ?it/s]"
      ]
     },
     "metadata": {},
     "output_type": "display_data"
    },
    {
     "data": {
      "application/vnd.jupyter.widget-view+json": {
       "model_id": "6a363d97d0ed45e0aeb4f8eee1f2ddc8",
       "version_major": 2,
       "version_minor": 0
      },
      "text/plain": [
       "Evaluator:   0%|          | 0/6 [00:00<?, ?it/s]"
      ]
     },
     "metadata": {},
     "output_type": "display_data"
    },
    {
     "data": {
      "application/vnd.jupyter.widget-view+json": {
       "model_id": "dd421af41a184470aeca9780d06379c2",
       "version_major": 2,
       "version_minor": 0
      },
      "text/plain": [
       "Evaluator:   0%|          | 0/6 [00:00<?, ?it/s]"
      ]
     },
     "metadata": {},
     "output_type": "display_data"
    },
    {
     "data": {
      "application/vnd.jupyter.widget-view+json": {
       "model_id": "0f656139021b4fdc877914c79a7aaff3",
       "version_major": 2,
       "version_minor": 0
      },
      "text/plain": [
       "Evaluator:   0%|          | 0/6 [00:00<?, ?it/s]"
      ]
     },
     "metadata": {},
     "output_type": "display_data"
    },
    {
     "data": {
      "application/vnd.jupyter.widget-view+json": {
       "model_id": "437dab1505bf4bdf8049b66b0b43bfb9",
       "version_major": 2,
       "version_minor": 0
      },
      "text/plain": [
       "Evaluator:   0%|          | 0/6 [00:00<?, ?it/s]"
      ]
     },
     "metadata": {},
     "output_type": "display_data"
    },
    {
     "data": {
      "application/vnd.jupyter.widget-view+json": {
       "model_id": "89824d8b297648cdabdbd03bd6a535c2",
       "version_major": 2,
       "version_minor": 0
      },
      "text/plain": [
       "Evaluator:   0%|          | 0/6 [00:00<?, ?it/s]"
      ]
     },
     "metadata": {},
     "output_type": "display_data"
    },
    {
     "data": {
      "application/vnd.jupyter.widget-view+json": {
       "model_id": "e33d4f30ed974d02b000cd8000ae5acc",
       "version_major": 2,
       "version_minor": 0
      },
      "text/plain": [
       "Evaluator:   0%|          | 0/6 [00:00<?, ?it/s]"
      ]
     },
     "metadata": {},
     "output_type": "display_data"
    },
    {
     "data": {
      "application/vnd.jupyter.widget-view+json": {
       "model_id": "ed970814bdff48fdbb9bcccef938e15f",
       "version_major": 2,
       "version_minor": 0
      },
      "text/plain": [
       "Evaluator:   0%|          | 0/6 [00:00<?, ?it/s]"
      ]
     },
     "metadata": {},
     "output_type": "display_data"
    },
    {
     "data": {
      "application/vnd.jupyter.widget-view+json": {
       "model_id": "38cebd3ab5b94affbb41993de79876e7",
       "version_major": 2,
       "version_minor": 0
      },
      "text/plain": [
       "Evaluator:   0%|          | 0/6 [00:00<?, ?it/s]"
      ]
     },
     "metadata": {},
     "output_type": "display_data"
    },
    {
     "data": {
      "application/vnd.jupyter.widget-view+json": {
       "model_id": "49d9549b132447dab29a45cf2954aa7b",
       "version_major": 2,
       "version_minor": 0
      },
      "text/plain": [
       "Evaluator:   0%|          | 0/6 [00:00<?, ?it/s]"
      ]
     },
     "metadata": {},
     "output_type": "display_data"
    },
    {
     "name": "stderr",
     "output_type": "stream",
     "text": [
      " 45%|████▌     | 5/11 [01:51<01:27, 14.53s/it]"
     ]
    },
    {
     "data": {
      "application/vnd.jupyter.widget-view+json": {
       "model_id": "3d94509e2a4e4ee8a3f7871bea73d091",
       "version_major": 2,
       "version_minor": 0
      },
      "text/plain": [
       "Evaluator:   0%|          | 0/6 [00:00<?, ?it/s]"
      ]
     },
     "metadata": {},
     "output_type": "display_data"
    },
    {
     "data": {
      "application/vnd.jupyter.widget-view+json": {
       "model_id": "14c15b3553be40029e090fb5f926b136",
       "version_major": 2,
       "version_minor": 0
      },
      "text/plain": [
       "Evaluator:   0%|          | 0/6 [00:00<?, ?it/s]"
      ]
     },
     "metadata": {},
     "output_type": "display_data"
    },
    {
     "data": {
      "application/vnd.jupyter.widget-view+json": {
       "model_id": "1b7a900af14f43d9bb63526b8abd7b4e",
       "version_major": 2,
       "version_minor": 0
      },
      "text/plain": [
       "Evaluator:   0%|          | 0/6 [00:00<?, ?it/s]"
      ]
     },
     "metadata": {},
     "output_type": "display_data"
    },
    {
     "data": {
      "application/vnd.jupyter.widget-view+json": {
       "model_id": "aa37d5caea50404d9d584f03a7c974cf",
       "version_major": 2,
       "version_minor": 0
      },
      "text/plain": [
       "Evaluator:   0%|          | 0/6 [00:00<?, ?it/s]"
      ]
     },
     "metadata": {},
     "output_type": "display_data"
    },
    {
     "data": {
      "application/vnd.jupyter.widget-view+json": {
       "model_id": "0fcc2c5c32b6423a965629a7b214c204",
       "version_major": 2,
       "version_minor": 0
      },
      "text/plain": [
       "Evaluator:   0%|          | 0/6 [00:00<?, ?it/s]"
      ]
     },
     "metadata": {},
     "output_type": "display_data"
    },
    {
     "data": {
      "application/vnd.jupyter.widget-view+json": {
       "model_id": "e33dc0e2caa847198165bf82718eb417",
       "version_major": 2,
       "version_minor": 0
      },
      "text/plain": [
       "Evaluator:   0%|          | 0/6 [00:00<?, ?it/s]"
      ]
     },
     "metadata": {},
     "output_type": "display_data"
    },
    {
     "data": {
      "application/vnd.jupyter.widget-view+json": {
       "model_id": "9adf88604706402d877c7875d6aaa03d",
       "version_major": 2,
       "version_minor": 0
      },
      "text/plain": [
       "Evaluator:   0%|          | 0/6 [00:00<?, ?it/s]"
      ]
     },
     "metadata": {},
     "output_type": "display_data"
    },
    {
     "data": {
      "application/vnd.jupyter.widget-view+json": {
       "model_id": "43e233fa254a4e969e7bc80b3923fce8",
       "version_major": 2,
       "version_minor": 0
      },
      "text/plain": [
       "Evaluator:   0%|          | 0/6 [00:00<?, ?it/s]"
      ]
     },
     "metadata": {},
     "output_type": "display_data"
    },
    {
     "data": {
      "application/vnd.jupyter.widget-view+json": {
       "model_id": "1ff0a714b88b472ab70656d5b13bfe39",
       "version_major": 2,
       "version_minor": 0
      },
      "text/plain": [
       "Evaluator:   0%|          | 0/6 [00:00<?, ?it/s]"
      ]
     },
     "metadata": {},
     "output_type": "display_data"
    },
    {
     "data": {
      "application/vnd.jupyter.widget-view+json": {
       "model_id": "fa30ba8bf9f94336a1387a9a43faa043",
       "version_major": 2,
       "version_minor": 0
      },
      "text/plain": [
       "Evaluator:   0%|          | 0/6 [00:00<?, ?it/s]"
      ]
     },
     "metadata": {},
     "output_type": "display_data"
    },
    {
     "data": {
      "application/vnd.jupyter.widget-view+json": {
       "model_id": "b1bf336c8aeb4eea81783d79858c5554",
       "version_major": 2,
       "version_minor": 0
      },
      "text/plain": [
       "Evaluator:   0%|          | 0/6 [00:00<?, ?it/s]"
      ]
     },
     "metadata": {},
     "output_type": "display_data"
    },
    {
     "data": {
      "application/vnd.jupyter.widget-view+json": {
       "model_id": "a468e643316a4a76a359be60ce01c409",
       "version_major": 2,
       "version_minor": 0
      },
      "text/plain": [
       "Evaluator:   0%|          | 0/6 [00:00<?, ?it/s]"
      ]
     },
     "metadata": {},
     "output_type": "display_data"
    },
    {
     "data": {
      "application/vnd.jupyter.widget-view+json": {
       "model_id": "eb56f3b17cde4f8cb99868f05aedd17c",
       "version_major": 2,
       "version_minor": 0
      },
      "text/plain": [
       "Evaluator:   0%|          | 0/6 [00:00<?, ?it/s]"
      ]
     },
     "metadata": {},
     "output_type": "display_data"
    },
    {
     "data": {
      "application/vnd.jupyter.widget-view+json": {
       "model_id": "9243e3458dea4790b670951a2e5f6106",
       "version_major": 2,
       "version_minor": 0
      },
      "text/plain": [
       "Evaluator:   0%|          | 0/6 [00:00<?, ?it/s]"
      ]
     },
     "metadata": {},
     "output_type": "display_data"
    },
    {
     "data": {
      "application/vnd.jupyter.widget-view+json": {
       "model_id": "10831ba8a14f49739ff35c7be75d2b97",
       "version_major": 2,
       "version_minor": 0
      },
      "text/plain": [
       "Evaluator:   0%|          | 0/6 [00:00<?, ?it/s]"
      ]
     },
     "metadata": {},
     "output_type": "display_data"
    },
    {
     "data": {
      "application/vnd.jupyter.widget-view+json": {
       "model_id": "ad4ee9e1df1847c5af874dc0e30231b0",
       "version_major": 2,
       "version_minor": 0
      },
      "text/plain": [
       "Evaluator:   0%|          | 0/6 [00:00<?, ?it/s]"
      ]
     },
     "metadata": {},
     "output_type": "display_data"
    },
    {
     "data": {
      "application/vnd.jupyter.widget-view+json": {
       "model_id": "4e517ed79c80474cb41709b93f0740f0",
       "version_major": 2,
       "version_minor": 0
      },
      "text/plain": [
       "Evaluator:   0%|          | 0/6 [00:00<?, ?it/s]"
      ]
     },
     "metadata": {},
     "output_type": "display_data"
    },
    {
     "data": {
      "application/vnd.jupyter.widget-view+json": {
       "model_id": "2ac549e25fe64c9890b04f8ce874830b",
       "version_major": 2,
       "version_minor": 0
      },
      "text/plain": [
       "Evaluator:   0%|          | 0/6 [00:00<?, ?it/s]"
      ]
     },
     "metadata": {},
     "output_type": "display_data"
    },
    {
     "data": {
      "application/vnd.jupyter.widget-view+json": {
       "model_id": "3b527fd4e0ed4dc29241fe2d09ca2b2d",
       "version_major": 2,
       "version_minor": 0
      },
      "text/plain": [
       "Evaluator:   0%|          | 0/6 [00:00<?, ?it/s]"
      ]
     },
     "metadata": {},
     "output_type": "display_data"
    },
    {
     "data": {
      "application/vnd.jupyter.widget-view+json": {
       "model_id": "f503dd95d96246cf97d34f84a432f214",
       "version_major": 2,
       "version_minor": 0
      },
      "text/plain": [
       "Evaluator:   0%|          | 0/6 [00:00<?, ?it/s]"
      ]
     },
     "metadata": {},
     "output_type": "display_data"
    },
    {
     "name": "stderr",
     "output_type": "stream",
     "text": [
      " 55%|█████▍    | 6/11 [01:58<00:59, 11.96s/it]"
     ]
    },
    {
     "data": {
      "application/vnd.jupyter.widget-view+json": {
       "model_id": "c4fb4c86d23d402187c25155d81f4893",
       "version_major": 2,
       "version_minor": 0
      },
      "text/plain": [
       "Evaluator:   0%|          | 0/6 [00:00<?, ?it/s]"
      ]
     },
     "metadata": {},
     "output_type": "display_data"
    },
    {
     "data": {
      "application/vnd.jupyter.widget-view+json": {
       "model_id": "864f3c2db75f4ffc88df4b47b4e4924a",
       "version_major": 2,
       "version_minor": 0
      },
      "text/plain": [
       "Evaluator:   0%|          | 0/6 [00:00<?, ?it/s]"
      ]
     },
     "metadata": {},
     "output_type": "display_data"
    },
    {
     "data": {
      "application/vnd.jupyter.widget-view+json": {
       "model_id": "e812168ba28741d2a529765fe5b5f9c6",
       "version_major": 2,
       "version_minor": 0
      },
      "text/plain": [
       "Evaluator:   0%|          | 0/6 [00:00<?, ?it/s]"
      ]
     },
     "metadata": {},
     "output_type": "display_data"
    },
    {
     "data": {
      "application/vnd.jupyter.widget-view+json": {
       "model_id": "a9e5abd48a3843c291ea4b07b70b103f",
       "version_major": 2,
       "version_minor": 0
      },
      "text/plain": [
       "Evaluator:   0%|          | 0/6 [00:00<?, ?it/s]"
      ]
     },
     "metadata": {},
     "output_type": "display_data"
    },
    {
     "data": {
      "application/vnd.jupyter.widget-view+json": {
       "model_id": "f2c597f2297b41ef9adb6c22b52a54dd",
       "version_major": 2,
       "version_minor": 0
      },
      "text/plain": [
       "Evaluator:   0%|          | 0/6 [00:00<?, ?it/s]"
      ]
     },
     "metadata": {},
     "output_type": "display_data"
    },
    {
     "data": {
      "application/vnd.jupyter.widget-view+json": {
       "model_id": "ae84a9c2b9e143a8a825c1cb98a87659",
       "version_major": 2,
       "version_minor": 0
      },
      "text/plain": [
       "Evaluator:   0%|          | 0/6 [00:00<?, ?it/s]"
      ]
     },
     "metadata": {},
     "output_type": "display_data"
    },
    {
     "data": {
      "application/vnd.jupyter.widget-view+json": {
       "model_id": "2d3413d93fa7468a9aca401514a6c869",
       "version_major": 2,
       "version_minor": 0
      },
      "text/plain": [
       "Evaluator:   0%|          | 0/6 [00:00<?, ?it/s]"
      ]
     },
     "metadata": {},
     "output_type": "display_data"
    },
    {
     "data": {
      "application/vnd.jupyter.widget-view+json": {
       "model_id": "24246635ba5447438e519de549f72c10",
       "version_major": 2,
       "version_minor": 0
      },
      "text/plain": [
       "Evaluator:   0%|          | 0/6 [00:00<?, ?it/s]"
      ]
     },
     "metadata": {},
     "output_type": "display_data"
    },
    {
     "data": {
      "application/vnd.jupyter.widget-view+json": {
       "model_id": "0f434338c7b2400b8165ab9532be5123",
       "version_major": 2,
       "version_minor": 0
      },
      "text/plain": [
       "Evaluator:   0%|          | 0/6 [00:00<?, ?it/s]"
      ]
     },
     "metadata": {},
     "output_type": "display_data"
    },
    {
     "data": {
      "application/vnd.jupyter.widget-view+json": {
       "model_id": "e390a1231e7f4cd2b972ef3ff3d1e40e",
       "version_major": 2,
       "version_minor": 0
      },
      "text/plain": [
       "Evaluator:   0%|          | 0/6 [00:00<?, ?it/s]"
      ]
     },
     "metadata": {},
     "output_type": "display_data"
    },
    {
     "data": {
      "application/vnd.jupyter.widget-view+json": {
       "model_id": "26e84dbbe4714c38a9997271a54568f9",
       "version_major": 2,
       "version_minor": 0
      },
      "text/plain": [
       "Evaluator:   0%|          | 0/6 [00:00<?, ?it/s]"
      ]
     },
     "metadata": {},
     "output_type": "display_data"
    },
    {
     "data": {
      "application/vnd.jupyter.widget-view+json": {
       "model_id": "12b3c2de906b4a95b2fe6d78bbfc65fc",
       "version_major": 2,
       "version_minor": 0
      },
      "text/plain": [
       "Evaluator:   0%|          | 0/6 [00:00<?, ?it/s]"
      ]
     },
     "metadata": {},
     "output_type": "display_data"
    },
    {
     "data": {
      "application/vnd.jupyter.widget-view+json": {
       "model_id": "c6d31cfa57774f6680f66f1797723749",
       "version_major": 2,
       "version_minor": 0
      },
      "text/plain": [
       "Evaluator:   0%|          | 0/6 [00:00<?, ?it/s]"
      ]
     },
     "metadata": {},
     "output_type": "display_data"
    },
    {
     "data": {
      "application/vnd.jupyter.widget-view+json": {
       "model_id": "f760d64a08b74492a5314b8df28bfbe8",
       "version_major": 2,
       "version_minor": 0
      },
      "text/plain": [
       "Evaluator:   0%|          | 0/6 [00:00<?, ?it/s]"
      ]
     },
     "metadata": {},
     "output_type": "display_data"
    },
    {
     "data": {
      "application/vnd.jupyter.widget-view+json": {
       "model_id": "a75db697acf042888e1e05cec2e4f023",
       "version_major": 2,
       "version_minor": 0
      },
      "text/plain": [
       "Evaluator:   0%|          | 0/6 [00:00<?, ?it/s]"
      ]
     },
     "metadata": {},
     "output_type": "display_data"
    },
    {
     "data": {
      "application/vnd.jupyter.widget-view+json": {
       "model_id": "c8920293091c43958edad9a38d11a8a6",
       "version_major": 2,
       "version_minor": 0
      },
      "text/plain": [
       "Evaluator:   0%|          | 0/6 [00:00<?, ?it/s]"
      ]
     },
     "metadata": {},
     "output_type": "display_data"
    },
    {
     "data": {
      "application/vnd.jupyter.widget-view+json": {
       "model_id": "37ef30b7be1547589c0b939275004eb6",
       "version_major": 2,
       "version_minor": 0
      },
      "text/plain": [
       "Evaluator:   0%|          | 0/6 [00:00<?, ?it/s]"
      ]
     },
     "metadata": {},
     "output_type": "display_data"
    },
    {
     "data": {
      "application/vnd.jupyter.widget-view+json": {
       "model_id": "89f1ad6637b54927bbb0151bf5d3155f",
       "version_major": 2,
       "version_minor": 0
      },
      "text/plain": [
       "Evaluator:   0%|          | 0/6 [00:00<?, ?it/s]"
      ]
     },
     "metadata": {},
     "output_type": "display_data"
    },
    {
     "data": {
      "application/vnd.jupyter.widget-view+json": {
       "model_id": "ae4ec5246d084560b51486de0890fe08",
       "version_major": 2,
       "version_minor": 0
      },
      "text/plain": [
       "Evaluator:   0%|          | 0/6 [00:00<?, ?it/s]"
      ]
     },
     "metadata": {},
     "output_type": "display_data"
    },
    {
     "data": {
      "application/vnd.jupyter.widget-view+json": {
       "model_id": "2cfbec126d9d421780c6241d75d99119",
       "version_major": 2,
       "version_minor": 0
      },
      "text/plain": [
       "Evaluator:   0%|          | 0/6 [00:00<?, ?it/s]"
      ]
     },
     "metadata": {},
     "output_type": "display_data"
    },
    {
     "name": "stderr",
     "output_type": "stream",
     "text": [
      " 64%|██████▎   | 7/11 [02:17<00:56, 14.07s/it]"
     ]
    },
    {
     "data": {
      "application/vnd.jupyter.widget-view+json": {
       "model_id": "18e1860f3608456f927b9192267d2c88",
       "version_major": 2,
       "version_minor": 0
      },
      "text/plain": [
       "Evaluator:   0%|          | 0/6 [00:00<?, ?it/s]"
      ]
     },
     "metadata": {},
     "output_type": "display_data"
    },
    {
     "data": {
      "application/vnd.jupyter.widget-view+json": {
       "model_id": "b4b767a10854431cae87922429f3b42f",
       "version_major": 2,
       "version_minor": 0
      },
      "text/plain": [
       "Evaluator:   0%|          | 0/6 [00:00<?, ?it/s]"
      ]
     },
     "metadata": {},
     "output_type": "display_data"
    },
    {
     "data": {
      "application/vnd.jupyter.widget-view+json": {
       "model_id": "ffa02b025b274930ae0677f6d171e599",
       "version_major": 2,
       "version_minor": 0
      },
      "text/plain": [
       "Evaluator:   0%|          | 0/6 [00:00<?, ?it/s]"
      ]
     },
     "metadata": {},
     "output_type": "display_data"
    },
    {
     "data": {
      "application/vnd.jupyter.widget-view+json": {
       "model_id": "aeebc317c85b4171bc6230e65d7b0610",
       "version_major": 2,
       "version_minor": 0
      },
      "text/plain": [
       "Evaluator:   0%|          | 0/6 [00:00<?, ?it/s]"
      ]
     },
     "metadata": {},
     "output_type": "display_data"
    },
    {
     "data": {
      "application/vnd.jupyter.widget-view+json": {
       "model_id": "5248718edebf49acad8353197681a125",
       "version_major": 2,
       "version_minor": 0
      },
      "text/plain": [
       "Evaluator:   0%|          | 0/6 [00:00<?, ?it/s]"
      ]
     },
     "metadata": {},
     "output_type": "display_data"
    },
    {
     "data": {
      "application/vnd.jupyter.widget-view+json": {
       "model_id": "5fb6ec5e84ef42a69bb5e8d437ad2bea",
       "version_major": 2,
       "version_minor": 0
      },
      "text/plain": [
       "Evaluator:   0%|          | 0/6 [00:00<?, ?it/s]"
      ]
     },
     "metadata": {},
     "output_type": "display_data"
    },
    {
     "data": {
      "application/vnd.jupyter.widget-view+json": {
       "model_id": "ceefac741d9f4f90a393d190256f37bc",
       "version_major": 2,
       "version_minor": 0
      },
      "text/plain": [
       "Evaluator:   0%|          | 0/6 [00:00<?, ?it/s]"
      ]
     },
     "metadata": {},
     "output_type": "display_data"
    },
    {
     "data": {
      "application/vnd.jupyter.widget-view+json": {
       "model_id": "0bd78355ab314af2b1f6cd0db39d9e7e",
       "version_major": 2,
       "version_minor": 0
      },
      "text/plain": [
       "Evaluator:   0%|          | 0/6 [00:00<?, ?it/s]"
      ]
     },
     "metadata": {},
     "output_type": "display_data"
    },
    {
     "data": {
      "application/vnd.jupyter.widget-view+json": {
       "model_id": "eb75ee7fb706475698b3b0b769a5c7ea",
       "version_major": 2,
       "version_minor": 0
      },
      "text/plain": [
       "Evaluator:   0%|          | 0/6 [00:00<?, ?it/s]"
      ]
     },
     "metadata": {},
     "output_type": "display_data"
    },
    {
     "data": {
      "application/vnd.jupyter.widget-view+json": {
       "model_id": "83d69d8a96bf4a899f25ff105d23c20c",
       "version_major": 2,
       "version_minor": 0
      },
      "text/plain": [
       "Evaluator:   0%|          | 0/6 [00:00<?, ?it/s]"
      ]
     },
     "metadata": {},
     "output_type": "display_data"
    },
    {
     "data": {
      "application/vnd.jupyter.widget-view+json": {
       "model_id": "1817866a3245482db4ec60dc1075df89",
       "version_major": 2,
       "version_minor": 0
      },
      "text/plain": [
       "Evaluator:   0%|          | 0/6 [00:00<?, ?it/s]"
      ]
     },
     "metadata": {},
     "output_type": "display_data"
    },
    {
     "data": {
      "application/vnd.jupyter.widget-view+json": {
       "model_id": "b7673688174e42dcb61e5ecd91298daa",
       "version_major": 2,
       "version_minor": 0
      },
      "text/plain": [
       "Evaluator:   0%|          | 0/6 [00:00<?, ?it/s]"
      ]
     },
     "metadata": {},
     "output_type": "display_data"
    },
    {
     "data": {
      "application/vnd.jupyter.widget-view+json": {
       "model_id": "2bc8d769ed9542eba35d4e2d1c22ca22",
       "version_major": 2,
       "version_minor": 0
      },
      "text/plain": [
       "Evaluator:   0%|          | 0/6 [00:00<?, ?it/s]"
      ]
     },
     "metadata": {},
     "output_type": "display_data"
    },
    {
     "data": {
      "application/vnd.jupyter.widget-view+json": {
       "model_id": "f85383893d9a4c358466e142d1ff2adc",
       "version_major": 2,
       "version_minor": 0
      },
      "text/plain": [
       "Evaluator:   0%|          | 0/6 [00:00<?, ?it/s]"
      ]
     },
     "metadata": {},
     "output_type": "display_data"
    },
    {
     "data": {
      "application/vnd.jupyter.widget-view+json": {
       "model_id": "f41b39f2404e4367b89c29df91ce249a",
       "version_major": 2,
       "version_minor": 0
      },
      "text/plain": [
       "Evaluator:   0%|          | 0/6 [00:00<?, ?it/s]"
      ]
     },
     "metadata": {},
     "output_type": "display_data"
    },
    {
     "data": {
      "application/vnd.jupyter.widget-view+json": {
       "model_id": "91d32e8e0e584fb2867e76322b9f82a0",
       "version_major": 2,
       "version_minor": 0
      },
      "text/plain": [
       "Evaluator:   0%|          | 0/6 [00:00<?, ?it/s]"
      ]
     },
     "metadata": {},
     "output_type": "display_data"
    },
    {
     "data": {
      "application/vnd.jupyter.widget-view+json": {
       "model_id": "630b73ca28c145cbbc3435e9a31196ae",
       "version_major": 2,
       "version_minor": 0
      },
      "text/plain": [
       "Evaluator:   0%|          | 0/6 [00:00<?, ?it/s]"
      ]
     },
     "metadata": {},
     "output_type": "display_data"
    },
    {
     "data": {
      "application/vnd.jupyter.widget-view+json": {
       "model_id": "beb2cdcc5c06466cafb19d0a4920059d",
       "version_major": 2,
       "version_minor": 0
      },
      "text/plain": [
       "Evaluator:   0%|          | 0/6 [00:00<?, ?it/s]"
      ]
     },
     "metadata": {},
     "output_type": "display_data"
    },
    {
     "data": {
      "application/vnd.jupyter.widget-view+json": {
       "model_id": "5224570823504e62acda2928be0f2ac8",
       "version_major": 2,
       "version_minor": 0
      },
      "text/plain": [
       "Evaluator:   0%|          | 0/6 [00:00<?, ?it/s]"
      ]
     },
     "metadata": {},
     "output_type": "display_data"
    },
    {
     "data": {
      "application/vnd.jupyter.widget-view+json": {
       "model_id": "b573d00164744713a3fa34ead9c9f10e",
       "version_major": 2,
       "version_minor": 0
      },
      "text/plain": [
       "Evaluator:   0%|          | 0/6 [00:00<?, ?it/s]"
      ]
     },
     "metadata": {},
     "output_type": "display_data"
    },
    {
     "name": "stderr",
     "output_type": "stream",
     "text": [
      " 73%|███████▎  | 8/11 [04:00<02:07, 42.55s/it]"
     ]
    },
    {
     "data": {
      "application/vnd.jupyter.widget-view+json": {
       "model_id": "144ee3a5ba5c41baa1c0364d2600934c",
       "version_major": 2,
       "version_minor": 0
      },
      "text/plain": [
       "Evaluator:   0%|          | 0/6 [00:00<?, ?it/s]"
      ]
     },
     "metadata": {},
     "output_type": "display_data"
    },
    {
     "data": {
      "application/vnd.jupyter.widget-view+json": {
       "model_id": "8d5a316f49894ee99db3e200fcd6af3b",
       "version_major": 2,
       "version_minor": 0
      },
      "text/plain": [
       "Evaluator:   0%|          | 0/6 [00:00<?, ?it/s]"
      ]
     },
     "metadata": {},
     "output_type": "display_data"
    },
    {
     "data": {
      "application/vnd.jupyter.widget-view+json": {
       "model_id": "68d0a8630b5c4900b4a76599338d27b8",
       "version_major": 2,
       "version_minor": 0
      },
      "text/plain": [
       "Evaluator:   0%|          | 0/6 [00:00<?, ?it/s]"
      ]
     },
     "metadata": {},
     "output_type": "display_data"
    },
    {
     "data": {
      "application/vnd.jupyter.widget-view+json": {
       "model_id": "7592c60e5d8a45c3ad2b734aa86b8337",
       "version_major": 2,
       "version_minor": 0
      },
      "text/plain": [
       "Evaluator:   0%|          | 0/6 [00:00<?, ?it/s]"
      ]
     },
     "metadata": {},
     "output_type": "display_data"
    },
    {
     "data": {
      "application/vnd.jupyter.widget-view+json": {
       "model_id": "0129e270754a4b8f8ee5e501619137cb",
       "version_major": 2,
       "version_minor": 0
      },
      "text/plain": [
       "Evaluator:   0%|          | 0/6 [00:00<?, ?it/s]"
      ]
     },
     "metadata": {},
     "output_type": "display_data"
    },
    {
     "data": {
      "application/vnd.jupyter.widget-view+json": {
       "model_id": "0b2fb2d1bc8e4c1a81de22a9433e6768",
       "version_major": 2,
       "version_minor": 0
      },
      "text/plain": [
       "Evaluator:   0%|          | 0/6 [00:00<?, ?it/s]"
      ]
     },
     "metadata": {},
     "output_type": "display_data"
    },
    {
     "data": {
      "application/vnd.jupyter.widget-view+json": {
       "model_id": "7a79c798093b43d69674211e3ad25565",
       "version_major": 2,
       "version_minor": 0
      },
      "text/plain": [
       "Evaluator:   0%|          | 0/6 [00:00<?, ?it/s]"
      ]
     },
     "metadata": {},
     "output_type": "display_data"
    },
    {
     "data": {
      "application/vnd.jupyter.widget-view+json": {
       "model_id": "37db50672191482d95379703d32e0564",
       "version_major": 2,
       "version_minor": 0
      },
      "text/plain": [
       "Evaluator:   0%|          | 0/6 [00:00<?, ?it/s]"
      ]
     },
     "metadata": {},
     "output_type": "display_data"
    },
    {
     "data": {
      "application/vnd.jupyter.widget-view+json": {
       "model_id": "b1914c31a0f84216a2fa4683372d88ad",
       "version_major": 2,
       "version_minor": 0
      },
      "text/plain": [
       "Evaluator:   0%|          | 0/6 [00:00<?, ?it/s]"
      ]
     },
     "metadata": {},
     "output_type": "display_data"
    },
    {
     "data": {
      "application/vnd.jupyter.widget-view+json": {
       "model_id": "ee19c13330b24056bcf2329f0af1e613",
       "version_major": 2,
       "version_minor": 0
      },
      "text/plain": [
       "Evaluator:   0%|          | 0/6 [00:00<?, ?it/s]"
      ]
     },
     "metadata": {},
     "output_type": "display_data"
    },
    {
     "data": {
      "application/vnd.jupyter.widget-view+json": {
       "model_id": "5d28db97bdcf44b8880e1097fb45d11f",
       "version_major": 2,
       "version_minor": 0
      },
      "text/plain": [
       "Evaluator:   0%|          | 0/6 [00:00<?, ?it/s]"
      ]
     },
     "metadata": {},
     "output_type": "display_data"
    },
    {
     "data": {
      "application/vnd.jupyter.widget-view+json": {
       "model_id": "f025f5b12ddb411a857f0140f0989922",
       "version_major": 2,
       "version_minor": 0
      },
      "text/plain": [
       "Evaluator:   0%|          | 0/6 [00:00<?, ?it/s]"
      ]
     },
     "metadata": {},
     "output_type": "display_data"
    },
    {
     "data": {
      "application/vnd.jupyter.widget-view+json": {
       "model_id": "b2cba6d3158e42f7b6edc037a922fce4",
       "version_major": 2,
       "version_minor": 0
      },
      "text/plain": [
       "Evaluator:   0%|          | 0/6 [00:00<?, ?it/s]"
      ]
     },
     "metadata": {},
     "output_type": "display_data"
    },
    {
     "data": {
      "application/vnd.jupyter.widget-view+json": {
       "model_id": "894d6c8a55e945439d68120f1d5ffe3b",
       "version_major": 2,
       "version_minor": 0
      },
      "text/plain": [
       "Evaluator:   0%|          | 0/6 [00:00<?, ?it/s]"
      ]
     },
     "metadata": {},
     "output_type": "display_data"
    },
    {
     "data": {
      "application/vnd.jupyter.widget-view+json": {
       "model_id": "cc437b17415a49e1b993f3eed0ca5802",
       "version_major": 2,
       "version_minor": 0
      },
      "text/plain": [
       "Evaluator:   0%|          | 0/6 [00:00<?, ?it/s]"
      ]
     },
     "metadata": {},
     "output_type": "display_data"
    },
    {
     "data": {
      "application/vnd.jupyter.widget-view+json": {
       "model_id": "f686e176fedc488693c4d3182532313e",
       "version_major": 2,
       "version_minor": 0
      },
      "text/plain": [
       "Evaluator:   0%|          | 0/6 [00:00<?, ?it/s]"
      ]
     },
     "metadata": {},
     "output_type": "display_data"
    },
    {
     "data": {
      "application/vnd.jupyter.widget-view+json": {
       "model_id": "525c34cab34140b3826ae23a5bae72a6",
       "version_major": 2,
       "version_minor": 0
      },
      "text/plain": [
       "Evaluator:   0%|          | 0/6 [00:00<?, ?it/s]"
      ]
     },
     "metadata": {},
     "output_type": "display_data"
    },
    {
     "data": {
      "application/vnd.jupyter.widget-view+json": {
       "model_id": "63470d3aad004b6cac4f67c9da5a65f7",
       "version_major": 2,
       "version_minor": 0
      },
      "text/plain": [
       "Evaluator:   0%|          | 0/6 [00:00<?, ?it/s]"
      ]
     },
     "metadata": {},
     "output_type": "display_data"
    },
    {
     "data": {
      "application/vnd.jupyter.widget-view+json": {
       "model_id": "d0f82c66abe243b0a6e1216103e2d27b",
       "version_major": 2,
       "version_minor": 0
      },
      "text/plain": [
       "Evaluator:   0%|          | 0/6 [00:00<?, ?it/s]"
      ]
     },
     "metadata": {},
     "output_type": "display_data"
    },
    {
     "data": {
      "application/vnd.jupyter.widget-view+json": {
       "model_id": "868c9fe58dcb43a5945548a0c3e2d140",
       "version_major": 2,
       "version_minor": 0
      },
      "text/plain": [
       "Evaluator:   0%|          | 0/6 [00:00<?, ?it/s]"
      ]
     },
     "metadata": {},
     "output_type": "display_data"
    },
    {
     "name": "stderr",
     "output_type": "stream",
     "text": [
      " 82%|████████▏ | 9/11 [04:18<01:09, 34.63s/it]"
     ]
    },
    {
     "data": {
      "application/vnd.jupyter.widget-view+json": {
       "model_id": "cceb2af1cb194b0486f47f61dc7099aa",
       "version_major": 2,
       "version_minor": 0
      },
      "text/plain": [
       "Evaluator:   0%|          | 0/6 [00:00<?, ?it/s]"
      ]
     },
     "metadata": {},
     "output_type": "display_data"
    },
    {
     "data": {
      "application/vnd.jupyter.widget-view+json": {
       "model_id": "ca8a15c569c44dc6877df1bd2274f02e",
       "version_major": 2,
       "version_minor": 0
      },
      "text/plain": [
       "Evaluator:   0%|          | 0/6 [00:00<?, ?it/s]"
      ]
     },
     "metadata": {},
     "output_type": "display_data"
    },
    {
     "data": {
      "application/vnd.jupyter.widget-view+json": {
       "model_id": "8d8cd110611d4270ba50ef7f027d4ec2",
       "version_major": 2,
       "version_minor": 0
      },
      "text/plain": [
       "Evaluator:   0%|          | 0/6 [00:00<?, ?it/s]"
      ]
     },
     "metadata": {},
     "output_type": "display_data"
    },
    {
     "data": {
      "application/vnd.jupyter.widget-view+json": {
       "model_id": "95ec45a5a97645d2a613355ff09907bd",
       "version_major": 2,
       "version_minor": 0
      },
      "text/plain": [
       "Evaluator:   0%|          | 0/6 [00:00<?, ?it/s]"
      ]
     },
     "metadata": {},
     "output_type": "display_data"
    },
    {
     "data": {
      "application/vnd.jupyter.widget-view+json": {
       "model_id": "1f710c8b97a74257b152baee8d07eedc",
       "version_major": 2,
       "version_minor": 0
      },
      "text/plain": [
       "Evaluator:   0%|          | 0/6 [00:00<?, ?it/s]"
      ]
     },
     "metadata": {},
     "output_type": "display_data"
    },
    {
     "data": {
      "application/vnd.jupyter.widget-view+json": {
       "model_id": "e11462853ca34b20aa3f13b4674d4a33",
       "version_major": 2,
       "version_minor": 0
      },
      "text/plain": [
       "Evaluator:   0%|          | 0/6 [00:00<?, ?it/s]"
      ]
     },
     "metadata": {},
     "output_type": "display_data"
    },
    {
     "data": {
      "application/vnd.jupyter.widget-view+json": {
       "model_id": "1301a733a6364e88bc6b6e0377417737",
       "version_major": 2,
       "version_minor": 0
      },
      "text/plain": [
       "Evaluator:   0%|          | 0/6 [00:00<?, ?it/s]"
      ]
     },
     "metadata": {},
     "output_type": "display_data"
    },
    {
     "data": {
      "application/vnd.jupyter.widget-view+json": {
       "model_id": "8c8964e31b83409ea593a1c2a3d8637a",
       "version_major": 2,
       "version_minor": 0
      },
      "text/plain": [
       "Evaluator:   0%|          | 0/6 [00:00<?, ?it/s]"
      ]
     },
     "metadata": {},
     "output_type": "display_data"
    },
    {
     "data": {
      "application/vnd.jupyter.widget-view+json": {
       "model_id": "8318425e8f52411aa147631f27c431da",
       "version_major": 2,
       "version_minor": 0
      },
      "text/plain": [
       "Evaluator:   0%|          | 0/6 [00:00<?, ?it/s]"
      ]
     },
     "metadata": {},
     "output_type": "display_data"
    },
    {
     "data": {
      "application/vnd.jupyter.widget-view+json": {
       "model_id": "34f9cbd2c2b04396befb4759ee70719c",
       "version_major": 2,
       "version_minor": 0
      },
      "text/plain": [
       "Evaluator:   0%|          | 0/6 [00:00<?, ?it/s]"
      ]
     },
     "metadata": {},
     "output_type": "display_data"
    },
    {
     "data": {
      "application/vnd.jupyter.widget-view+json": {
       "model_id": "2a77ca9ba7e74f9c9e00571e0d690ba1",
       "version_major": 2,
       "version_minor": 0
      },
      "text/plain": [
       "Evaluator:   0%|          | 0/6 [00:00<?, ?it/s]"
      ]
     },
     "metadata": {},
     "output_type": "display_data"
    },
    {
     "data": {
      "application/vnd.jupyter.widget-view+json": {
       "model_id": "e26861007df241fdae321530dfc85a4d",
       "version_major": 2,
       "version_minor": 0
      },
      "text/plain": [
       "Evaluator:   0%|          | 0/6 [00:00<?, ?it/s]"
      ]
     },
     "metadata": {},
     "output_type": "display_data"
    },
    {
     "data": {
      "application/vnd.jupyter.widget-view+json": {
       "model_id": "72d80a39aadf4ced8b23c03a3c3dda83",
       "version_major": 2,
       "version_minor": 0
      },
      "text/plain": [
       "Evaluator:   0%|          | 0/6 [00:00<?, ?it/s]"
      ]
     },
     "metadata": {},
     "output_type": "display_data"
    },
    {
     "data": {
      "application/vnd.jupyter.widget-view+json": {
       "model_id": "6958b54ae59144d1878e42253e9fc46e",
       "version_major": 2,
       "version_minor": 0
      },
      "text/plain": [
       "Evaluator:   0%|          | 0/6 [00:00<?, ?it/s]"
      ]
     },
     "metadata": {},
     "output_type": "display_data"
    },
    {
     "data": {
      "application/vnd.jupyter.widget-view+json": {
       "model_id": "95308d67165841abb1f0bea29a3f887f",
       "version_major": 2,
       "version_minor": 0
      },
      "text/plain": [
       "Evaluator:   0%|          | 0/6 [00:00<?, ?it/s]"
      ]
     },
     "metadata": {},
     "output_type": "display_data"
    },
    {
     "data": {
      "application/vnd.jupyter.widget-view+json": {
       "model_id": "d05c70a233e64b24b2d659e8206b7aa9",
       "version_major": 2,
       "version_minor": 0
      },
      "text/plain": [
       "Evaluator:   0%|          | 0/6 [00:00<?, ?it/s]"
      ]
     },
     "metadata": {},
     "output_type": "display_data"
    },
    {
     "data": {
      "application/vnd.jupyter.widget-view+json": {
       "model_id": "0c3dcac8d674442bb91349752a2e1b38",
       "version_major": 2,
       "version_minor": 0
      },
      "text/plain": [
       "Evaluator:   0%|          | 0/6 [00:00<?, ?it/s]"
      ]
     },
     "metadata": {},
     "output_type": "display_data"
    },
    {
     "data": {
      "application/vnd.jupyter.widget-view+json": {
       "model_id": "72c9a569496840d98b7df54884f1c754",
       "version_major": 2,
       "version_minor": 0
      },
      "text/plain": [
       "Evaluator:   0%|          | 0/6 [00:00<?, ?it/s]"
      ]
     },
     "metadata": {},
     "output_type": "display_data"
    },
    {
     "data": {
      "application/vnd.jupyter.widget-view+json": {
       "model_id": "0149a0128324468ea561680ba439cc53",
       "version_major": 2,
       "version_minor": 0
      },
      "text/plain": [
       "Evaluator:   0%|          | 0/6 [00:00<?, ?it/s]"
      ]
     },
     "metadata": {},
     "output_type": "display_data"
    },
    {
     "data": {
      "application/vnd.jupyter.widget-view+json": {
       "model_id": "275a433fe6064ebd958078f564df6496",
       "version_major": 2,
       "version_minor": 0
      },
      "text/plain": [
       "Evaluator:   0%|          | 0/6 [00:00<?, ?it/s]"
      ]
     },
     "metadata": {},
     "output_type": "display_data"
    },
    {
     "name": "stderr",
     "output_type": "stream",
     "text": [
      " 91%|█████████ | 10/11 [04:26<00:26, 26.48s/it]"
     ]
    },
    {
     "data": {
      "application/vnd.jupyter.widget-view+json": {
       "model_id": "9c7e0a07b6cc46aab57f8640d7746959",
       "version_major": 2,
       "version_minor": 0
      },
      "text/plain": [
       "Evaluator:   0%|          | 0/6 [00:00<?, ?it/s]"
      ]
     },
     "metadata": {},
     "output_type": "display_data"
    },
    {
     "data": {
      "application/vnd.jupyter.widget-view+json": {
       "model_id": "f739ca596ef44fb99b2f32627a404fc7",
       "version_major": 2,
       "version_minor": 0
      },
      "text/plain": [
       "Evaluator:   0%|          | 0/6 [00:00<?, ?it/s]"
      ]
     },
     "metadata": {},
     "output_type": "display_data"
    },
    {
     "data": {
      "application/vnd.jupyter.widget-view+json": {
       "model_id": "0abec4b8b5084b4fa6bf4710655452e7",
       "version_major": 2,
       "version_minor": 0
      },
      "text/plain": [
       "Evaluator:   0%|          | 0/6 [00:00<?, ?it/s]"
      ]
     },
     "metadata": {},
     "output_type": "display_data"
    },
    {
     "data": {
      "application/vnd.jupyter.widget-view+json": {
       "model_id": "fe7ae0b85f784696952e69822acc073c",
       "version_major": 2,
       "version_minor": 0
      },
      "text/plain": [
       "Evaluator:   0%|          | 0/6 [00:00<?, ?it/s]"
      ]
     },
     "metadata": {},
     "output_type": "display_data"
    },
    {
     "data": {
      "application/vnd.jupyter.widget-view+json": {
       "model_id": "3c48fea01b064bd085c90382f3bb71da",
       "version_major": 2,
       "version_minor": 0
      },
      "text/plain": [
       "Evaluator:   0%|          | 0/6 [00:00<?, ?it/s]"
      ]
     },
     "metadata": {},
     "output_type": "display_data"
    },
    {
     "data": {
      "application/vnd.jupyter.widget-view+json": {
       "model_id": "fe48baf6173d4786b41b3f329e0b2c2f",
       "version_major": 2,
       "version_minor": 0
      },
      "text/plain": [
       "Evaluator:   0%|          | 0/6 [00:00<?, ?it/s]"
      ]
     },
     "metadata": {},
     "output_type": "display_data"
    },
    {
     "data": {
      "application/vnd.jupyter.widget-view+json": {
       "model_id": "7a6882822d514fbe81aad6bf1a5409d0",
       "version_major": 2,
       "version_minor": 0
      },
      "text/plain": [
       "Evaluator:   0%|          | 0/6 [00:00<?, ?it/s]"
      ]
     },
     "metadata": {},
     "output_type": "display_data"
    },
    {
     "data": {
      "application/vnd.jupyter.widget-view+json": {
       "model_id": "3b63309d3aa047feacd35a63f7ff9173",
       "version_major": 2,
       "version_minor": 0
      },
      "text/plain": [
       "Evaluator:   0%|          | 0/6 [00:00<?, ?it/s]"
      ]
     },
     "metadata": {},
     "output_type": "display_data"
    },
    {
     "data": {
      "application/vnd.jupyter.widget-view+json": {
       "model_id": "6aab38958b114a9db6ef94d9be74e82c",
       "version_major": 2,
       "version_minor": 0
      },
      "text/plain": [
       "Evaluator:   0%|          | 0/6 [00:00<?, ?it/s]"
      ]
     },
     "metadata": {},
     "output_type": "display_data"
    },
    {
     "data": {
      "application/vnd.jupyter.widget-view+json": {
       "model_id": "da67fb0e05114953aef60c4081aee464",
       "version_major": 2,
       "version_minor": 0
      },
      "text/plain": [
       "Evaluator:   0%|          | 0/6 [00:00<?, ?it/s]"
      ]
     },
     "metadata": {},
     "output_type": "display_data"
    },
    {
     "data": {
      "application/vnd.jupyter.widget-view+json": {
       "model_id": "f8b0df6bcb694a33a5970d3c8e905252",
       "version_major": 2,
       "version_minor": 0
      },
      "text/plain": [
       "Evaluator:   0%|          | 0/6 [00:00<?, ?it/s]"
      ]
     },
     "metadata": {},
     "output_type": "display_data"
    },
    {
     "data": {
      "application/vnd.jupyter.widget-view+json": {
       "model_id": "2b905674b7944bcbac01e948cbd73094",
       "version_major": 2,
       "version_minor": 0
      },
      "text/plain": [
       "Evaluator:   0%|          | 0/6 [00:00<?, ?it/s]"
      ]
     },
     "metadata": {},
     "output_type": "display_data"
    },
    {
     "data": {
      "application/vnd.jupyter.widget-view+json": {
       "model_id": "d44a07ac38f643199c5dd98005e78e0f",
       "version_major": 2,
       "version_minor": 0
      },
      "text/plain": [
       "Evaluator:   0%|          | 0/6 [00:00<?, ?it/s]"
      ]
     },
     "metadata": {},
     "output_type": "display_data"
    },
    {
     "data": {
      "application/vnd.jupyter.widget-view+json": {
       "model_id": "0642aafd1bc44c6b8b7de23d59ec1c53",
       "version_major": 2,
       "version_minor": 0
      },
      "text/plain": [
       "Evaluator:   0%|          | 0/6 [00:00<?, ?it/s]"
      ]
     },
     "metadata": {},
     "output_type": "display_data"
    },
    {
     "data": {
      "application/vnd.jupyter.widget-view+json": {
       "model_id": "1a95237ce5094d0d8afa8e7788b1606f",
       "version_major": 2,
       "version_minor": 0
      },
      "text/plain": [
       "Evaluator:   0%|          | 0/6 [00:00<?, ?it/s]"
      ]
     },
     "metadata": {},
     "output_type": "display_data"
    },
    {
     "data": {
      "application/vnd.jupyter.widget-view+json": {
       "model_id": "774e4795051440dbab982c83508adf2c",
       "version_major": 2,
       "version_minor": 0
      },
      "text/plain": [
       "Evaluator:   0%|          | 0/6 [00:00<?, ?it/s]"
      ]
     },
     "metadata": {},
     "output_type": "display_data"
    },
    {
     "data": {
      "application/vnd.jupyter.widget-view+json": {
       "model_id": "d80c936a298a4dc2ba213fed680fdb2a",
       "version_major": 2,
       "version_minor": 0
      },
      "text/plain": [
       "Evaluator:   0%|          | 0/6 [00:00<?, ?it/s]"
      ]
     },
     "metadata": {},
     "output_type": "display_data"
    },
    {
     "data": {
      "application/vnd.jupyter.widget-view+json": {
       "model_id": "f237391a9e8f4e82857c6e3513bd7176",
       "version_major": 2,
       "version_minor": 0
      },
      "text/plain": [
       "Evaluator:   0%|          | 0/6 [00:00<?, ?it/s]"
      ]
     },
     "metadata": {},
     "output_type": "display_data"
    },
    {
     "data": {
      "application/vnd.jupyter.widget-view+json": {
       "model_id": "a731b162aa7b408fb2a92511195021a4",
       "version_major": 2,
       "version_minor": 0
      },
      "text/plain": [
       "Evaluator:   0%|          | 0/6 [00:00<?, ?it/s]"
      ]
     },
     "metadata": {},
     "output_type": "display_data"
    },
    {
     "data": {
      "application/vnd.jupyter.widget-view+json": {
       "model_id": "77947053736247429d3e49bdf911f3f0",
       "version_major": 2,
       "version_minor": 0
      },
      "text/plain": [
       "Evaluator:   0%|          | 0/6 [00:00<?, ?it/s]"
      ]
     },
     "metadata": {},
     "output_type": "display_data"
    },
    {
     "name": "stderr",
     "output_type": "stream",
     "text": [
      "100%|██████████| 11/11 [04:36<00:00, 25.09s/it]\n"
     ]
    }
   ],
   "source": [
    "for lab in tqdm(labels):\n",
    "    for exp1, exp2 in zip(ig[lab], shap[lab]):\n",
    "        eva_ig[lab].append(bench.evaluate_explanation(exp1, target = tag2id[lab]))\n",
    "        eva_shap[lab].append(bench.evaluate_explanation(exp2, target = tag2id[lab]))"
   ]
  },
  {
   "cell_type": "code",
   "execution_count": 61,
   "id": "b6cb8cfb-3e49-4d3f-9b52-e3215ceb86db",
   "metadata": {
    "scrolled": true,
    "tags": []
   },
   "outputs": [
    {
     "data": {
      "text/plain": [
       "[('Anrede', 20),\n",
       " ('Diagnosen', 10),\n",
       " ('AllergienUnverträglichkeitenRisiken', 10),\n",
       " ('Anamnese', 10),\n",
       " ('Medikation', 10),\n",
       " ('KUBefunde', 10),\n",
       " ('Befunde', 10),\n",
       " ('EchoBefunde', 10),\n",
       " ('Zusammenfassung', 10),\n",
       " ('Mix', 10),\n",
       " ('Abschluss', 10)]"
      ]
     },
     "execution_count": 61,
     "metadata": {},
     "output_type": "execute_result"
    }
   ],
   "source": [
    "[(k, len(v)) for k, v in eva_ig.items()]"
   ]
  },
  {
   "cell_type": "code",
   "execution_count": 62,
   "id": "98367ec1-3141-4f71-a414-cab86c157f3a",
   "metadata": {},
   "outputs": [],
   "source": [
    "import pickle\n",
    "\n",
    "pickle.dump(data, open(\"data.p\", \"wb\"))\n",
    "\n",
    "pickle.dump(ig, open(\"ig.p\", \"wb\"))\n",
    "pickle.dump(shap, open(\"shap.p\", \"wb\"))\n",
    "            \n",
    "pickle.dump(eva_ig, open(\"eva_ig.p\", \"wb\"))\n",
    "pickle.dump(eva_shap, open(\"eva_shap.p\", \"wb\"))"
   ]
  },
  {
   "cell_type": "code",
   "execution_count": 86,
   "id": "9814d9bb-f0aa-4e45-aaf8-1840cec64b20",
   "metadata": {
    "collapsed": true,
    "jupyter": {
     "outputs_hidden": true
    },
    "tags": []
   },
   "outputs": [
    {
     "data": {
      "text/plain": [
       "{'Anrede': [ExplanationEvaluation(explanation=Explanation(text='über Ihren Patienten B-SALUTE B-PER I-PER geboren am <[Pseudo] 30/05/2007> wohnhaft in B-PLZ B-LOC I-ADDR I-ADDR der sich vom bis in unserer stationären Behandlung befand.', tokens=['[CLS]', 'über', 'Ihren', 'Patienten', 'B', '-', 'SA', '##L', '##U', '##T', '##E', 'B', '-', 'P', '##ER', 'I', '-', 'P', '##ER', 'geboren', 'am', '<', '[', 'Pseud', '##o', ']', '30', '/', '05', '/', '2007', '>', 'wohn', '##haft', 'in', 'B', '-', 'P', '##L', '##Z', 'B', '-', 'L', '##OC', 'I', '-', 'A', '##D', '##DR', 'I', '-', 'A', '##D', '##DR', 'der', 'sich', 'vom', 'bis', 'in', 'unserer', 'stationären', 'Behandlung', 'befand', '.', '[SEP]'], scores=array([ 1.89367908e-02,  9.24629678e-02,  9.14723418e-02, -7.10023197e-02,\n",
       "          4.82276671e-03, -1.06788352e-02, -1.13351063e-02,  4.44820733e-02,\n",
       "          6.78783427e-03,  1.23417469e-02,  8.68712368e-03, -1.21738819e-02,\n",
       "         -1.34678924e-02, -1.09962451e-02, -2.33171769e-02,  1.14853160e-02,\n",
       "          1.17117777e-02,  1.13034199e-03, -1.29177412e-02, -1.91419410e-02,\n",
       "         -1.92553631e-03, -3.03709207e-02,  2.92559362e-03,  7.32143773e-03,\n",
       "          1.18293909e-02,  1.62288643e-02,  4.94400032e-03,  7.06391786e-03,\n",
       "          9.43183407e-03,  3.79741578e-03, -3.57048429e-03,  8.84900231e-04,\n",
       "         -6.01855105e-03, -8.92475731e-04, -2.28175285e-02,  1.37008337e-02,\n",
       "         -7.44787700e-03,  5.53239535e-03,  2.10410162e-02, -1.09838131e-02,\n",
       "         -4.82211243e-03,  5.09668293e-03,  1.03616042e-02, -3.52366542e-03,\n",
       "          1.07879863e-02,  1.91128589e-03,  1.68648146e-02,  2.15305049e-02,\n",
       "          4.91533752e-04, -1.03753851e-02, -5.46025613e-03,  1.31043820e-02,\n",
       "         -1.28764060e-02,  2.04314582e-02, -2.49659695e-02, -3.72974260e-02,\n",
       "          6.48132615e-03,  1.61787708e-02, -1.10345782e-02,  2.73314839e-02,\n",
       "          5.38851724e-05, -3.02837615e-02, -6.16847687e-04, -1.35772667e-03,\n",
       "          2.86791392e-02]), explainer='Integrated Gradient', target=0), evaluation_scores=[Evaluation(name='aopc_compr', score=0.91845423), Evaluation(name='aopc_suff', score=0.34568265), Evaluation(name='taucorr_loo', score=0.006152273702583761)]),\n",
       "  ExplanationEvaluation(explanation=Explanation(text='über Ihre Patientin B-SALUTE B-PER I-PER geboren am <[Pseudo] 18/06/1960> wh. B-PLZ B-LOC B-ADDR I-ADDR I-ADDR die sich vom bis in unserer stationären Behandlung befand.', tokens=['[CLS]', 'über', 'Ihre', 'Patient', '##in', 'B', '-', 'SA', '##L', '##U', '##T', '##E', 'B', '-', 'P', '##ER', 'I', '-', 'P', '##ER', 'geboren', 'am', '<', '[', 'Pseud', '##o', ']', '18', '/', '06', '/', '1960', '>', 'w', '##h', '.', 'B', '-', 'P', '##L', '##Z', 'B', '-', 'L', '##OC', 'B', '-', 'A', '##D', '##DR', 'I', '-', 'A', '##D', '##DR', 'I', '-', 'A', '##D', '##DR', 'die', 'sich', 'vom', 'bis', 'in', 'unserer', 'stationären', 'Behandlung', 'befand', '.', '[SEP]'], scores=array([ 3.31287085e-02, -9.87570319e-02, -1.68668372e-01,  3.08559962e-03,\n",
       "          7.84049408e-02, -2.14550624e-02, -1.33649186e-02,  1.24109731e-02,\n",
       "          1.74071314e-02, -4.44938047e-03, -6.04444963e-03,  1.15711327e-03,\n",
       "         -9.26686872e-03,  6.36941747e-03,  7.80082423e-03,  6.04094500e-03,\n",
       "          6.79583356e-03, -2.93416140e-03,  4.36572761e-05, -1.07591397e-03,\n",
       "          4.24064272e-02,  1.55377775e-02, -9.71453091e-03, -7.40537234e-03,\n",
       "         -1.55992891e-03,  5.72988278e-03, -1.04098754e-02,  8.64783481e-03,\n",
       "         -4.11289778e-03, -2.71660387e-02,  3.83558952e-03, -1.64557553e-02,\n",
       "          3.61003725e-03, -1.00005965e-02, -1.66436653e-02,  1.27061863e-02,\n",
       "          2.73313113e-03, -3.63159524e-03, -1.01827066e-02, -1.61428359e-02,\n",
       "         -9.48350633e-03, -2.52140503e-03,  9.15014221e-03, -1.05073493e-03,\n",
       "         -2.94270445e-02,  2.41382904e-03, -8.76819065e-03, -6.23713301e-03,\n",
       "          4.25667632e-03,  1.03507137e-02,  2.04517437e-02,  3.41525071e-03,\n",
       "         -3.53954248e-03, -1.30988441e-02,  1.28456117e-02, -3.96091766e-03,\n",
       "         -7.76761514e-03, -5.18274932e-03,  1.64296363e-02, -8.72501468e-03,\n",
       "         -8.82458947e-03,  1.49120294e-02,  1.18235490e-02,  5.03152232e-03,\n",
       "         -5.37460402e-03,  3.17231680e-03, -1.10569856e-02,  1.14150791e-02,\n",
       "          8.53168779e-03,  1.30492518e-03,  1.21824417e-02]), explainer='Integrated Gradient', target=0), evaluation_scores=[Evaluation(name='aopc_compr', score=5.1772593e-05), Evaluation(name='aopc_suff', score=0.9980116), Evaluation(name='taucorr_loo', score=-0.04053768041648044)]),\n",
       "  ExplanationEvaluation(explanation=Explanation(text='über Ihre Patientin B-SALUTE B-PER I-PER geboren am <[Pseudo] 24/06/1978> wohnhaft in B-PLZ B-LOC I-ADDR I-ADDR die sich vom bis in unserer stationären Behandlung befand.', tokens=['[CLS]', 'über', 'Ihre', 'Patient', '##in', 'B', '-', 'SA', '##L', '##U', '##T', '##E', 'B', '-', 'P', '##ER', 'I', '-', 'P', '##ER', 'geboren', 'am', '<', '[', 'Pseud', '##o', ']', '24', '/', '06', '/', '1978', '>', 'wohn', '##haft', 'in', 'B', '-', 'P', '##L', '##Z', 'B', '-', 'L', '##OC', 'I', '-', 'A', '##D', '##DR', 'I', '-', 'A', '##D', '##DR', 'die', 'sich', 'vom', 'bis', 'in', 'unserer', 'stationären', 'Behandlung', 'befand', '.', '[SEP]'], scores=array([ 0.02390192, -0.24896989, -0.05660394,  0.00489915,  0.04681753,\n",
       "         -0.00744309, -0.0060292 , -0.0192207 ,  0.01275176, -0.00049524,\n",
       "          0.00561787, -0.00748741,  0.00727669, -0.00423395, -0.01083336,\n",
       "          0.00477665,  0.0203096 ,  0.00250208, -0.01674225,  0.02713517,\n",
       "          0.02338887,  0.00950477, -0.01307332, -0.00372736,  0.00383338,\n",
       "         -0.01478639,  0.00805501,  0.00577034, -0.00794373, -0.0232902 ,\n",
       "         -0.00865116,  0.00143194,  0.00381455,  0.00436014, -0.00104007,\n",
       "         -0.00282479,  0.0107391 , -0.01035394,  0.00356589, -0.00819622,\n",
       "          0.0042431 , -0.01033591, -0.00387303,  0.00992616, -0.01585527,\n",
       "          0.00706794, -0.00431278, -0.00718058, -0.01196444, -0.00675198,\n",
       "          0.00341968,  0.0012571 ,  0.00354917,  0.00546199, -0.00983287,\n",
       "          0.02540194,  0.00043479, -0.03357175, -0.02194498,  0.01367104,\n",
       "         -0.00375179,  0.00602919,  0.01181401, -0.0237185 ,  0.02970681,\n",
       "         -0.0225246 ]), explainer='Integrated Gradient', target=0), evaluation_scores=[Evaluation(name='aopc_compr', score=4.7111513e-05), Evaluation(name='aopc_suff', score=0.99803495), Evaluation(name='taucorr_loo', score=0.10421837511694322)]),\n",
       "  ExplanationEvaluation(explanation=Explanation(text='über Ihre Patientin B-SALUTE B-PER I-PER geboren am <[Pseudo] 15/09/1990> wh. B-PLZ B-LOC I-ADDR I-ADDR die sich am in unserer Ambulanz vorstellte.', tokens=['[CLS]', 'über', 'Ihre', 'Patient', '##in', 'B', '-', 'SA', '##L', '##U', '##T', '##E', 'B', '-', 'P', '##ER', 'I', '-', 'P', '##ER', 'geboren', 'am', '<', '[', 'Pseud', '##o', ']', '15', '/', '09', '/', '1990', '>', 'w', '##h', '.', 'B', '-', 'P', '##L', '##Z', 'B', '-', 'L', '##OC', 'I', '-', 'A', '##D', '##DR', 'I', '-', 'A', '##D', '##DR', 'die', 'sich', 'am', 'in', 'unserer', 'Amb', '##ula', '##n', '##z', 'vors', '##tell', '##te', '.', '[SEP]'], scores=array([-4.18866690e-03,  2.65930344e-01, -1.03701766e-01, -3.56498632e-02,\n",
       "          5.41153088e-02,  1.42507050e-02, -1.53912230e-02,  2.92966843e-02,\n",
       "          2.54623981e-03,  1.32883653e-02,  1.05096873e-05,  1.99599860e-02,\n",
       "          1.93103068e-04, -7.47653955e-03,  4.08331189e-04,  1.80092203e-03,\n",
       "          1.49811463e-03,  2.31435856e-03, -9.42601063e-03, -5.46338714e-03,\n",
       "          1.34811025e-02, -6.39126514e-03,  1.62972278e-02,  9.67183876e-03,\n",
       "         -1.06765619e-02, -9.17294603e-03, -8.03261196e-04,  1.25209326e-02,\n",
       "          2.47981420e-04, -1.84677920e-02,  1.49995787e-02,  1.71306118e-04,\n",
       "          2.93518108e-03, -3.86864548e-03,  1.22580448e-02,  1.89064941e-02,\n",
       "         -8.70502029e-03, -3.93449492e-03,  3.68533122e-03,  1.13275463e-03,\n",
       "         -2.42030618e-03, -1.19852518e-02, -5.34933131e-03, -4.07542833e-03,\n",
       "         -1.96863682e-02, -4.77263644e-03,  1.00480339e-02, -1.05480639e-02,\n",
       "         -1.05512498e-02, -3.14248399e-03, -4.49544150e-03, -2.45664410e-03,\n",
       "         -4.35697946e-03, -2.48606469e-03,  3.05864286e-04, -2.51443683e-02,\n",
       "         -2.84534773e-03, -5.28677037e-03,  3.23132780e-02,  1.49239440e-02,\n",
       "         -3.79281895e-03,  3.23830211e-03, -5.91351815e-03, -6.14928585e-03,\n",
       "          1.47427402e-02, -7.48246629e-03,  9.45073892e-03, -1.04463168e-02,\n",
       "         -6.35176714e-03]), explainer='Integrated Gradient', target=0), evaluation_scores=[Evaluation(name='aopc_compr', score=0.95522344), Evaluation(name='aopc_suff', score=0.9187773), Evaluation(name='taucorr_loo', score=0.19356350716354784)]),\n",
       "  ExplanationEvaluation(explanation=Explanation(text='über Ihren Patienten B-SALUTE B-PER I-PER geboren am <[Pseudo] 17/06/1986> wh. B-PLZ B-LOC B-ADDR I-ADDR I-ADDR der sich am in unserer Ambulanz vorstellte.', tokens=['[CLS]', 'über', 'Ihren', 'Patienten', 'B', '-', 'SA', '##L', '##U', '##T', '##E', 'B', '-', 'P', '##ER', 'I', '-', 'P', '##ER', 'geboren', 'am', '<', '[', 'Pseud', '##o', ']', '17', '/', '06', '/', '1986', '>', 'w', '##h', '.', 'B', '-', 'P', '##L', '##Z', 'B', '-', 'L', '##OC', 'B', '-', 'A', '##D', '##DR', 'I', '-', 'A', '##D', '##DR', 'I', '-', 'A', '##D', '##DR', 'der', 'sich', 'am', 'in', 'unserer', 'Amb', '##ula', '##n', '##z', 'vors', '##tell', '##te', '.', '[SEP]'], scores=array([ 0.01065618, -0.17258085, -0.05596281, -0.06435097, -0.05040317,\n",
       "          0.02133204, -0.00902182, -0.01579019,  0.01663256,  0.01101839,\n",
       "          0.00265367,  0.00372246,  0.00239862, -0.00720407,  0.01439031,\n",
       "          0.00069698,  0.00535451,  0.00968693,  0.00220144,  0.00210804,\n",
       "          0.0047549 ,  0.02391244,  0.00290171,  0.01040045,  0.00822003,\n",
       "         -0.00790663,  0.0089268 , -0.00625259, -0.01383675, -0.02219767,\n",
       "          0.00569544, -0.00022812,  0.00584743,  0.01308716,  0.00913167,\n",
       "         -0.01379822,  0.00314485,  0.00605573, -0.00891082,  0.01725067,\n",
       "          0.00063287,  0.00789829,  0.0160675 ,  0.00119956,  0.00273076,\n",
       "          0.00495078, -0.00219432, -0.00285973,  0.00881185, -0.00688011,\n",
       "          0.00654651, -0.00288155,  0.00859864, -0.00287401,  0.01038988,\n",
       "          0.0069465 , -0.01267574,  0.01083339,  0.013929  ,  0.01495059,\n",
       "          0.02375749,  0.00280755,  0.01566321,  0.00439377, -0.00392539,\n",
       "         -0.01052319,  0.0088386 ,  0.03008393, -0.0025104 ,  0.02233452,\n",
       "          0.0050443 ,  0.04200935, -0.01263064]), explainer='Integrated Gradient', target=0), evaluation_scores=[Evaluation(name='aopc_compr', score=0.00011416844), Evaluation(name='aopc_suff', score=0.99834436), Evaluation(name='taucorr_loo', score=-0.06328101735194212)]),\n",
       "  ExplanationEvaluation(explanation=Explanation(text='über Ihre Patientin B-SALUTE B-PER I-PER geboren am <[Pseudo] 05/10/1968> wohnhaft in B-PLZ B-LOC I-ADDR I-ADDR die sich vom bis in unserer stationären Behandlung befand.', tokens=['[CLS]', 'über', 'Ihre', 'Patient', '##in', 'B', '-', 'SA', '##L', '##U', '##T', '##E', 'B', '-', 'P', '##ER', 'I', '-', 'P', '##ER', 'geboren', 'am', '<', '[', 'Pseud', '##o', ']', '05', '/', '10', '/', '1968', '>', 'wohn', '##haft', 'in', 'B', '-', 'P', '##L', '##Z', 'B', '-', 'L', '##OC', 'I', '-', 'A', '##D', '##DR', 'I', '-', 'A', '##D', '##DR', 'die', 'sich', 'vom', 'bis', 'in', 'unserer', 'stationären', 'Behandlung', 'befand', '.', '[SEP]'], scores=array([ 2.50312606e-03, -2.94495682e-01,  1.41640021e-01, -1.31866409e-02,\n",
       "          3.70260502e-03,  1.06434233e-02, -1.09255570e-02, -1.66017601e-02,\n",
       "         -3.29972177e-03,  1.48760996e-02,  4.14400017e-03,  8.42846785e-03,\n",
       "         -2.53153303e-02, -2.08026564e-04,  8.64964181e-03,  3.60374584e-03,\n",
       "         -1.19753440e-02, -5.72845408e-03,  1.34699950e-03,  9.40838058e-03,\n",
       "         -1.11602110e-02, -1.35729039e-03,  6.70034634e-03,  1.02908304e-02,\n",
       "          9.68366481e-03,  2.20765894e-04,  1.95131881e-03,  1.72201178e-02,\n",
       "         -2.09297575e-05,  7.12168927e-03, -1.00429233e-02, -1.70624539e-03,\n",
       "         -3.83273821e-03,  1.44483602e-02,  1.42458494e-02, -9.89860484e-03,\n",
       "         -1.09881657e-02, -3.16345372e-03, -2.30273934e-03, -1.38492376e-02,\n",
       "         -1.03074654e-02, -3.28870165e-03,  1.22379586e-02, -2.39960875e-03,\n",
       "         -1.05535415e-02,  3.36715408e-03,  2.37944225e-04,  9.84536462e-03,\n",
       "          2.57895320e-03,  9.61092075e-06, -6.53343066e-03, -7.69646971e-05,\n",
       "         -7.14526617e-03, -1.39798733e-02, -1.04400135e-02, -1.14077148e-02,\n",
       "          6.90930158e-04, -1.42593409e-02, -1.35776473e-02,  1.33210500e-02,\n",
       "          8.70152769e-03,  4.90268689e-03,  1.51055352e-02, -4.40733813e-02,\n",
       "          7.57605485e-03,  3.24937700e-02]), explainer='Integrated Gradient', target=0), evaluation_scores=[Evaluation(name='aopc_compr', score=-7.306338e-05), Evaluation(name='aopc_suff', score=0.9986702), Evaluation(name='taucorr_loo', score=-0.023821342883872738)]),\n",
       "  ExplanationEvaluation(explanation=Explanation(text='über Ihre Patientin B-SALUTE B-PER I-PER geboren am <[Pseudo] 11/11/1972> wh. B-PLZ B-LOC I-LOC I-ADDR die sich am in unserer Ambulanz vorstellte.', tokens=['[CLS]', 'über', 'Ihre', 'Patient', '##in', 'B', '-', 'SA', '##L', '##U', '##T', '##E', 'B', '-', 'P', '##ER', 'I', '-', 'P', '##ER', 'geboren', 'am', '<', '[', 'Pseud', '##o', ']', '11', '/', '11', '/', '1972', '>', 'w', '##h', '.', 'B', '-', 'P', '##L', '##Z', 'B', '-', 'L', '##OC', 'I', '-', 'L', '##OC', 'I', '-', 'A', '##D', '##DR', 'die', 'sich', 'am', 'in', 'unserer', 'Amb', '##ula', '##n', '##z', 'vors', '##tell', '##te', '.', '[SEP]'], scores=array([ 8.70923410e-03, -3.26492829e-01, -2.47851944e-02,  2.62024019e-02,\n",
       "         -1.47889175e-02, -4.51843150e-02,  1.02084619e-04,  1.64409443e-02,\n",
       "          6.78393158e-03, -2.35248371e-04, -1.47268979e-02,  1.16728531e-03,\n",
       "          7.01679301e-03,  1.21301895e-02,  5.20050381e-03,  6.36784044e-03,\n",
       "         -5.19952368e-03,  4.83930781e-03, -1.17199266e-02, -9.25030788e-03,\n",
       "          2.40512892e-03,  2.14445228e-02, -1.51356864e-02,  1.91057483e-02,\n",
       "          8.73313041e-03,  6.80235081e-03,  1.05590382e-02,  1.13447172e-02,\n",
       "          7.59743874e-03,  9.76394602e-04, -1.85102574e-03,  2.16621711e-03,\n",
       "         -6.25565410e-03, -2.56143823e-02,  9.16913607e-03, -3.74304259e-03,\n",
       "          1.11498874e-02, -2.60474115e-03,  4.40770528e-03, -1.57282237e-02,\n",
       "          2.14650391e-02, -1.27537558e-02, -5.17542283e-03, -2.02680073e-02,\n",
       "         -1.23699615e-02,  6.92218257e-03, -7.03202524e-03, -8.11309829e-04,\n",
       "         -8.01050964e-03, -3.13096115e-03, -2.84339505e-03,  1.08909204e-02,\n",
       "         -5.44998920e-04,  6.34965350e-03,  1.82408557e-02, -1.62278009e-02,\n",
       "          1.73003418e-02,  2.70500022e-02, -1.04376450e-02, -9.30687896e-03,\n",
       "         -4.80399227e-03,  1.25067080e-04,  2.01821828e-02,  1.50914384e-03,\n",
       "          5.71146132e-03, -4.81962254e-03, -3.32682577e-03,  8.25218813e-03]), explainer='Integrated Gradient', target=0), evaluation_scores=[Evaluation(name='aopc_compr', score=2.070268e-05), Evaluation(name='aopc_suff', score=0.9963896), Evaluation(name='taucorr_loo', score=0.10170284738884443)]),\n",
       "  ExplanationEvaluation(explanation=Explanation(text='über Ihre Patientin B-SALUTE B-PER I-PER geboren am <[Pseudo] 23/05/1987> wh. B-PLZ B-LOC I-ADDR I-ADDR die sich am in unserer Ambulanz vorstellte.', tokens=['[CLS]', 'über', 'Ihre', 'Patient', '##in', 'B', '-', 'SA', '##L', '##U', '##T', '##E', 'B', '-', 'P', '##ER', 'I', '-', 'P', '##ER', 'geboren', 'am', '<', '[', 'Pseud', '##o', ']', '23', '/', '05', '/', '1987', '>', 'w', '##h', '.', 'B', '-', 'P', '##L', '##Z', 'B', '-', 'L', '##OC', 'I', '-', 'A', '##D', '##DR', 'I', '-', 'A', '##D', '##DR', 'die', 'sich', 'am', 'in', 'unserer', 'Amb', '##ula', '##n', '##z', 'vors', '##tell', '##te', '.', '[SEP]'], scores=array([-5.36231162e-03,  1.06638675e-01, -1.46488380e-01, -9.63722567e-02,\n",
       "         -6.30668183e-02,  4.30156489e-02, -1.09923115e-02,  2.81065587e-02,\n",
       "          2.71329665e-02,  1.91200478e-03,  3.50637886e-03,  2.91691946e-03,\n",
       "          6.65650763e-03, -9.14326745e-03, -6.51598218e-03,  3.27737762e-03,\n",
       "          2.24543916e-02,  4.24831832e-03,  1.99271433e-02, -4.81494655e-03,\n",
       "          3.09672195e-03,  2.37062350e-02, -1.14913689e-02,  7.69348220e-04,\n",
       "         -1.14179386e-02,  1.11266192e-02, -2.69588204e-03, -2.53145155e-04,\n",
       "          2.53084400e-03, -8.41442209e-05,  2.86422779e-04,  1.15084853e-02,\n",
       "         -1.49571605e-02,  1.16684294e-02, -4.71974083e-03, -1.13962166e-02,\n",
       "         -1.14753965e-03, -1.47211133e-03, -3.92326190e-03, -1.38052506e-03,\n",
       "          1.17882871e-02, -7.95661182e-03, -6.21290431e-04,  3.56521762e-03,\n",
       "          9.86671289e-04, -8.84375513e-03,  9.58414002e-05, -3.38397628e-03,\n",
       "          8.93533762e-03, -8.60566475e-03,  4.22646145e-04, -1.27424537e-03,\n",
       "          1.19909726e-02, -2.65299144e-03, -1.42856027e-02, -1.41036877e-03,\n",
       "          2.13399831e-02, -5.54862647e-03,  4.01807635e-02,  2.18285769e-03,\n",
       "         -7.21302887e-03,  4.76737535e-03,  7.84505385e-03, -2.59853301e-02,\n",
       "         -1.07724524e-02,  6.59649308e-03, -9.45381419e-03, -8.92194710e-03,\n",
       "          2.01914883e-02]), explainer='Integrated Gradient', target=0), evaluation_scores=[Evaluation(name='aopc_compr', score=0.67217505), Evaluation(name='aopc_suff', score=0.59942347), Evaluation(name='taucorr_loo', score=0.195696735214837)]),\n",
       "  ExplanationEvaluation(explanation=Explanation(text='über Ihren Patienten B-SALUTE B-PER I-PER geboren am <[Pseudo] 27/05/1977> wohnhaft in B-PLZ B-LOC B-ADDR I-ADDR der sich vom bis in unserer stationären Behandlung befand.', tokens=['[CLS]', 'über', 'Ihren', 'Patienten', 'B', '-', 'SA', '##L', '##U', '##T', '##E', 'B', '-', 'P', '##ER', 'I', '-', 'P', '##ER', 'geboren', 'am', '<', '[', 'Pseud', '##o', ']', '27', '/', '05', '/', '1977', '>', 'wohn', '##haft', 'in', 'B', '-', 'P', '##L', '##Z', 'B', '-', 'L', '##OC', 'B', '-', 'A', '##D', '##DR', 'I', '-', 'A', '##D', '##DR', 'der', 'sich', 'vom', 'bis', 'in', 'unserer', 'stationären', 'Behandlung', 'befand', '.', '[SEP]'], scores=array([-0.01081932,  0.28958903,  0.19054199,  0.02147044,  0.02001   ,\n",
       "         -0.01491668,  0.04869337, -0.00456773, -0.0283856 , -0.00083189,\n",
       "          0.00868807,  0.0051093 , -0.01697536,  0.00282722,  0.00170144,\n",
       "          0.01021651, -0.01047376, -0.00492016, -0.00671334, -0.01462866,\n",
       "         -0.00685029, -0.00397882,  0.00453768,  0.00110825,  0.00050003,\n",
       "          0.00703952,  0.00689031,  0.00488048,  0.00709174,  0.00878499,\n",
       "         -0.01338011,  0.00378588, -0.00119126, -0.00522742,  0.00435885,\n",
       "         -0.00314963,  0.00216483,  0.002483  ,  0.00061056,  0.00340914,\n",
       "         -0.00702206, -0.00286804,  0.00430346,  0.00676879, -0.00767742,\n",
       "          0.00551756, -0.00791956, -0.00034601,  0.01106977, -0.0046046 ,\n",
       "         -0.00178611, -0.00057625, -0.00377636,  0.02029355,  0.0052292 ,\n",
       "         -0.00044219,  0.01908901,  0.00360961,  0.02329406, -0.00597188,\n",
       "          0.00423863, -0.0024171 ,  0.03470859,  0.00287078, -0.01009675]), explainer='Integrated Gradient', target=0), evaluation_scores=[Evaluation(name='aopc_compr', score=0.977654), Evaluation(name='aopc_suff', score=0.028189352), Evaluation(name='taucorr_loo', score=-0.017431442157320655)]),\n",
       "  ExplanationEvaluation(explanation=Explanation(text='über Ihren Patienten B-SALUTE B-PER I-PER geboren am <[Pseudo] 24/06/1977> wohnhaft in B-PLZ B-LOC I-ADDR I-ADDR der sich vom bis in unserer stationären Behandlung befand.', tokens=['[CLS]', 'über', 'Ihren', 'Patienten', 'B', '-', 'SA', '##L', '##U', '##T', '##E', 'B', '-', 'P', '##ER', 'I', '-', 'P', '##ER', 'geboren', 'am', '<', '[', 'Pseud', '##o', ']', '24', '/', '06', '/', '1977', '>', 'wohn', '##haft', 'in', 'B', '-', 'P', '##L', '##Z', 'B', '-', 'L', '##OC', 'I', '-', 'A', '##D', '##DR', 'I', '-', 'A', '##D', '##DR', 'der', 'sich', 'vom', 'bis', 'in', 'unserer', 'stationären', 'Behandlung', 'befand', '.', '[SEP]'], scores=array([ 1.15060550e-02,  3.69749107e-01,  4.43336767e-02, -5.38473007e-02,\n",
       "         -1.39072498e-02, -2.50419754e-02, -6.23045407e-03,  3.47472586e-02,\n",
       "         -1.44673719e-03, -1.95626271e-02, -2.00271670e-02, -8.60294175e-03,\n",
       "          7.18224353e-04,  7.56980276e-03, -6.97484833e-03,  1.09184293e-02,\n",
       "         -7.75760851e-03,  3.79493146e-03, -4.36112942e-04, -2.48102225e-03,\n",
       "         -9.24382331e-03, -1.80457713e-02, -4.82401171e-03, -1.79140254e-06,\n",
       "         -5.66532117e-04,  2.44798479e-03, -2.68509573e-03, -4.20199010e-03,\n",
       "         -1.37419213e-02, -3.30898022e-03, -5.68245619e-03,  9.21248999e-03,\n",
       "          1.14242835e-02, -7.01370565e-03, -8.32755478e-03,  1.23457874e-02,\n",
       "         -3.18901856e-03,  2.59035470e-03, -8.05009428e-03,  4.55600017e-03,\n",
       "         -6.33548716e-03, -1.29355816e-03, -7.42892449e-03, -5.46442517e-03,\n",
       "         -4.50357530e-03, -4.99422942e-03, -7.23870357e-03, -9.66631474e-04,\n",
       "         -7.66925348e-04,  3.10427514e-03,  4.87604817e-03,  7.80633750e-03,\n",
       "         -4.27911671e-03,  8.01099587e-03,  8.27215284e-03, -7.69109376e-03,\n",
       "         -3.90655855e-02, -1.43983112e-02, -7.33973124e-03, -1.75217120e-02,\n",
       "         -1.18473380e-02, -1.51510720e-02, -5.77996911e-03,  6.79323400e-03,\n",
       "          1.79573894e-02]), explainer='Integrated Gradient', target=0), evaluation_scores=[Evaluation(name='aopc_compr', score=0.48170102), Evaluation(name='aopc_suff', score=0.24965397), Evaluation(name='taucorr_loo', score=-0.0066632531166605224)]),\n",
       "  ExplanationEvaluation(explanation=Explanation(text='über Ihren Patienten B-SALUTE B-PER I-PER geboren am <[Pseudo] 30/05/2007> wohnhaft in B-PLZ B-LOC I-ADDR I-ADDR der sich vom bis in unserer stationären Behandlung befand.', tokens=['[CLS]', 'über', 'Ihren', 'Patienten', 'B', '-', 'SA', '##L', '##U', '##T', '##E', 'B', '-', 'P', '##ER', 'I', '-', 'P', '##ER', 'geboren', 'am', '<', '[', 'Pseud', '##o', ']', '30', '/', '05', '/', '2007', '>', 'wohn', '##haft', 'in', 'B', '-', 'P', '##L', '##Z', 'B', '-', 'L', '##OC', 'I', '-', 'A', '##D', '##DR', 'I', '-', 'A', '##D', '##DR', 'der', 'sich', 'vom', 'bis', 'in', 'unserer', 'stationären', 'Behandlung', 'befand', '.', '[SEP]'], scores=array([ 1.89367908e-02,  9.24629678e-02,  9.14723418e-02, -7.10023197e-02,\n",
       "          4.82276671e-03, -1.06788352e-02, -1.13351063e-02,  4.44820733e-02,\n",
       "          6.78783427e-03,  1.23417469e-02,  8.68712368e-03, -1.21738819e-02,\n",
       "         -1.34678924e-02, -1.09962451e-02, -2.33171769e-02,  1.14853160e-02,\n",
       "          1.17117777e-02,  1.13034199e-03, -1.29177412e-02, -1.91419410e-02,\n",
       "         -1.92553631e-03, -3.03709207e-02,  2.92559362e-03,  7.32143773e-03,\n",
       "          1.18293909e-02,  1.62288643e-02,  4.94400032e-03,  7.06391786e-03,\n",
       "          9.43183407e-03,  3.79741578e-03, -3.57048429e-03,  8.84900231e-04,\n",
       "         -6.01855105e-03, -8.92475731e-04, -2.28175285e-02,  1.37008337e-02,\n",
       "         -7.44787700e-03,  5.53239535e-03,  2.10410162e-02, -1.09838131e-02,\n",
       "         -4.82211243e-03,  5.09668293e-03,  1.03616042e-02, -3.52366542e-03,\n",
       "          1.07879863e-02,  1.91128589e-03,  1.68648146e-02,  2.15305049e-02,\n",
       "          4.91533752e-04, -1.03753851e-02, -5.46025613e-03,  1.31043820e-02,\n",
       "         -1.28764060e-02,  2.04314582e-02, -2.49659695e-02, -3.72974260e-02,\n",
       "          6.48132615e-03,  1.61787708e-02, -1.10345782e-02,  2.73314839e-02,\n",
       "          5.38851724e-05, -3.02837615e-02, -6.16847687e-04, -1.35772667e-03,\n",
       "          2.86791392e-02]), explainer='Integrated Gradient', target=0), evaluation_scores=[Evaluation(name='aopc_compr', score=0.91845423), Evaluation(name='aopc_suff', score=0.34568265), Evaluation(name='taucorr_loo', score=0.006152273702583761)]),\n",
       "  ExplanationEvaluation(explanation=Explanation(text='über Ihre Patientin B-SALUTE B-PER I-PER geboren am <[Pseudo] 18/06/1960> wh. B-PLZ B-LOC B-ADDR I-ADDR I-ADDR die sich vom bis in unserer stationären Behandlung befand.', tokens=['[CLS]', 'über', 'Ihre', 'Patient', '##in', 'B', '-', 'SA', '##L', '##U', '##T', '##E', 'B', '-', 'P', '##ER', 'I', '-', 'P', '##ER', 'geboren', 'am', '<', '[', 'Pseud', '##o', ']', '18', '/', '06', '/', '1960', '>', 'w', '##h', '.', 'B', '-', 'P', '##L', '##Z', 'B', '-', 'L', '##OC', 'B', '-', 'A', '##D', '##DR', 'I', '-', 'A', '##D', '##DR', 'I', '-', 'A', '##D', '##DR', 'die', 'sich', 'vom', 'bis', 'in', 'unserer', 'stationären', 'Behandlung', 'befand', '.', '[SEP]'], scores=array([ 3.31287085e-02, -9.87570319e-02, -1.68668372e-01,  3.08559962e-03,\n",
       "          7.84049408e-02, -2.14550624e-02, -1.33649186e-02,  1.24109731e-02,\n",
       "          1.74071314e-02, -4.44938047e-03, -6.04444963e-03,  1.15711327e-03,\n",
       "         -9.26686872e-03,  6.36941747e-03,  7.80082423e-03,  6.04094500e-03,\n",
       "          6.79583356e-03, -2.93416140e-03,  4.36572761e-05, -1.07591397e-03,\n",
       "          4.24064272e-02,  1.55377775e-02, -9.71453091e-03, -7.40537234e-03,\n",
       "         -1.55992891e-03,  5.72988278e-03, -1.04098754e-02,  8.64783481e-03,\n",
       "         -4.11289778e-03, -2.71660387e-02,  3.83558952e-03, -1.64557553e-02,\n",
       "          3.61003725e-03, -1.00005965e-02, -1.66436653e-02,  1.27061863e-02,\n",
       "          2.73313113e-03, -3.63159524e-03, -1.01827066e-02, -1.61428359e-02,\n",
       "         -9.48350633e-03, -2.52140503e-03,  9.15014221e-03, -1.05073493e-03,\n",
       "         -2.94270445e-02,  2.41382904e-03, -8.76819065e-03, -6.23713301e-03,\n",
       "          4.25667632e-03,  1.03507137e-02,  2.04517437e-02,  3.41525071e-03,\n",
       "         -3.53954248e-03, -1.30988441e-02,  1.28456117e-02, -3.96091766e-03,\n",
       "         -7.76761514e-03, -5.18274932e-03,  1.64296363e-02, -8.72501468e-03,\n",
       "         -8.82458947e-03,  1.49120294e-02,  1.18235490e-02,  5.03152232e-03,\n",
       "         -5.37460402e-03,  3.17231680e-03, -1.10569856e-02,  1.14150791e-02,\n",
       "          8.53168779e-03,  1.30492518e-03,  1.21824417e-02]), explainer='Integrated Gradient', target=0), evaluation_scores=[Evaluation(name='aopc_compr', score=5.1772593e-05), Evaluation(name='aopc_suff', score=0.9980116), Evaluation(name='taucorr_loo', score=-0.04053768041648044)]),\n",
       "  ExplanationEvaluation(explanation=Explanation(text='über Ihre Patientin B-SALUTE B-PER I-PER geboren am <[Pseudo] 24/06/1978> wohnhaft in B-PLZ B-LOC I-ADDR I-ADDR die sich vom bis in unserer stationären Behandlung befand.', tokens=['[CLS]', 'über', 'Ihre', 'Patient', '##in', 'B', '-', 'SA', '##L', '##U', '##T', '##E', 'B', '-', 'P', '##ER', 'I', '-', 'P', '##ER', 'geboren', 'am', '<', '[', 'Pseud', '##o', ']', '24', '/', '06', '/', '1978', '>', 'wohn', '##haft', 'in', 'B', '-', 'P', '##L', '##Z', 'B', '-', 'L', '##OC', 'I', '-', 'A', '##D', '##DR', 'I', '-', 'A', '##D', '##DR', 'die', 'sich', 'vom', 'bis', 'in', 'unserer', 'stationären', 'Behandlung', 'befand', '.', '[SEP]'], scores=array([ 0.02390192, -0.24896989, -0.05660394,  0.00489915,  0.04681753,\n",
       "         -0.00744309, -0.0060292 , -0.0192207 ,  0.01275176, -0.00049524,\n",
       "          0.00561787, -0.00748741,  0.00727669, -0.00423395, -0.01083336,\n",
       "          0.00477665,  0.0203096 ,  0.00250208, -0.01674225,  0.02713517,\n",
       "          0.02338887,  0.00950477, -0.01307332, -0.00372736,  0.00383338,\n",
       "         -0.01478639,  0.00805501,  0.00577034, -0.00794373, -0.0232902 ,\n",
       "         -0.00865116,  0.00143194,  0.00381455,  0.00436014, -0.00104007,\n",
       "         -0.00282479,  0.0107391 , -0.01035394,  0.00356589, -0.00819622,\n",
       "          0.0042431 , -0.01033591, -0.00387303,  0.00992616, -0.01585527,\n",
       "          0.00706794, -0.00431278, -0.00718058, -0.01196444, -0.00675198,\n",
       "          0.00341968,  0.0012571 ,  0.00354917,  0.00546199, -0.00983287,\n",
       "          0.02540194,  0.00043479, -0.03357175, -0.02194498,  0.01367104,\n",
       "         -0.00375179,  0.00602919,  0.01181401, -0.0237185 ,  0.02970681,\n",
       "         -0.0225246 ]), explainer='Integrated Gradient', target=0), evaluation_scores=[Evaluation(name='aopc_compr', score=4.7111513e-05), Evaluation(name='aopc_suff', score=0.99803495), Evaluation(name='taucorr_loo', score=0.10421837511694322)]),\n",
       "  ExplanationEvaluation(explanation=Explanation(text='über Ihre Patientin B-SALUTE B-PER I-PER geboren am <[Pseudo] 15/09/1990> wh. B-PLZ B-LOC I-ADDR I-ADDR die sich am in unserer Ambulanz vorstellte.', tokens=['[CLS]', 'über', 'Ihre', 'Patient', '##in', 'B', '-', 'SA', '##L', '##U', '##T', '##E', 'B', '-', 'P', '##ER', 'I', '-', 'P', '##ER', 'geboren', 'am', '<', '[', 'Pseud', '##o', ']', '15', '/', '09', '/', '1990', '>', 'w', '##h', '.', 'B', '-', 'P', '##L', '##Z', 'B', '-', 'L', '##OC', 'I', '-', 'A', '##D', '##DR', 'I', '-', 'A', '##D', '##DR', 'die', 'sich', 'am', 'in', 'unserer', 'Amb', '##ula', '##n', '##z', 'vors', '##tell', '##te', '.', '[SEP]'], scores=array([-4.18866690e-03,  2.65930344e-01, -1.03701766e-01, -3.56498632e-02,\n",
       "          5.41153088e-02,  1.42507050e-02, -1.53912230e-02,  2.92966843e-02,\n",
       "          2.54623981e-03,  1.32883653e-02,  1.05096873e-05,  1.99599860e-02,\n",
       "          1.93103068e-04, -7.47653955e-03,  4.08331189e-04,  1.80092203e-03,\n",
       "          1.49811463e-03,  2.31435856e-03, -9.42601063e-03, -5.46338714e-03,\n",
       "          1.34811025e-02, -6.39126514e-03,  1.62972278e-02,  9.67183876e-03,\n",
       "         -1.06765619e-02, -9.17294603e-03, -8.03261196e-04,  1.25209326e-02,\n",
       "          2.47981420e-04, -1.84677920e-02,  1.49995787e-02,  1.71306118e-04,\n",
       "          2.93518108e-03, -3.86864548e-03,  1.22580448e-02,  1.89064941e-02,\n",
       "         -8.70502029e-03, -3.93449492e-03,  3.68533122e-03,  1.13275463e-03,\n",
       "         -2.42030618e-03, -1.19852518e-02, -5.34933131e-03, -4.07542833e-03,\n",
       "         -1.96863682e-02, -4.77263644e-03,  1.00480339e-02, -1.05480639e-02,\n",
       "         -1.05512498e-02, -3.14248399e-03, -4.49544150e-03, -2.45664410e-03,\n",
       "         -4.35697946e-03, -2.48606469e-03,  3.05864286e-04, -2.51443683e-02,\n",
       "         -2.84534773e-03, -5.28677037e-03,  3.23132780e-02,  1.49239440e-02,\n",
       "         -3.79281895e-03,  3.23830211e-03, -5.91351815e-03, -6.14928585e-03,\n",
       "          1.47427402e-02, -7.48246629e-03,  9.45073892e-03, -1.04463168e-02,\n",
       "         -6.35176714e-03]), explainer='Integrated Gradient', target=0), evaluation_scores=[Evaluation(name='aopc_compr', score=0.95522344), Evaluation(name='aopc_suff', score=0.9187773), Evaluation(name='taucorr_loo', score=0.19356350716354784)]),\n",
       "  ExplanationEvaluation(explanation=Explanation(text='über Ihren Patienten B-SALUTE B-PER I-PER geboren am <[Pseudo] 17/06/1986> wh. B-PLZ B-LOC B-ADDR I-ADDR I-ADDR der sich am in unserer Ambulanz vorstellte.', tokens=['[CLS]', 'über', 'Ihren', 'Patienten', 'B', '-', 'SA', '##L', '##U', '##T', '##E', 'B', '-', 'P', '##ER', 'I', '-', 'P', '##ER', 'geboren', 'am', '<', '[', 'Pseud', '##o', ']', '17', '/', '06', '/', '1986', '>', 'w', '##h', '.', 'B', '-', 'P', '##L', '##Z', 'B', '-', 'L', '##OC', 'B', '-', 'A', '##D', '##DR', 'I', '-', 'A', '##D', '##DR', 'I', '-', 'A', '##D', '##DR', 'der', 'sich', 'am', 'in', 'unserer', 'Amb', '##ula', '##n', '##z', 'vors', '##tell', '##te', '.', '[SEP]'], scores=array([ 0.01065618, -0.17258085, -0.05596281, -0.06435097, -0.05040317,\n",
       "          0.02133204, -0.00902182, -0.01579019,  0.01663256,  0.01101839,\n",
       "          0.00265367,  0.00372246,  0.00239862, -0.00720407,  0.01439031,\n",
       "          0.00069698,  0.00535451,  0.00968693,  0.00220144,  0.00210804,\n",
       "          0.0047549 ,  0.02391244,  0.00290171,  0.01040045,  0.00822003,\n",
       "         -0.00790663,  0.0089268 , -0.00625259, -0.01383675, -0.02219767,\n",
       "          0.00569544, -0.00022812,  0.00584743,  0.01308716,  0.00913167,\n",
       "         -0.01379822,  0.00314485,  0.00605573, -0.00891082,  0.01725067,\n",
       "          0.00063287,  0.00789829,  0.0160675 ,  0.00119956,  0.00273076,\n",
       "          0.00495078, -0.00219432, -0.00285973,  0.00881185, -0.00688011,\n",
       "          0.00654651, -0.00288155,  0.00859864, -0.00287401,  0.01038988,\n",
       "          0.0069465 , -0.01267574,  0.01083339,  0.013929  ,  0.01495059,\n",
       "          0.02375749,  0.00280755,  0.01566321,  0.00439377, -0.00392539,\n",
       "         -0.01052319,  0.0088386 ,  0.03008393, -0.0025104 ,  0.02233452,\n",
       "          0.0050443 ,  0.04200935, -0.01263064]), explainer='Integrated Gradient', target=0), evaluation_scores=[Evaluation(name='aopc_compr', score=0.00011416844), Evaluation(name='aopc_suff', score=0.99834436), Evaluation(name='taucorr_loo', score=-0.06328101735194212)]),\n",
       "  ExplanationEvaluation(explanation=Explanation(text='über Ihre Patientin B-SALUTE B-PER I-PER geboren am <[Pseudo] 05/10/1968> wohnhaft in B-PLZ B-LOC I-ADDR I-ADDR die sich vom bis in unserer stationären Behandlung befand.', tokens=['[CLS]', 'über', 'Ihre', 'Patient', '##in', 'B', '-', 'SA', '##L', '##U', '##T', '##E', 'B', '-', 'P', '##ER', 'I', '-', 'P', '##ER', 'geboren', 'am', '<', '[', 'Pseud', '##o', ']', '05', '/', '10', '/', '1968', '>', 'wohn', '##haft', 'in', 'B', '-', 'P', '##L', '##Z', 'B', '-', 'L', '##OC', 'I', '-', 'A', '##D', '##DR', 'I', '-', 'A', '##D', '##DR', 'die', 'sich', 'vom', 'bis', 'in', 'unserer', 'stationären', 'Behandlung', 'befand', '.', '[SEP]'], scores=array([ 2.50312606e-03, -2.94495682e-01,  1.41640021e-01, -1.31866409e-02,\n",
       "          3.70260502e-03,  1.06434233e-02, -1.09255570e-02, -1.66017601e-02,\n",
       "         -3.29972177e-03,  1.48760996e-02,  4.14400017e-03,  8.42846785e-03,\n",
       "         -2.53153303e-02, -2.08026564e-04,  8.64964181e-03,  3.60374584e-03,\n",
       "         -1.19753440e-02, -5.72845408e-03,  1.34699950e-03,  9.40838058e-03,\n",
       "         -1.11602110e-02, -1.35729039e-03,  6.70034634e-03,  1.02908304e-02,\n",
       "          9.68366481e-03,  2.20765894e-04,  1.95131881e-03,  1.72201178e-02,\n",
       "         -2.09297575e-05,  7.12168927e-03, -1.00429233e-02, -1.70624539e-03,\n",
       "         -3.83273821e-03,  1.44483602e-02,  1.42458494e-02, -9.89860484e-03,\n",
       "         -1.09881657e-02, -3.16345372e-03, -2.30273934e-03, -1.38492376e-02,\n",
       "         -1.03074654e-02, -3.28870165e-03,  1.22379586e-02, -2.39960875e-03,\n",
       "         -1.05535415e-02,  3.36715408e-03,  2.37944225e-04,  9.84536462e-03,\n",
       "          2.57895320e-03,  9.61092075e-06, -6.53343066e-03, -7.69646971e-05,\n",
       "         -7.14526617e-03, -1.39798733e-02, -1.04400135e-02, -1.14077148e-02,\n",
       "          6.90930158e-04, -1.42593409e-02, -1.35776473e-02,  1.33210500e-02,\n",
       "          8.70152769e-03,  4.90268689e-03,  1.51055352e-02, -4.40733813e-02,\n",
       "          7.57605485e-03,  3.24937700e-02]), explainer='Integrated Gradient', target=0), evaluation_scores=[Evaluation(name='aopc_compr', score=-7.306338e-05), Evaluation(name='aopc_suff', score=0.9986702), Evaluation(name='taucorr_loo', score=-0.023821342883872738)]),\n",
       "  ExplanationEvaluation(explanation=Explanation(text='über Ihre Patientin B-SALUTE B-PER I-PER geboren am <[Pseudo] 11/11/1972> wh. B-PLZ B-LOC I-LOC I-ADDR die sich am in unserer Ambulanz vorstellte.', tokens=['[CLS]', 'über', 'Ihre', 'Patient', '##in', 'B', '-', 'SA', '##L', '##U', '##T', '##E', 'B', '-', 'P', '##ER', 'I', '-', 'P', '##ER', 'geboren', 'am', '<', '[', 'Pseud', '##o', ']', '11', '/', '11', '/', '1972', '>', 'w', '##h', '.', 'B', '-', 'P', '##L', '##Z', 'B', '-', 'L', '##OC', 'I', '-', 'L', '##OC', 'I', '-', 'A', '##D', '##DR', 'die', 'sich', 'am', 'in', 'unserer', 'Amb', '##ula', '##n', '##z', 'vors', '##tell', '##te', '.', '[SEP]'], scores=array([ 8.70923410e-03, -3.26492829e-01, -2.47851944e-02,  2.62024019e-02,\n",
       "         -1.47889175e-02, -4.51843150e-02,  1.02084619e-04,  1.64409443e-02,\n",
       "          6.78393158e-03, -2.35248371e-04, -1.47268979e-02,  1.16728531e-03,\n",
       "          7.01679301e-03,  1.21301895e-02,  5.20050381e-03,  6.36784044e-03,\n",
       "         -5.19952368e-03,  4.83930781e-03, -1.17199266e-02, -9.25030788e-03,\n",
       "          2.40512892e-03,  2.14445228e-02, -1.51356864e-02,  1.91057483e-02,\n",
       "          8.73313041e-03,  6.80235081e-03,  1.05590382e-02,  1.13447172e-02,\n",
       "          7.59743874e-03,  9.76394602e-04, -1.85102574e-03,  2.16621711e-03,\n",
       "         -6.25565410e-03, -2.56143823e-02,  9.16913607e-03, -3.74304259e-03,\n",
       "          1.11498874e-02, -2.60474115e-03,  4.40770528e-03, -1.57282237e-02,\n",
       "          2.14650391e-02, -1.27537558e-02, -5.17542283e-03, -2.02680073e-02,\n",
       "         -1.23699615e-02,  6.92218257e-03, -7.03202524e-03, -8.11309829e-04,\n",
       "         -8.01050964e-03, -3.13096115e-03, -2.84339505e-03,  1.08909204e-02,\n",
       "         -5.44998920e-04,  6.34965350e-03,  1.82408557e-02, -1.62278009e-02,\n",
       "          1.73003418e-02,  2.70500022e-02, -1.04376450e-02, -9.30687896e-03,\n",
       "         -4.80399227e-03,  1.25067080e-04,  2.01821828e-02,  1.50914384e-03,\n",
       "          5.71146132e-03, -4.81962254e-03, -3.32682577e-03,  8.25218813e-03]), explainer='Integrated Gradient', target=0), evaluation_scores=[Evaluation(name='aopc_compr', score=2.070268e-05), Evaluation(name='aopc_suff', score=0.9963896), Evaluation(name='taucorr_loo', score=0.10170284738884443)]),\n",
       "  ExplanationEvaluation(explanation=Explanation(text='über Ihre Patientin B-SALUTE B-PER I-PER geboren am <[Pseudo] 23/05/1987> wh. B-PLZ B-LOC I-ADDR I-ADDR die sich am in unserer Ambulanz vorstellte.', tokens=['[CLS]', 'über', 'Ihre', 'Patient', '##in', 'B', '-', 'SA', '##L', '##U', '##T', '##E', 'B', '-', 'P', '##ER', 'I', '-', 'P', '##ER', 'geboren', 'am', '<', '[', 'Pseud', '##o', ']', '23', '/', '05', '/', '1987', '>', 'w', '##h', '.', 'B', '-', 'P', '##L', '##Z', 'B', '-', 'L', '##OC', 'I', '-', 'A', '##D', '##DR', 'I', '-', 'A', '##D', '##DR', 'die', 'sich', 'am', 'in', 'unserer', 'Amb', '##ula', '##n', '##z', 'vors', '##tell', '##te', '.', '[SEP]'], scores=array([-5.36231162e-03,  1.06638675e-01, -1.46488380e-01, -9.63722567e-02,\n",
       "         -6.30668183e-02,  4.30156489e-02, -1.09923115e-02,  2.81065587e-02,\n",
       "          2.71329665e-02,  1.91200478e-03,  3.50637886e-03,  2.91691946e-03,\n",
       "          6.65650763e-03, -9.14326745e-03, -6.51598218e-03,  3.27737762e-03,\n",
       "          2.24543916e-02,  4.24831832e-03,  1.99271433e-02, -4.81494655e-03,\n",
       "          3.09672195e-03,  2.37062350e-02, -1.14913689e-02,  7.69348220e-04,\n",
       "         -1.14179386e-02,  1.11266192e-02, -2.69588204e-03, -2.53145155e-04,\n",
       "          2.53084400e-03, -8.41442209e-05,  2.86422779e-04,  1.15084853e-02,\n",
       "         -1.49571605e-02,  1.16684294e-02, -4.71974083e-03, -1.13962166e-02,\n",
       "         -1.14753965e-03, -1.47211133e-03, -3.92326190e-03, -1.38052506e-03,\n",
       "          1.17882871e-02, -7.95661182e-03, -6.21290431e-04,  3.56521762e-03,\n",
       "          9.86671289e-04, -8.84375513e-03,  9.58414002e-05, -3.38397628e-03,\n",
       "          8.93533762e-03, -8.60566475e-03,  4.22646145e-04, -1.27424537e-03,\n",
       "          1.19909726e-02, -2.65299144e-03, -1.42856027e-02, -1.41036877e-03,\n",
       "          2.13399831e-02, -5.54862647e-03,  4.01807635e-02,  2.18285769e-03,\n",
       "         -7.21302887e-03,  4.76737535e-03,  7.84505385e-03, -2.59853301e-02,\n",
       "         -1.07724524e-02,  6.59649308e-03, -9.45381419e-03, -8.92194710e-03,\n",
       "          2.01914883e-02]), explainer='Integrated Gradient', target=0), evaluation_scores=[Evaluation(name='aopc_compr', score=0.67217505), Evaluation(name='aopc_suff', score=0.59942347), Evaluation(name='taucorr_loo', score=0.195696735214837)]),\n",
       "  ExplanationEvaluation(explanation=Explanation(text='über Ihren Patienten B-SALUTE B-PER I-PER geboren am <[Pseudo] 27/05/1977> wohnhaft in B-PLZ B-LOC B-ADDR I-ADDR der sich vom bis in unserer stationären Behandlung befand.', tokens=['[CLS]', 'über', 'Ihren', 'Patienten', 'B', '-', 'SA', '##L', '##U', '##T', '##E', 'B', '-', 'P', '##ER', 'I', '-', 'P', '##ER', 'geboren', 'am', '<', '[', 'Pseud', '##o', ']', '27', '/', '05', '/', '1977', '>', 'wohn', '##haft', 'in', 'B', '-', 'P', '##L', '##Z', 'B', '-', 'L', '##OC', 'B', '-', 'A', '##D', '##DR', 'I', '-', 'A', '##D', '##DR', 'der', 'sich', 'vom', 'bis', 'in', 'unserer', 'stationären', 'Behandlung', 'befand', '.', '[SEP]'], scores=array([-0.01081932,  0.28958903,  0.19054199,  0.02147044,  0.02001   ,\n",
       "         -0.01491668,  0.04869337, -0.00456773, -0.0283856 , -0.00083189,\n",
       "          0.00868807,  0.0051093 , -0.01697536,  0.00282722,  0.00170144,\n",
       "          0.01021651, -0.01047376, -0.00492016, -0.00671334, -0.01462866,\n",
       "         -0.00685029, -0.00397882,  0.00453768,  0.00110825,  0.00050003,\n",
       "          0.00703952,  0.00689031,  0.00488048,  0.00709174,  0.00878499,\n",
       "         -0.01338011,  0.00378588, -0.00119126, -0.00522742,  0.00435885,\n",
       "         -0.00314963,  0.00216483,  0.002483  ,  0.00061056,  0.00340914,\n",
       "         -0.00702206, -0.00286804,  0.00430346,  0.00676879, -0.00767742,\n",
       "          0.00551756, -0.00791956, -0.00034601,  0.01106977, -0.0046046 ,\n",
       "         -0.00178611, -0.00057625, -0.00377636,  0.02029355,  0.0052292 ,\n",
       "         -0.00044219,  0.01908901,  0.00360961,  0.02329406, -0.00597188,\n",
       "          0.00423863, -0.0024171 ,  0.03470859,  0.00287078, -0.01009675]), explainer='Integrated Gradient', target=0), evaluation_scores=[Evaluation(name='aopc_compr', score=0.977654), Evaluation(name='aopc_suff', score=0.028189352), Evaluation(name='taucorr_loo', score=-0.017431442157320655)]),\n",
       "  ExplanationEvaluation(explanation=Explanation(text='über Ihren Patienten B-SALUTE B-PER I-PER geboren am <[Pseudo] 24/06/1977> wohnhaft in B-PLZ B-LOC I-ADDR I-ADDR der sich vom bis in unserer stationären Behandlung befand.', tokens=['[CLS]', 'über', 'Ihren', 'Patienten', 'B', '-', 'SA', '##L', '##U', '##T', '##E', 'B', '-', 'P', '##ER', 'I', '-', 'P', '##ER', 'geboren', 'am', '<', '[', 'Pseud', '##o', ']', '24', '/', '06', '/', '1977', '>', 'wohn', '##haft', 'in', 'B', '-', 'P', '##L', '##Z', 'B', '-', 'L', '##OC', 'I', '-', 'A', '##D', '##DR', 'I', '-', 'A', '##D', '##DR', 'der', 'sich', 'vom', 'bis', 'in', 'unserer', 'stationären', 'Behandlung', 'befand', '.', '[SEP]'], scores=array([ 1.15060550e-02,  3.69749107e-01,  4.43336767e-02, -5.38473007e-02,\n",
       "         -1.39072498e-02, -2.50419754e-02, -6.23045407e-03,  3.47472586e-02,\n",
       "         -1.44673719e-03, -1.95626271e-02, -2.00271670e-02, -8.60294175e-03,\n",
       "          7.18224353e-04,  7.56980276e-03, -6.97484833e-03,  1.09184293e-02,\n",
       "         -7.75760851e-03,  3.79493146e-03, -4.36112942e-04, -2.48102225e-03,\n",
       "         -9.24382331e-03, -1.80457713e-02, -4.82401171e-03, -1.79140254e-06,\n",
       "         -5.66532117e-04,  2.44798479e-03, -2.68509573e-03, -4.20199010e-03,\n",
       "         -1.37419213e-02, -3.30898022e-03, -5.68245619e-03,  9.21248999e-03,\n",
       "          1.14242835e-02, -7.01370565e-03, -8.32755478e-03,  1.23457874e-02,\n",
       "         -3.18901856e-03,  2.59035470e-03, -8.05009428e-03,  4.55600017e-03,\n",
       "         -6.33548716e-03, -1.29355816e-03, -7.42892449e-03, -5.46442517e-03,\n",
       "         -4.50357530e-03, -4.99422942e-03, -7.23870357e-03, -9.66631474e-04,\n",
       "         -7.66925348e-04,  3.10427514e-03,  4.87604817e-03,  7.80633750e-03,\n",
       "         -4.27911671e-03,  8.01099587e-03,  8.27215284e-03, -7.69109376e-03,\n",
       "         -3.90655855e-02, -1.43983112e-02, -7.33973124e-03, -1.75217120e-02,\n",
       "         -1.18473380e-02, -1.51510720e-02, -5.77996911e-03,  6.79323400e-03,\n",
       "          1.79573894e-02]), explainer='Integrated Gradient', target=0), evaluation_scores=[Evaluation(name='aopc_compr', score=0.48170102), Evaluation(name='aopc_suff', score=0.24965397), Evaluation(name='taucorr_loo', score=-0.0066632531166605224)])],\n",
       " 'Diagnosen': [ExplanationEvaluation(explanation=Explanation(text='- WS-Skoliose', tokens=['[CLS]', '-', 'W', '##S', '-', 'Sk', '##oli', '##ose', '[SEP]'], scores=array([ 0.06194622,  0.44833395, -0.10369028,  0.13035062, -0.04312859,\n",
       "         -0.06608121, -0.10053845,  0.00069942, -0.04523125]), explainer='Integrated Gradient', target=1), evaluation_scores=[Evaluation(name='aopc_compr', score=0.97830594), Evaluation(name='aopc_suff', score=0.8491213), Evaluation(name='taucorr_loo', score=0.33333333333333337)]),\n",
       "  ExplanationEvaluation(explanation=Explanation(text='-UNK- Aktuell echokardiographisch gute LVEF unter submaximaler Dobutamintherapie. Hypertrophie mit Septumdiameter 17 mm -LRB- ESC HCM-SCD Risk Score: 1.8% -RRB- ohne LVOT-Obstruktion.', tokens=['[CLS]', '-', 'UN', '##K', '-', 'Aktuell', 'e', '##ch', '##oka', '##r', '##di', '##ograph', '##isch', 'gute', 'LV', '##EF', 'unter', 'sub', '##ma', '##x', '##imal', '##er', 'Dob', '##uta', '##min', '##ther', '##ap', '##ie', '.', 'Hyper', '##tr', '##oph', '##ie', 'mit', 'Se', '##pt', '##um', '##di', '##ameter', '17', 'mm', '-', 'L', '##R', '##B', '-', 'ES', '##C', 'HC', '##M', '-', 'SC', '##D', 'Ris', '##k', 'Sc', '##ore', ':', '1', '.', '8', '%', '-', 'R', '##R', '##B', '-', 'ohne', 'LV', '##O', '##T', '-', 'Obst', '##ru', '##ktion', '.', '[SEP]'], scores=array([ 3.40084944e-02, -4.75168849e-01, -1.09608257e-01,  3.38900874e-02,\n",
       "         -2.79117331e-03,  1.10693686e-02, -1.16789322e-03,  2.10235786e-02,\n",
       "         -1.56155219e-02,  2.06531988e-03,  3.73188102e-04,  9.74730448e-04,\n",
       "         -4.85493207e-03, -4.76108656e-03, -7.70576584e-03, -9.55256112e-04,\n",
       "         -3.89715030e-04, -3.30558393e-03,  5.51500442e-04,  8.73354566e-04,\n",
       "         -8.21427170e-04, -2.88400978e-03, -1.71675360e-03, -4.89917905e-04,\n",
       "          7.80312163e-03,  4.39942212e-03, -1.32888307e-03,  3.02297781e-04,\n",
       "         -5.95943275e-03,  5.42970941e-04, -4.54881129e-04,  5.29619277e-04,\n",
       "         -3.99370149e-03,  4.02303158e-03, -2.89580782e-03, -2.25380057e-03,\n",
       "         -1.58844531e-04,  3.41860673e-03, -2.52185593e-03,  1.27442884e-03,\n",
       "          1.61256723e-03,  2.46657872e-05, -2.02084061e-03, -9.56102321e-04,\n",
       "         -2.94905606e-03, -5.56158783e-05,  1.88070420e-03, -2.67477441e-03,\n",
       "         -3.16924448e-03,  1.13387140e-03, -3.04044427e-03, -2.38714353e-03,\n",
       "         -8.44386626e-04, -3.14089212e-03, -4.27527092e-03,  1.98258260e-03,\n",
       "         -1.15356201e-03, -4.23161864e-03,  2.01706914e-03, -4.62093763e-03,\n",
       "         -2.41875596e-03,  8.21149463e-03, -4.89907720e-03, -5.39195198e-03,\n",
       "          2.75093935e-04, -2.24503761e-03, -5.36532450e-04, -1.26715746e-03,\n",
       "          2.71441678e-03,  2.24937551e-03, -2.80565854e-03,  5.51338884e-03,\n",
       "         -4.02666017e-03, -1.13457129e-02,  1.38653563e-02, -1.14226404e-02,\n",
       "          9.77138679e-02]), explainer='Integrated Gradient', target=1), evaluation_scores=[Evaluation(name='aopc_compr', score=-0.0012050569), Evaluation(name='aopc_suff', score=0.2517045), Evaluation(name='taucorr_loo', score=-0.061993152925928136)]),\n",
       "  ExplanationEvaluation(explanation=Explanation(text='-UNK- Urinkultur vom <[Pseudo] 01/07/2040:> Klebsiella pneumoniae 10^5', tokens=['[CLS]', '-', 'UN', '##K', '-', 'Ur', '##ink', '##ultur', 'vom', '<', '[', 'Pseud', '##o', ']', '01', '/', '07', '/', '20', '##40', ':', '>', 'Kle', '##bs', '##iell', '##a', 'p', '##ne', '##um', '##onia', '##e', '10', '^', '5', '[SEP]'], scores=array([ 0.0622438 , -0.09877257, -0.24383558, -0.00615327,  0.04182742,\n",
       "         -0.01126604,  0.01969347,  0.02359319,  0.00571057, -0.01265307,\n",
       "          0.02446475,  0.02059291, -0.04552247, -0.00278412,  0.03142081,\n",
       "          0.0031597 , -0.02034687,  0.00677431, -0.02948515,  0.00751507,\n",
       "         -0.02571041,  0.00862183, -0.01526834,  0.0038956 ,  0.00132511,\n",
       "         -0.01271455, -0.00365875, -0.01226764,  0.01171367, -0.00991143,\n",
       "         -0.02972293, -0.00628306, -0.00242531, -0.04223927,  0.096427  ]), explainer='Integrated Gradient', target=1), evaluation_scores=[Evaluation(name='aopc_compr', score=0.00012381077), Evaluation(name='aopc_suff', score=0.88990873), Evaluation(name='taucorr_loo', score=-0.12878787878787878)]),\n",
       "  ExplanationEvaluation(explanation=Explanation(text='- NYHA Stadium I', tokens=['[CLS]', '-', 'N', '##Y', '##HA', 'Stadium', 'I', '[SEP]'], scores=array([-0.09796529, -0.16559885, -0.16439927,  0.17314098, -0.02834482,\n",
       "         -0.20898917,  0.12552969, -0.03603193]), explainer='Integrated Gradient', target=1), evaluation_scores=[Evaluation(name='aopc_compr', score=-0.00090935826), Evaluation(name='aopc_suff', score=0.9839692), Evaluation(name='taucorr_loo', score=-0.4666666666666666)]),\n",
       "  ExplanationEvaluation(explanation=Explanation(text='- ZVK-Anlage am <[Pseudo] 11/11/2207>', tokens=['[CLS]', '-', 'Z', '##V', '##K', '-', 'Anlage', 'am', '<', '[', 'Pseud', '##o', ']', '11', '/', '11', '/', '220', '##7', '>', '[SEP]'], scores=array([-0.0262394 ,  0.3008563 ,  0.11263797,  0.10357842, -0.00116897,\n",
       "         -0.02308649, -0.02755334,  0.05366545,  0.005942  , -0.02960014,\n",
       "         -0.05378714, -0.03093791,  0.00442208, -0.03631075,  0.02671082,\n",
       "          0.01965281, -0.01351957,  0.0173552 ,  0.02907629,  0.01782984,\n",
       "         -0.0660691 ]), explainer='Integrated Gradient', target=1), evaluation_scores=[Evaluation(name='aopc_compr', score=0.9866087), Evaluation(name='aopc_suff', score=0.4613651), Evaluation(name='taucorr_loo', score=0.23976608187134502)]),\n",
       "  ExplanationEvaluation(explanation=Explanation(text='-UNK- Ferinject 1g am <[Pseudo] 03/02/34>', tokens=['[CLS]', '-', 'UN', '##K', '-', 'Fer', '##in', '##ject', '1', '##g', 'am', '<', '[', 'Pseud', '##o', ']', '03', '/', '02', '/', '34', '>', '[SEP]'], scores=array([-0.04932425, -0.42279037,  0.14721874, -0.05942966,  0.01235211,\n",
       "          0.00476286,  0.0206349 , -0.00610969,  0.00190622,  0.01480316,\n",
       "         -0.01945202, -0.00964672,  0.00880625, -0.01160828, -0.00513675,\n",
       "          0.00652381,  0.00313221,  0.00466488,  0.00224967,  0.005839  ,\n",
       "          0.01767922,  0.01344696,  0.15248227]), explainer='Integrated Gradient', target=1), evaluation_scores=[Evaluation(name='aopc_compr', score=0.0010665825), Evaluation(name='aopc_suff', score=0.98320544), Evaluation(name='taucorr_loo', score=-0.04761904761904762)]),\n",
       "  ExplanationEvaluation(explanation=Explanation(text='-UNK- Erfolgreiche elektrische Kardioversion -LRB- 1x 120 J, biphasisch, synchron -RRB- in einen normofrequenten Sinusrhythmus', tokens=['[CLS]', '-', 'UN', '##K', '-', 'Erfolg', '##reiche', 'elektrische', 'Kard', '##io', '##version', '-', 'L', '##R', '##B', '-', '1', '##x', '120', 'J', ',', 'bi', '##ph', '##asis', '##ch', ',', 'syn', '##chron', '-', 'R', '##R', '##B', '-', 'in', 'einen', 'norm', '##of', '##re', '##que', '##nten', 'Sin', '##us', '##r', '##hythm', '##us', '[SEP]'], scores=array([-0.09540942,  0.0894339 ,  0.1031946 , -0.01113005,  0.01957208,\n",
       "          0.03621411,  0.02305363,  0.00244112, -0.03139764,  0.00834108,\n",
       "         -0.00515275,  0.00907503,  0.01244999,  0.01936372, -0.00328359,\n",
       "         -0.00892801,  0.01598574,  0.00521185,  0.00698543,  0.0218051 ,\n",
       "          0.01264896,  0.02239956,  0.00749013,  0.0311091 , -0.01032592,\n",
       "          0.00929325, -0.01327129, -0.02833816, -0.0144983 , -0.00473767,\n",
       "         -0.03151192, -0.01386855, -0.01292748,  0.02319696,  0.0125643 ,\n",
       "         -0.00087   ,  0.01696933,  0.01762961,  0.00952531,  0.00437259,\n",
       "         -0.00544209, -0.00547212, -0.02274086, -0.01900316, -0.0142489 ,\n",
       "         -0.10711564]), explainer='Integrated Gradient', target=1), evaluation_scores=[Evaluation(name='aopc_compr', score=0.34650388), Evaluation(name='aopc_suff', score=0.0026671488), Evaluation(name='taucorr_loo', score=0.21258596309356742)]),\n",
       "  ExplanationEvaluation(explanation=Explanation(text='-UNK- Über einen Termin wird der Patient telefonisch informiert.', tokens=['[CLS]', '-', 'UN', '##K', '-', 'Über', 'einen', 'Termin', 'wird', 'der', 'Patient', 'telefon', '##isch', 'informiert', '.', '[SEP]'], scores=array([-0.07071277, -0.11906035,  0.38599022,  0.01795147,  0.03053184,\n",
       "         -0.00507794,  0.02418332,  0.04603027,  0.03745068, -0.00589387,\n",
       "          0.03123524, -0.03955322,  0.02582893,  0.04227206,  0.05237114,\n",
       "          0.0658567 ]), explainer='Integrated Gradient', target=1), evaluation_scores=[Evaluation(name='aopc_compr', score=0.74982715), Evaluation(name='aopc_suff', score=0.94954467), Evaluation(name='taucorr_loo', score=0.05494505494505495)]),\n",
       "  ExplanationEvaluation(explanation=Explanation(text='- Koronare Herzerkrankung ohne höhergradige Stenosen -LRB- B-OTHER vom <[Pseudo] 05/11/2015> -RRB-', tokens=['[CLS]', '-', 'Kor', '##ona', '##re', 'Herz', '##erkran', '##kung', 'ohne', 'höher', '##grad', '##ige', 'Sten', '##osen', '-', 'L', '##R', '##B', '-', 'B', '-', 'O', '##TH', '##ER', 'vom', '<', '[', 'Pseud', '##o', ']', '05', '/', '11', '/', '2015', '>', '-', 'R', '##R', '##B', '-', '[SEP]'], scores=array([ 0.07708392, -0.19895804,  0.20232201,  0.07378124,  0.04395802,\n",
       "          0.01006615, -0.00935977, -0.01725844, -0.0118268 ,  0.0331864 ,\n",
       "          0.00170095, -0.01146348, -0.01355605,  0.00061476, -0.00363003,\n",
       "          0.00459515,  0.01525482,  0.00777806, -0.0094708 , -0.01062734,\n",
       "         -0.00999615,  0.00821889, -0.01624758, -0.01057954,  0.01730317,\n",
       "          0.00154832,  0.00413673,  0.01040438, -0.01223655, -0.00793898,\n",
       "          0.01645859, -0.00264474, -0.00964366, -0.00105125,  0.00510355,\n",
       "         -0.00090095, -0.00527115, -0.01257031,  0.00412872,  0.01913925,\n",
       "         -0.00671758,  0.06126772]), explainer='Integrated Gradient', target=1), evaluation_scores=[Evaluation(name='aopc_compr', score=9.529591e-05), Evaluation(name='aopc_suff', score=0.9951375), Evaluation(name='taucorr_loo', score=-0.03463759532323003)]),\n",
       "  ExplanationEvaluation(explanation=Explanation(text='-UNK- Z.n. sekundärprophylaktischer ICD-Implantation <[Pseudo] 2008>', tokens=['[CLS]', '-', 'UN', '##K', '-', 'Z', '.', 'n', '.', 'sekund', '##är', '##pro', '##phy', '##la', '##kt', '##ischer', 'IC', '##D', '-', 'Imp', '##lant', '##ation', '<', '[', 'Pseud', '##o', ']', '2008', '>', '[SEP]'], scores=array([-4.57924142e-02,  4.30959044e-02,  2.26673753e-01,  1.37361981e-02,\n",
       "          4.06867031e-02,  2.64690066e-02, -6.17659094e-03,  7.67410969e-02,\n",
       "          5.39936334e-02,  3.35217453e-02, -1.07621810e-02,  4.51285810e-04,\n",
       "         -1.44676332e-02,  5.98957626e-03, -4.52131427e-02,  2.23189831e-02,\n",
       "          1.39466977e-02, -1.65530067e-02,  5.39138489e-03, -1.31457280e-02,\n",
       "          4.74222372e-02,  3.34822162e-02,  1.85402448e-02, -1.60305268e-02,\n",
       "         -1.81948157e-02,  3.10368844e-05,  4.35683276e-02,  1.75317447e-02,\n",
       "          2.30512624e-02,  6.70209227e-02]), explainer='Integrated Gradient', target=1), evaluation_scores=[Evaluation(name='aopc_compr', score=0.012569301), Evaluation(name='aopc_suff', score=0.2434525), Evaluation(name='taucorr_loo', score=0.09271531311377025)])],\n",
       " 'AllergienUnverträglichkeitenRisiken': [ExplanationEvaluation(explanation=Explanation(text='Allergien: Penicillin, Cephalosporine, Pilze', tokens=['[CLS]', 'Aller', '##gien', ':', 'Pen', '##ici', '##lli', '##n', ',', 'Ce', '##phal', '##os', '##por', '##ine', ',', 'Pilz', '##e', '[SEP]'], scores=array([ 0.02218262, -0.02723865,  0.11921176, -0.15657427,  0.06597016,\n",
       "         -0.10889909, -0.10918164,  0.08125241, -0.00208156,  0.04028214,\n",
       "          0.01127087,  0.02519027,  0.00956736, -0.05906442, -0.04655854,\n",
       "          0.00023855, -0.07799531, -0.03724039]), explainer='Integrated Gradient', target=2), evaluation_scores=[Evaluation(name='aopc_compr', score=0.16132616), Evaluation(name='aopc_suff', score=0.993529), Evaluation(name='taucorr_loo', score=0.0)]),\n",
       "  ExplanationEvaluation(explanation=Explanation(text='CvRF: Arterielle Hypertonie, Hypercholesterinämie, Adipositas, Nikotinanamnese: unbekannt.', tokens=['[CLS]', 'C', '##v', '##RF', ':', 'Arte', '##riel', '##le', 'Hyper', '##ton', '##ie', ',', 'Hyper', '##ch', '##ole', '##ster', '##in', '##äm', '##ie', ',', 'Ad', '##ip', '##osit', '##as', ',', 'Nik', '##ot', '##ina', '##nam', '##nes', '##e', ':', 'unbekannt', '.', '[SEP]'], scores=array([ 0.01100935,  0.11506945, -0.06483957,  0.03328711,  0.02724673,\n",
       "          0.00213349, -0.04001445, -0.03499567,  0.02539996,  0.14651754,\n",
       "          0.00565564, -0.04141263,  0.08430036,  0.00278548,  0.02043089,\n",
       "          0.00614133,  0.00625081, -0.02496998,  0.01734098,  0.02905279,\n",
       "         -0.02581112, -0.02436264, -0.01233052, -0.03546   ,  0.00952403,\n",
       "         -0.02654927, -0.03499066,  0.00728439,  0.00544452,  0.02050873,\n",
       "         -0.03420444,  0.00056253,  0.00812394,  0.0024945 ,  0.01349453]), explainer='Integrated Gradient', target=2), evaluation_scores=[Evaluation(name='aopc_compr', score=0.13157704), Evaluation(name='aopc_suff', score=0.14158924), Evaluation(name='taucorr_loo', score=0.04924242424242424)]),\n",
       "  ExplanationEvaluation(explanation=Explanation(text='CVRF: AHT, fortgesetzter Nikotinabusus -LRB- 35py -RRB- , pos. FA. Allergien: keine bekannt.', tokens=['[CLS]', 'C', '##V', '##RF', ':', 'A', '##H', '##T', ',', 'fortgesetzt', '##er', 'Nik', '##ot', '##ina', '##bus', '##us', '-', 'L', '##R', '##B', '-', '35', '##p', '##y', '-', 'R', '##R', '##B', '-', ',', 'po', '##s', '.', 'FA', '.', 'Aller', '##gien', ':', 'keine', 'bekannt', '.', '[SEP]'], scores=array([ 0.00057231,  0.05231636, -0.00983123,  0.07259125, -0.04968262,\n",
       "         -0.06775634,  0.02448523,  0.01355057,  0.00079923, -0.02312612,\n",
       "         -0.05389098,  0.00984518,  0.01907533, -0.03894997,  0.0621997 ,\n",
       "         -0.03360475,  0.0025648 , -0.01220061,  0.01046986, -0.00245526,\n",
       "         -0.00375634, -0.01475723, -0.02297121, -0.00983142, -0.00393583,\n",
       "          0.01076999,  0.00138039,  0.02294264, -0.0098371 , -0.0228073 ,\n",
       "          0.02039724,  0.01456363,  0.04175894,  0.02333271,  0.00814697,\n",
       "         -0.02537275, -0.07950367,  0.04012998, -0.00266352, -0.01553466,\n",
       "         -0.02452036, -0.02111839]), explainer='Integrated Gradient', target=2), evaluation_scores=[Evaluation(name='aopc_compr', score=0.20568438), Evaluation(name='aopc_suff', score=0.12859742), Evaluation(name='taucorr_loo', score=-0.16035923760754645)]),\n",
       "  ExplanationEvaluation(explanation=Explanation(text='Kardiovaskuläre Risikofaktoren: Arterielle Hypertonie, Adipositas, Nikotinanamnese: früher.', tokens=['[CLS]', 'Kard', '##io', '##vas', '##kul', '##äre', 'Risiko', '##faktoren', ':', 'Arte', '##riel', '##le', 'Hyper', '##ton', '##ie', ',', 'Ad', '##ip', '##osit', '##as', ',', 'Nik', '##ot', '##ina', '##nam', '##nes', '##e', ':', 'früher', '.', '[SEP]'], scores=array([ 0.01181345, -0.04880308, -0.02363688,  0.01437743,  0.05959316,\n",
       "         -0.08662051, -0.04787698, -0.0898542 , -0.0077379 ,  0.026041  ,\n",
       "         -0.02603698, -0.03325019,  0.01303188, -0.04310941,  0.05217918,\n",
       "          0.00021307,  0.00211422, -0.00957464,  0.0274276 ,  0.07712756,\n",
       "          0.01372036, -0.07961381, -0.05424061, -0.00271131, -0.04670232,\n",
       "          0.01623638,  0.02897886, -0.00783458, -0.0402279 , -0.00131289,\n",
       "          0.00800164]), explainer='Integrated Gradient', target=2), evaluation_scores=[Evaluation(name='aopc_compr', score=0.00010840893), Evaluation(name='aopc_suff', score=0.92789745), Evaluation(name='taucorr_loo', score=-0.2561576354679802)]),\n",
       "  ExplanationEvaluation(explanation=Explanation(text='Allergien/Unverträglichkeiten: Entresto fraglich -LRB- ausgeprägte Hypotonie -RRB-', tokens=['[CLS]', 'Aller', '##gien', '/', 'Un', '##vert', '##räglichkeit', '##en', ':', 'Ent', '##rest', '##o', 'fraglich', '-', 'L', '##R', '##B', '-', 'ausgeprägt', '##e', 'Hyp', '##oto', '##ni', '##e', '-', 'R', '##R', '##B', '-', '[SEP]'], scores=array([-0.00660186,  0.26744343,  0.07954581,  0.02576881,  0.03603794,\n",
       "          0.03489916,  0.07635624, -0.04730651, -0.02734526,  0.00669844,\n",
       "         -0.03445775,  0.03241013,  0.05725347, -0.01569937,  0.0316348 ,\n",
       "          0.02257364, -0.01405782, -0.00668294,  0.02614893, -0.0222372 ,\n",
       "         -0.01764901, -0.02893776, -0.02502313, -0.01583714, -0.01237869,\n",
       "         -0.00812017,  0.00813428, -0.00143757, -0.00373973,  0.00758301]), explainer='Integrated Gradient', target=2), evaluation_scores=[Evaluation(name='aopc_compr', score=0.9821793), Evaluation(name='aopc_suff', score=0.0039806366), Evaluation(name='taucorr_loo', score=0.3129984485889549)]),\n",
       "  ExplanationEvaluation(explanation=Explanation(text='Allergien: Antibiotikum -LRB- unklar welches -RRB-', tokens=['[CLS]', 'Aller', '##gien', ':', 'Anti', '##bi', '##ot', '##ikum', '-', 'L', '##R', '##B', '-', 'unklar', 'welches', '-', 'R', '##R', '##B', '-', '[SEP]'], scores=array([ 0.11472941,  0.06065383,  0.08442307,  0.05927237, -0.12749304,\n",
       "         -0.01737449,  0.09749661,  0.08858132, -0.03935007, -0.02948499,\n",
       "          0.04070143, -0.03238878,  0.00506041,  0.03519285, -0.00055076,\n",
       "         -0.00387588,  0.01199725,  0.05691589,  0.02296857,  0.02657265,\n",
       "          0.04491633]), explainer='Integrated Gradient', target=2), evaluation_scores=[Evaluation(name='aopc_compr', score=0.6571339), Evaluation(name='aopc_suff', score=0.28468674), Evaluation(name='taucorr_loo', score=0.3636379272568565)]),\n",
       "  ExplanationEvaluation(explanation=Explanation(text='Allergien/Unverträglichkeiten: Staub, div. Lebensmittelallergien', tokens=['[CLS]', 'Aller', '##gien', '/', 'Un', '##vert', '##räglichkeit', '##en', ':', 'Staub', ',', 'di', '##v', '.', 'Lebensmittel', '##aller', '##gien', '[SEP]'], scores=array([-0.01894804, -0.10612013, -0.19558853, -0.03800862, -0.08132025,\n",
       "         -0.06844743,  0.02180829, -0.04557286, -0.08628091, -0.04139263,\n",
       "         -0.02547339, -0.00274698,  0.01102286,  0.04083922, -0.08056182,\n",
       "          0.07762294, -0.04763053,  0.01061456]), explainer='Integrated Gradient', target=2), evaluation_scores=[Evaluation(name='aopc_compr', score=0.0005994439), Evaluation(name='aopc_suff', score=0.994355), Evaluation(name='taucorr_loo', score=-0.2833333333333333)]),\n",
       "  ExplanationEvaluation(explanation=Explanation(text='Allergien/Unverträglichkeiten: Rivaroxaban -LRB- Übelkeit, Magenbeschwerden -RRB-', tokens=['[CLS]', 'Aller', '##gien', '/', 'Un', '##vert', '##räglichkeit', '##en', ':', 'Riv', '##aro', '##x', '##aba', '##n', '-', 'L', '##R', '##B', '-', 'Üb', '##el', '##keit', ',', 'Magen', '##beschwerde', '##n', '-', 'R', '##R', '##B', '-', '[SEP]'], scores=array([-0.03978536, -0.124257  , -0.0630815 , -0.00811035, -0.01432532,\n",
       "         -0.06504086,  0.00292208, -0.06869922,  0.0603797 , -0.03213199,\n",
       "         -0.00565463, -0.00117698, -0.02381127, -0.03495898, -0.00179643,\n",
       "          0.03884845,  0.01748429, -0.00147116,  0.03088442, -0.00684184,\n",
       "         -0.02748784,  0.07041189,  0.04372092, -0.07906979,  0.02084822,\n",
       "         -0.02095702, -0.03270202,  0.00432977,  0.0036392 , -0.01458146,\n",
       "         -0.01732646, -0.02326358]), explainer='Integrated Gradient', target=2), evaluation_scores=[Evaluation(name='aopc_compr', score=0.00071538985), Evaluation(name='aopc_suff', score=0.994676), Evaluation(name='taucorr_loo', score=0.06682045387601819)]),\n",
       "  ExplanationEvaluation(explanation=Explanation(text='- Allergien/Unverträglichkeiten: Anamnestisch keine bekannt', tokens=['[CLS]', '-', 'Aller', '##gien', '/', 'Un', '##vert', '##räglichkeit', '##en', ':', 'An', '##am', '##nest', '##isch', 'keine', 'bekannt', '[SEP]'], scores=array([ 0.0036895 , -0.0427871 , -0.03871056, -0.07437448,  0.07790068,\n",
       "          0.01622274,  0.10066468, -0.03899679, -0.07669285, -0.03855515,\n",
       "          0.06731459, -0.0553314 ,  0.07087672, -0.05320409,  0.14881697,\n",
       "         -0.04341417, -0.05244754]), explainer='Integrated Gradient', target=2), evaluation_scores=[Evaluation(name='aopc_compr', score=0.014270008), Evaluation(name='aopc_suff', score=0.9862865), Evaluation(name='taucorr_loo', score=-0.08571428571428572)]),\n",
       "  ExplanationEvaluation(explanation=Explanation(text='CVRF: AHT, HLP, ehem. Nikotinabusus -LRB- 20 PY -RRB-', tokens=['[CLS]', 'C', '##V', '##RF', ':', 'A', '##H', '##T', ',', 'H', '##LP', ',', 'ehem', '.', 'Nik', '##ot', '##ina', '##bus', '##us', '-', 'L', '##R', '##B', '-', '20', 'P', '##Y', '-', 'R', '##R', '##B', '-', '[SEP]'], scores=array([ 0.00708093,  0.0820112 , -0.01616104,  0.02850454, -0.01769635,\n",
       "         -0.07812792,  0.00459693, -0.05546298, -0.00344863, -0.03550259,\n",
       "          0.02084518,  0.02315839, -0.04862789, -0.00358464, -0.15329783,\n",
       "          0.07569967, -0.01329725, -0.02186086, -0.00789733, -0.01070255,\n",
       "          0.00570095,  0.01199117, -0.01952732,  0.01156544,  0.04357833,\n",
       "         -0.00333397,  0.0407394 ,  0.02020805,  0.02089201,  0.0105885 ,\n",
       "          0.03112422, -0.03278292,  0.04040302]), explainer='Integrated Gradient', target=2), evaluation_scores=[Evaluation(name='aopc_compr', score=0.9818349), Evaluation(name='aopc_suff', score=0.51891804), Evaluation(name='taucorr_loo', score=0.15069976437956484)])],\n",
       " 'Anamnese': [ExplanationEvaluation(explanation=Explanation(text='Bei der Ankunft verneint der Patient Dyspnoe und AP-Beschwerden.', tokens=['[CLS]', 'Bei', 'der', 'Ankunft', 'verneint', 'der', 'Patient', 'Dy', '##sp', '##no', '##e', 'und', 'AP', '-', 'Beschwerden', '.', '[SEP]'], scores=array([ 0.02316039,  0.17866418, -0.05770797, -0.0391292 , -0.03863461,\n",
       "         -0.1385633 , -0.00970013, -0.07487557, -0.0152348 ,  0.01729361,\n",
       "         -0.11275537, -0.13328481, -0.01873604, -0.01323433,  0.10498767,\n",
       "         -0.01325252,  0.0107855 ]), explainer='Integrated Gradient', target=3), evaluation_scores=[Evaluation(name='aopc_compr', score=0.001142174), Evaluation(name='aopc_suff', score=0.9497731), Evaluation(name='taucorr_loo', score=-0.10476190476190476)]),\n",
       "  ExplanationEvaluation(explanation=Explanation(text='Er sei gerne zu Formel1-Rennen gegangen.', tokens=['[CLS]', 'Er', 'sei', 'gerne', 'zu', 'Formel', '##1', '-', 'Rennen', 'gegangen', '.', '[SEP]'], scores=array([-0.00790481, -0.10933394, -0.34029974,  0.17127103,  0.08689371,\n",
       "          0.06380814, -0.03776141, -0.05917119, -0.01392297,  0.04009343,\n",
       "          0.04118802, -0.02835162]), explainer='Integrated Gradient', target=3), evaluation_scores=[Evaluation(name='aopc_compr', score=0.00058760645), Evaluation(name='aopc_suff', score=0.798898), Evaluation(name='taucorr_loo', score=0.06666666666666667)]),\n",
       "  ExplanationEvaluation(explanation=Explanation(text='Bislang habe sie sich gegen eine weitere Abklärung gesträubt, da sie im Alltag keine Beschwerden gehabt habe.', tokens=['[CLS]', 'Bislang', 'habe', 'sie', 'sich', 'gegen', 'eine', 'weitere', 'Abk', '##lärung', 'gest', '##räu', '##bt', ',', 'da', 'sie', 'im', 'Alltag', 'keine', 'Beschwerden', 'gehabt', 'habe', '.', '[SEP]'], scores=array([-0.03383752, -0.10357643,  0.03968993, -0.04365413,  0.05288249,\n",
       "          0.03268477,  0.03321671,  0.03497304, -0.01428762,  0.02154249,\n",
       "         -0.0380268 , -0.06392146,  0.00369631, -0.00514918, -0.074335  ,\n",
       "          0.06194464,  0.06039689,  0.05846066, -0.02040223, -0.01783859,\n",
       "         -0.00452267, -0.06481953,  0.07863105,  0.03750985]), explainer='Integrated Gradient', target=3), evaluation_scores=[Evaluation(name='aopc_compr', score=0.0029604794), Evaluation(name='aopc_suff', score=0.14274701), Evaluation(name='taucorr_loo', score=0.25541125541125537)]),\n",
       "  ExplanationEvaluation(explanation=Explanation(text='Inadäquate Belastungsdyspnoe wird nicht beschrieben, jedoch bestünden seit ca. 2 Tagen belastungsinduzierte pectanginöse Beschwerden.', tokens=['[CLS]', 'In', '##ad', '##äqu', '##ate', 'Belastungs', '##dy', '##sp', '##no', '##e', 'wird', 'nicht', 'beschrieben', ',', 'jedoch', 'bestünden', 'seit', 'ca', '.', '2', 'Tagen', 'bela', '##stu', '##n', '##gs', '##ind', '##uz', '##ierte', 'p', '##ec', '##tan', '##gin', '##öse', 'Beschwerden', '.', '[SEP]'], scores=array([-0.01509234, -0.03047933, -0.03645942,  0.01561526,  0.04662865,\n",
       "         -0.00686539, -0.01793343, -0.03091409,  0.01494551, -0.00566013,\n",
       "         -0.01410167,  0.03586557,  0.05538359,  0.00160033,  0.0865392 ,\n",
       "         -0.04169288,  0.08260382, -0.01662184,  0.05462732, -0.01969489,\n",
       "         -0.02209071,  0.01386275, -0.01466267, -0.00955091, -0.01104786,\n",
       "          0.00367025, -0.00758737,  0.05268592,  0.04764735,  0.03429444,\n",
       "          0.01571128, -0.00960245, -0.05164552, -0.05108134,  0.00129993,\n",
       "          0.02423458]), explainer='Integrated Gradient', target=3), evaluation_scores=[Evaluation(name='aopc_compr', score=0.00013010502), Evaluation(name='aopc_suff', score=0.042622387), Evaluation(name='taucorr_loo', score=-0.14438502673796794)]),\n",
       "  ExplanationEvaluation(explanation=Explanation(text='Die ambulante Vorstellung erfolgt zur kardiologischen Abklärung bei bekannter arterieller Hypertonie.', tokens=['[CLS]', 'Die', 'ambul', '##ante', 'Vorstellung', 'erfolgt', 'zur', 'kar', '##di', '##ologischen', 'Abk', '##lärung', 'bei', 'bekannter', 'art', '##erie', '##ller', 'Hyper', '##ton', '##ie', '.', '[SEP]'], scores=array([ 0.04133101,  0.30255344, -0.10254558, -0.08865512, -0.03014274,\n",
       "         -0.04717031,  0.02496874,  0.01947041,  0.04536509, -0.0345858 ,\n",
       "         -0.03128143,  0.03110697, -0.01165632,  0.00306282,  0.03491658,\n",
       "          0.01485372, -0.00882221, -0.02775077, -0.01522785,  0.04669682,\n",
       "          0.01650236,  0.02133391]), explainer='Integrated Gradient', target=3), evaluation_scores=[Evaluation(name='aopc_compr', score=-0.0137945535), Evaluation(name='aopc_suff', score=0.5884494), Evaluation(name='taucorr_loo', score=0.0)]),\n",
       "  ExplanationEvaluation(explanation=Explanation(text='Der Nachtschlaf sei mit flachem Oberkörper möglich.', tokens=['[CLS]', 'Der', 'Nacht', '##schl', '##af', 'sei', 'mit', 'flach', '##em', 'Ober', '##körper', 'möglich', '.', '[SEP]'], scores=array([-0.00695923, -0.10005931,  0.07837444,  0.06786956, -0.22283529,\n",
       "          0.13944888, -0.08363465, -0.01934984, -0.0408636 , -0.11372324,\n",
       "         -0.03346887,  0.00468839,  0.07362733, -0.01509739]), explainer='Integrated Gradient', target=3), evaluation_scores=[Evaluation(name='aopc_compr', score=0.031868458), Evaluation(name='aopc_suff', score=0.013079489), Evaluation(name='taucorr_loo', score=0.2121212121212121)]),\n",
       "  ExplanationEvaluation(explanation=Explanation(text='Die AP-Beschwerden seien einhergehend mit Dyspnoe, Übelkeit, Erbrechen und Schwitzen gewesen.', tokens=['[CLS]', 'Die', 'AP', '-', 'Beschwerden', 'seien', 'einher', '##gehend', 'mit', 'Dy', '##sp', '##no', '##e', ',', 'Üb', '##el', '##keit', ',', 'Erb', '##rechen', 'und', 'Schw', '##itzen', 'gewesen', '.', '[SEP]'], scores=array([ 0.00121189, -0.00167423, -0.00823078, -0.04253832,  0.02854952,\n",
       "          0.0257611 ,  0.07291151,  0.11689373, -0.06992727,  0.01347316,\n",
       "          0.01135316,  0.01245084,  0.04374615, -0.03324885, -0.01597831,\n",
       "          0.03290842, -0.00460039,  0.01760669,  0.02419144, -0.01584594,\n",
       "          0.09501726, -0.02257365, -0.04999176, -0.16173944,  0.05376639,\n",
       "         -0.0238098 ]), explainer='Integrated Gradient', target=3), evaluation_scores=[Evaluation(name='aopc_compr', score=0.0002539754), Evaluation(name='aopc_suff', score=0.43313584), Evaluation(name='taucorr_loo', score=0.17391304347826086)]),\n",
       "  ExplanationEvaluation(explanation=Explanation(text=', NYHA II', tokens=['[CLS]', ',', 'N', '##Y', '##HA', 'II', '[SEP]'], scores=array([ 0.08857161, -0.39895407,  0.24780609, -0.05546203, -0.03645177,\n",
       "         -0.1418568 , -0.03089764]), explainer='Integrated Gradient', target=3), evaluation_scores=[Evaluation(name='aopc_compr', score=0.17407352), Evaluation(name='aopc_suff', score=0.78526723), Evaluation(name='taucorr_loo', score=0.19999999999999998)]),\n",
       "  ExplanationEvaluation(explanation=Explanation(text='Die häuslichen Blutdruckmessungen seien um ca. 150/70 mmHg.', tokens=['[CLS]', 'Die', 'häus', '##lichen', 'Blut', '##druck', '##mess', '##ungen', 'seien', 'um', 'ca', '.', '150', '/', '70', 'mm', '##H', '##g', '.', '[SEP]'], scores=array([ 0.03215892, -0.02622907, -0.03123061, -0.0109527 , -0.1370482 ,\n",
       "          0.07809001, -0.08889115,  0.12491774,  0.01595212,  0.24248725,\n",
       "          0.01413879,  0.03433174, -0.01839886,  0.01095614,  0.02050078,\n",
       "         -0.00765723, -0.05618647,  0.01258678, -0.01149168,  0.02579377]), explainer='Integrated Gradient', target=3), evaluation_scores=[Evaluation(name='aopc_compr', score=0.00021754504), Evaluation(name='aopc_suff', score=0.40917805), Evaluation(name='taucorr_loo', score=-0.08496732026143793)]),\n",
       "  ExplanationEvaluation(explanation=Explanation(text='Die Aufnahme des Patienten erfolgte als Selbstvorstellung bei seit 3 Wochen subjektiv persistierendem Vorhofflimmern.', tokens=['[CLS]', 'Die', 'Aufnahme', 'des', 'Patienten', 'erfolgte', 'als', 'Selbst', '##vor', '##stellung', 'bei', 'seit', '3', 'Wochen', 'subjekt', '##iv', 'pers', '##ist', '##ierende', '##m', 'Vor', '##hoff', '##lim', '##mern', '.', '[SEP]'], scores=array([-0.00546862,  0.16445796,  0.01515443,  0.03701644, -0.04685769,\n",
       "          0.01237004,  0.16646957,  0.04864179, -0.02461312, -0.0647201 ,\n",
       "          0.09100056, -0.0087854 , -0.02262071, -0.08728211,  0.01821622,\n",
       "         -0.00614215, -0.00098311,  0.0191032 , -0.01338077,  0.00444691,\n",
       "         -0.01746281,  0.01495499,  0.01591446, -0.03258411, -0.02620898,\n",
       "          0.03514375]), explainer='Integrated Gradient', target=3), evaluation_scores=[Evaluation(name='aopc_compr', score=0.005736065), Evaluation(name='aopc_suff', score=0.45967042), Evaluation(name='taucorr_loo', score=-0.14492753623188404)])],\n",
       " 'Medikation': [ExplanationEvaluation(explanation=Explanation(text='Novalgin 500 mg 1-1-1', tokens=['[CLS]', 'Nov', '##al', '##gin', '500', 'mg', '1', '-', '1', '-', '1', '[SEP]'], scores=array([-0.02324527,  0.02027134,  0.09428165, -0.10700989,  0.07092486,\n",
       "          0.2441995 ,  0.12617739, -0.06312899, -0.17765556,  0.00036118,\n",
       "          0.06673722, -0.00600714]), explainer='Integrated Gradient', target=4), evaluation_scores=[Evaluation(name='aopc_compr', score=0.18152481), Evaluation(name='aopc_suff', score=0.0060811215), Evaluation(name='taucorr_loo', score=-0.4222222222222222)]),\n",
       "  ExplanationEvaluation(explanation=Explanation(text='Bisoprolol 2,5 mg 1-0-1 neu', tokens=['[CLS]', 'Bis', '##opro', '##lo', '##l', '2', ',', '5', 'mg', '1', '-', '0', '-', '1', 'neu', '[SEP]'], scores=array([ 0.00354066, -0.08196884,  0.15700043, -0.06468643,  0.20643231,\n",
       "         -0.0069891 , -0.03780057,  0.07187645,  0.01289368, -0.02463075,\n",
       "          0.01434926,  0.02548264, -0.02142649, -0.03576032,  0.21846214,\n",
       "         -0.01669993]), explainer='Integrated Gradient', target=4), evaluation_scores=[Evaluation(name='aopc_compr', score=0.000120973586), Evaluation(name='aopc_suff', score=0.58737284), Evaluation(name='taucorr_loo', score=-0.2087912087912088)]),\n",
       "  ExplanationEvaluation(explanation=Explanation(text='Magnesium Verla 1-1-1', tokens=['[CLS]', 'Magn', '##es', '##ium', 'Verl', '##a', '1', '-', '1', '-', '1', '[SEP]'], scores=array([-0.01328523,  0.0774744 ,  0.11706504, -0.12712025, -0.00921876,\n",
       "          0.00611009,  0.10686166,  0.06177106, -0.21716522, -0.02321783,\n",
       "          0.18760389,  0.05310657]), explainer='Integrated Gradient', target=4), evaluation_scores=[Evaluation(name='aopc_compr', score=0.047385324), Evaluation(name='aopc_suff', score=0.32803032), Evaluation(name='taucorr_loo', score=-0.37777777777777777)]),\n",
       "  ExplanationEvaluation(explanation=Explanation(text='Salbutamol Spray bei Bedarf, je 2 Hub, bis 3x/tgl', tokens=['[CLS]', 'Sal', '##bu', '##ta', '##mol', 'Spr', '##ay', 'bei', 'Bedarf', ',', 'je', '2', 'Hub', ',', 'bis', '3', '##x', '/', 't', '##gl', '[SEP]'], scores=array([ 2.49367215e-02, -4.96728944e-02, -2.31687863e-02,  1.23845479e-01,\n",
       "         -4.46924362e-02, -6.70736032e-02, -1.46410805e-01, -6.65725468e-02,\n",
       "          2.66407452e-01,  1.83058096e-04, -1.33728094e-04, -1.66614029e-02,\n",
       "         -8.59138768e-03, -1.03816345e-02, -2.64151236e-02, -3.71982447e-02,\n",
       "          2.05150494e-02,  1.72743545e-03, -1.40676657e-02, -4.43172572e-02,\n",
       "          7.02728836e-03]), explainer='Integrated Gradient', target=4), evaluation_scores=[Evaluation(name='aopc_compr', score=0.00013530254), Evaluation(name='aopc_suff', score=0.73882), Evaluation(name='taucorr_loo', score=0.005847953216374269)]),\n",
       "  ExplanationEvaluation(explanation=Explanation(text='Salbutamol bei Bedarf', tokens=['[CLS]', 'Sal', '##bu', '##ta', '##mol', 'bei', 'Bedarf', '[SEP]'], scores=array([ 0.05511671, -0.09886551, -0.10185079, -0.08469277, -0.10701603,\n",
       "          0.32914105, -0.16625035, -0.05706678]), explainer='Integrated Gradient', target=4), evaluation_scores=[Evaluation(name='aopc_compr', score=0.00062423944), Evaluation(name='aopc_suff', score=0.99326164), Evaluation(name='taucorr_loo', score=0.06666666666666665)]),\n",
       "  ExplanationEvaluation(explanation=Explanation(text='1', tokens=['[CLS]', '1', '[SEP]'], scores=array([-0.10674308,  0.55947142, -0.3337855 ]), explainer='Integrated Gradient', target=4), evaluation_scores=[Evaluation(name='aopc_compr', score=0.9556463), Evaluation(name='aopc_suff', score=0.0), Evaluation(name='taucorr_loo', score=nan)]),\n",
       "  ExplanationEvaluation(explanation=Explanation(text='Eplerenon 25mg 1-0-0, neu, Kontrolle RR, HF, Retentionsparameter und Elektrolyte', tokens=['[CLS]', 'Ep', '##ler', '##en', '##on', '25', '##m', '##g', '1', '-', '0', '-', '0', ',', 'neu', ',', 'Kontrolle', 'R', '##R', ',', 'H', '##F', ',', 'Ret', '##ent', '##ions', '##par', '##ameter', 'und', 'Elektro', '##ly', '##te', '[SEP]'], scores=array([-0.00745708,  0.00206063, -0.08567252, -0.01643229, -0.00791777,\n",
       "         -0.09711726, -0.01661489, -0.164508  , -0.06513659,  0.0201502 ,\n",
       "          0.01379697, -0.01509347, -0.08824582, -0.0130524 , -0.014782  ,\n",
       "         -0.02396035,  0.0059313 ,  0.01311312,  0.00333753,  0.00673886,\n",
       "         -0.04547563, -0.04012276,  0.00389467,  0.04049102,  0.01987625,\n",
       "         -0.00646694, -0.01015368,  0.00152868,  0.02920997,  0.03480291,\n",
       "         -0.03559611,  0.05017987, -0.00108245]), explainer='Integrated Gradient', target=4), evaluation_scores=[Evaluation(name='aopc_compr', score=0.0005953312), Evaluation(name='aopc_suff', score=0.9831472), Evaluation(name='taucorr_loo', score=0.14408602150537636)]),\n",
       "  ExplanationEvaluation(explanation=Explanation(text='RamiLich comp. 5/25 mg pausiert -LRB- initial 1-0-0 -RRB-', tokens=['[CLS]', 'Ram', '##i', '##Li', '##ch', 'c', '##omp', '.', '5', '/', '25', 'mg', 'pa', '##us', '##iert', '-', 'L', '##R', '##B', '-', 'initi', '##al', '1', '-', '0', '-', '0', '-', 'R', '##R', '##B', '-', '[SEP]'], scores=array([ 0.02322511, -0.09716346, -0.04714567,  0.00239077, -0.00821573,\n",
       "          0.003639  ,  0.03455276,  0.04063707, -0.0156    ,  0.00879132,\n",
       "          0.04703969,  0.03599971,  0.05255579, -0.03127958,  0.00909873,\n",
       "          0.01237389,  0.03662091,  0.01526879, -0.00652261, -0.00319232,\n",
       "          0.05945192,  0.00437013,  0.05978415,  0.02173291,  0.11933999,\n",
       "         -0.01245761, -0.05505585, -0.0165823 , -0.01030213,  0.01592015,\n",
       "          0.03807168, -0.0110606 ,  0.04455767]), explainer='Integrated Gradient', target=4), evaluation_scores=[Evaluation(name='aopc_compr', score=0.002702466), Evaluation(name='aopc_suff', score=0.05509081), Evaluation(name='taucorr_loo', score=-0.14208834927216116)]),\n",
       "  ExplanationEvaluation(explanation=Explanation(text='Multinorm Vitamin C+Zink 1-0-0', tokens=['[CLS]', 'Mult', '##ino', '##r', '##m', 'Vit', '##amin', 'C', '+', 'Zin', '##k', '1', '-', '0', '-', '0', '[SEP]'], scores=array([-0.02636739, -0.04093535, -0.01347353, -0.04072811,  0.21987491,\n",
       "         -0.04461591, -0.0164786 ,  0.05526983,  0.04348543,  0.02113534,\n",
       "         -0.03651147, -0.09595151,  0.03175924,  0.13785596,  0.07901845,\n",
       "          0.06587604, -0.03066292]), explainer='Integrated Gradient', target=4), evaluation_scores=[Evaluation(name='aopc_compr', score=0.0042937), Evaluation(name='aopc_suff', score=0.44930106), Evaluation(name='taucorr_loo', score=0.04761904761904762)]),\n",
       "  ExplanationEvaluation(explanation=Explanation(text='Corvaton 2 mg 1-0-1 neu!', tokens=['[CLS]', 'Cor', '##va', '##ton', '2', 'mg', '1', '-', '0', '-', '1', 'neu', '!', '[SEP]'], scores=array([ 0.04163426,  0.01906918,  0.09851994,  0.11341249, -0.08939395,\n",
       "          0.06319005,  0.17135527, -0.09643472,  0.10526267,  0.06287698,\n",
       "         -0.07134051,  0.02549985, -0.01573032, -0.02627982]), explainer='Integrated Gradient', target=4), evaluation_scores=[Evaluation(name='aopc_compr', score=0.10899049), Evaluation(name='aopc_suff', score=0.18024875), Evaluation(name='taucorr_loo', score=-0.303030303030303)])],\n",
       " 'KUBefunde': [ExplanationEvaluation(explanation=Explanation(text='AZ: intubiert/beatmet', tokens=['[CLS]', 'A', '##Z', ':', 'int', '##ub', '##iert', '/', 'be', '##at', '##met', '[SEP]'], scores=array([ 0.01209473,  0.22469504, -0.34708917,  0.01794473,  0.0019826 ,\n",
       "          0.13156599,  0.04945174, -0.04744022,  0.02366105, -0.08168997,\n",
       "         -0.01785422,  0.04453056]), explainer='Integrated Gradient', target=5), evaluation_scores=[Evaluation(name='aopc_compr', score=0.9929955), Evaluation(name='aopc_suff', score=0.9966965), Evaluation(name='taucorr_loo', score=0.1111111111111111)]),\n",
       "  ExplanationEvaluation(explanation=Explanation(text='RR: 177/90 mmHg', tokens=['[CLS]', 'R', '##R', ':', '177', '/', '90', 'mm', '##H', '##g', '[SEP]'], scores=array([-0.0693835 ,  0.26203562, -0.0632945 , -0.05180476,  0.05213068,\n",
       "         -0.02332618,  0.04701269,  0.15262732,  0.08327709,  0.08946304,\n",
       "          0.10564461]), explainer='Integrated Gradient', target=5), evaluation_scores=[Evaluation(name='aopc_compr', score=0.53050715), Evaluation(name='aopc_suff', score=0.9965962), Evaluation(name='taucorr_loo', score=0.0)]),\n",
       "  ExplanationEvaluation(explanation=Explanation(text='EZ: gut -LRB- Größe: 180cm, Gewicht 68kg -RRB-', tokens=['[CLS]', 'E', '##Z', ':', 'gut', '-', 'L', '##R', '##B', '-', 'Größe', ':', '180', '##cm', ',', 'Gewicht', '68', '##kg', '-', 'R', '##R', '##B', '-', '[SEP]'], scores=array([ 2.44943488e-04, -1.31253335e-02, -3.25413995e-01,  1.03480157e-02,\n",
       "         -2.48945682e-02, -2.94778779e-02,  5.89044095e-02,  1.87404466e-02,\n",
       "         -2.77132209e-02,  5.43021801e-02,  4.70242722e-02,  2.96294383e-02,\n",
       "          8.99747705e-03,  1.01597747e-01,  1.46249088e-02, -1.12528232e-02,\n",
       "         -1.39436558e-02, -1.91635812e-02, -1.20746213e-02,  7.87619673e-02,\n",
       "          1.50639283e-02,  3.23614860e-02, -1.89768158e-02,  3.33622861e-02]), explainer='Integrated Gradient', target=5), evaluation_scores=[Evaluation(name='aopc_compr', score=3.151099e-05), Evaluation(name='aopc_suff', score=0.49942663), Evaluation(name='taucorr_loo', score=0.2863347300621277)]),\n",
       "  ExplanationEvaluation(explanation=Explanation(text='RR: 131/55 mmHg', tokens=['[CLS]', 'R', '##R', ':', '13', '##1', '/', '55', 'mm', '##H', '##g', '[SEP]'], scores=array([ 0.07407548,  0.11091309,  0.36664399, -0.03690469, -0.01872166,\n",
       "         -0.11292129,  0.00646687,  0.03399665,  0.09371482, -0.06895971,\n",
       "         -0.07051465,  0.0061671 ]), explainer='Integrated Gradient', target=5), evaluation_scores=[Evaluation(name='aopc_compr', score=0.06796397), Evaluation(name='aopc_suff', score=0.9459988), Evaluation(name='taucorr_loo', score=-0.15555555555555553)]),\n",
       "  ExplanationEvaluation(explanation=Explanation(text='Abdomen: ausladend, kein DS, keine Resist. Undulierende Welle, Abdomen teils weich teils verhärtet tastbar DD Aszites', tokens=['[CLS]', 'Abd', '##omen', ':', 'aus', '##laden', '##d', ',', 'kein', 'DS', ',', 'keine', 'Res', '##ist', '.', 'Und', '##ulieren', '##de', 'Welle', ',', 'Abd', '##omen', 'teils', 'weich', 'teils', 'verh', '##ärte', '##t', 'ta', '##st', '##bar', 'D', '##D', 'As', '##zit', '##es', '[SEP]'], scores=array([ 1.13823152e-02,  1.85543405e-01,  8.94665996e-02, -5.89733784e-02,\n",
       "          3.53419680e-02,  3.33324535e-02, -3.12076566e-02,  3.30105765e-02,\n",
       "          8.15185071e-03, -5.94690016e-02, -9.72068351e-04,  4.60422739e-03,\n",
       "          2.79554053e-02, -5.71461520e-02,  2.67510972e-05,  1.66191701e-02,\n",
       "         -1.18369800e-02, -6.63187758e-03,  4.72774051e-02, -6.17442320e-03,\n",
       "         -6.33500193e-03, -2.52834048e-02, -1.30214712e-02, -6.91522807e-03,\n",
       "         -3.35494380e-03,  2.74825022e-03,  1.01054717e-03, -1.45404553e-02,\n",
       "         -1.76539473e-02,  5.00787030e-03,  3.68165668e-02, -2.85889911e-03,\n",
       "          2.21559338e-02, -5.96601941e-03, -3.65407381e-03, -6.48014543e-02,\n",
       "          4.27522681e-02]), explainer='Integrated Gradient', target=5), evaluation_scores=[Evaluation(name='aopc_compr', score=0.37806058), Evaluation(name='aopc_suff', score=0.6121003), Evaluation(name='taucorr_loo', score=0.05719093696385181)]),\n",
       "  ExplanationEvaluation(explanation=Explanation(text='RR: 100/60mmHg', tokens=['[CLS]', 'R', '##R', ':', '100', '/', '60', '##mm', '##H', '##g', '[SEP]'], scores=array([-0.04141466,  0.25734354, -0.1781032 , -0.13168709,  0.11452781,\n",
       "         -0.05564293,  0.04126033, -0.06151605, -0.06933001, -0.03097841,\n",
       "          0.01819596]), explainer='Integrated Gradient', target=5), evaluation_scores=[Evaluation(name='aopc_compr', score=0.29502), Evaluation(name='aopc_suff', score=0.9971012), Evaluation(name='taucorr_loo', score=0.5)]),\n",
       "  ExplanationEvaluation(explanation=Explanation(text='Keine Zyanose, keine Anämiezeichen, keine Zeichen der Einflussstauung.', tokens=['[CLS]', 'Keine', 'Zy', '##ano', '##se', ',', 'keine', 'An', '##äm', '##ie', '##zeichen', ',', 'keine', 'Zeichen', 'der', 'Einfluss', '##stau', '##ung', '.', '[SEP]'], scores=array([-0.01320733,  0.03148476, -0.03361185, -0.03970876, -0.20998243,\n",
       "         -0.09477471, -0.0412968 ,  0.05710843, -0.01963681,  0.02573708,\n",
       "          0.09510238,  0.06801771, -0.00768185, -0.02750328, -0.04966915,\n",
       "         -0.02167762, -0.02355329,  0.02825316,  0.05774552,  0.05424709]), explainer='Integrated Gradient', target=5), evaluation_scores=[Evaluation(name='aopc_compr', score=8.806586e-05), Evaluation(name='aopc_suff', score=0.7650314), Evaluation(name='taucorr_loo', score=0.17647058823529413)]),\n",
       "  ExplanationEvaluation(explanation=Explanation(text='Periphere Ödeme: moderate US-Ödeme', tokens=['[CLS]', 'Per', '##ip', '##here', 'Ö', '##dem', '##e', ':', 'moder', '##ate', 'US', '-', 'Ö', '##dem', '##e', '[SEP]'], scores=array([-0.03885823, -0.00842159, -0.01372931, -0.01401207,  0.25172555,\n",
       "         -0.16018271, -0.10622561,  0.06633147,  0.12510378,  0.0084398 ,\n",
       "          0.02977033,  0.02167537,  0.03456665, -0.06800443, -0.01984434,\n",
       "          0.03310875]), explainer='Integrated Gradient', target=5), evaluation_scores=[Evaluation(name='aopc_compr', score=0.5895564), Evaluation(name='aopc_suff', score=0.42117226), Evaluation(name='taucorr_loo', score=0.14285714285714285)]),\n",
       "  ExplanationEvaluation(explanation=Explanation(text='EZ: 165cm, 100kg', tokens=['[CLS]', 'E', '##Z', ':', '165', '##cm', ',', '100', '##kg', '[SEP]'], scores=array([ 0.05161621,  0.06173453,  0.19833364,  0.08736734,  0.12870317,\n",
       "         -0.25636179,  0.05515157,  0.04325323, -0.02571043, -0.09176811]), explainer='Integrated Gradient', target=5), evaluation_scores=[Evaluation(name='aopc_compr', score=0.16064881), Evaluation(name='aopc_suff', score=0.49861217), Evaluation(name='taucorr_loo', score=-0.3571428571428571)]),\n",
       "  ExplanationEvaluation(explanation=Explanation(text='EZ: gut, 176 cm, 84 kg', tokens=['[CLS]', 'E', '##Z', ':', 'gut', ',', '176', 'cm', ',', '84', 'kg', '[SEP]'], scores=array([ 0.04848986, -0.27004307,  0.13980404,  0.11208529,  0.04853236,\n",
       "          0.00396543,  0.04598391, -0.19752003, -0.05386589,  0.03583364,\n",
       "         -0.01100173,  0.03287475]), explainer='Integrated Gradient', target=5), evaluation_scores=[Evaluation(name='aopc_compr', score=-0.00029188395), Evaluation(name='aopc_suff', score=0.981705), Evaluation(name='taucorr_loo', score=-0.022222222222222223)])],\n",
       " 'Befunde': [ExplanationEvaluation(explanation=Explanation(text='Die Vorstellung des Patienten erfolgte in der poliklinischen Sprechstunde der MKG-Chirurgie auf Zuweisung von Seiten der B-ORG I-ORG mit der Bitte um Fokussuche vor HTX Listung. Laut Patient sei noch keine Tx geplant, man überlege noch ob dies notwendig ist.', tokens=['[CLS]', 'Die', 'Vorstellung', 'des', 'Patienten', 'erfolgte', 'in', 'der', 'pol', '##ik', '##lin', '##ischen', 'Sprech', '##stunde', 'der', 'M', '##KG', '-', 'Chi', '##ru', '##r', '##gie', 'auf', 'Zuweisung', 'von', 'Seiten', 'der', 'B', '-', 'O', '##RG', 'I', '-', 'O', '##RG', 'mit', 'der', 'Bitte', 'um', 'Fokus', '##suche', 'vor', 'H', '##T', '##X', 'Lis', '##t', '##ung', '.', 'Laut', 'Patient', 'sei', 'noch', 'keine', 'T', '##x', 'geplant', ',', 'man', 'überle', '##ge', 'noch', 'ob', 'dies', 'notwendig', 'ist', '.', '[SEP]'], scores=array([ 0.00465336,  0.06917373, -0.07577659, -0.06732194, -0.08294548,\n",
       "          0.03234486,  0.0238109 ,  0.03653751, -0.01066821,  0.00376885,\n",
       "         -0.00460223, -0.0052367 , -0.01613981, -0.01047259, -0.015111  ,\n",
       "          0.00984829, -0.00059502, -0.00366718,  0.01373162,  0.01040188,\n",
       "          0.02235633,  0.00991708,  0.03947721, -0.00805534,  0.00090106,\n",
       "         -0.00730341,  0.00276351,  0.00681438, -0.00687789, -0.00693775,\n",
       "          0.00822196, -0.00308753,  0.00070469, -0.00261316,  0.00857285,\n",
       "         -0.01030717, -0.00880389, -0.00511227, -0.00105586, -0.00141772,\n",
       "         -0.00432718, -0.00795084,  0.01477141, -0.00150949, -0.0020299 ,\n",
       "          0.00710754,  0.01216551, -0.025513  ,  0.03378539, -0.00502101,\n",
       "          0.02648723, -0.03160197,  0.03671642, -0.00187702,  0.00234378,\n",
       "          0.00221184, -0.00559344, -0.00430243, -0.00072947,  0.0139939 ,\n",
       "          0.0111705 ,  0.01066687,  0.00320966, -0.00981549, -0.01180956,\n",
       "         -0.02568472, -0.0290652 , -0.0004304 ]), explainer='Integrated Gradient', target=6), evaluation_scores=[Evaluation(name='aopc_compr', score=0.0525239), Evaluation(name='aopc_suff', score=0.8486567), Evaluation(name='taucorr_loo', score=0.054091864375351614)]),\n",
       "  ExplanationEvaluation(explanation=Explanation(text='Multiplanare Reformatierung -LRB- en -RRB- -LRB- CT -RRB- vom <[Pseudo] 08/08/2036> Spektral-CT vom B-DATE', tokens=['[CLS]', 'Mult', '##ipl', '##ana', '##re', 'Reform', '##ati', '##erung', '-', 'L', '##R', '##B', '-', 'en', '-', 'R', '##R', '##B', '-', '-', 'L', '##R', '##B', '-', 'C', '##T', '-', 'R', '##R', '##B', '-', 'vom', '<', '[', 'Pseud', '##o', ']', '08', '/', '08', '/', '20', '##36', '>', 'Spekt', '##ral', '-', 'C', '##T', 'vom', 'B', '-', 'DA', '##T', '##E', '[SEP]'], scores=array([ 0.01071725, -0.05054968, -0.09247096, -0.04232323, -0.00395466,\n",
       "          0.0078322 ,  0.02021129,  0.01514613, -0.02812554,  0.03379203,\n",
       "          0.00145836,  0.00284241,  0.00015829, -0.00041799,  0.00877154,\n",
       "         -0.00911707, -0.00569585,  0.00593502, -0.00329675, -0.01361954,\n",
       "         -0.01950075, -0.01384113, -0.01944217,  0.02149369,  0.01821224,\n",
       "          0.00598866,  0.00627534,  0.00353334, -0.0172243 ,  0.01387358,\n",
       "          0.02961368,  0.01234287,  0.01508454,  0.02930822,  0.0039557 ,\n",
       "         -0.0229195 ,  0.00806918,  0.00339525, -0.01118993, -0.00104854,\n",
       "          0.02490106,  0.0168185 , -0.02659369,  0.02947654, -0.02499179,\n",
       "         -0.0185053 , -0.01102819,  0.05409912,  0.03086273, -0.04584612,\n",
       "          0.00280621,  0.01096437, -0.00519004,  0.00732542, -0.03791253,\n",
       "         -0.01992998]), explainer='Integrated Gradient', target=6), evaluation_scores=[Evaluation(name='aopc_compr', score=9.462237e-05), Evaluation(name='aopc_suff', score=0.28384167), Evaluation(name='taucorr_loo', score=-0.04057364947954012)]),\n",
       "  ExplanationEvaluation(explanation=Explanation(text='Anamnese: Seit Herzkatheteruntersuchung Schmerzen der rechten Leiste, dort nun etwas besser werdend, seit gestern jedoch Schwellung und Schmerzen des rechten dorsalen Unterschenkels. Auf gezielte Nachfrage keine Parästhesien, keine Kraftminderung.', tokens=['[CLS]', 'An', '##am', '##nes', '##e', ':', 'Seit', 'Herz', '##kat', '##het', '##er', '##untersuchung', 'Schmerzen', 'der', 'rechten', 'Leist', '##e', ',', 'dort', 'nun', 'etwas', 'besser', 'werden', '##d', ',', 'seit', 'gestern', 'jedoch', 'Schwe', '##ll', '##ung', 'und', 'Schmerzen', 'des', 'rechten', 'do', '##rs', '##alen', 'Unters', '##chen', '##kels', '.', 'Auf', 'gezielt', '##e', 'Nachfrage', 'keine', 'Par', '##äst', '##hes', '##ien', ',', 'keine', 'Kraft', '##min', '##derung', '.', '[SEP]'], scores=array([ 0.01579209,  0.14269513,  0.04140819, -0.04554402,  0.05249432,\n",
       "          0.00352829,  0.02631633, -0.00712706, -0.02487967, -0.01890497,\n",
       "         -0.02251106,  0.00227291, -0.00117878, -0.00828081,  0.01784061,\n",
       "         -0.02202914,  0.02427029,  0.00454302,  0.00186713,  0.02354798,\n",
       "          0.02351788,  0.00103313,  0.01515906,  0.00883529,  0.00746702,\n",
       "         -0.00406129,  0.01173899, -0.00792517,  0.00120764, -0.01269977,\n",
       "         -0.02566739,  0.00206991, -0.0160701 ,  0.00301388, -0.0221301 ,\n",
       "         -0.00364493, -0.00328515, -0.00023386, -0.00582157, -0.03250896,\n",
       "          0.01603019, -0.02359995,  0.00429715,  0.02898706,  0.00069515,\n",
       "         -0.01703507,  0.03126749, -0.01135903, -0.02178451, -0.00536859,\n",
       "         -0.03119612, -0.00543567, -0.00172684,  0.00209696,  0.0004705 ,\n",
       "          0.00596804, -0.02295545,  0.05460334]), explainer='Integrated Gradient', target=6), evaluation_scores=[Evaluation(name='aopc_compr', score=0.005060911), Evaluation(name='aopc_suff', score=0.23451278), Evaluation(name='taucorr_loo', score=0.029870129870129873)]),\n",
       "  ExplanationEvaluation(explanation=Explanation(text='Beidseits allenfalls diskrete Plaquebildungen im Bulbusbereich sowie an den Gefäßabgängen ohne hämodynamische Relevanz. Kein Nachweis signifikanter Stenosen. Allseits regelrechte Strömungsgeschwindigkeiten im einsehbaren Carotisstromgebiet.', tokens=['[CLS]', 'Bei', '##ds', '##eits', 'allenfalls', 'disk', '##rete', 'Pla', '##que', '##bildungen', 'im', 'Bu', '##l', '##bus', '##bereich', 'sowie', 'an', 'den', 'Gef', '##äß', '##ab', '##gängen', 'ohne', 'hä', '##mod', '##ynam', '##ische', 'Relevanz', '.', 'Kein', 'Nachweis', 'sign', '##ifik', '##anter', 'Sten', '##osen', '.', 'All', '##seits', 'regel', '##rechte', 'Ström', '##ungs', '##geschwindigkeit', '##en', 'im', 'eins', '##eh', '##baren', 'Car', '##ot', '##isst', '##rom', '##gebiet', '.', '[SEP]'], scores=array([-0.01943392, -0.05655324,  0.16039118, -0.00693861, -0.03072085,\n",
       "          0.01023865,  0.0236535 ,  0.01239349,  0.04161304, -0.01345937,\n",
       "          0.01905561, -0.0163441 , -0.00654052,  0.00156464,  0.01358693,\n",
       "          0.00995496, -0.00620302, -0.01599665, -0.02256564, -0.01763448,\n",
       "          0.01463715, -0.01148815,  0.01623917,  0.00147778,  0.00341607,\n",
       "         -0.00367146, -0.01037608, -0.00203199,  0.02294489,  0.01590676,\n",
       "         -0.01016416,  0.01770566, -0.00077137, -0.01458026,  0.01331126,\n",
       "          0.00243068,  0.01358514,  0.01485009, -0.01225495, -0.00624071,\n",
       "         -0.02336077, -0.00711459,  0.00516804,  0.01658196,  0.01599682,\n",
       "          0.01298562,  0.03511377, -0.00383565,  0.01277237,  0.02475701,\n",
       "          0.02553015,  0.03168454,  0.01212076,  0.02543538,  0.00241506,\n",
       "          0.03220141]), explainer='Integrated Gradient', target=6), evaluation_scores=[Evaluation(name='aopc_compr', score=0.002006789), Evaluation(name='aopc_suff', score=0.057513107), Evaluation(name='taucorr_loo', score=0.10000002445108236)]),\n",
       "  ExplanationEvaluation(explanation=Explanation(text='Ruhe-EKG nach SM-Implantation vom <[Pseudo] 11/09/2190:>', tokens=['[CLS]', 'Ruhe', '-', 'E', '##KG', 'nach', 'S', '##M', '-', 'Imp', '##lant', '##ation', 'vom', '<', '[', 'Pseud', '##o', ']', '11', '/', '09', '/', '21', '##90', ':', '>', '[SEP]'], scores=array([ 0.04334149,  0.05063601, -0.18618649,  0.04072694,  0.06649692,\n",
       "          0.05217727,  0.00792979, -0.00770882, -0.09364327, -0.02037867,\n",
       "          0.04196627, -0.09645943, -0.0004601 , -0.00736093, -0.01263468,\n",
       "          0.00938871,  0.02714141, -0.01974149,  0.00250992,  0.03125836,\n",
       "          0.0158041 ,  0.00243381,  0.05460732, -0.03143598, -0.00209533,\n",
       "         -0.04854128, -0.02693522]), explainer='Integrated Gradient', target=6), evaluation_scores=[Evaluation(name='aopc_compr', score=0.8297601), Evaluation(name='aopc_suff', score=0.019586066), Evaluation(name='taucorr_loo', score=0.14666666666666664)]),\n",
       "  ExplanationEvaluation(explanation=Explanation(text='Kein Nachweis eines A. spurium, einer AV-Fistel oder TVT im Bereich der Punktionsstelle der linken Leiste.', tokens=['[CLS]', 'Kein', 'Nachweis', 'eines', 'A', '.', 'sp', '##uri', '##um', ',', 'einer', 'AV', '-', 'Fi', '##stel', 'oder', 'TV', '##T', 'im', 'Bereich', 'der', 'Punkt', '##ions', '##stelle', 'der', 'linken', 'Leist', '##e', '.', '[SEP]'], scores=array([ 0.03617779, -0.29682964, -0.06936755,  0.02818775,  0.00827774,\n",
       "         -0.00595502, -0.01492609,  0.09894648,  0.00777153, -0.00130347,\n",
       "          0.01394502,  0.0183903 ,  0.00267225, -0.00226479, -0.02342465,\n",
       "          0.00342886,  0.02705061,  0.00527575, -0.02041271, -0.01956688,\n",
       "          0.05485488, -0.02039768, -0.02965683, -0.02685505, -0.00260488,\n",
       "         -0.0093152 ,  0.03330163,  0.01951122,  0.03801695, -0.06131079]), explainer='Integrated Gradient', target=6), evaluation_scores=[Evaluation(name='aopc_compr', score=-0.00029705762), Evaluation(name='aopc_suff', score=0.48610458), Evaluation(name='taucorr_loo', score=-0.17989417989417988)]),\n",
       "  ExplanationEvaluation(explanation=Explanation(text='- bei Nachtblutung erfolgte die erneute Anlage eines Druckverbandes, bitte für weitere 4 Stunden belassen, sonographische Verlaufskontrolle nur bei Schwellung oder tastbarer Verhärtung', tokens=['[CLS]', '-', 'bei', 'Nacht', '##blut', '##ung', 'erfolgte', 'die', 'erneute', 'Anlage', 'eines', 'Druck', '##verbandes', ',', 'bitte', 'für', 'weitere', '4', 'Stunden', 'bela', '##ssen', ',', 'so', '##no', '##gra', '##ph', '##ische', 'Verlauf', '##skontrolle', 'nur', 'bei', 'Schwe', '##ll', '##ung', 'oder', 'ta', '##st', '##barer', 'Ver', '##hä', '##rtung', '[SEP]'], scores=array([ 0.03419351,  0.21672317, -0.07789197, -0.03793502, -0.02792956,\n",
       "          0.01865685, -0.06682241,  0.00654375,  0.02266085,  0.02431939,\n",
       "          0.01421869,  0.02065779, -0.0341012 , -0.01447571,  0.02781637,\n",
       "          0.02675191, -0.00076804,  0.01942119, -0.01791718,  0.03075721,\n",
       "          0.01472269, -0.00912072, -0.00342173, -0.00577883, -0.00664526,\n",
       "          0.00285165,  0.00061281, -0.03150166,  0.00505284,  0.01991096,\n",
       "         -0.00966567,  0.0115859 ,  0.00026242,  0.0064768 ,  0.01867609,\n",
       "         -0.00078134, -0.01736576,  0.00395753,  0.00435305,  0.01875999,\n",
       "         -0.02465209,  0.04328245]), explainer='Integrated Gradient', target=6), evaluation_scores=[Evaluation(name='aopc_compr', score=0.9921707), Evaluation(name='aopc_suff', score=0.12289224), Evaluation(name='taucorr_loo', score=0.11282051282051282)]),\n",
       "  ExplanationEvaluation(explanation=Explanation(text='Zum Vergleich liegt zuletzt die Voraufnahme vom <[Pseudo] 31/12/2032> vor.', tokens=['[CLS]', 'Zum', 'Vergleich', 'liegt', 'zuletzt', 'die', 'Vor', '##aufnahme', 'vom', '<', '[', 'Pseud', '##o', ']', '31', '/', '12', '/', '20', '##32', '>', 'vor', '.', '[SEP]'], scores=array([-0.02355846, -0.0176467 , -0.00865699, -0.02622995,  0.01473831,\n",
       "          0.05989313, -0.01405763, -0.19605395, -0.01967805, -0.07147374,\n",
       "          0.04405729, -0.04516945, -0.10706532,  0.00801958, -0.02253431,\n",
       "          0.0385049 , -0.03792473, -0.00396886, -0.02533482,  0.01077554,\n",
       "         -0.0046328 ,  0.01478624, -0.10479164, -0.08044761]), explainer='Integrated Gradient', target=6), evaluation_scores=[Evaluation(name='aopc_compr', score=0.0014290214), Evaluation(name='aopc_suff', score=0.98298395), Evaluation(name='taucorr_loo', score=0.021645021645021644)]),\n",
       "  ExplanationEvaluation(explanation=Explanation(text='84', tokens=['[CLS]', '84', '[SEP]'], scores=array([ 0.03221964, -0.96300377, -0.0047766 ]), explainer='Integrated Gradient', target=6), evaluation_scores=[Evaluation(name='aopc_compr', score=0), Evaluation(name='aopc_suff', score=1), Evaluation(name='taucorr_loo', score=nan)]),\n",
       "  ExplanationEvaluation(explanation=Explanation(text='ICD-Abfrage vom <[Pseudo] 05/09/2031:>', tokens=['[CLS]', 'IC', '##D', '-', 'Abf', '##rag', '##e', 'vom', '<', '[', 'Pseud', '##o', ']', '05', '/', '09', '/', '20', '##31', ':', '>', '[SEP]'], scores=array([-0.02932582,  0.14717254, -0.04958455, -0.03805489,  0.07655596,\n",
       "          0.07278825,  0.06641767, -0.04172769, -0.08258015,  0.02515525,\n",
       "          0.02802354,  0.03480825,  0.06012654,  0.01338133,  0.04360597,\n",
       "         -0.01265924, -0.01006806, -0.01273011,  0.00741387,  0.03695232,\n",
       "          0.05194863, -0.05891938]), explainer='Integrated Gradient', target=6), evaluation_scores=[Evaluation(name='aopc_compr', score=0.13575877), Evaluation(name='aopc_suff', score=0.018329034), Evaluation(name='taucorr_loo', score=0.10526315789473685)])],\n",
       " 'EchoBefunde': [ExplanationEvaluation(explanation=Explanation(text='Echokardiographie vom <[Pseudo] 11/04/2032:>', tokens=['[CLS]', 'Ech', '##oka', '##r', '##di', '##ographie', 'vom', '<', '[', 'Pseud', '##o', ']', '11', '/', '04', '/', '20', '##32', ':', '>', '[SEP]'], scores=array([ 0.00050695, -0.0495562 ,  0.06022309, -0.10476608,  0.05739946,\n",
       "         -0.07981784, -0.10093661,  0.00795833,  0.02695866,  0.10429966,\n",
       "         -0.10855945, -0.01939181, -0.01388609,  0.04395026, -0.00089607,\n",
       "          0.03863794, -0.02072927,  0.06103143,  0.04935924,  0.03798077,\n",
       "         -0.0131548 ]), explainer='Integrated Gradient', target=7), evaluation_scores=[Evaluation(name='aopc_compr', score=0.26633114), Evaluation(name='aopc_suff', score=0.9333624), Evaluation(name='taucorr_loo', score=-0.13450292397660818)]),\n",
       "  ExplanationEvaluation(explanation=Explanation(text='Kein relevanter Perikarderguss nachweisbar, V. cava inferior normal weit -LRB- 14 mm -RRB- und atemvariabel.', tokens=['[CLS]', 'Kein', 'relevante', '##r', 'Per', '##ika', '##r', '##der', '##guss', 'nachweisbar', ',', 'V', '.', 'ca', '##va', 'in', '##fer', '##ior', 'normal', 'weit', '-', 'L', '##R', '##B', '-', '14', 'mm', '-', 'R', '##R', '##B', '-', 'und', 'at', '##em', '##var', '##ia', '##bel', '.', '[SEP]'], scores=array([ 0.00395309,  0.12580983,  0.01354225, -0.02255458,  0.03062766,\n",
       "         -0.01371898,  0.01690628,  0.00666892, -0.04998762,  0.06515687,\n",
       "         -0.01266282, -0.04384711, -0.00716866,  0.01625798, -0.01206085,\n",
       "          0.02288289,  0.03794846, -0.01326079, -0.03635045, -0.06398949,\n",
       "         -0.00040551, -0.01668429, -0.02370856, -0.01786948, -0.01322657,\n",
       "         -0.01893938, -0.01768213, -0.00950545, -0.00530535, -0.01590669,\n",
       "          0.01652618,  0.00637007,  0.04272965, -0.04447837,  0.01003348,\n",
       "         -0.00891371,  0.05749001, -0.03578356,  0.01877257, -0.00431341]), explainer='Integrated Gradient', target=7), evaluation_scores=[Evaluation(name='aopc_compr', score=0.26856837), Evaluation(name='aopc_suff', score=0.50635123), Evaluation(name='taucorr_loo', score=-0.0028469758100774234)]),\n",
       "  ExplanationEvaluation(explanation=Explanation(text='V. cava inferior weiterhin erweitert auf 25 mm und nicht atemvariabel. Pleuraerguss rechts basal, ca. 4-5 cm Schichtdicke. Kein Pleuraerguss links.', tokens=['[CLS]', 'V', '.', 'ca', '##va', 'in', '##fer', '##ior', 'weiterhin', 'erweitert', 'auf', '25', 'mm', 'und', 'nicht', 'at', '##em', '##var', '##ia', '##bel', '.', 'Ple', '##ura', '##erg', '##uss', 'rechts', 'bas', '##al', ',', 'ca', '.', '4', '-', '5', 'cm', 'Schicht', '##di', '##cke', '.', 'Kein', 'Ple', '##ura', '##erg', '##uss', 'links', '.', '[SEP]'], scores=array([-0.01741735, -0.00198293,  0.00228429,  0.03047714, -0.00435808,\n",
       "          0.01976045, -0.00964531,  0.02805865,  0.00098829,  0.14154245,\n",
       "         -0.00705121, -0.00295297, -0.07001422,  0.00284627,  0.04020196,\n",
       "         -0.01660821,  0.00919392,  0.02623921, -0.00128313,  0.01846233,\n",
       "         -0.01878419,  0.00615232, -0.01423415,  0.01226464, -0.02082069,\n",
       "         -0.01568991,  0.00907423, -0.02600324,  0.00224609, -0.03009364,\n",
       "         -0.01089623, -0.00827593, -0.01769953, -0.04448219,  0.04883907,\n",
       "         -0.11365371, -0.01462746, -0.02146542, -0.01396743,  0.0029825 ,\n",
       "         -0.00043002,  0.00678574,  0.06680848,  0.01174388, -0.00137038,\n",
       "          0.00412585,  0.00511471]), explainer='Integrated Gradient', target=7), evaluation_scores=[Evaluation(name='aopc_compr', score=0.39559785), Evaluation(name='aopc_suff', score=0.5677398), Evaluation(name='taucorr_loo', score=0.016161616161616158)]),\n",
       "  ExplanationEvaluation(explanation=Explanation(text='Untersuchung am Bett auf Kardio-Intensiv. Vorbekannt deutlich reduzierte Schallbedingungen, v.a. von parasternal.', tokens=['[CLS]', 'Untersuchung', 'am', 'Bett', 'auf', 'Kard', '##io', '-', 'Intensiv', '.', 'Vorbe', '##kann', '##t', 'deutlich', 'reduziert', '##e', 'Schall', '##bedingungen', ',', 'v', '.', 'a', '.', 'von', 'par', '##aster', '##nal', '.', '[SEP]'], scores=array([ 0.0062685 ,  0.09259951, -0.04374447,  0.08960329,  0.05463458,\n",
       "          0.02933618, -0.01109057,  0.02050639, -0.03519553, -0.02159706,\n",
       "         -0.04240502,  0.02155067,  0.0121738 ,  0.03536103, -0.1213925 ,\n",
       "         -0.00373698,  0.01784156, -0.10196366,  0.02170516,  0.03520246,\n",
       "          0.03191106, -0.03222631, -0.01308682,  0.04546061, -0.01748663,\n",
       "         -0.00430027, -0.02075978, -0.01645777,  0.00040183]), explainer='Integrated Gradient', target=7), evaluation_scores=[Evaluation(name='aopc_compr', score=0.19700995), Evaluation(name='aopc_suff', score=0.32701594), Evaluation(name='taucorr_loo', score=0.06552706552706554)]),\n",
       "  ExplanationEvaluation(explanation=Explanation(text='Transösophageale Echokardiographie vom <[Pseudo] 06/07/2036:>', tokens=['[CLS]', 'Trans', '##ös', '##oph', '##age', '##ale', 'Ech', '##oka', '##r', '##di', '##ographie', 'vom', '<', '[', 'Pseud', '##o', ']', '06', '/', '07', '/', '20', '##36', ':', '>', '[SEP]'], scores=array([-0.01404102,  0.19712797,  0.00166553, -0.05498016, -0.08633669,\n",
       "          0.03143441,  0.09298872, -0.06183624, -0.03120787, -0.04509003,\n",
       "          0.0353801 , -0.03186008, -0.01674262,  0.00217725,  0.01718398,\n",
       "         -0.06023282, -0.00706129, -0.00694879,  0.0489985 ,  0.02266827,\n",
       "          0.01776224,  0.03368196,  0.02580411, -0.00026924,  0.01403855,\n",
       "          0.04248156]), explainer='Integrated Gradient', target=7), evaluation_scores=[Evaluation(name='aopc_compr', score=0.8204452), Evaluation(name='aopc_suff', score=0.17271966), Evaluation(name='taucorr_loo', score=0.43478260869565216)]),\n",
       "  ExplanationEvaluation(explanation=Explanation(text='Echokardiographie vom <[Pseudo] 04/11/2037:>', tokens=['[CLS]', 'Ech', '##oka', '##r', '##di', '##ographie', 'vom', '<', '[', 'Pseud', '##o', ']', '04', '/', '11', '/', '20', '##37', ':', '>', '[SEP]'], scores=array([ 0.0221117 ,  0.17397479,  0.00543798,  0.0206588 , -0.12146424,\n",
       "          0.00629421, -0.01324172,  0.04478024,  0.05103368, -0.04834315,\n",
       "          0.13251794, -0.03792253, -0.08012085,  0.05179398, -0.03674105,\n",
       "          0.02210739,  0.10009568, -0.00565268,  0.00024124,  0.0178987 ,\n",
       "          0.00756745]), explainer='Integrated Gradient', target=7), evaluation_scores=[Evaluation(name='aopc_compr', score=0.58494514), Evaluation(name='aopc_suff', score=0.5463312), Evaluation(name='taucorr_loo', score=0.04093567251461988)]),\n",
       "  ExplanationEvaluation(explanation=Explanation(text='Deutlich dilatierter linker Ventrikel mit hochgradig verminderter systolischer Pumpfunktion bei Akinesie inferior und inferoseptal mediobasal und Hypokinesie der übrigen Wandabschnitte. Verminderte longitudinale Funktion des linken Ventrikels. Hinweis auf Relaxationsstörung des LV. LA deutlich dilatiert, RA leicht dilatiert, RV normal groß mit guter Pumpfunktion. Aortenwurzel normal weit. Kein Perikarderguss nachweisbar. Vena cava inferior nicht gestaut. Klappen dopplersonographisch und sonographisch regelrecht. Der systolische PA-Druck in Ruhe ist bei fehlender Trikuspidalklappeninsuffizienz nicht valide ableitbar. Erstbefund in domo.', tokens=['[CLS]', 'Deut', '##lich', 'di', '##lat', '##ierter', 'linker', 'Vent', '##rike', '##l', 'mit', 'hoch', '##grad', '##ig', 'verminder', '##ter', 's', '##yst', '##olische', '##r', 'Pu', '##m', '##pf', '##unktion', 'bei', 'Ak', '##ines', '##ie', 'in', '##fer', '##ior', 'und', 'in', '##fer', '##ose', '##pt', '##al', 'med', '##io', '##bas', '##al', 'und', 'Hyp', '##ok', '##ines', '##ie', 'der', 'übrigen', 'Wand', '##abschnitte', '.', 'Verm', '##inder', '##te', 'lo', '##n', '##gi', '##t', '##ud', '##inal', '##e', 'Funktion', 'des', 'linken', 'Vent', '##rike', '##ls', '.', 'Hinweis', 'auf', 'Rel', '##ax', '##ations', '##störung', 'des', 'LV', '.', 'LA', 'deutlich', 'di', '##lat', '##iert', ',', 'RA', 'leicht', 'di', '##lat', '##iert', ',', 'R', '##V', 'normal', 'groß', 'mit', 'guter', 'Pu', '##m', '##pf', '##unktion', '.', 'A', '##orten', '##wurzel', 'normal', 'weit', '.', 'Kein', 'Per', '##ika', '##r', '##der', '##guss', 'nachweisbar', '.', 'Ven', '##a', 'ca', '##va', 'in', '##fer', '##ior', 'nicht', 'gest', '##aut', '.', 'Kla', '##ppen', 'do', '##pp', '##lers', '##on', '##ograph', '##isch', 'und', 'so', '##no', '##gra', '##ph', '##isch', 'regel', '##recht', '.', 'Der', 's', '##yst', '##olische', 'P', '##A', '-', 'Druck', 'in', 'Ruhe', 'ist', 'bei', 'fehlender', 'Trik', '##us', '##p', '##ida', '##l', '##kla', '##ppen', '##ins', '##uff', '##iz', '##ienz', 'nicht', 'v', '##ali', '##de', 'able', '##it', '##bar', '.', 'Erst', '##bef', '##und', 'in', 'do', '##mo', '.', '[SEP]'], scores=array([ 1.66519385e-02, -4.00323729e-02, -1.91167702e-02,  4.36544025e-03,\n",
       "         -5.52160835e-03, -7.50242723e-04,  5.57578190e-03,  1.81973518e-02,\n",
       "         -1.03865949e-02,  3.43236398e-03,  3.13507638e-04,  1.67508738e-03,\n",
       "          3.21222134e-03, -1.48969793e-03,  7.74573317e-04,  2.23224037e-03,\n",
       "          1.95600337e-03,  1.49562017e-03, -2.10718631e-03,  2.25728301e-03,\n",
       "          3.01193317e-03, -2.49468812e-03,  1.47284124e-03,  7.07720214e-03,\n",
       "          6.12478963e-03, -4.88249164e-04,  3.08932669e-03, -5.73383774e-03,\n",
       "          4.54395083e-03, -2.66812822e-03,  6.39339954e-03, -2.01407802e-03,\n",
       "          5.93392598e-04,  4.01111154e-03,  4.21575332e-05, -4.00783904e-03,\n",
       "          7.35981826e-04,  3.46037870e-03,  2.32800297e-04, -6.10342933e-04,\n",
       "          2.59199035e-03,  4.84009439e-03,  1.49978463e-03,  9.23343920e-04,\n",
       "          1.05502417e-03,  1.66674871e-03, -2.24057160e-03,  1.70493511e-03,\n",
       "         -2.75292843e-03,  3.87429469e-03,  1.22726480e-03,  5.88411424e-03,\n",
       "         -7.44793010e-04,  1.85451210e-03, -3.95365862e-03,  4.99498889e-03,\n",
       "          4.98971804e-03,  1.56549084e-03, -2.40163737e-03,  7.00771032e-04,\n",
       "         -5.32420830e-03,  7.17594403e-03, -9.50429056e-03,  2.82771844e-03,\n",
       "         -1.65223949e-03,  8.36714768e-03,  3.83908158e-03,  3.40412412e-03,\n",
       "         -3.01322746e-03,  1.06918201e-02, -2.29592378e-03,  3.89634827e-03,\n",
       "          2.40888974e-03,  6.21157680e-04, -1.54886151e-03,  2.39257236e-03,\n",
       "         -4.15710354e-03, -8.59715341e-04,  8.72747181e-03,  5.15686025e-03,\n",
       "          4.13877392e-03,  4.90100524e-03, -2.10304912e-04,  6.58358699e-03,\n",
       "          2.44166630e-03, -1.97944504e-03,  1.85751411e-03, -2.25212344e-03,\n",
       "          5.17698228e-03,  2.19406045e-03,  1.47267375e-03, -5.00881579e-03,\n",
       "         -2.60965976e-03, -6.55461003e-04,  8.66693618e-03,  1.95681773e-03,\n",
       "          2.80284263e-03,  3.11693573e-03, -1.60238078e-02,  1.35186918e-03,\n",
       "          1.08845157e-02,  1.43390253e-03,  5.14729739e-03, -1.05636457e-02,\n",
       "         -9.05308635e-04,  1.87020087e-03,  3.98462440e-03, -8.49718629e-03,\n",
       "          3.10990828e-03, -1.14955332e-02,  1.20667109e-03,  6.27623317e-03,\n",
       "          4.77665677e-04,  9.92475688e-03, -3.10006094e-04,  1.26373706e-02,\n",
       "         -1.61733860e-03, -4.60307817e-03,  5.84637676e-03, -2.06041386e-03,\n",
       "          3.53139048e-03, -1.25418029e-02, -1.50178005e-02, -1.37081165e-02,\n",
       "          1.38281840e-03,  8.92185332e-02, -3.08874136e-02, -1.93556576e-02,\n",
       "         -5.18941614e-03,  1.71833605e-02, -8.47290630e-03, -3.68341161e-03,\n",
       "         -1.31943348e-02,  1.10023429e-02, -1.74132812e-02, -7.25367080e-03,\n",
       "         -1.04497756e-02,  2.59000525e-03, -9.78751019e-03, -6.63718273e-03,\n",
       "         -4.33787923e-03,  8.71691222e-05, -4.39792562e-03,  2.82220747e-03,\n",
       "          3.93033995e-03, -1.91435233e-03, -1.53953950e-03,  6.62502740e-03,\n",
       "         -4.79460988e-04, -1.47198708e-03,  4.69650421e-04, -2.44830211e-04,\n",
       "          3.01095299e-03, -1.32448818e-03,  6.83657872e-03,  6.89833726e-03,\n",
       "          3.01334565e-03,  4.26849354e-03,  6.15769270e-03, -2.87497488e-04,\n",
       "         -5.19911738e-03, -7.52303042e-03,  2.77339922e-03, -5.52019659e-03,\n",
       "          1.06348222e-02,  1.35218705e-02, -5.89928000e-03, -1.67443073e-03,\n",
       "          2.59892668e-04, -3.03062595e-03,  3.01732823e-04, -1.33383251e-03,\n",
       "          5.93573176e-03, -1.03508589e-03,  4.64179009e-03,  2.85892042e-03,\n",
       "          6.74712455e-03, -1.01913964e-02,  3.74668482e-03, -1.34470499e-02,\n",
       "          9.44884228e-03,  7.72165321e-03]), explainer='Integrated Gradient', target=7), evaluation_scores=[Evaluation(name='aopc_compr', score=0.0031550627), Evaluation(name='aopc_suff', score=0.15219034), Evaluation(name='taucorr_loo', score=-0.014093689216128014)]),\n",
       "  ExplanationEvaluation(explanation=Explanation(text='Fokussierte Fragestellung: Grenzwertig großer linker Ventrikel mit noch mittelgradig eingeschränkter systolischer Pumpfunktion bei globaler Hypokinesie und dyskoordiniertem Kontraktionsablauf. Eingeschränkte longitudinale Funktion des LV, erhaltene longitudinale LVFunktion des RV. LA, RA und RV normal groß, noch gute RV-Funktion. Kein Perikarderguss nachweisbar. Vena cava inferior nicht gestaut. Leichtgradige Mitralklappeninsuffizienz bei Anulusdilatation. Übrige Klappen sonographisch und dopplersonographisch regelrecht. Der systolische PA-Druck ist nicht ableitbar.', tokens=['[CLS]', 'Fokus', '##sie', '##rt', '##e', 'Frage', '##stellung', ':', 'Grenz', '##wertig', 'großer', 'linker', 'Vent', '##rike', '##l', 'mit', 'noch', 'mittel', '##grad', '##ig', 'eingeschränkt', '##er', 's', '##yst', '##olische', '##r', 'Pu', '##m', '##pf', '##unktion', 'bei', 'globale', '##r', 'Hyp', '##ok', '##ines', '##ie', 'und', 'd', '##ys', '##ko', '##ordin', '##iertem', 'Kontra', '##ktions', '##ablauf', '.', 'Ein', '##gesch', '##ränkte', 'lo', '##n', '##gi', '##t', '##ud', '##inal', '##e', 'Funktion', 'des', 'LV', ',', 'erhaltene', 'lo', '##n', '##gi', '##t', '##ud', '##inal', '##e', 'LV', '##Funktion', 'des', 'R', '##V', '.', 'LA', ',', 'RA', 'und', 'R', '##V', 'normal', 'groß', ',', 'noch', 'gute', 'R', '##V', '-', 'Funktion', '.', 'Kein', 'Per', '##ika', '##r', '##der', '##guss', 'nachweisbar', '.', 'Ven', '##a', 'ca', '##va', 'in', '##fer', '##ior', 'nicht', 'gest', '##aut', '.', 'Leicht', '##grad', '##ige', 'Mit', '##ral', '##kla', '##ppen', '##ins', '##uff', '##iz', '##ienz', 'bei', 'An', '##ulus', '##di', '##lat', '##ation', '.', 'Üb', '##rige', 'Kla', '##ppen', 'so', '##no', '##gra', '##ph', '##isch', 'und', 'do', '##pp', '##lers', '##on', '##ograph', '##isch', 'regel', '##recht', '.', 'Der', 's', '##yst', '##olische', 'P', '##A', '-', 'Druck', 'ist', 'nicht', 'able', '##it', '##bar', '.', '[SEP]'], scores=array([-5.86451525e-03,  2.50784321e-02, -1.55114683e-02, -1.90578804e-02,\n",
       "         -8.99575246e-03, -1.01669266e-03,  9.45988253e-03, -5.99259688e-03,\n",
       "          2.53814240e-03,  7.57087505e-03, -3.50402291e-03,  3.41959606e-03,\n",
       "         -2.29600056e-03,  8.10539794e-04, -4.87293929e-03,  8.59647075e-03,\n",
       "          3.30301597e-03, -1.87123790e-03,  2.55348377e-03, -3.46288063e-03,\n",
       "          5.56479483e-03, -1.02963393e-03, -4.27209782e-03, -4.52311564e-03,\n",
       "         -1.55790441e-03, -9.76707095e-04,  5.16779354e-03,  3.17546390e-03,\n",
       "         -2.55386303e-04, -4.73128174e-04, -4.62011262e-03,  2.18566527e-03,\n",
       "          8.90463704e-04,  8.81474709e-04, -3.82527453e-03, -4.42799794e-05,\n",
       "          6.57197100e-03, -5.98418191e-03,  3.75812493e-03, -6.11846286e-03,\n",
       "         -9.46604960e-04,  2.20519603e-03,  3.44488120e-03,  2.95588648e-03,\n",
       "         -6.91908162e-03, -1.04575493e-03, -2.85670013e-03,  4.58090040e-03,\n",
       "          7.72019023e-04, -6.78401063e-04,  4.28471286e-03,  1.65809585e-03,\n",
       "         -9.88203673e-04, -5.50227569e-05, -2.92568596e-03, -6.03776817e-03,\n",
       "         -7.19411563e-03, -9.22454039e-03, -3.40412570e-03, -4.03849064e-03,\n",
       "         -4.24138991e-03,  6.55018078e-03,  3.01644158e-03,  3.14588985e-03,\n",
       "          1.14765560e-03, -3.81867350e-03, -8.17676314e-03,  6.95425116e-03,\n",
       "          3.54973806e-03,  3.30356810e-03,  2.28913427e-03, -1.99646834e-03,\n",
       "          7.24289524e-03, -3.88953843e-03, -3.35031602e-03,  2.90108465e-03,\n",
       "         -3.85955249e-03, -8.63780550e-03,  1.21436580e-02,  5.52610703e-03,\n",
       "          3.38529172e-03,  3.38848254e-03, -5.15625546e-04,  5.79526221e-04,\n",
       "          8.26015999e-04, -2.61085370e-03,  1.22559646e-03,  5.38976376e-03,\n",
       "         -1.15989067e-04, -7.70364321e-03, -2.00207095e-03,  2.67074609e-03,\n",
       "         -2.69205458e-03, -9.00658766e-04,  1.83952528e-02,  9.20679566e-03,\n",
       "          2.46753377e-02, -2.79194887e-02, -2.38431925e-03,  8.46883335e-03,\n",
       "          2.09714911e-02, -6.45742189e-03,  1.69801509e-02,  1.04566785e-02,\n",
       "         -3.95129431e-03,  6.16587524e-03,  1.48251248e-02, -9.15822657e-03,\n",
       "         -4.49048840e-03,  4.59512177e-03,  3.01261957e-03,  5.66726130e-03,\n",
       "          7.20613225e-04, -1.06285637e-03,  3.52114857e-03,  9.48978823e-04,\n",
       "         -8.97371208e-06, -5.01881064e-03,  2.29131059e-03, -3.77209225e-03,\n",
       "          4.55948076e-03,  6.57510230e-03,  1.45553811e-02, -1.54813757e-03,\n",
       "         -4.55088719e-03,  5.85074100e-03, -5.39870793e-03,  5.32438846e-03,\n",
       "          1.49842162e-02, -3.87479045e-03,  1.11333731e-01,  1.21506933e-02,\n",
       "          6.02562432e-02,  1.42764359e-02, -8.26561267e-04,  2.94789386e-03,\n",
       "         -8.66171812e-03, -1.57463742e-02, -3.39875471e-03, -6.75383195e-03,\n",
       "          5.87711661e-03, -5.31559808e-03,  9.15769901e-03,  4.77911674e-03,\n",
       "          5.14703000e-03, -1.09088512e-03, -2.52130509e-03, -6.57300828e-03,\n",
       "          9.24007102e-05, -1.97547099e-03,  5.15903286e-03,  2.00458189e-03,\n",
       "         -3.71789877e-03,  2.48516305e-04,  3.02410358e-03,  2.28374623e-03,\n",
       "          2.74117115e-03, -7.70547176e-03,  8.41631261e-04, -2.61918638e-03,\n",
       "          5.53932739e-03,  9.26898556e-03]), explainer='Integrated Gradient', target=7), evaluation_scores=[Evaluation(name='aopc_compr', score=0.0075460076), Evaluation(name='aopc_suff', score=0.2210159), Evaluation(name='taucorr_loo', score=0.08930817610062892)]),\n",
       "  ExplanationEvaluation(explanation=Explanation(text='Beurteilung Normal großer, septal leichtgradig hypertrophierter linker Ventrikel mit mittelgradiger systolischer Pumpfunktion bei globaler Hypokinesie, betont septal. Erhaltene longitudinale Funktion. Relaxationsstörung des LV. LA leichtgradig dilatiert, RA und RV normal groß, gute RVFunktion. Aortenwurzel normal weit. Aorta ascendens, soweit beurteilbar, normal weit. Kleine Perikardergusslamelle betont vor dem RA ohne hämodynamische Relevanz. Vena cava inferior nicht gestaut. Aortenklappe trikuspid mit guter Separation. Dopplersonographisch leichtgradiger Reflux über der Aortenklappe. Mittelgradige Mitralklappeninsuffizienz sowie leichtgradige Trikuspidalklappeninsuffizienz. Übrige Klappen sonographisch und dopplersonographisch regelrecht. Der systolische PA-Druck in Ruhe ist leichtgradig erhöht -LRB- ca. 40-45 mmHg -RRB- . Im Vergleich zur Voruntersuchung vom <[Pseudo] 09/08/2035:> Bei Z.n. Chemotherapie nun reduzierte LVEF. Zunahme der Mitralklappeninsuffizienz -LRB- aktuell mittelgradig -RRB- . Ansonsten idem.', tokens=['[CLS]', 'Beurteilung', 'Normal', 'großer', ',', 'se', '##pt', '##al', 'leicht', '##grad', '##ig', 'hy', '##pert', '##roph', '##ierter', 'linker', 'Vent', '##rike', '##l', 'mit', 'mittel', '##grad', '##iger', 's', '##yst', '##olische', '##r', 'Pu', '##m', '##pf', '##unktion', 'bei', 'globale', '##r', 'Hyp', '##ok', '##ines', '##ie', ',', 'betont', 'se', '##pt', '##al', '.', 'Erhalt', '##ene', 'lo', '##n', '##gi', '##t', '##ud', '##inal', '##e', 'Funktion', '.', 'Rel', '##ax', '##ations', '##störung', 'des', 'LV', '.', 'LA', 'leicht', '##grad', '##ig', 'di', '##lat', '##iert', ',', 'RA', 'und', 'R', '##V', 'normal', 'groß', ',', 'gute', 'R', '##V', '##Funktion', '.', 'A', '##orten', '##wurzel', 'normal', 'weit', '.', 'A', '##ort', '##a', 'as', '##cen', '##dens', ',', 'soweit', 'beurteil', '##bar', ',', 'normal', 'weit', '.', 'Kleine', 'Per', '##ika', '##r', '##der', '##guss', '##lam', '##elle', 'betont', 'vor', 'dem', 'RA', 'ohne', 'hä', '##mod', '##ynam', '##ische', 'Relevanz', '.', 'Ven', '##a', 'ca', '##va', 'in', '##fer', '##ior', 'nicht', 'gest', '##aut', '.', 'A', '##orten', '##kla', '##ppe', 'tri', '##kus', '##p', '##id', 'mit', 'guter', 'Se', '##parat', '##ion', '.', 'Dopp', '##lers', '##on', '##ograph', '##isch', 'leicht', '##grad', '##iger', 'Re', '##flu', '##x', 'über', 'der', 'A', '##orten', '##kla', '##ppe', '.', 'Mittel', '##grad', '##ige', 'Mit', '##ral', '##kla', '##ppen', '##ins', '##uff', '##iz', '##ienz', 'sowie', 'leicht', '##grad', '##ige', 'Trik', '##us', '##p', '##ida', '##l', '##kla', '##ppen', '##ins', '##uff', '##iz', '##ienz', '.', 'Üb', '##rige', 'Kla', '##ppen', 'so', '##no', '##gra', '##ph', '##isch', 'und', 'do', '##pp', '##lers', '##on', '##ograph', '##isch', 'regel', '##recht', '.', 'Der', 's', '##yst', '##olische', 'P', '##A', '-', 'Druck', 'in', 'Ruhe', 'ist', 'leicht', '##grad', '##ig', 'erhöht', '-', 'L', '##R', '##B', '-', 'ca', '.', '40', '-', '45', 'mm', '##H', '##g', '-', 'R', '##R', '##B', '-', '.', 'Im', 'Vergleich', 'zur', 'Vor', '##untersuchung', 'vom', '<', '[', 'Pseud', '##o', ']', '09', '/', '08', '/', '20', '##35', ':', '>', 'Bei', 'Z', '.', 'n', '.', 'Chem', '##other', '##ap', '##ie', 'nun', 'reduziert', '##e', 'LV', '##EF', '.', 'Zunahme', 'der', 'Mit', '##ral', '##kla', '##ppen', '##ins', '##uff', '##iz', '##ienz', '-', 'L', '##R', '##B', '-', 'aktuell', 'mittel', '##grad', '##ig', '-', 'R', '##R', '##B', '-', '.', 'Ansonsten', 'ide', '##m', '.', '[SEP]'], scores=array([ 3.18891703e-02, -2.10478803e-02,  8.33133486e-03, -6.89029988e-03,\n",
       "          1.13786591e-02,  1.04439123e-02, -4.83921779e-04,  3.01805055e-03,\n",
       "          5.06678536e-03,  2.11345243e-03,  9.96804406e-04,  2.29221671e-03,\n",
       "         -3.99139999e-03,  2.93562548e-03, -4.68391410e-03,  3.18436456e-03,\n",
       "          2.02272032e-03, -2.70757828e-03,  7.46548120e-04,  7.38472214e-04,\n",
       "          1.91264951e-03, -1.17601794e-03, -2.98596260e-03, -9.20999054e-04,\n",
       "         -1.13297038e-03, -8.89514393e-04, -7.00375408e-04, -3.25584683e-03,\n",
       "          2.02036920e-03,  1.55917434e-03, -2.40855905e-03,  2.61674348e-03,\n",
       "          1.15841950e-05, -3.06241547e-03,  4.33722077e-04, -3.48775848e-03,\n",
       "          2.34333879e-03,  5.01833884e-04, -5.18785968e-04,  1.10749176e-03,\n",
       "          6.25832788e-05, -5.38714271e-03,  2.63941648e-03,  6.18852311e-03,\n",
       "         -1.05692113e-03,  9.33063689e-04,  4.38445969e-04,  2.74446382e-03,\n",
       "         -5.70142303e-04, -3.86039312e-04,  2.74266561e-03,  1.34356369e-03,\n",
       "          5.73736460e-03, -3.62735785e-03,  3.55542304e-03, -1.57807053e-03,\n",
       "         -1.91138390e-03,  2.83788156e-03,  3.82322477e-04,  7.76082352e-03,\n",
       "         -2.75663653e-03,  1.64205692e-03,  1.62662061e-05, -2.54394243e-03,\n",
       "          1.10084686e-03, -9.52100317e-04, -1.80250319e-03, -1.06987704e-03,\n",
       "         -3.38230256e-03, -9.81690798e-04, -4.44367213e-03,  2.03463150e-03,\n",
       "         -6.15316057e-03, -1.21244336e-03, -3.31100516e-03,  1.40833120e-03,\n",
       "         -5.22598361e-04, -3.29488335e-03, -4.69204390e-03,  1.60998987e-03,\n",
       "         -1.27134332e-03, -2.79656314e-03,  2.71791047e-03,  3.81562312e-03,\n",
       "          2.76634686e-03, -1.42163896e-03,  5.02990198e-04, -9.49006310e-03,\n",
       "         -1.40298924e-02,  2.08929480e-05,  3.92313176e-03,  3.08801761e-03,\n",
       "         -3.71748872e-04,  2.02872898e-03,  1.25281426e-02, -3.82832908e-03,\n",
       "          1.52783443e-03,  1.28495001e-02,  4.91820993e-03, -1.92939248e-03,\n",
       "         -4.05576553e-03,  5.95318090e-04, -1.92219359e-05, -4.69992362e-03,\n",
       "          1.53583193e-03, -1.63245602e-03, -9.32483287e-03,  1.29722500e-04,\n",
       "          2.69936542e-03,  1.66469927e-03, -2.78762634e-03,  1.33631917e-02,\n",
       "         -7.12420488e-05, -1.94876689e-03,  1.38678844e-03, -1.96679302e-03,\n",
       "         -2.63302865e-03,  1.58359960e-03, -7.12359819e-04,  1.59453638e-03,\n",
       "          4.27019617e-03,  1.58710569e-03, -1.64012525e-02,  4.77948182e-03,\n",
       "          5.39380810e-03,  2.15509289e-02,  2.74802337e-03, -4.61762551e-03,\n",
       "         -7.88608947e-03, -3.09037888e-03, -1.44044576e-03, -1.76197542e-03,\n",
       "         -8.90176913e-04,  1.46636076e-04, -3.11651894e-03, -4.71155043e-03,\n",
       "         -1.36963571e-03,  4.05568991e-03,  2.38544043e-03,  5.95038660e-03,\n",
       "          1.17090550e-02,  2.37302213e-03, -1.66292053e-03,  6.01246803e-03,\n",
       "          1.62721372e-03, -2.16581736e-03,  8.34475778e-05, -1.71462220e-03,\n",
       "          3.54818483e-03, -5.98073794e-03,  2.33110062e-05,  1.26145463e-03,\n",
       "          6.97547645e-03, -4.25803660e-04,  2.43563352e-04, -3.22875661e-04,\n",
       "          2.48612418e-02,  3.82286226e-04,  4.71927712e-03,  7.21564152e-03,\n",
       "          8.73633590e-03, -2.46079098e-03,  7.73954374e-03, -1.46828646e-04,\n",
       "         -4.60736450e-03,  3.06579076e-03,  3.72817842e-03,  2.63441722e-04,\n",
       "         -3.35759998e-03, -3.21051957e-03, -4.04125266e-04, -3.46652333e-03,\n",
       "         -6.01919250e-04,  4.57298137e-03,  1.14227157e-03,  5.76748963e-04,\n",
       "         -4.51947871e-03, -3.16415568e-05,  3.53396715e-03,  1.83853073e-03,\n",
       "          2.43690566e-03,  3.42181938e-03,  2.39874514e-03,  7.41427325e-05,\n",
       "          3.87029529e-03, -4.66121756e-03, -1.10751251e-04,  7.88379294e-03,\n",
       "          2.17820426e-03, -6.60300781e-03, -3.61670709e-03,  5.46589226e-03,\n",
       "         -1.57605214e-02,  8.73546429e-04, -7.68516312e-03,  1.85504661e-02,\n",
       "          5.75891410e-03,  9.70815016e-04, -1.07590929e-02, -6.37726927e-04,\n",
       "          1.08301372e-02, -5.49559571e-03, -1.26473870e-03,  1.56304563e-03,\n",
       "         -6.39139446e-03,  4.75928875e-03,  1.06290174e-02,  1.67872398e-02,\n",
       "          6.61443801e-04, -3.59327395e-03, -3.25855933e-03, -2.41594785e-03,\n",
       "          3.61314485e-03, -2.23996242e-03,  2.03147049e-03,  7.68107410e-04,\n",
       "         -2.40100460e-03, -1.70229279e-03, -1.52920967e-03, -6.48275890e-05,\n",
       "         -1.82962088e-03,  2.62324391e-03,  4.64044656e-03,  5.42357567e-04,\n",
       "         -3.24498272e-03,  5.11050930e-03,  2.37359249e-04, -7.31579558e-04,\n",
       "         -2.11151327e-04, -8.01656055e-03, -2.30423685e-03, -1.56182044e-03,\n",
       "          5.73460256e-03, -1.62385561e-03, -1.78314612e-04, -2.62460041e-03,\n",
       "         -1.44400390e-03,  1.50245367e-04,  1.87761278e-03,  3.64198707e-04,\n",
       "         -2.15410277e-03, -2.75390523e-04,  3.41350208e-03,  5.92402706e-04,\n",
       "         -1.21008225e-03, -1.82352140e-02, -4.45502435e-03, -4.46022187e-03,\n",
       "         -2.90928263e-03,  1.07301537e-03,  2.27990638e-03,  1.90447365e-03,\n",
       "         -1.32748793e-03,  1.86694435e-03, -9.20918116e-04,  9.19791533e-05,\n",
       "          2.11695082e-03,  7.98194064e-04,  3.82927377e-04, -4.83485717e-04,\n",
       "         -2.60714748e-03,  2.36165582e-04,  2.23511637e-03,  2.25290753e-03,\n",
       "          6.96956597e-04, -1.75709145e-03,  2.70921054e-03, -5.93595699e-04,\n",
       "          4.34674131e-04, -2.26328387e-03,  2.01905710e-03,  5.38482781e-04,\n",
       "         -6.13812040e-04, -2.09296187e-03,  3.80452507e-03, -2.17905595e-03,\n",
       "         -1.63412806e-03,  1.95740319e-04,  1.28957851e-03,  1.84165572e-03,\n",
       "          1.95039100e-03,  4.72230788e-03,  9.30553558e-04, -1.93775220e-03,\n",
       "         -1.96830545e-03,  4.23376354e-03, -8.79367475e-04,  1.80746551e-03,\n",
       "          3.25128658e-05, -1.01666144e-03,  7.99237757e-04,  2.44019508e-03,\n",
       "         -9.21100820e-04, -4.63126046e-04, -1.32571853e-03, -5.04100040e-04,\n",
       "         -9.68693034e-04, -1.03989915e-03,  3.12068246e-03,  3.29275543e-03,\n",
       "         -1.56379984e-03,  1.08695291e-03, -4.50280754e-03, -1.10938769e-03,\n",
       "          4.86128850e-04, -1.66758901e-04, -7.48326647e-04,  7.74433817e-03]), explainer='Integrated Gradient', target=7), evaluation_scores=[Evaluation(name='aopc_compr', score=0.0011587044), Evaluation(name='aopc_suff', score=0.09172816), Evaluation(name='taucorr_loo', score=-0.002529610553699456)]),\n",
       "  ExplanationEvaluation(explanation=Explanation(text='Normal großer, septal betont hypertrophierter linker Ventrikel mit guter Pumpfunktion ohne sicher abgrenzbare regionale Kontraktionsstörungen. Relaxationsstörung des LV. LA grenzwertig weit. RA und RV normal groß. Gute RV-Funktion. Kein Perikarderguss nachweisbar. Vena cava inferior nicht gestaut. Aorten- und Mitralklappe leicht verdickt mit guter Separation. Übrige Klappen sonographisch und dopplersonographisch regelrecht. Der systolische PA-Druck in Ruhe ist bei fehlender Trikuspidalinsuffizienz nicht sicher bestimmbar. Im Vergleich zur Voruntersuchung vom <[Pseudo] 15/10/2031:> Keine wesentliche Befundänderung.', tokens=['[CLS]', 'Normal', 'großer', ',', 'se', '##pt', '##al', 'betont', 'hy', '##pert', '##roph', '##ierter', 'linker', 'Vent', '##rike', '##l', 'mit', 'guter', 'Pu', '##m', '##pf', '##unktion', 'ohne', 'sicher', 'ab', '##grenz', '##bare', 'regionale', 'Kontra', '##ktions', '##störungen', '.', 'Rel', '##ax', '##ations', '##störung', 'des', 'LV', '.', 'LA', 'grenz', '##wertig', 'weit', '.', 'RA', 'und', 'R', '##V', 'normal', 'groß', '.', 'Gute', 'R', '##V', '-', 'Funktion', '.', 'Kein', 'Per', '##ika', '##r', '##der', '##guss', 'nachweisbar', '.', 'Ven', '##a', 'ca', '##va', 'in', '##fer', '##ior', 'nicht', 'gest', '##aut', '.', 'A', '##orten', '-', 'und', 'Mit', '##ral', '##kla', '##ppe', 'leicht', 'verd', '##ickt', 'mit', 'guter', 'Se', '##parat', '##ion', '.', 'Üb', '##rige', 'Kla', '##ppen', 'so', '##no', '##gra', '##ph', '##isch', 'und', 'do', '##pp', '##lers', '##on', '##ograph', '##isch', 'regel', '##recht', '.', 'Der', 's', '##yst', '##olische', 'P', '##A', '-', 'Druck', 'in', 'Ruhe', 'ist', 'bei', 'fehlender', 'Trik', '##us', '##p', '##ida', '##lin', '##su', '##ffizienz', 'nicht', 'sicher', 'bestimm', '##bar', '.', 'Im', 'Vergleich', 'zur', 'Vor', '##untersuchung', 'vom', '<', '[', 'Pseud', '##o', ']', '15', '/', '10', '/', '20', '##31', ':', '>', 'Keine', 'wesentliche', 'Befund', '##änderung', '.', '[SEP]'], scores=array([-4.17584178e-03, -5.16972226e-02, -2.18125151e-02,  1.02501760e-02,\n",
       "          1.77969292e-03, -2.37531803e-03,  8.06846526e-03,  1.39786516e-03,\n",
       "         -2.34061091e-03, -2.43738995e-03, -5.18389904e-03, -1.62261286e-03,\n",
       "          4.78660962e-03,  3.58557716e-03,  6.68462123e-04, -5.93512697e-03,\n",
       "         -4.89784550e-03, -5.30533205e-03,  6.62218983e-03, -3.06244488e-03,\n",
       "         -5.64346143e-04, -8.93194161e-04, -3.37170841e-04, -1.30688507e-03,\n",
       "          2.76117115e-03,  1.64154888e-03, -2.33535528e-03, -9.88826277e-04,\n",
       "          1.80794714e-03,  3.03896267e-03, -1.16662393e-03, -1.74594138e-03,\n",
       "         -2.65165347e-03, -7.51226491e-03,  9.46256091e-03,  5.31288821e-03,\n",
       "         -1.10163633e-03, -4.39102855e-03, -2.06004339e-03,  8.52222236e-05,\n",
       "          4.19662655e-03, -1.66856607e-03,  3.64243594e-04,  1.93898935e-04,\n",
       "         -7.30813763e-04, -1.83778264e-03, -1.02908414e-03, -3.40949585e-03,\n",
       "         -2.68420973e-03,  5.94524792e-03, -5.16638621e-03,  9.77266202e-04,\n",
       "         -1.40158375e-02, -8.91983926e-03,  3.14727147e-03,  5.55844283e-03,\n",
       "         -3.25200196e-04, -1.58397579e-03, -2.34413178e-03, -1.37490774e-02,\n",
       "          4.31165783e-04,  4.74269984e-03,  4.26220692e-03,  5.83878084e-03,\n",
       "          8.29656535e-03,  1.61070498e-02,  1.89628480e-02, -3.21948806e-03,\n",
       "          6.92377600e-03,  7.09915666e-03, -1.29548328e-03,  3.82335369e-03,\n",
       "         -7.12025705e-03, -1.34930809e-03,  2.44680605e-03,  1.28154912e-03,\n",
       "         -3.80408897e-03,  7.04193469e-03,  1.81587868e-03,  6.44548524e-03,\n",
       "          5.30716797e-03, -4.02931143e-04, -1.78872574e-03, -7.43407115e-03,\n",
       "         -4.81585339e-03,  1.19918209e-02,  1.41716483e-02, -1.63810003e-03,\n",
       "          2.02239779e-02, -7.44972422e-04, -8.48286762e-04,  9.42193807e-03,\n",
       "         -7.66182108e-03,  7.00437553e-03, -8.82791768e-03,  1.28631582e-02,\n",
       "          2.34391380e-02,  1.41291808e-02,  1.99055321e-02,  6.89443130e-04,\n",
       "         -4.34240338e-03,  9.80047447e-05, -9.18794987e-03,  5.79603256e-04,\n",
       "          9.51423334e-04, -5.51898473e-03,  5.75437005e-03, -8.23948982e-03,\n",
       "          8.28010661e-03,  1.01237582e-02,  4.77741606e-03,  2.85916640e-03,\n",
       "          1.49722883e-02,  7.66860705e-03, -6.84253194e-03,  3.95921392e-03,\n",
       "          5.21281595e-03,  7.86992417e-03,  1.09832011e-03, -7.60124268e-03,\n",
       "          1.61797156e-02, -2.61372514e-03,  1.62065349e-02,  2.57678732e-02,\n",
       "          6.61083981e-03, -6.07855164e-03, -1.58493714e-03,  3.21684962e-03,\n",
       "         -1.14395381e-02,  3.69515765e-03,  1.61335034e-03, -7.00491104e-05,\n",
       "          3.99966180e-03, -1.32114875e-02, -1.86678624e-02,  1.46765740e-02,\n",
       "         -1.66587394e-02, -9.53104874e-03, -1.37297913e-02, -2.74152697e-02,\n",
       "         -8.67601169e-05, -8.54879428e-03,  3.79260012e-03,  7.78091473e-04,\n",
       "          2.41591810e-03, -1.05517282e-02,  2.31091400e-03,  6.81021563e-03,\n",
       "          6.65310155e-04,  6.49392944e-03, -6.52590351e-03,  8.51920821e-04,\n",
       "         -3.26354046e-03, -2.64302207e-03,  5.31454981e-03,  3.94528500e-03,\n",
       "         -8.21678503e-03, -6.78572507e-03,  4.35235845e-03, -1.04075560e-02,\n",
       "          8.17101790e-03, -5.52708762e-03]), explainer='Integrated Gradient', target=7), evaluation_scores=[Evaluation(name='aopc_compr', score=0.0010723174), Evaluation(name='aopc_suff', score=0.17395838), Evaluation(name='taucorr_loo', score=-0.060000788652525595)])],\n",
       " 'Zusammenfassung': [ExplanationEvaluation(explanation=Explanation(text='Die cMRT am Folgetag zeigte mehrere kleine Infarkte im Hirnstamm sowie rechts in den Stammganglien und bds.', tokens=['[CLS]', 'Die', 'c', '##MR', '##T', 'am', 'Folge', '##tag', 'zeigte', 'mehrere', 'kleine', 'Inf', '##arkt', '##e', 'im', 'Hirn', '##stamm', 'sowie', 'rechts', 'in', 'den', 'Stamm', '##gang', '##lie', '##n', 'und', 'b', '##ds', '.', '[SEP]'], scores=array([ 5.33839966e-03,  6.33128934e-02, -2.34088722e-02,  1.77441792e-05,\n",
       "         -5.37848342e-02,  9.30611053e-02, -1.36874845e-01, -9.51541463e-02,\n",
       "          2.79545704e-02,  1.05224441e-01,  3.97135463e-02, -9.07664586e-03,\n",
       "          4.82930233e-03,  3.44220304e-02, -2.64732437e-03, -1.71136598e-02,\n",
       "          6.19884569e-03,  2.46260408e-02,  1.54178025e-02, -1.96242915e-02,\n",
       "         -4.12393216e-02, -2.20573196e-02, -4.41951543e-02,  1.40036003e-02,\n",
       "          2.82688180e-02,  2.40772065e-02, -1.89278284e-03, -6.76241095e-03,\n",
       "          1.93075840e-02,  2.03944608e-02]), explainer='Integrated Gradient', target=8), evaluation_scores=[Evaluation(name='aopc_compr', score=0.642033), Evaluation(name='aopc_suff', score=0.01297151), Evaluation(name='taucorr_loo', score=0.19047619047619047)]),\n",
       "  ExplanationEvaluation(explanation=Explanation(text='Röntgenologisch wurde der V.a. eine Stauungspneumonie gestellt.', tokens=['[CLS]', 'Röntgen', '##ologisch', 'wurde', 'der', 'V', '.', 'a', '.', 'eine', 'Stau', '##ungs', '##p', '##ne', '##um', '##onie', 'gestellt', '.', '[SEP]'], scores=array([-0.02277718,  0.13422074, -0.07927837, -0.36239678, -0.0372827 ,\n",
       "         -0.05923977,  0.01484986,  0.03773798, -0.00639593, -0.01889276,\n",
       "          0.03150092, -0.01029595,  0.0088226 ,  0.00554474, -0.01069866,\n",
       "          0.04106053, -0.10094436, -0.0053961 , -0.01266405]), explainer='Integrated Gradient', target=8), evaluation_scores=[Evaluation(name='aopc_compr', score=0.0005909324), Evaluation(name='aopc_suff', score=0.99393874), Evaluation(name='taucorr_loo', score=-0.08823529411764705)]),\n",
       "  ExplanationEvaluation(explanation=Explanation(text='Es erging die Maßgabe das Konzept vom letzten stationären Aufenthalt fortzuführen -LRB- Vorstellung in der Thoraxklinik -RRB- und die damals begonnene Therapie mit Methylprednisolon wöchentlich um 2,5 mg weiter auszuschleichen -LRB- letzte Reduktion am <[Pseudo] 14/10/2033> auf 7,5 mg -RRB- .', tokens=['[CLS]', 'Es', 'erg', '##ing', 'die', 'Maßgabe', 'das', 'Konzept', 'vom', 'letzten', 'stationären', 'Aufenthalt', 'fort', '##zuführen', '-', 'L', '##R', '##B', '-', 'Vorstellung', 'in', 'der', 'Thor', '##ax', '##klinik', '-', 'R', '##R', '##B', '-', 'und', 'die', 'damals', 'begonnen', '##e', 'Therapie', 'mit', 'Met', '##hy', '##l', '##pre', '##d', '##nis', '##olo', '##n', 'wöchentlich', 'um', '2', ',', '5', 'mg', 'weiter', 'auszu', '##schlei', '##chen', '-', 'L', '##R', '##B', '-', 'letzte', 'Reduktion', 'am', '<', '[', 'Pseud', '##o', ']', '14', '/', '10', '/', '20', '##33', '>', 'auf', '7', ',', '5', 'mg', '-', 'R', '##R', '##B', '-', '.', '[SEP]'], scores=array([-0.00411084, -0.01102301,  0.01286331,  0.09796353, -0.09407881,\n",
       "         -0.00978317, -0.07319746,  0.00542778, -0.02483391, -0.00778114,\n",
       "         -0.00078826,  0.00042002, -0.02317059, -0.01779963, -0.00192571,\n",
       "         -0.00236724,  0.00181095,  0.00107299,  0.00699001,  0.01896477,\n",
       "         -0.02526405, -0.007647  ,  0.00084027,  0.00062148,  0.00201239,\n",
       "          0.00553908,  0.00282313, -0.00456541,  0.00401446,  0.00623138,\n",
       "          0.00599425, -0.0055639 ,  0.016869  , -0.00906535, -0.00406613,\n",
       "          0.00698714, -0.01001881,  0.00186633, -0.00121544, -0.00080985,\n",
       "          0.00598599,  0.00313827, -0.01088265, -0.00148353,  0.0096423 ,\n",
       "          0.02213103,  0.02186886,  0.00819656, -0.00475086,  0.00438194,\n",
       "         -0.00606721, -0.00822256,  0.00805442,  0.01804705, -0.00258403,\n",
       "          0.00031436, -0.0275599 ,  0.02279962, -0.00204121, -0.00547176,\n",
       "          0.00922666,  0.01696994,  0.01713644,  0.0198727 ,  0.0132103 ,\n",
       "         -0.01221033,  0.01845356,  0.00035027, -0.00398561, -0.01112378,\n",
       "          0.01213233, -0.011315  , -0.00383127, -0.00590191, -0.00358541,\n",
       "         -0.01008833,  0.01247968,  0.0074373 ,  0.00564451, -0.02095786,\n",
       "         -0.00385022,  0.00870674, -0.00447877, -0.00088673, -0.00991417,\n",
       "         -0.0206134 ,  0.00362469]), explainer='Integrated Gradient', target=8), evaluation_scores=[Evaluation(name='aopc_compr', score=0.021774078), Evaluation(name='aopc_suff', score=0.8921318), Evaluation(name='taucorr_loo', score=0.037852254312726916)]),\n",
       "  ExplanationEvaluation(explanation=Explanation(text='Zur Vorbereitung auf die MitraClip erfolgte am <[Pseudo] 21/06/2034> eine Farbduplexsonographie der Karotiden.', tokens=['[CLS]', 'Zur', 'Vorbereitung', 'auf', 'die', 'Mit', '##ra', '##Cl', '##ip', 'erfolgte', 'am', '<', '[', 'Pseud', '##o', ']', '21', '/', '06', '/', '20', '##34', '>', 'eine', 'Farb', '##du', '##ple', '##x', '##son', '##ographie', 'der', 'Kar', '##ot', '##iden', '.', '[SEP]'], scores=array([ 0.01542519, -0.10948978, -0.07356038,  0.00294695,  0.01240032,\n",
       "          0.01109256, -0.02771906,  0.04076311,  0.04423389, -0.10584738,\n",
       "         -0.09125564, -0.02524881,  0.00369582,  0.0243516 , -0.02984238,\n",
       "          0.01203871, -0.01355375, -0.00634264,  0.00205908, -0.00686058,\n",
       "          0.00817469, -0.00920142, -0.00486705, -0.07638553,  0.0353947 ,\n",
       "          0.00598954,  0.00743387,  0.0299645 ,  0.02868936,  0.07222329,\n",
       "          0.00725416,  0.0033474 , -0.02495193,  0.01073412,  0.00521907,\n",
       "          0.01144173]), explainer='Integrated Gradient', target=8), evaluation_scores=[Evaluation(name='aopc_compr', score=0.0028908055), Evaluation(name='aopc_suff', score=0.5065485), Evaluation(name='taucorr_loo', score=-0.13012477718360074)]),\n",
       "  ExplanationEvaluation(explanation=Explanation(text='Wir bitten um eine Trinkmengenrestriktion von 1,5 l/d und regelmäßige laborchemische Kontrollen der Elektrolyte durch den Hausarzt mit ggf. Einleitung einer weitergehenden Abklärung.', tokens=['[CLS]', 'Wir', 'bitten', 'um', 'eine', 'Trink', '##mengen', '##rest', '##rikt', '##ion', 'von', '1', ',', '5', 'l', '/', 'd', 'und', 'regelmäßige', 'la', '##bor', '##chem', '##ische', 'Kontrollen', 'der', 'Elektro', '##ly', '##te', 'durch', 'den', 'Haus', '##arzt', 'mit', 'ggf', '.', 'Einleitung', 'einer', 'weitergehende', '##n', 'Abk', '##lärung', '.', '[SEP]'], scores=array([ 0.01406146,  0.13954097,  0.10940386, -0.03195676, -0.11248166,\n",
       "          0.0174327 , -0.01634153,  0.03774926, -0.02480822, -0.00724262,\n",
       "          0.02352725,  0.01231506,  0.00921753,  0.00901835, -0.00181148,\n",
       "          0.01547934,  0.00515785,  0.01145315,  0.02809258, -0.01360339,\n",
       "          0.01371508,  0.02654071,  0.01502355,  0.0044139 ,  0.0129282 ,\n",
       "          0.01078174,  0.03945277, -0.00804793,  0.01579268, -0.02110095,\n",
       "         -0.03024656, -0.00826703,  0.01057581,  0.02409437, -0.01376916,\n",
       "          0.01476042,  0.01223413,  0.04560859,  0.01152555, -0.00288234,\n",
       "          0.00377332, -0.00921747, -0.00455273]), explainer='Integrated Gradient', target=8), evaluation_scores=[Evaluation(name='aopc_compr', score=0.39896992), Evaluation(name='aopc_suff', score=0.0007180231), Evaluation(name='taucorr_loo', score=0.08419769718468213)]),\n",
       "  ExplanationEvaluation(explanation=Explanation(text='Der Patient wurde hierüber umfassend aufgeklärt.', tokens=['[CLS]', 'Der', 'Patient', 'wurde', 'hier', '##über', 'umfassend', 'aufgeklärt', '.', '[SEP]'], scores=array([-0.00962295,  0.36322903, -0.04026724,  0.24677066,  0.05449017,\n",
       "          0.05851735,  0.1356206 ,  0.01755913, -0.03020397, -0.0437189 ]), explainer='Integrated Gradient', target=8), evaluation_scores=[Evaluation(name='aopc_compr', score=0.26448542), Evaluation(name='aopc_suff', score=0.008192261), Evaluation(name='taucorr_loo', score=0.07142857142857142)]),\n",
       "  ExplanationEvaluation(explanation=Explanation(text='Echokardiographisch zeigte sich ein dilatierter linker Ventrikel mit hochgradig verminderter systolischer Pumpfunktion bei Akinesie des gesamten Apex, inferior, inferolateral sowie Hypokinesie der übrigen Wandabschnitte.', tokens=['[CLS]', 'Ech', '##oka', '##r', '##di', '##ograph', '##isch', 'zeigte', 'sich', 'ein', 'di', '##lat', '##ierter', 'linker', 'Vent', '##rike', '##l', 'mit', 'hoch', '##grad', '##ig', 'verminder', '##ter', 's', '##yst', '##olische', '##r', 'Pu', '##m', '##pf', '##unktion', 'bei', 'Ak', '##ines', '##ie', 'des', 'gesamten', 'Ap', '##ex', ',', 'in', '##fer', '##ior', ',', 'in', '##fer', '##ola', '##ter', '##al', 'sowie', 'Hyp', '##ok', '##ines', '##ie', 'der', 'übrigen', 'Wand', '##abschnitte', '.', '[SEP]'], scores=array([ 0.00963297, -0.08609363,  0.00082839,  0.03744831,  0.00246265,\n",
       "         -0.01178506,  0.06412769, -0.04641168,  0.09329567, -0.06308173,\n",
       "         -0.02058832,  0.01221154,  0.04302155, -0.00275976,  0.02031302,\n",
       "         -0.00785998, -0.00156858, -0.00961932, -0.01864946,  0.00066772,\n",
       "          0.00771837, -0.01988287,  0.02225897, -0.01293663,  0.01861703,\n",
       "         -0.00178003, -0.00672681, -0.00923007,  0.0014885 , -0.00315675,\n",
       "         -0.01294448,  0.00250775, -0.01151653,  0.00503137,  0.00144942,\n",
       "         -0.01986797,  0.01313175, -0.00335556,  0.00215939, -0.00104971,\n",
       "          0.02436512,  0.01410682,  0.01851456, -0.00240726, -0.0380482 ,\n",
       "         -0.0018132 ,  0.0107563 ,  0.00798285,  0.00629837,  0.01115059,\n",
       "         -0.00942793,  0.00231596,  0.02343616, -0.00531233, -0.01908623,\n",
       "          0.00944099, -0.0142223 , -0.01179362, -0.01157066,  0.02871358]), explainer='Integrated Gradient', target=8), evaluation_scores=[Evaluation(name='aopc_compr', score=0.00021668672), Evaluation(name='aopc_suff', score=0.9233837), Evaluation(name='taucorr_loo', score=-0.007261724992011148)]),\n",
       "  ExplanationEvaluation(explanation=Explanation(text='In Zusammenschau der Befunde wurde der Verdacht auf eine spontane Rekanalisation oder ein Artefakt in der CT-Untersuchung gestellt.', tokens=['[CLS]', 'In', 'Zusammen', '##schau', 'der', 'Befund', '##e', 'wurde', 'der', 'Verdacht', 'auf', 'eine', 'spont', '##ane', 'Re', '##kanal', '##isation', 'oder', 'ein', 'Arte', '##fa', '##kt', 'in', 'der', 'C', '##T', '-', 'Untersuchung', 'gestellt', '.', '[SEP]'], scores=array([-0.01259495,  0.07318148, -0.09029352,  0.04975246,  0.03529235,\n",
       "         -0.03361865,  0.00785063, -0.14245667, -0.02072803, -0.03909743,\n",
       "          0.06180145, -0.00465521, -0.01342649,  0.00746635,  0.00522699,\n",
       "         -0.00425097, -0.01437131, -0.05854242, -0.0008029 ,  0.01447914,\n",
       "         -0.02504852, -0.02902389, -0.02138781,  0.03463952, -0.00336078,\n",
       "         -0.00742677,  0.00591234, -0.01649233, -0.03499026, -0.07688797,\n",
       "          0.05494042]), explainer='Integrated Gradient', target=8), evaluation_scores=[Evaluation(name='aopc_compr', score=0.0036886632), Evaluation(name='aopc_suff', score=0.5263604), Evaluation(name='taucorr_loo', score=-0.1060420041644135)]),\n",
       "  ExplanationEvaluation(explanation=Explanation(text='Für Rückfragen stehen wir jederzeit zur Verfügung.', tokens=['[CLS]', 'Für', 'Rück', '##fragen', 'stehen', 'wir', 'jederzeit', 'zur', 'Verfügung', '.', '[SEP]'], scores=array([ 0.02897643, -0.00763519, -0.21044385,  0.09653147,  0.31317826,\n",
       "         -0.02397657, -0.0156906 , -0.12680153,  0.17180487, -0.00260379,\n",
       "          0.00235745]), explainer='Integrated Gradient', target=8), evaluation_scores=[Evaluation(name='aopc_compr', score=0.022847315), Evaluation(name='aopc_suff', score=0.49929664), Evaluation(name='taucorr_loo', score=0.3888888888888889)]),\n",
       "  ExplanationEvaluation(explanation=Explanation(text='In diesem Zusammenhang wurde auch erneut auf zusätzliche Kalorienzufuhr im Rahme der Peritonealdialyse durch die Glucoselösung hingewiesen.', tokens=['[CLS]', 'In', 'diesem', 'Zusammenhang', 'wurde', 'auch', 'erneut', 'auf', 'zusätzliche', 'Kal', '##orien', '##zuf', '##uhr', 'im', 'Rah', '##me', 'der', 'Per', '##ito', '##ne', '##ald', '##ial', '##yse', 'durch', 'die', 'Gl', '##uc', '##ose', '##lösung', 'hingewiesen', '.', '[SEP]'], scores=array([-0.01329458, -0.05439702, -0.06806879,  0.02385744,  0.18874469,\n",
       "         -0.07967957, -0.05667072, -0.01856742,  0.02890763,  0.02673876,\n",
       "          0.01027988,  0.01274434, -0.02401052, -0.01795514,  0.00188613,\n",
       "          0.01056603,  0.02866795, -0.00735633,  0.00162032, -0.01824235,\n",
       "         -0.00870328, -0.02664144, -0.01328559,  0.00714159, -0.00990953,\n",
       "         -0.01797461, -0.00464034,  0.02766677, -0.0116099 ,  0.06112261,\n",
       "         -0.09993008,  0.01911866]), explainer='Integrated Gradient', target=8), evaluation_scores=[Evaluation(name='aopc_compr', score=0.08021007), Evaluation(name='aopc_suff', score=0.00035039187), Evaluation(name='taucorr_loo', score=0.02528735632183908)])],\n",
       " 'Mix': [ExplanationEvaluation(explanation=Explanation(text='- Wiedervorstellung zur nächsten Schrittmacherkontrolluntersuchung in unserer ORG am <[Pseudo] 05/11/2037> um 10 Uhr', tokens=['[CLS]', '-', 'Wieder', '##vor', '##stellung', 'zur', 'nächsten', 'Schritt', '##macher', '##kontroll', '##untersuchung', 'in', 'unserer', 'O', '##RG', 'am', '<', '[', 'Pseud', '##o', ']', '05', '/', '11', '/', '20', '##37', '>', 'um', '10', 'Uhr', '[SEP]'], scores=array([-0.01203303,  0.00384946, -0.03958271,  0.04268558, -0.1331422 ,\n",
       "         -0.08306386,  0.05296258, -0.00658376,  0.01837148,  0.00419127,\n",
       "          0.04449668,  0.02402603, -0.01245437,  0.01672711, -0.01132514,\n",
       "         -0.07745264,  0.01111173,  0.01259609, -0.00158558, -0.02476026,\n",
       "         -0.02043262,  0.02580045,  0.01365743,  0.00905096,  0.01705739,\n",
       "         -0.00455481,  0.00565686,  0.05738379, -0.08299049,  0.09680737,\n",
       "         -0.0258667 ,  0.0077396 ]), explainer='Integrated Gradient', target=9), evaluation_scores=[Evaluation(name='aopc_compr', score=0.17364438), Evaluation(name='aopc_suff', score=0.9543541), Evaluation(name='taucorr_loo', score=-0.09885057471264368)]),\n",
       "  ExplanationEvaluation(explanation=Explanation(text='Externer Zuweiser: CPU', tokens=['[CLS]', 'Ex', '##tern', '##er', 'Zu', '##weiser', ':', 'C', '##P', '##U', '[SEP]'], scores=array([-0.02191088, -0.18145553,  0.01472883, -0.01390723,  0.01019395,\n",
       "         -0.2247307 ,  0.07040177, -0.25466201,  0.09595261,  0.10349862,\n",
       "         -0.00855786]), explainer='Integrated Gradient', target=9), evaluation_scores=[Evaluation(name='aopc_compr', score=0.23609951), Evaluation(name='aopc_suff', score=0.9800445), Evaluation(name='taucorr_loo', score=-0.1111111111111111)]),\n",
       "  ExplanationEvaluation(explanation=Explanation(text='Wir empfehlen regelmäßige angiologische Kontrolluntersuchungen in der Praxis des betreuenden B-SALUTE B-TITLE B-PER', tokens=['[CLS]', 'Wir', 'empfehlen', 'regelmäßige', 'an', '##gio', '##log', '##ische', 'Kontroll', '##untersuchung', '##en', 'in', 'der', 'Praxis', 'des', 'betre', '##uen', '##den', 'B', '-', 'SA', '##L', '##U', '##T', '##E', 'B', '-', 'T', '##IT', '##L', '##E', 'B', '-', 'P', '##ER', '[SEP]'], scores=array([ 2.07329429e-02,  3.19464223e-01,  2.07370885e-02,  1.96852169e-02,\n",
       "         -1.66115160e-02, -3.30228630e-02,  3.58332381e-02, -6.69450835e-03,\n",
       "         -1.31875160e-01, -1.12110417e-02,  2.22316110e-02,  3.34656507e-02,\n",
       "         -1.66366900e-02,  3.36674811e-03,  1.50487837e-02, -2.64252100e-03,\n",
       "         -7.17623527e-03,  1.41229929e-02, -2.42226571e-02, -9.50901824e-03,\n",
       "         -3.74977587e-02,  1.99492647e-02, -1.31797117e-02, -9.66619180e-03,\n",
       "         -1.68121329e-02,  1.18794726e-02, -6.84127779e-03,  7.01854345e-03,\n",
       "         -1.35834356e-03,  1.03697095e-04,  5.02601237e-03,  3.49110002e-02,\n",
       "         -1.31061841e-02,  2.23874317e-02, -1.56918141e-02,  2.02804566e-02]), explainer='Integrated Gradient', target=9), evaluation_scores=[Evaluation(name='aopc_compr', score=0.48343337), Evaluation(name='aopc_suff', score=0.98169893), Evaluation(name='taucorr_loo', score=-0.040998217468805706)]),\n",
       "  ExplanationEvaluation(explanation=Explanation(text='- Kostaufbau nach Ernährungskonsil', tokens=['[CLS]', '-', 'Kost', '##aufbau', 'nach', 'Ernährung', '##skon', '##s', '##il', '[SEP]'], scores=array([-0.03688743, -0.17239097,  0.28357038,  0.027204  , -0.08204219,\n",
       "          0.02043246,  0.16957147,  0.19929151,  0.00131637,  0.00729322]), explainer='Integrated Gradient', target=9), evaluation_scores=[Evaluation(name='aopc_compr', score=0.91242677), Evaluation(name='aopc_suff', score=0.9295922), Evaluation(name='taucorr_loo', score=0.0)]),\n",
       "  ExplanationEvaluation(explanation=Explanation(text='- Übernahme Herzchirurgie', tokens=['[CLS]', '-', 'Übernahme', 'Herz', '##chi', '##ru', '##r', '##gie', '[SEP]'], scores=array([-0.05648645,  0.05356913,  0.12249636,  0.21375761, -0.03220917,\n",
       "          0.1375292 , -0.07960171,  0.26509054,  0.03925983]), explainer='Integrated Gradient', target=9), evaluation_scores=[Evaluation(name='aopc_compr', score=0.6101352), Evaluation(name='aopc_suff', score=0.9663508), Evaluation(name='taucorr_loo', score=-0.5238095238095238)]),\n",
       "  ExplanationEvaluation(explanation=Explanation(text='- Kaliumkontrolle und klinische Kontrolle morgen beim Hausarzt', tokens=['[CLS]', '-', 'Kali', '##um', '##kontrolle', 'und', 'klin', '##ische', 'Kontrolle', 'morgen', 'beim', 'Haus', '##arzt', '[SEP]'], scores=array([ 0.00343135,  0.11961876,  0.18402764,  0.03587586, -0.15616484,\n",
       "         -0.05679565, -0.01930542,  0.03776599, -0.0534322 , -0.00926597,\n",
       "         -0.12526903,  0.04245987,  0.13574981,  0.0208376 ]), explainer='Integrated Gradient', target=9), evaluation_scores=[Evaluation(name='aopc_compr', score=0.83366996), Evaluation(name='aopc_suff', score=0.4126138), Evaluation(name='taucorr_loo', score=0.303030303030303)]),\n",
       "  ExplanationEvaluation(explanation=Explanation(text='- Termin in der kardiologischen Ambulanz am B-DATE, 10:30 Uhr', tokens=['[CLS]', '-', 'Termin', 'in', 'der', 'kar', '##di', '##ologischen', 'Amb', '##ula', '##n', '##z', 'am', 'B', '-', 'DA', '##T', '##E', ',', '10', ':', '30', 'Uhr', '[SEP]'], scores=array([ 0.04406564,  0.13801928,  0.09493233, -0.07455857,  0.06305956,\n",
       "         -0.07656388, -0.03875523, -0.0331967 ,  0.03516897, -0.02669547,\n",
       "         -0.01277029, -0.01237289, -0.0184133 ,  0.01264221,  0.03435576,\n",
       "         -0.0046653 , -0.00343883, -0.0024763 ,  0.00167014, -0.06502529,\n",
       "         -0.01301216, -0.03778162,  0.11283697,  0.04352332]), explainer='Integrated Gradient', target=9), evaluation_scores=[Evaluation(name='aopc_compr', score=0.97942823), Evaluation(name='aopc_suff', score=0.22014639), Evaluation(name='taucorr_loo', score=0.30735930735930733)]),\n",
       "  ExplanationEvaluation(explanation=Explanation(text='- AB weiter, regelmäßige Entzündungswertkontrollen', tokens=['[CLS]', '-', 'AB', 'weiter', ',', 'regelmäßige', 'Ent', '##zü', '##nd', '##ungs', '##wert', '##kontrollen', '[SEP]'], scores=array([-0.04323003, -0.24562084,  0.37127389,  0.02351503, -0.01510086,\n",
       "         -0.03864265,  0.03976269, -0.09716331,  0.03755702,  0.01707965,\n",
       "          0.04790185,  0.00591615, -0.01723603]), explainer='Integrated Gradient', target=9), evaluation_scores=[Evaluation(name='aopc_compr', score=0.33723667), Evaluation(name='aopc_suff', score=0.9641853), Evaluation(name='taucorr_loo', score=-0.0909090909090909)]),\n",
       "  ExplanationEvaluation(explanation=Explanation(text='Indikationen für stationären Aufenthalt:', tokens=['[CLS]', 'Ind', '##ikationen', 'für', 'stationären', 'Aufenthalt', ':', '[SEP]'], scores=array([-0.11110228, -0.09632189, -0.00200084,  0.16280247,  0.35843868,\n",
       "          0.09783274,  0.14572226, -0.02577884]), explainer='Integrated Gradient', target=9), evaluation_scores=[Evaluation(name='aopc_compr', score=0.9221835), Evaluation(name='aopc_suff', score=0.9166217), Evaluation(name='taucorr_loo', score=0.2)]),\n",
       "  ExplanationEvaluation(explanation=Explanation(text='- Bei beschwerdefreiem Verlauf empfehlen wir eine kardiologische Kontrolluntersuchung in 6 Monaten, gerne auch bei einer niedergelassenen B-SALUTE oder Kollegen.', tokens=['[CLS]', '-', 'Bei', 'besch', '##werde', '##freie', '##m', 'Verlauf', 'empfehlen', 'wir', 'eine', 'kar', '##di', '##ologische', 'Kontroll', '##untersuchung', 'in', '6', 'Monaten', ',', 'gerne', 'auch', 'bei', 'einer', 'niedergelassen', '##en', 'B', '-', 'SA', '##L', '##U', '##T', '##E', 'oder', 'Kollegen', '.', '[SEP]'], scores=array([-1.99241464e-02,  1.21534052e-01, -1.27770622e-01,  2.70863693e-02,\n",
       "          1.06781496e-02, -1.34519117e-06, -9.96496714e-03, -3.21615929e-02,\n",
       "         -2.09006019e-02,  2.39219565e-02,  2.99495425e-02, -3.67868523e-03,\n",
       "         -7.38760942e-03,  7.49070285e-03, -1.16455963e-01,  6.37853854e-02,\n",
       "          2.41825287e-02, -6.43917656e-02,  2.24745573e-02,  2.20444377e-02,\n",
       "          2.60156908e-02,  3.27623232e-02, -2.30333388e-02, -8.21363743e-03,\n",
       "          2.54972667e-02,  6.82138988e-03,  1.05913077e-04,  2.51170791e-02,\n",
       "          1.47971651e-02,  1.71421892e-02,  6.51089066e-04,  1.13041837e-02,\n",
       "          1.00117660e-02,  2.32241649e-03, -1.88215682e-02,  1.90725537e-02,\n",
       "          2.52544856e-03]), explainer='Integrated Gradient', target=9), evaluation_scores=[Evaluation(name='aopc_compr', score=0.9472746), Evaluation(name='aopc_suff', score=0.712466), Evaluation(name='taucorr_loo', score=0.07226890756302522)])],\n",
       " 'Abschluss': [ExplanationEvaluation(explanation=Explanation(text='Zusätzliche Medikation nach haus- bzw. fachärztlicher Empfehlung.', tokens=['[CLS]', 'Zusätzlich', '##e', 'Medik', '##ation', 'nach', 'haus', '-', 'bzw', '.', 'fach', '##ärztliche', '##r', 'Empfehlung', '.', '[SEP]'], scores=array([ 0.01232056,  0.02140043, -0.09728338, -0.20781934, -0.1277774 ,\n",
       "         -0.09468679, -0.0481532 , -0.01989283, -0.1909208 ,  0.04882791,\n",
       "          0.00578896, -0.0067321 , -0.02301026, -0.0766976 ,  0.01782467,\n",
       "          0.00086378]), explainer='Integrated Gradient', target=10), evaluation_scores=[Evaluation(name='aopc_compr', score=0.43999937), Evaluation(name='aopc_suff', score=0.11668994), Evaluation(name='taucorr_loo', score=-0.07692307692307693)]),\n",
       "  ExplanationEvaluation(explanation=Explanation(text='I-PER / I.', tokens=['[CLS]', 'I', '-', 'P', '##ER', '/', 'I', '.', '[SEP]'], scores=array([ 0.02204531, -0.05186879, -0.03826002,  0.03752958,  0.52288416,\n",
       "         -0.02002639,  0.08666807, -0.1685823 , -0.05213538]), explainer='Integrated Gradient', target=10), evaluation_scores=[Evaluation(name='aopc_compr', score=0.05739218), Evaluation(name='aopc_suff', score=0.6633191), Evaluation(name='taucorr_loo', score=0.14285714285714288)]),\n",
       "  ExplanationEvaluation(explanation=Explanation(text='Vorläufiger Brief!', tokens=['[CLS]', 'Vor', '##läufig', '##er', 'Brief', '!', '[SEP]'], scores=array([ 0.0056048 , -0.27551031,  0.10821358, -0.02901172, -0.30134843,\n",
       "         -0.25374906, -0.0265621 ]), explainer='Integrated Gradient', target=10), evaluation_scores=[Evaluation(name='aopc_compr', score=0.01993972), Evaluation(name='aopc_suff', score=0.99537426), Evaluation(name='taucorr_loo', score=0.0)]),\n",
       "  ExplanationEvaluation(explanation=Explanation(text='Dieses Dokument wurde digital erstellt und ist ohne Unterschrift gültig.', tokens=['[CLS]', 'Dieses', 'Dokument', 'wurde', 'digital', 'erstellt', 'und', 'ist', 'ohne', 'Unterschrift', 'gültig', '.', '[SEP]'], scores=array([ 0.01735228, -0.03762381,  0.10449318, -0.06095251,  0.18986143,\n",
       "          0.05387655,  0.13027122, -0.01619869,  0.0706509 ,  0.07666321,\n",
       "          0.16687606,  0.02410568,  0.05107448]), explainer='Integrated Gradient', target=10), evaluation_scores=[Evaluation(name='aopc_compr', score=0.49953914), Evaluation(name='aopc_suff', score=0.13405897), Evaluation(name='taucorr_loo', score=-0.4770842982214229)]),\n",
       "  ExplanationEvaluation(explanation=Explanation(text='Wir entließen die kardiorespiratorisch stabile und beschwerdefreie Patientin auf ausdrücklichen Patientenwunsch bereits nach der farbduplexsonographischen Kontrolluntersuchung am <[Pseudo] 29/10/2036> in Ihre geschätzte ambulante Betreuung.', tokens=['[CLS]', 'Wir', 'ent', '##ließen', 'die', 'kar', '##di', '##ores', '##p', '##ira', '##tor', '##isch', 'stabil', '##e', 'und', 'besch', '##werde', '##freie', 'Patient', '##in', 'auf', 'ausdrücklichen', 'Patienten', '##wunsch', 'bereits', 'nach', 'der', 'farb', '##du', '##ple', '##x', '##son', '##ographischen', 'Kontroll', '##untersuchung', 'am', '<', '[', 'Pseud', '##o', ']', '29', '/', '10', '/', '20', '##36', '>', 'in', 'Ihre', 'geschätzt', '##e', 'ambul', '##ante', 'Betreuung', '.', '[SEP]'], scores=array([-0.0394301 , -0.08587687, -0.03797866,  0.02724721,  0.03526398,\n",
       "          0.05545097,  0.00257732, -0.01878698, -0.01170044,  0.00780486,\n",
       "         -0.00230621, -0.01344372, -0.00769898,  0.02810917, -0.02092955,\n",
       "         -0.0103557 , -0.0164482 , -0.00637956, -0.00181517,  0.010375  ,\n",
       "          0.02111956,  0.01190683,  0.03019561,  0.01759252,  0.01481034,\n",
       "         -0.00940157,  0.01177186, -0.02938834, -0.00260365,  0.01803166,\n",
       "          0.00606551, -0.04375758,  0.02185426, -0.00053109,  0.01074335,\n",
       "          0.04858228,  0.00425805, -0.0171444 , -0.00224783, -0.01153485,\n",
       "         -0.00580954,  0.00343567, -0.00646097,  0.02048521, -0.00448425,\n",
       "         -0.01933587,  0.01627207, -0.00403583, -0.01610963, -0.02910629,\n",
       "         -0.01877901, -0.03156721, -0.0148029 ,  0.00325994, -0.00879514,\n",
       "         -0.01950765, -0.00423301]), explainer='Integrated Gradient', target=10), evaluation_scores=[Evaluation(name='aopc_compr', score=0.5892936), Evaluation(name='aopc_suff', score=0.7238371), Evaluation(name='taucorr_loo', score=0.22558922558922562)]),\n",
       "  ExplanationEvaluation(explanation=Explanation(text='Wir danken für die Zusammenarbeit und verbleiben', tokens=['[CLS]', 'Wir', 'dank', '##en', 'für', 'die', 'Zusammenarbeit', 'und', 'verbleiben', '[SEP]'], scores=array([ 0.01521911,  0.03964793, -0.24703039, -0.11677144, -0.05577459,\n",
       "          0.06130612,  0.29092368,  0.06575741, -0.06044113,  0.04712819]), explainer='Integrated Gradient', target=10), evaluation_scores=[Evaluation(name='aopc_compr', score=0.016268864), Evaluation(name='aopc_suff', score=0.0028533936), Evaluation(name='taucorr_loo', score=-0.14285714285714285)]),\n",
       "  ExplanationEvaluation(explanation=Explanation(text='Assistenzärzte', tokens=['[CLS]', 'Assistenz', '##ärzte', '[SEP]'], scores=array([-0.04600632, -0.59722624,  0.28647038,  0.07029706]), explainer='Integrated Gradient', target=10), evaluation_scores=[Evaluation(name='aopc_compr', score=0.086738646), Evaluation(name='aopc_suff', score=0.050543964), Evaluation(name='taucorr_loo', score=1.0)]),\n",
       "  ExplanationEvaluation(explanation=Explanation(text='B-PER B-PER', tokens=['[CLS]', 'B', '-', 'P', '##ER', 'B', '-', 'P', '##ER', '[SEP]'], scores=array([-0.01289859,  0.10363935, -0.00076208,  0.02430295, -0.30208643,\n",
       "         -0.02434623, -0.06614704,  0.26336299,  0.15745642,  0.04499792]), explainer='Integrated Gradient', target=10), evaluation_scores=[Evaluation(name='aopc_compr', score=0.3369835), Evaluation(name='aopc_suff', score=0.18011777), Evaluation(name='taucorr_loo', score=0.42857142857142855)]),\n",
       "  ExplanationEvaluation(explanation=Explanation(text='Wir entließen den kardiorespiratorisch stabilen und beschwerdefreien Patienten am <[Pseudo] 06/07/2040> in Ihre geschätzte ambulante Betreuung.', tokens=['[CLS]', 'Wir', 'ent', '##ließen', 'den', 'kar', '##di', '##ores', '##p', '##ira', '##tor', '##isch', 'stabil', '##en', 'und', 'besch', '##werde', '##freien', 'Patienten', 'am', '<', '[', 'Pseud', '##o', ']', '06', '/', '07', '/', '20', '##40', '>', 'in', 'Ihre', 'geschätzt', '##e', 'ambul', '##ante', 'Betreuung', '.', '[SEP]'], scores=array([ 2.46978192e-02,  2.54033088e-01,  6.75960872e-02, -1.79566371e-02,\n",
       "          1.84485663e-01,  3.55670746e-02, -3.09035589e-03, -9.97409255e-03,\n",
       "         -5.49867009e-02, -5.60524308e-03,  1.37409568e-03, -1.08980358e-02,\n",
       "          1.43861897e-02,  4.21737676e-03,  1.18900527e-02,  2.01718673e-03,\n",
       "          2.80308550e-02,  2.00984827e-02, -2.12032896e-02, -2.83700416e-02,\n",
       "          3.21721811e-03,  1.34851090e-02, -7.45720994e-03, -1.09320426e-05,\n",
       "         -3.51055317e-03,  5.74050548e-03,  3.37909578e-03, -1.50114018e-02,\n",
       "          6.25864456e-03, -7.28898468e-03,  6.25561415e-03,  2.31310172e-02,\n",
       "          3.94921186e-02,  4.61311299e-02,  7.28283036e-03, -2.65417732e-04,\n",
       "          3.11632598e-03,  4.44608183e-04, -8.36728200e-04, -5.81153379e-03,\n",
       "         -1.39465358e-03]), explainer='Integrated Gradient', target=10), evaluation_scores=[Evaluation(name='aopc_compr', score=0.3402133), Evaluation(name='aopc_suff', score=0.7992514), Evaluation(name='taucorr_loo', score=-0.07152496626180838)]),\n",
       "  ExplanationEvaluation(explanation=Explanation(text='Wir entließen die kardiorespiratorisch stabile und beschwerdefreie Patientin am <[Pseudo] 27/09/2032> in Ihre geschätzte ambulante Betreuung.', tokens=['[CLS]', 'Wir', 'ent', '##ließen', 'die', 'kar', '##di', '##ores', '##p', '##ira', '##tor', '##isch', 'stabil', '##e', 'und', 'besch', '##werde', '##freie', 'Patient', '##in', 'am', '<', '[', 'Pseud', '##o', ']', '27', '/', '09', '/', '20', '##32', '>', 'in', 'Ihre', 'geschätzt', '##e', 'ambul', '##ante', 'Betreuung', '.', '[SEP]'], scores=array([-4.07646692e-03,  8.37284484e-02,  7.47536678e-02, -3.81084532e-02,\n",
       "          1.73254459e-01,  1.88806967e-02, -2.07179950e-02,  6.15053818e-02,\n",
       "         -1.22398821e-02,  1.14337667e-04,  1.29508344e-02,  1.23078746e-02,\n",
       "         -1.51824884e-02, -1.96528048e-02,  1.32300491e-02, -4.59469243e-03,\n",
       "         -6.19064668e-05, -4.24297546e-02,  2.62859313e-02, -1.25913584e-02,\n",
       "          2.21525758e-02,  1.04662170e-02,  7.12844282e-04, -3.25048392e-02,\n",
       "          9.73143071e-03,  7.18842179e-03,  8.18129094e-03, -1.63184924e-03,\n",
       "         -4.18171021e-04, -1.52794015e-02,  1.23476242e-02, -6.59675621e-03,\n",
       "         -3.57016004e-02, -6.96178550e-02, -2.93289575e-02, -1.39942523e-02,\n",
       "         -1.48284966e-02, -1.00971953e-02, -2.00388556e-02, -2.36893617e-02,\n",
       "         -5.24420323e-03, -3.58031740e-03]), explainer='Integrated Gradient', target=10), evaluation_scores=[Evaluation(name='aopc_compr', score=0.63637555), Evaluation(name='aopc_suff', score=0.84369975), Evaluation(name='taucorr_loo', score=0.1076923076923077)])]}"
      ]
     },
     "execution_count": 86,
     "metadata": {},
     "output_type": "execute_result"
    }
   ],
   "source": [
    "eva_ig"
   ]
  },
  {
   "cell_type": "code",
   "execution_count": 71,
   "id": "8e9bfdb5-62f3-496f-a926-af8c11a2da66",
   "metadata": {},
   "outputs": [
    {
     "data": {
      "text/plain": [
       "[('Anrede', 11),\n",
       " ('Diagnosen', 10),\n",
       " ('AllergienUnverträglichkeitenRisiken', 13),\n",
       " ('Anamnese', 14),\n",
       " ('Medikation', 10),\n",
       " ('KUBefunde', 11),\n",
       " ('Befunde', 12),\n",
       " ('EchoBefunde', 17),\n",
       " ('Zusammenfassung', 13),\n",
       " ('Mix', 21),\n",
       " ('Abschluss', 16)]"
      ]
     },
     "execution_count": 71,
     "metadata": {},
     "output_type": "execute_result"
    }
   ],
   "source": [
    "with open(\"data.p\", \"rb\") as f:\n",
    "    data = pickle.load(f)\n",
    "    \n",
    "[(k, len(v)) for k,v in data.items()]"
   ]
  },
  {
   "cell_type": "code",
   "execution_count": 72,
   "id": "37755405-81e9-4d17-aafc-6c53da19daa3",
   "metadata": {},
   "outputs": [],
   "source": [
    "with open(\"ig.p\", \"rb\") as f:\n",
    "    ig = pickle.load(f)\n",
    "    \n",
    "with open(\"shap.p\", \"rb\") as f:\n",
    "    shap = pickle.load(f)\n",
    "    \n",
    "with open(\"eva_ig.p\", \"rb\") as f:\n",
    "    eva_ig = pickle.load(f)\n",
    "    \n",
    "with open(\"eva_shap.p\", \"rb\") as f:\n",
    "    eva_shap = pickle.load(f)"
   ]
  },
  {
   "cell_type": "code",
   "execution_count": 74,
   "id": "89645122-449a-4b3e-952d-a74500076a40",
   "metadata": {
    "collapsed": true,
    "jupyter": {
     "outputs_hidden": true
    },
    "tags": []
   },
   "outputs": [
    {
     "name": "stdout",
     "output_type": "stream",
     "text": [
      "Label                                  IG-Compr(sorted)    IG-Suff\n",
      "-----------------------------------  ------------------  ---------\n",
      "Mix                                           0.643553    0.803807\n",
      "Anrede                                        0.400537    0.713118\n",
      "AllergienUnverträglichkeitenRisiken           0.313543    0.597452\n",
      "Diagnosen                                     0.307299    0.661008\n",
      "Abschluss                                     0.302274    0.450975\n",
      "KUBefunde                                     0.301458    0.771444\n",
      "EchoBefunde                                   0.254583    0.369241\n",
      "Befunde                                       0.201851    0.405442\n",
      "Zusammenfassung                               0.143771    0.436389\n",
      "Medikation                                    0.130202    0.432135\n",
      "Anamnese                                      0.0203175   0.462282\n",
      "\n",
      "\n",
      "Label                                  IG-Compr    IG-Suff(sorted)\n",
      "-----------------------------------  ----------  -----------------\n",
      "Mix                                   0.643553            0.803807\n",
      "KUBefunde                             0.301458            0.771444\n",
      "Anrede                                0.400537            0.713118\n",
      "Diagnosen                             0.307299            0.661008\n",
      "AllergienUnverträglichkeitenRisiken   0.313543            0.597452\n",
      "Anamnese                              0.0203175           0.462282\n",
      "Abschluss                             0.302274            0.450975\n",
      "Zusammenfassung                       0.143771            0.436389\n",
      "Medikation                            0.130202            0.432135\n",
      "Befunde                               0.201851            0.405442\n",
      "EchoBefunde                           0.254583            0.369241\n"
     ]
    }
   ],
   "source": [
    "table = [[l, mean([e.score for eva in eva_ig[l] for e in eva.evaluation_scores if e.name==\"aopc_compr\"]), mean([e.score for eva in eva_ig[l] for e in eva.evaluation_scores if e.name==\"aopc_suff\"])] for l in labels]\n",
    "# Sort by Comprehensiveness\n",
    "table1 = sorted(table, key= lambda x:x[1], reverse=True)\n",
    "table1.insert(0, [\"Label\", \"IG-Compr(sorted)\", \"IG-Suff\"])\n",
    "\n",
    "print(tabulate(table1, headers=\"firstrow\"))\n",
    "print(\"\\n\")\n",
    "table2 = sorted(table, key= lambda x:x[2], reverse=True)\n",
    "table2.insert(0, [\"Label\", \"IG-Compr\", \"IG-Suff(sorted)\"])\n",
    "\n",
    "print(tabulate(table2, headers=\"firstrow\"))"
   ]
  },
  {
   "cell_type": "code",
   "execution_count": 76,
   "id": "9d76893b-cd29-4866-a8d3-c38f0db69e4c",
   "metadata": {
    "tags": []
   },
   "outputs": [
    {
     "name": "stdout",
     "output_type": "stream",
     "text": [
      "Anrede [0, 1, 2, 3, 4, 5, 6, 7, 8, 9] [10]\n",
      "Diagnosen [0, 1, 2, 3, 4, 5, 6, 7, 8, 9] []\n",
      "AllergienUnverträglichkeitenRisiken [0, 1, 2, 3, 4, 5, 6, 7, 8, 9] [10, 11, 12]\n",
      "Anamnese [0, 1, 2, 3, 4, 6, 9, 10, 11, 12] [5, 7, 8, 13]\n",
      "Medikation [0, 1, 2, 3, 4, 5, 6, 7, 8, 9] []\n",
      "KUBefunde [0, 1, 2, 3, 5, 6, 7, 8, 9, 10] [4]\n",
      "Befunde [0, 1, 2, 3, 4, 5, 6, 8, 9, 10] [7, 11]\n",
      "EchoBefunde [0, 1, 2, 3, 4, 5, 6, 7, 8, 9] [10, 11, 12, 13, 14, 15, 16]\n",
      "Zusammenfassung [0, 1, 2, 3, 4, 6, 7, 8, 9, 10] [5, 11, 12]\n",
      "Mix [1, 2, 3, 4, 5, 6, 7, 8, 9, 10] [0, 11, 12, 13, 14, 15, 16, 17, 18, 19, 20]\n",
      "Abschluss [0, 2, 3, 4, 5, 6, 7, 8, 9, 11] [1, 10, 12, 13, 14, 15]\n"
     ]
    },
    {
     "name": "stderr",
     "output_type": "stream",
     "text": [
      "Mean of empty slice\n",
      "Mean of empty slice\n",
      "Mean of empty slice\n",
      "Mean of empty slice\n"
     ]
    }
   ],
   "source": [
    "compr, suff = {l: None for l in [\"Anrede\"]}, {l: None for l in [\"Anrede\"]}\n",
    "\n",
    "for l in labels:\n",
    "    right = [data[l].index(d) for d in data[l] if d[0] == l]\n",
    "    wrong = [data[l].index(d) for d in data[l] if d[0] != l]\n",
    "    print(l, right, wrong)\n",
    "    compr_ig = [e.score for eva in eva_ig[l] for e in eva.evaluation_scores if e.name==\"aopc_compr\"]\n",
    "    compr_shap = [e.score for eva in eva_shap[l] for e in eva.evaluation_scores if e.name==\"aopc_compr\"]\n",
    "    \n",
    "    suff_ig = [e.score for eva in eva_ig[l] for e in eva.evaluation_scores if e.name==\"aopc_suff\"]\n",
    "    suff_shap = [e.score for eva in eva_shap[l] for e in eva.evaluation_scores if e.name==\"aopc_suff\"]\n",
    "    \n",
    "    compr[l] = {\"IG\": (np.nanmean([e for e in compr_ig if compr_ig.index(e) in right]), np.nanmean([e for e in compr_ig if compr_ig.index(e) in wrong])), \n",
    "                \"SHAP\":(np.nanmean([e for e in compr_shap if compr_shap.index(e) in right]), np.nanmean([e for e in compr_shap if compr_shap.index(e) in wrong]))}\n",
    "    suff[l] = {\"IG\": (np.nanmean([e for e in suff_ig if suff_ig.index(e) in right]), np.nanmean([e for e in suff_ig if suff_ig.index(e) in wrong])), \n",
    "                \"SHAP\":(np.nanmean([e for e in suff_shap if suff_shap.index(e) in right]), np.nanmean([e for e in suff_shap if suff_shap.index(e) in wrong]))}"
   ]
  },
  {
   "cell_type": "code",
   "execution_count": 79,
   "id": "6ae4569a-9b8c-4b0b-8ec8-d1955435335a",
   "metadata": {},
   "outputs": [],
   "source": [
    "s = [(str(tup[0]), str(tup[1])) for k,v in compr.items() for tup in v.values()]\n",
    "iter_s = iter(s)\n",
    "string_compr = {l:{metr:next(iter_s) for metr in [\"IG\", \"SHAP\"]} for l in compr.keys()}\n",
    "\n",
    "with open(\"ferret-compr-data.json\", \"w\") as f:\n",
    "    json.dump(string_compr, f)\n",
    "\n",
    "s = [(str(tup[0]), str(tup[1])) for k,v in suff.items() for tup in v.values()]\n",
    "iter_s = iter(s)\n",
    "string_suff = {l:{metr:next(iter_s) for metr in [\"IG\", \"SHAP\"]} for l in suff.keys()}\n",
    "              \n",
    "with open(\"ferret-suff-data.json\", \"w\") as f1:\n",
    "    json.dump(string_suff, f1)"
   ]
  },
  {
   "cell_type": "markdown",
   "id": "4bdc7105-3468-4a87-8f43-acf5dbad3259",
   "metadata": {
    "tags": []
   },
   "source": [
    "# Which of the interpretability methods is more faithful ?"
   ]
  },
  {
   "cell_type": "markdown",
   "id": "e80bb251-3cc7-4848-9204-79e690fa2fc7",
   "metadata": {},
   "source": [
    "**Approach:**\n",
    "1. Calculate for IG & SHAP each Comprehensiveness & Sufficiency\n",
    "    1. Which of them performs better in each ?\n",
    "        1. Reasons?\n",
    "    2. Which labels are conspicious for scoring high/low or \n",
    "        1. Metric specific tendencies ?\n",
    "        2. Data Bias ?\n",
    "    3. Finally IG or SHAP \"better\" overall ?\n",
    "        1. Pros/Cons of approach with Faithfulness metric"
   ]
  },
  {
   "cell_type": "markdown",
   "id": "d3b251bf-3e57-4bd1-8142-03ad059f6f5c",
   "metadata": {},
   "source": [
    "## **1. Comprehensiveness**\n",
    "$f(x)_j-f(x\\text\\r_j)_j$ → Score difference once most important tokens are removed.   \n",
    "**Higher scores better: Exclusion of top 10-100% most important tokens does harm prediction.**\n",
    "We expect performance on sentence to suddenly drop once 10% significant tokens removed."
   ]
  },
  {
   "cell_type": "markdown",
   "id": "3d3bc2c0-07fb-4512-a63c-b051c42483dd",
   "metadata": {},
   "source": [
    "### 1.1. SHAP"
   ]
  },
  {
   "cell_type": "code",
   "execution_count": 80,
   "id": "3c10f582-b5a2-4431-9f2f-450f16cefb86",
   "metadata": {},
   "outputs": [
    {
     "name": "stdout",
     "output_type": "stream",
     "text": [
      "Label                                Comprehensiveness mean scores\n",
      "-----------------------------------  -------------------------------\n",
      "Anrede                               [[1.0, nan]]\n",
      "AllergienUnverträglichkeitenRisiken  [[0.85, nan]]\n",
      "Mix                                  [[0.85, 0.99]]\n",
      "Zusammenfassung                      [[0.82, 0.12]]\n",
      "KUBefunde                            [[0.76, 0.93]]\n",
      "Diagnosen                            [[0.75, nan]]\n",
      "EchoBefunde                          [[0.66, nan]]\n",
      "Anamnese                             [[0.65, 0.62]]\n",
      "Befunde                              [[0.65, 0.79]]\n",
      "Medikation                           [[0.64, nan]]\n",
      "Abschluss                            [[0.58, 0.86]]\n"
     ]
    }
   ],
   "source": [
    "table = [(l, [[round(s, 2) for s in v] for k, v in compr[l].items() if k == \"SHAP\"]) for l in labels]\n",
    "table = sorted(table, key = lambda x: x[1][0][0], reverse = True)\n",
    "table.insert(0, [\"Label\", \"Comprehensiveness mean scores\"])\n",
    "\n",
    "print(tabulate(table, headers=\"firstrow\"))"
   ]
  },
  {
   "cell_type": "markdown",
   "id": "1e828783-a7b6-475e-aef2-bfedda3b9faa",
   "metadata": {},
   "source": [
    "#### SHAP - Best Label: Anrede"
   ]
  },
  {
   "cell_type": "code",
   "execution_count": 81,
   "id": "600ebe36-7324-4a3e-a4c2-1b351f696130",
   "metadata": {
    "scrolled": true,
    "tags": []
   },
   "outputs": [
    {
     "data": {
      "text/plain": [
       "(20,\n",
       " [('über Ihren Patienten B-SALUTE B-PER I-PER geboren am <[Pseudo] 30/05/2007> wohnhaft in B-PLZ B-LOC I-ADDR I-ADDR der sich vom bis in unserer stationären Behandlung befand.',\n",
       "   Evaluation(name='aopc_compr', score=0.99837464)),\n",
       "  ('über Ihre Patientin B-SALUTE B-PER I-PER geboren am <[Pseudo] 18/06/1960> wh. B-PLZ B-LOC B-ADDR I-ADDR I-ADDR die sich vom bis in unserer stationären Behandlung befand.',\n",
       "   Evaluation(name='aopc_compr', score=0.99882317)),\n",
       "  ('über Ihre Patientin B-SALUTE B-PER I-PER geboren am <[Pseudo] 24/06/1978> wohnhaft in B-PLZ B-LOC I-ADDR I-ADDR die sich vom bis in unserer stationären Behandlung befand.',\n",
       "   Evaluation(name='aopc_compr', score=0.99600077)),\n",
       "  ('über Ihre Patientin B-SALUTE B-PER I-PER geboren am <[Pseudo] 15/09/1990> wh. B-PLZ B-LOC I-ADDR I-ADDR die sich am in unserer Ambulanz vorstellte.',\n",
       "   Evaluation(name='aopc_compr', score=0.9971536)),\n",
       "  ('über Ihren Patienten B-SALUTE B-PER I-PER geboren am <[Pseudo] 17/06/1986> wh. B-PLZ B-LOC B-ADDR I-ADDR I-ADDR der sich am in unserer Ambulanz vorstellte.',\n",
       "   Evaluation(name='aopc_compr', score=0.99563754)),\n",
       "  ('über Ihre Patientin B-SALUTE B-PER I-PER geboren am <[Pseudo] 05/10/1968> wohnhaft in B-PLZ B-LOC I-ADDR I-ADDR die sich vom bis in unserer stationären Behandlung befand.',\n",
       "   Evaluation(name='aopc_compr', score=0.99606574)),\n",
       "  ('über Ihre Patientin B-SALUTE B-PER I-PER geboren am <[Pseudo] 11/11/1972> wh. B-PLZ B-LOC I-LOC I-ADDR die sich am in unserer Ambulanz vorstellte.',\n",
       "   Evaluation(name='aopc_compr', score=0.99677455)),\n",
       "  ('über Ihre Patientin B-SALUTE B-PER I-PER geboren am <[Pseudo] 23/05/1987> wh. B-PLZ B-LOC I-ADDR I-ADDR die sich am in unserer Ambulanz vorstellte.',\n",
       "   Evaluation(name='aopc_compr', score=0.99743474)),\n",
       "  ('über Ihren Patienten B-SALUTE B-PER I-PER geboren am <[Pseudo] 27/05/1977> wohnhaft in B-PLZ B-LOC B-ADDR I-ADDR der sich vom bis in unserer stationären Behandlung befand.',\n",
       "   Evaluation(name='aopc_compr', score=0.9978387)),\n",
       "  ('über Ihren Patienten B-SALUTE B-PER I-PER geboren am <[Pseudo] 24/06/1977> wohnhaft in B-PLZ B-LOC I-ADDR I-ADDR der sich vom bis in unserer stationären Behandlung befand.',\n",
       "   Evaluation(name='aopc_compr', score=0.99615836)),\n",
       "  ('über Ihren Patienten B-SALUTE B-PER I-PER geboren am <[Pseudo] 30/05/2007> wohnhaft in B-PLZ B-LOC I-ADDR I-ADDR der sich vom bis in unserer stationären Behandlung befand.',\n",
       "   Evaluation(name='aopc_compr', score=0.99837464)),\n",
       "  ('über Ihre Patientin B-SALUTE B-PER I-PER geboren am <[Pseudo] 18/06/1960> wh. B-PLZ B-LOC B-ADDR I-ADDR I-ADDR die sich vom bis in unserer stationären Behandlung befand.',\n",
       "   Evaluation(name='aopc_compr', score=0.99882317)),\n",
       "  ('über Ihre Patientin B-SALUTE B-PER I-PER geboren am <[Pseudo] 24/06/1978> wohnhaft in B-PLZ B-LOC I-ADDR I-ADDR die sich vom bis in unserer stationären Behandlung befand.',\n",
       "   Evaluation(name='aopc_compr', score=0.99600077)),\n",
       "  ('über Ihre Patientin B-SALUTE B-PER I-PER geboren am <[Pseudo] 15/09/1990> wh. B-PLZ B-LOC I-ADDR I-ADDR die sich am in unserer Ambulanz vorstellte.',\n",
       "   Evaluation(name='aopc_compr', score=0.9971536)),\n",
       "  ('über Ihren Patienten B-SALUTE B-PER I-PER geboren am <[Pseudo] 17/06/1986> wh. B-PLZ B-LOC B-ADDR I-ADDR I-ADDR der sich am in unserer Ambulanz vorstellte.',\n",
       "   Evaluation(name='aopc_compr', score=0.99563754)),\n",
       "  ('über Ihre Patientin B-SALUTE B-PER I-PER geboren am <[Pseudo] 05/10/1968> wohnhaft in B-PLZ B-LOC I-ADDR I-ADDR die sich vom bis in unserer stationären Behandlung befand.',\n",
       "   Evaluation(name='aopc_compr', score=0.99606574)),\n",
       "  ('über Ihre Patientin B-SALUTE B-PER I-PER geboren am <[Pseudo] 11/11/1972> wh. B-PLZ B-LOC I-LOC I-ADDR die sich am in unserer Ambulanz vorstellte.',\n",
       "   Evaluation(name='aopc_compr', score=0.99677455)),\n",
       "  ('über Ihre Patientin B-SALUTE B-PER I-PER geboren am <[Pseudo] 23/05/1987> wh. B-PLZ B-LOC I-ADDR I-ADDR die sich am in unserer Ambulanz vorstellte.',\n",
       "   Evaluation(name='aopc_compr', score=0.99743474)),\n",
       "  ('über Ihren Patienten B-SALUTE B-PER I-PER geboren am <[Pseudo] 27/05/1977> wohnhaft in B-PLZ B-LOC B-ADDR I-ADDR der sich vom bis in unserer stationären Behandlung befand.',\n",
       "   Evaluation(name='aopc_compr', score=0.9978387)),\n",
       "  ('über Ihren Patienten B-SALUTE B-PER I-PER geboren am <[Pseudo] 24/06/1977> wohnhaft in B-PLZ B-LOC I-ADDR I-ADDR der sich vom bis in unserer stationären Behandlung befand.',\n",
       "   Evaluation(name='aopc_compr', score=0.99615836))])"
      ]
     },
     "execution_count": 81,
     "metadata": {},
     "output_type": "execute_result"
    }
   ],
   "source": [
    "len(eva_shap[\"Anrede\"]), [(eva.explanation.text, eva.evaluation_scores[0]) for eva in eva_shap[\"Anrede\"]]"
   ]
  },
  {
   "cell_type": "markdown",
   "id": "6d4e5b26-45af-4db2-904c-d966dcbf6794",
   "metadata": {},
   "source": [
    "### 1.1.1. Manual Comprehensiveness Scores"
   ]
  },
  {
   "cell_type": "markdown",
   "id": "2930c4fb-7122-483a-94b6-f22dbf07a4ec",
   "metadata": {},
   "source": [
    "**1. MASK TOKENS**"
   ]
  },
  {
   "cell_type": "code",
   "execution_count": 46,
   "id": "cc0a7816-c5e3-4438-9839-a753cf947c7e",
   "metadata": {
    "scrolled": true,
    "tags": []
   },
   "outputs": [
    {
     "data": {
      "application/vnd.jupyter.widget-view+json": {
       "model_id": "",
       "version_major": 2,
       "version_minor": 0
      },
      "text/plain": [
       "Explainer:   0%|          | 0/6 [00:00<?, ?it/s]"
      ]
     },
     "metadata": {},
     "output_type": "display_data"
    },
    {
     "name": "stdout",
     "output_type": "stream",
     "text": [
      "! Prediction swayed by removal of negative contributing tokens to label:  Anrede\n",
      "Original sentence: über Ihren Patienten B-SALUTE B-PER I-PER geboren am <[Pseudo] 24/06/1977> wohnhaft in B-PLZ B-LOC I-ADDR I-ADDR der sich vom bis in unserer stationären Behandlung befand. \tScore: 1.0\n",
      "Filtered: ['über', 'Ihren', 'Patienten', '[MASK]', '[MASK]', '[MASK]', '[MASK]', '[MASK]', '[MASK]', '##E', '[MASK]', '[MASK]', '[MASK]', '[MASK]', '[MASK]', '[MASK]', '[MASK]', '[MASK]', 'geboren', 'am', '<', '[', '[MASK]', '[MASK]', ']', '24', '/', '06', '/', '[MASK]', '[MASK]', 'wohn', '##haft', 'in', 'B', '-', 'P', '##L', '##Z', 'B', '-', 'L', '##OC', 'I', '-', '[MASK]', '[MASK]', '##DR', 'I', '-', 'A', '##D', '##DR', 'der', 'sich', '[MASK]', '[MASK]', 'in', 'unserer', 'stationären', 'Behandlung', 'befand', '.']\n",
      "\n",
      "6 important token(s) removed: [PAD] [PAD] [PAD] B - SALUTE B - PER I - PER geboren am < [ Pseudo ] 24 / 06 / 1977 > [PAD]haft in B - PLZ B - LOC I - ADDR I - ADDR der sich vom bis in [PAD] stationären Behandlung [PAD]. \t affects original sentence score: 1.0 | Labeled: Diagnosen\n",
      "13 important token(s) removed: [PAD] [PAD] [PAD] B - SALUTE B - PER I - PER [PAD] am < [ Pseudo ] 24 / 06 / 1977 > [PAD] [PAD] in B - [PAD] [PAD]Z B - LOC I - ADDR I - ADDR der sich vom bis [PAD] [PAD] [PAD] Behandlung [PAD]. \t affects original sentence score: 1.0 | Labeled: Befunde\n",
      "19 important token(s) removed: [PAD] [PAD] [PAD] B - SALUTE B - PER I - PER [PAD] [PAD] < [ Pseudo ] [PAD] / [PAD] / 1977 > [PAD] [PAD] in B - [PAD] [PAD]Z B - LOC I - ADDR I - ADDR der sich vom bis [PAD] [PAD] [PAD] Behandlung [PAD] [PAD] \t affects original sentence score: 1.0 | Labeled: Befunde\n",
      "25 important token(s) removed: [PAD] [PAD] [PAD] B - SALUTE B - PER I - PER [PAD] [PAD] [PAD] [ Pseudo ] [PAD] / [PAD] / 1977 > [PAD] [PAD] in B - [PAD] [PAD]Z [PAD] - LOC [PAD] - ADDR I - ADDR der sich vom bis [PAD] [PAD] [PAD] Behandlung [PAD] [PAD] \t affects original sentence score: 1.0 | Labeled: Befunde\n",
      "32 important token(s) removed: [PAD] [PAD] [PAD] B - SALUT [PAD] B - PER I - PER [PAD] [PAD] [PAD] [ Pseudo ] [PAD] / [PAD] / 1977 > [PAD] [PAD] in B - [PAD] [PAD]Z [PAD] - [PAD]OC [PAD] - ADDR [PAD] - [PAD]DDR der sich vom bis [PAD] [PAD] [PAD] Behandlung [PAD] [PAD] \t affects original sentence score: 1.0 | Labeled: Befunde\n",
      "38 important token(s) removed: [PAD] [PAD] [PAD] B - SALUT [PAD] B - PER I - PER [PAD] [PAD] [PAD] [ Pseudo [PAD] [PAD] / [PAD] / 1977 > [PAD] [PAD] [PAD] B [PAD] [PAD] [PAD]Z [PAD] - [PAD]OC [PAD] - ADDR [PAD] - [PAD]DDR [PAD] sich vom bis [PAD] [PAD] [PAD] Behandlung [PAD] [PAD] \t affects original sentence score: 1.0 | Labeled: Befunde\n",
      "44 important token(s) removed: [PAD] [PAD] [PAD] B - SALUT [PAD] B - PER I - PER [PAD] [PAD] [PAD] [ Pseudo [PAD] [PAD] / [PAD] / 1977 > [PAD] [PAD] [PAD] B [PAD] [PAD] [PAD] [PAD] [PAD] - [PAD]OC [PAD] - AD [PAD] [PAD] - [PAD]DDR [PAD] sich vom bis [PAD] [PAD] [PAD] Behandlung [PAD] [PAD] \t affects original sentence score: 1.0 | Labeled: Befunde\n",
      "50 important token(s) removed: [PAD] [PAD] [PAD] B - SALUT [PAD] B - PER I - PER [PAD] [PAD] [PAD] [ Pseudo [PAD] [PAD] / [PAD] / 1977 > [PAD] [PAD] [PAD] B [PAD] [PAD] [PAD] [PAD] [PAD] - [PAD]OC [PAD] - AD [PAD] [PAD] - [PAD]DDR [PAD] sich vom bis [PAD] [PAD] [PAD] Behandlung [PAD] [PAD] \t affects original sentence score: 1.0 | Labeled: Befunde\n",
      "57 important token(s) removed: [PAD] [PAD] [PAD] B - SALUT [PAD] B - PER I - PER [PAD] [PAD] [PAD] [ Pseudo [PAD] [PAD] / [PAD] / 1977 > [PAD] [PAD] [PAD] B [PAD] [PAD] [PAD] [PAD] [PAD] - [PAD]OC [PAD] - AD [PAD] [PAD] - [PAD]DDR [PAD] sich vom bis [PAD] [PAD] [PAD] Behandlung [PAD] [PAD] \t affects original sentence score: 1.0 | Labeled: Befunde\n",
      "63 important token(s) removed: [PAD] [PAD] [PAD] B - SALUT [PAD] B - PER I - PER [PAD] [PAD] [PAD] [ Pseudo [PAD] [PAD] / [PAD] / 1977 > [PAD] [PAD] [PAD] B [PAD] [PAD] [PAD] [PAD] [PAD] - [PAD]OC [PAD] - AD [PAD] [PAD] - [PAD]DDR [PAD] sich vom bis [PAD] [PAD] [PAD] Behandlung [PAD] [PAD] \t affects original sentence score: 1.0 | Labeled: Befunde\n",
      "\n",
      "Mean of all scores: 1.0\n"
     ]
    }
   ],
   "source": [
    "sent = data[\"Anrede\"][9][1]\n",
    "score = bench.score(sent)\n",
    "target = tag2id[\"Anrede\"]\n",
    "metr = bench.explain(sent, target=target)[0] ### SHAP ###\n",
    "scores = list(metr.scores[1:-1])\n",
    "tokens = [t if scores[i]>=0 else \"[MASK]\" for i, t in enumerate(metr.tokens[1:-1])] \n",
    "try:\n",
    "    assert score[f\"LABEL_{target}\"] <= bench.score(tokenizer.convert_tokens_to_string(list(filter(lambda x:x!=\"[MASK]\", tokens))))[f\"LABEL_{target}\"]\n",
    "except:\n",
    "    print(\"! Prediction swayed by removal of negative contributing tokens to label: \", \n",
    "          id2tag[np.argmax(list(bench.score(tokenizer.convert_tokens_to_string(list(filter(lambda x:x!=\"[MASK]\", tokens)))).values()))])\n",
    "aggr = []\n",
    "\n",
    "print(f\"Original sentence: {sent} \\tScore: {round(score[f'LABEL_{target}'],2)}\\nFiltered: {tokens}\\n\")\n",
    "\n",
    "for i in np.arange(.1, 1.1, .1):\n",
    "    sect = round(len([s for s in scores if i>=0])*i)\n",
    "    sor_scores = np.sort(scores)[::-1][:sect]\n",
    "    sentence = metr.tokens[1:-1]\n",
    "    real_i = [scores.index(s) for s in sor_scores if s>=0]\n",
    "    for x in real_i:\n",
    "        sentence[x] = \"[PAD]\"\n",
    "    sentence = tokenizer.convert_tokens_to_string(sentence)\n",
    "    new = score[f\"LABEL_{target}\"] - bench.score(sentence)[f\"LABEL_{target}\"]\n",
    "    print(f\"{sect} important token(s) removed: {sentence} \\t affects original sentence score: {round(new, 2)} | Labeled: {id2tag[np.argmax(list(bench.score(sentence).values()))]}: {np.argmax(list(bench.score(sentence).values()))}\")\n",
    "    aggr.append(new)\n",
    "\n",
    "print(f\"\\nMean of all scores: {round(mean(set(aggr)),2)}\")"
   ]
  },
  {
   "cell_type": "markdown",
   "id": "9d4ba3a7-73a2-422f-b72f-130d411dcabd",
   "metadata": {},
   "source": [
    "**2. DELETE TOKENS**"
   ]
  },
  {
   "cell_type": "code",
   "execution_count": 52,
   "id": "fe06e21a-181f-414a-a590-94280805a77a",
   "metadata": {
    "tags": []
   },
   "outputs": [
    {
     "data": {
      "application/vnd.jupyter.widget-view+json": {
       "model_id": "",
       "version_major": 2,
       "version_minor": 0
      },
      "text/plain": [
       "Explainer:   0%|          | 0/6 [00:00<?, ?it/s]"
      ]
     },
     "metadata": {},
     "output_type": "display_data"
    },
    {
     "name": "stdout",
     "output_type": "stream",
     "text": [
      "! Prediction swayed by removal of negative contributing tokens to label:  Anrede\n",
      "Original sentence: über Ihren Patienten B-SALUTE B-PER I-PER geboren am <[Pseudo] 24/06/1977> wohnhaft in B-PLZ B-LOC I-ADDR I-ADDR der sich vom bis in unserer stationären Behandlung befand. \tScore: 1.0\n",
      "Filtered: [('über', 0.27475452384179583), ('Ihren', 0.16060104808072384), ('Patienten', 0.09401567297402416), ('[MASK]', -0.009897939223456437), ('[MASK]', -0.005442124873400103), ('[MASK]', -0.03885965041934255), ('[MASK]', -0.02921427960125691), ('[MASK]', -0.014695494473159898), ('[MASK]', -0.008373574658791768), ('##E', 0.0018800988368467642), ('[MASK]', -0.008672825400404373), ('[MASK]', -0.0053829578243635955), ('[MASK]', -0.0038509972398680196), ('[MASK]', -0.006279497524352604), ('[MASK]', -0.004145131768475784), ('[MASK]', -0.004145131768475784), ('[MASK]', -0.001666349809875777), ('[MASK]', -0.003005235104904624), ('geboren', 0.029871898012828368), ('am', 0.00416953717002277), ('<', 0.0031754178194350834), ('[', 0.0031754178194350834), ('[MASK]', -0.003275748819466777), ('[MASK]', -0.0007058410205896268), (']', 0.0004760277834258682), ('24', 0.004963734961832385), ('/', 0.004963734961832385), ('06', 0.007013420293873854), ('/', 0.007013420293873854), ('[MASK]', -0.0074522326406650215), ('[MASK]', -0.0074522326406650215), ('wohn', 0.034199462766043034), ('##haft', 0.019683140346037298), ('in', 0.0006289423962745276), ('B', 0.0006289423962745276), ('-', 0.0005242164589831965), ('P', 0.009196792750422771), ('##L', 0.015311260368135342), ('##Z', 0.00010058664741025162), ('B', 0.0031240490169285903), ('-', 0.0031240490169285903), ('L', 0.0007527562743249395), ('##OC', 0.0007527562743249395), ('I', 0.0029431670399181027), ('-', 0.0029431670399181027), ('[MASK]', -4.97662880654709e-05), ('[MASK]', -4.97662880654709e-05), ('##DR', 0.00020339044577784415), ('I', 0.00102749588620466), ('-', 0.00102749588620466), ('A', 0.0009827634713098108), ('##D', 0.0009827634713098108), ('##DR', 0.0009827634713098108), ('der', 0.00037922113010009336), ('sich', 0.00037922113010009336), ('[MASK]', -0.0002469402322783852), ('[MASK]', -0.0002469402322783852), ('in', 0.0169856316452607), ('unserer', 0.038802730143396545), ('stationären', 0.016694694269900678), ('Behandlung', 0.016694694269900678), ('befand', 0.04413833435352198), ('.', 0.005588779750669297)]\n",
      "\n",
      "4 important token(s) removed: B - SALUTE B - PER I - PER geboren am < [ Pseudo ] 24 / 06 / 1977 > wohnhaft in B - PLZ B - LOC I - ADDR I - ADDR der sich vom bis in unserer stationären Behandlung. \t affects original sentence score: 1.0 | Labeled: Abschluss: 0.9785009026527405\n",
      "8 important token(s) removed: B - SALUTE B - PER I - PER am < [ Pseudo ] 24 / 06 / 1977 > in B - PLZ B - LOC I - ADDR I - ADDR der sich vom bis in stationären Behandlung. \t affects original sentence score: 1.0 | Labeled: Zusammenfassung: 0.39605966210365295\n",
      "12 important token(s) removed: B - SALUTE B - PER I - PER am < [ Pseudo ] 24 / 06 / 1977 > in B - PZ B - LOC I - ADDR I - ADDR der sich vom bis Behandlung. \t affects original sentence score: 1.0 | Labeled: Zusammenfassung: 0.3632349669933319\n",
      "16 important token(s) removed: B - SALUTE B - PER I - PER am < [ Pseudo ] 24 / / 1977 > in B -Z B - LOC I - ADDR I - ADDR der sich vom bis Behandlung \t affects original sentence score: 0.99 | Labeled: Anamnese: 0.3161524534225464\n",
      "20 important token(s) removed: B - SALUTE B - PER I - PER [ Pseudo ] / / 1977 > in B -Z B - LOC I - ADDR I - ADDR der sich vom bis Behandlung \t affects original sentence score: 1.0 | Labeled: Zusammenfassung: 0.5101112723350525\n",
      "25 important token(s) removed: B - SALUTE B - PER I - PER [ Pseudo ] / / 1977 > in B -Z - LOC - ADDR I - ADDR der sich vom bis Behandlung \t affects original sentence score: 1.0 | Labeled: Zusammenfassung: 0.6046846508979797\n",
      "29 important token(s) removed: B - SALUT B - PER I - PER [ Pseudo ] / / 1977 > in B -Z - LOC - ADDR -DDR der sich vom bis Behandlung \t affects original sentence score: 1.0 | Labeled: Zusammenfassung: 0.5652098059654236\n",
      "33 important token(s) removed: B - SALUT B - PER I - PER [ Pseudo ] / / 1977 > in B -Z -OC - ADDR -DDR der sich vom bis Behandlung \t affects original sentence score: 1.0 | Labeled: Zusammenfassung: 0.41559916734695435\n",
      "37 important token(s) removed: B - SALUT B - PER I - PER [ Pseudo / / 1977 > BZ -OC - ADDR -DDR der sich vom bis Behandlung \t affects original sentence score: 1.0 | Labeled: Zusammenfassung: 0.3611210286617279\n",
      "41 important token(s) removed: B - SALUT B - PER I - PER [ Pseudo / / 1977 > B -OC - AD -DDR sich vom bis Behandlung \t affects original sentence score: 1.0 | Labeled: Zusammenfassung: 0.3596136271953583\n",
      "\n",
      "Mean of all scores: 1.0\n"
     ]
    }
   ],
   "source": [
    "sent = data[\"Anrede\"][9][1]\n",
    "score = bench.score(sent)\n",
    "target = tag2id[\"Anrede\"]\n",
    "metr = bench.explain(sent, target=target)[0] ### SHAP ###\n",
    "scores = list(metr.scores[1:-1])\n",
    "tokens = [t if scores[i]>=0 else \"[MASK]\" for i, t in enumerate(metr.tokens[1:-1])] \n",
    "try:\n",
    "    assert score[f\"LABEL_{target}\"] <= bench.score(tokenizer.convert_tokens_to_string(list(filter(lambda x:x!=\"[MASK]\", tokens))))[f\"LABEL_{target}\"]\n",
    "except:\n",
    "    print(\"! Prediction swayed by removal of negative contributing tokens to label: \", \n",
    "          id2tag[np.argmax(list(bench.score(tokenizer.convert_tokens_to_string(list(filter(lambda x:x!=\"[MASK]\", tokens)))).values()))])\n",
    "aggr = []\n",
    "sor_scores = np.sort(scores)[::-1]\n",
    "\n",
    "print(f\"Original sentence: {sent} \\tScore: {round(score[f'LABEL_{target}'],2)}\\nFiltered: {[(t, s) for t, s in zip(tokens, scores)]}\\n\")\n",
    "\n",
    "for i in np.arange(.1, 1.1, .1):\n",
    "    sect = round(len([s for s in scores if s>=0])*i)\n",
    "    sentence = metr.tokens[1:-1]\n",
    "    real_i = [scores.index(s) for s in sor_scores if s>=0][:sect]\n",
    "    for x in real_i:\n",
    "        sentence[x] = \"[MASK]\"\n",
    "    sentence = list(filter(lambda x: x!= \"[MASK]\", sentence))\n",
    "    sentence = tokenizer.convert_tokens_to_string(sentence)\n",
    "    new = score[f\"LABEL_{target}\"] - bench.score(sentence)[f\"LABEL_{target}\"]\n",
    "    print(f\"{sect} important token(s) removed: {sentence} \\t affects original sentence score: {round(new, 2)} | Labeled: {id2tag[np.argmax(list(bench.score(sentence).values()))]}: {np.max(list(bench.score(sentence).values()))}\")\n",
    "    aggr.append(new)\n",
    "\n",
    "print(f\"\\nMean of all scores: {round(mean(set(aggr)),2)}\")"
   ]
  },
  {
   "cell_type": "markdown",
   "id": "7cae6159-dadd-4ed5-ae49-701de8135df7",
   "metadata": {},
   "source": [
    "### Ablation Study:"
   ]
  },
  {
   "cell_type": "code",
   "execution_count": 111,
   "id": "774ec089-46d2-4b0d-959f-89336489bff1",
   "metadata": {
    "tags": []
   },
   "outputs": [
    {
     "data": {
      "application/vnd.jupyter.widget-view+json": {
       "model_id": "",
       "version_major": 2,
       "version_minor": 0
      },
      "text/plain": [
       "Explainer:   0%|          | 0/6 [00:00<?, ?it/s]"
      ]
     },
     "metadata": {},
     "output_type": "display_data"
    },
    {
     "name": "stdout",
     "output_type": "stream",
     "text": [
      "Original sentence: über Ihren Patienten B-SALUTE B-PER I-PER geboren am <[Pseudo] 24/06/1977> wohnhaft in B-PLZ B-LOC I-ADDR I-ADDR der sich vom bis in unserer stationären Behandlung befand. \tScore: 1.0\n",
      "Filtered: [('über', 0.27475452384179583), ('Ihren', 0.16060104808072384), ('Patienten', 0.09401567297402416), ('B', 0.009897939223456437), ('-', 0.005442124873400103), ('SA', 0.03885965041934255), ('##L', 0.02921427960125691), ('##U', 0.014695494473159898), ('##T', 0.008373574658791768), ('##E', 0.0018800988368467642), ('B', 0.008672825400404373), ('-', 0.0053829578243635955), ('P', 0.0038509972398680196), ('##ER', 0.006279497524352604), ('I', 0.004145131768475784), ('-', 0.004145131768475784), ('P', 0.001666349809875777), ('##ER', 0.003005235104904624), ('geboren', 0.029871898012828368), ('am', 0.00416953717002277), ('<', 0.0031754178194350834), ('[', 0.0031754178194350834), ('Pseud', 0.003275748819466777), ('##o', 0.0007058410205896268), (']', 0.0004760277834258682), ('24', 0.004963734961832385), ('/', 0.004963734961832385), ('06', 0.007013420293873854), ('/', 0.007013420293873854), ('1977', 0.0074522326406650215), ('>', 0.0074522326406650215), ('wohn', 0.034199462766043034), ('##haft', 0.019683140346037298), ('in', 0.0006289423962745276), ('B', 0.0006289423962745276), ('-', 0.0005242164589831965), ('P', 0.009196792750422771), ('##L', 0.015311260368135342), ('##Z', 0.00010058664741025162), ('B', 0.0031240490169285903), ('-', 0.0031240490169285903), ('L', 0.0007527562743249395), ('##OC', 0.0007527562743249395), ('I', 0.0029431670399181027), ('-', 0.0029431670399181027), ('A', 4.97662880654709e-05), ('##D', 4.97662880654709e-05), ('##DR', 0.00020339044577784415), ('I', 0.00102749588620466), ('-', 0.00102749588620466), ('A', 0.0009827634713098108), ('##D', 0.0009827634713098108), ('##DR', 0.0009827634713098108), ('der', 0.00037922113010009336), ('sich', 0.00037922113010009336), ('vom', 0.0002469402322783852), ('bis', 0.0002469402322783852), ('in', 0.0169856316452607), ('unserer', 0.038802730143396545), ('stationären', 0.016694694269900678), ('Behandlung', 0.016694694269900678), ('befand', 0.04413833435352198), ('.', 0.005588779750669297)]\n",
      "\n",
      "6 important token(s) removed: B -LUTE B - PER I - PER geboren am < [ Pseudo ] 24 / 06 / 1977 > wohnhaft in B - PLZ B - LOC I - ADDR I - ADDR der sich vom bis in stationären Behandlung. \t affects original sentence score: 0.98 | Labeled: Abschluss: 0.9516164064407349\n",
      "13 important token(s) removed: B -UTE B - PER I - PER am < [ Pseudo ] 24 / 06 / 1977 > in B - PLZ B - LOC I - ADDR I - ADDR der sich vom bis Behandlung. \t affects original sentence score: 1.0 | Labeled: Befunde: 0.5516576766967773\n",
      "19 important token(s) removed: -E - PER I - PER am < [ Pseudo ] 24 / 06 / 1977 > in B -Z B - LOC I - ADDR I - ADDR der sich vom bis Behandlung. \t affects original sentence score: 1.0 | Labeled: Diagnosen: 0.9960998296737671\n",
      "25 important token(s) removed: -E - P I - PER am < [ Pseudo ] 24 / / > in B -Z B - LOC I - ADDR I - ADDR der sich vom bis Behandlung \t affects original sentence score: 1.0 | Labeled: Diagnosen: 0.9960604310035706\n",
      "32 important token(s) removed: ##E P - PER < [ Pseudo ] / / > in B -Z B - LOC I - ADDR I - ADDR der sich vom bis Behandlung \t affects original sentence score: 0.99 | Labeled: Diagnosen: 0.9070185422897339\n",
      "38 important token(s) removed: ##E - PER [o ] / / > in B -Z - LOC I - ADDR I - ADDR der sich vom bis Behandlung \t affects original sentence score: 1.0 | Labeled: Diagnosen: 0.4423059821128845\n",
      "44 important token(s) removed: - [o ] / / > in B -Z - LOC - ADDR - ADDR der sich vom bis Behandlung \t affects original sentence score: 1.0 | Labeled: Diagnosen: 0.8196362853050232\n",
      "50 important token(s) removed: - [o ] / / > in B -Z -OC - ADDR -DDR der sich vom bis Behandlung \t affects original sentence score: 1.0 | Labeled: Diagnosen: 0.8812203407287598\n",
      "57 important token(s) removed: - [ / / > BZ -OC - ADDR -DDR sich vom bis Behandlung \t affects original sentence score: 1.0 | Labeled: Diagnosen: 0.9336786866188049\n",
      "63 important token(s) removed: - [ / / > B -OC -D -DDR sich bis Behandlung \t affects original sentence score: 1.0 | Labeled: Diagnosen: 0.8056617379188538\n",
      "\n",
      "Mean of all scores: 1.0\n"
     ]
    }
   ],
   "source": [
    "sent = data[\"Anrede\"][9][1]\n",
    "score = bench.score(sent)\n",
    "target = tag2id[\"Anrede\"]\n",
    "metr = bench.explain(sent, target=target)[0] ### SHAP ###\n",
    "scores = [abs(i) for i in metr.scores[1:-1]]\n",
    "tokens = [t if scores[i]>=0 else \"[MASK]\" for i, t in enumerate(metr.tokens[1:-1])] \n",
    "try:\n",
    "    assert score[f\"LABEL_{target}\"] <= bench.score(tokenizer.convert_tokens_to_string(list(filter(lambda x:x!=\"[MASK]\", tokens))))[f\"LABEL_{target}\"]\n",
    "except:\n",
    "    print(\"! Prediction swayed by removal of negative contributing tokens to label: \", \n",
    "          id2tag[np.argmax(list(bench.score(tokenizer.convert_tokens_to_string(list(filter(lambda x:x!=\"[MASK]\", tokens)))).values()))])\n",
    "aggr = []\n",
    "sor_scores = np.sort(scores)[::-1]\n",
    "\n",
    "print(f\"Original sentence: {sent} \\tScore: {round(score[f'LABEL_{target}'],2)}\\nFiltered: {[(t, s) for t, s in zip(tokens, scores)]}\\n\")\n",
    "\n",
    "for i in np.arange(.1, 1.1, .1):\n",
    "    sect = round(len([s for s in scores if s>=0])*i)\n",
    "    sentence = metr.tokens[1:-1]\n",
    "    real_i = [scores.index(s) for s in sor_scores if s>=0][:sect]\n",
    "    for x in real_i:\n",
    "        sentence[x] = \"[MASK]\"\n",
    "    sentence = list(filter(lambda x: x!= \"[MASK]\", sentence))\n",
    "    sentence = tokenizer.convert_tokens_to_string(sentence)\n",
    "    new = score[f\"LABEL_{target}\"] - bench.score(sentence)[f\"LABEL_{target}\"]\n",
    "    print(f\"{sect} important token(s) removed: {sentence} \\t affects original sentence score: {round(new, 2)} | Labeled: {id2tag[np.argmax(list(bench.score(sentence).values()))]}: {np.max(list(bench.score(sentence).values()))}\")\n",
    "    aggr.append(new)\n",
    "\n",
    "print(f\"\\nMean of all scores: {round(mean(set(aggr)),2)}\")"
   ]
  },
  {
   "cell_type": "markdown",
   "id": "795b51b1-2443-440a-af50-40cb7da8d489",
   "metadata": {},
   "source": [
    "<span style=\"color:purple\">**! Inclusion of negative tokens doesn't improve score** </span>"
   ]
  },
  {
   "cell_type": "code",
   "execution_count": 54,
   "id": "ce78e1cc-58d9-4a32-8458-a4fd97ec45c3",
   "metadata": {},
   "outputs": [
    {
     "data": {
      "application/vnd.jupyter.widget-view+json": {
       "model_id": "",
       "version_major": 2,
       "version_minor": 0
      },
      "text/plain": [
       "Explainer:   0%|          | 0/6 [00:00<?, ?it/s]"
      ]
     },
     "metadata": {},
     "output_type": "display_data"
    },
    {
     "name": "stdout",
     "output_type": "stream",
     "text": [
      "Original sentence: über Ihren Patienten B-SALUTE B-PER I-PER geboren am <[Pseudo] 24/06/1977> wohnhaft in B-PLZ B-LOC I-ADDR I-ADDR der sich vom bis in unserer stationären Behandlung befand. \tScore: 1.0\n",
      "Filtered: [('über', 0.369749106852487), ('Ihren', 0.044333676676995296), ('[MASK]', -0.053847300736489696), ('[MASK]', -0.01390724980301558), ('[MASK]', -0.02504197542875501), ('[MASK]', -0.006230454071785075), ('##L', 0.03474725857720259), ('[MASK]', -0.001446737193103779), ('[MASK]', -0.01956262710407583), ('[MASK]', -0.02002716702890211), ('[MASK]', -0.008602941745248454), ('-', 0.0007182243532048894), ('P', 0.007569802764822435), ('[MASK]', -0.006974848328793949), ('I', 0.010918429309040334), ('[MASK]', -0.007757608511660943), ('P', 0.0037949314565197635), ('[MASK]', -0.0004361129416289774), ('[MASK]', -0.002481022254526685), ('[MASK]', -0.009243823314008581), ('[MASK]', -0.01804577132305862), ('[MASK]', -0.0048240117095126505), ('[MASK]', -1.7914025358376608e-06), ('[MASK]', -0.0005665321172123848), (']', 0.0024479847857371124), ('[MASK]', -0.0026850957348469114), ('[MASK]', -0.0042019900967504836), ('[MASK]', -0.013741921336601138), ('[MASK]', -0.003308980222986039), ('[MASK]', -0.005682456190084454), ('>', 0.009212489990090375), ('wohn', 0.011424283491610702), ('[MASK]', -0.0070137056486779484), ('[MASK]', -0.0083275547769615), ('B', 0.012345787413720015), ('[MASK]', -0.0031890185614437375), ('P', 0.0025903546970619464), ('[MASK]', -0.008050094281482048), ('##Z', 0.004556000174450186), ('[MASK]', -0.006335487164955692), ('[MASK]', -0.0012935581636029654), ('[MASK]', -0.007428924488868279), ('[MASK]', -0.00546442516508286), ('[MASK]', -0.004503575299823441), ('[MASK]', -0.004994229416967343), ('[MASK]', -0.007238703569449613), ('[MASK]', -0.0009666314742951764), ('[MASK]', -0.0007669253479639437), ('I', 0.003104275136314404), ('-', 0.004876048172463088), ('A', 0.0078063375029746845), ('[MASK]', -0.004279116713528926), ('##DR', 0.008010995865894485), ('der', 0.00827215283536707), ('[MASK]', -0.007691093755204234), ('[MASK]', -0.03906558550185558), ('[MASK]', -0.01439831119691087), ('[MASK]', -0.007339731241143532), ('[MASK]', -0.017521712035741387), ('[MASK]', -0.011847338041908352), ('[MASK]', -0.015151072033679092), ('[MASK]', -0.005779969112668576), ('.', 0.006793233996482584)]\n",
      "\n",
      "2 important token(s) removed: Patienten B - SALUTE B - PER I - PER geboren am < [ Pseudo ] 24 / 06 / 1977 > wohnhaft in B - PLZ B - LOC I - ADDR I - ADDR der sich vom bis in unserer stationären Behandlung befand. \t affects original sentence score: 0.82 | Labeled: Abschluss: 0.7943503260612488\n",
      "4 important token(s) removed: Patienten B - SAUTE B - PER I - PER geboren am < [ Pseudo ] 24 / 06 / 1977 > wohnhaft in - PLZ B - LOC I - ADDR I - ADDR der sich vom bis in unserer stationären Behandlung befand. \t affects original sentence score: 0.63 | Labeled: Abschluss: 0.5967864394187927\n",
      "6 important token(s) removed: Patienten B - SAUTE B - PER - PER geboren am < [ Pseudo ] 24 / 06 / 1977 >haft in - PLZ B - LOC I - ADDR I - ADDR der sich vom bis in unserer stationären Behandlung befand. \t affects original sentence score: 0.33 | Labeled: Anrede: 0.6740382313728333\n",
      "8 important token(s) removed: Patienten B - SAUTE B - PER - PER geboren am < [ Pseudo ] 24 / 06 / 1977haft in - PLZ B - LOC I - ADDR I - ADDR sich vom bis in unserer stationären Behandlung befand. \t affects original sentence score: 0.43 | Labeled: Anrede: 0.5723105072975159\n",
      "10 important token(s) removed: Patienten B - SAUTE B - PER - PER geboren am < [ Pseudo ] 24 / 06 / 1977haft in - PLZ B - LOC I - ADDR I -D sich vom bis in unserer stationären Behandlung befand. \t affects original sentence score: 0.46 | Labeled: Anrede: 0.535589873790741\n",
      "11 important token(s) removed: Patienten B - SAUTE B -ER - PER geboren am < [ Pseudo ] 24 / 06 / 1977haft in - PLZ B - LOC I - ADDR I -D sich vom bis in unserer stationären Behandlung befand. \t affects original sentence score: 0.3 | Labeled: Anrede: 0.7040591835975647\n",
      "13 important token(s) removed: Patienten B - SAUTE B -ER - PER geboren am < [ Pseudo ] 24 / 06 / 1977haft in - PLZ B - LOC I - ADDR ID sich vom bis in unserer stationären Behandlung befand \t affects original sentence score: 0.39 | Labeled: Anrede: 0.6056843400001526\n",
      "15 important token(s) removed: Patienten B - SAUTE B -ER -ER geboren am < [ Pseudo ] 24 / 06 / 1977haft in - PL B - LOC I - ADDR ID sich vom bis in unserer stationären Behandlung befand \t affects original sentence score: 0.56 | Labeled: Anrede: 0.44185730814933777\n",
      "17 important token(s) removed: Patienten B - SAUTE B -ER -ER geboren am < [ Pseudo ] 24 / 06 / 1977haft in -L B - LOC I - ADDRD sich vom bis in unserer stationären Behandlung befand \t affects original sentence score: 0.62 | Labeled: Anrede: 0.3831671178340912\n",
      "19 important token(s) removed: Patienten B - SAUTE BER -ER geboren am < [ Pseudo 24 / 06 / 1977haft in -L B - LOC I - ADDRD sich vom bis in unserer stationären Behandlung befand \t affects original sentence score: 0.54 | Labeled: Anrede: 0.46356451511383057\n",
      "\n",
      "Mean of all scores: 0.51\n"
     ]
    }
   ],
   "source": [
    "sent = \"über Ihren Patienten B-SALUTE B-PER I-PER geboren am <[Pseudo] 24/06/1977> wohnhaft in B-PLZ B-LOC I-ADDR I-ADDR der sich vom bis in unserer stationären Behandlung befand.\"\n",
    "score = bench.score(sent)\n",
    "target = tag2id[\"Anrede\"]\n",
    "metr = bench.explain(sent, target=target)[4] ### IG ###\n",
    "scores = list(metr.scores[1:-1])\n",
    "tokens = [t if scores[i]>=0 else \"[MASK]\" for i, t in enumerate(metr.tokens[1:-1])] \n",
    "try:\n",
    "    assert score[f\"LABEL_{target}\"] <= bench.score(tokenizer.convert_tokens_to_string(list(filter(lambda x:x!=\"[MASK]\", tokens))))[f\"LABEL_{target}\"]\n",
    "except:\n",
    "    print(\"! Prediction swayed by removal of negative contributing tokens to label: \", \n",
    "          id2tag[np.argmax(list(bench.score(tokenizer.convert_tokens_to_string(list(filter(lambda x:x!=\"[MASK]\", tokens)))).values()))])\n",
    "aggr = []\n",
    "\n",
    "print(f\"Original sentence: {sent} \\tScore: {round(score[f'LABEL_{target}'],2)}\\nFiltered: {[(t, s) for t, s in zip(tokens, scores)]}\\n\")\n",
    "\n",
    "for i in np.arange(.1, 1.1, .1):\n",
    "    sect = round(len([s for s in scores if s>=0])*i)\n",
    "    sor_scores = np.sort(scores)[::-1]\n",
    "    sentence = metr.tokens[1:-1]\n",
    "    real_i = [scores.index(s) for s in sor_scores if s>=0][:sect]\n",
    "    for x in real_i:\n",
    "        sentence[x] = \"[MASK]\"\n",
    "    sentence = list(filter(lambda x: x!= \"[MASK]\", sentence))\n",
    "    sentence = tokenizer.convert_tokens_to_string(sentence)\n",
    "    new = score[f\"LABEL_{target}\"] - bench.score(sentence)[f\"LABEL_{target}\"]\n",
    "    print(f\"{sect} important token(s) removed: {sentence} \\t affects original sentence score: {round(new, 2)} | Labeled: {id2tag[np.argmax(list(bench.score(sentence).values()))]}: {np.max(list(bench.score(sentence).values()))}\")\n",
    "    aggr.append(new)\n",
    "\n",
    "print(f\"\\nMean of all scores: {round(mean(set(aggr)),2)}\")"
   ]
  },
  {
   "cell_type": "markdown",
   "id": "5df482b3-cfa1-4483-9b5e-97a3fce8de7a",
   "metadata": {},
   "source": [
    "---"
   ]
  },
  {
   "cell_type": "markdown",
   "id": "cc501ff9-a1ec-4fca-98a3-dc56695cd96c",
   "metadata": {},
   "source": [
    "#### SHAP - Worst Label: Abschluss"
   ]
  },
  {
   "cell_type": "code",
   "execution_count": 38,
   "id": "4350cd2c-ca1d-4c17-a589-6a3c549a6d64",
   "metadata": {
    "scrolled": true,
    "tags": []
   },
   "outputs": [
    {
     "data": {
      "text/plain": [
       "(10,\n",
       " [('Zusätzliche Medikation nach haus- bzw. fachärztlicher Empfehlung.',\n",
       "   Evaluation(name='aopc_compr', score=0.76513034)),\n",
       "  ('I-PER / I.', Evaluation(name='aopc_compr', score=0.8592086)),\n",
       "  ('Vorläufiger Brief!', Evaluation(name='aopc_compr', score=0.88514566)),\n",
       "  ('Dieses Dokument wurde digital erstellt und ist ohne Unterschrift gültig.',\n",
       "   Evaluation(name='aopc_compr', score=0.0122868335)),\n",
       "  ('Wir entließen die kardiorespiratorisch stabile und beschwerdefreie Patientin auf ausdrücklichen Patientenwunsch bereits nach der farbduplexsonographischen Kontrolluntersuchung am <[Pseudo] 29/10/2036> in Ihre geschätzte ambulante Betreuung.',\n",
       "   Evaluation(name='aopc_compr', score=0.58204925)),\n",
       "  ('Wir danken für die Zusammenarbeit und verbleiben',\n",
       "   Evaluation(name='aopc_compr', score=0.28277358)),\n",
       "  ('Assistenzärzte', Evaluation(name='aopc_compr', score=0.34794673)),\n",
       "  ('B-PER B-PER', Evaluation(name='aopc_compr', score=0.8227407)),\n",
       "  ('Wir entließen den kardiorespiratorisch stabilen und beschwerdefreien Patienten am <[Pseudo] 06/07/2040> in Ihre geschätzte ambulante Betreuung.',\n",
       "   Evaluation(name='aopc_compr', score=0.7684839)),\n",
       "  ('Wir entließen die kardiorespiratorisch stabile und beschwerdefreie Patientin am <[Pseudo] 27/09/2032> in Ihre geschätzte ambulante Betreuung.',\n",
       "   Evaluation(name='aopc_compr', score=0.7749947))])"
      ]
     },
     "execution_count": 38,
     "metadata": {},
     "output_type": "execute_result"
    }
   ],
   "source": [
    "len(eva_shap[\"Abschluss\"]), [(eva.explanation.text, eva.evaluation_scores[0]) for eva in eva_shap[\"Abschluss\"]]"
   ]
  },
  {
   "cell_type": "code",
   "execution_count": 69,
   "id": "1fe21ae8-d49e-418c-b065-2a20cc8d6eda",
   "metadata": {},
   "outputs": [
    {
     "data": {
      "application/vnd.jupyter.widget-view+json": {
       "model_id": "",
       "version_major": 2,
       "version_minor": 0
      },
      "text/plain": [
       "Explainer:   0%|          | 0/6 [00:00<?, ?it/s]"
      ]
     },
     "metadata": {},
     "output_type": "display_data"
    },
    {
     "name": "stdout",
     "output_type": "stream",
     "text": [
      "! Prediction swayed by removal of negative contributing tokens to label:  Abschluss\n",
      "Original sentence: I-PER / I. \tScore: 1.0\n",
      "Filtered: [('I', 0.25506598567669786), ('-', 0.028151328163901368), ('P', 0.4423505310834274), ('[MASK]', -0.1508690330826476), ('[MASK]', -0.009240054490267876), ('I', 0.07202195016845155), ('.', 0.04230095412692484)]\n",
      "\n",
      "0 important token(s) removed: I - PER / I. \t affects original sentence score: 0.0 | Labeled: Abschluss\n",
      "1 important token(s) removed: I -ER / I. \t affects original sentence score: 0.3 | Labeled: Abschluss\n",
      "2 important token(s) removed: -ER / I. \t affects original sentence score: 1.0 | Labeled: Befunde\n",
      "2 important token(s) removed: -ER / I. \t affects original sentence score: 1.0 | Labeled: Befunde\n",
      "2 important token(s) removed: -ER / I. \t affects original sentence score: 1.0 | Labeled: Befunde\n",
      "3 important token(s) removed: -ER /. \t affects original sentence score: 1.0 | Labeled: Befunde\n",
      "4 important token(s) removed: -ER / \t affects original sentence score: 1.0 | Labeled: Befunde\n",
      "4 important token(s) removed: -ER / \t affects original sentence score: 1.0 | Labeled: Befunde\n",
      "4 important token(s) removed: -ER / \t affects original sentence score: 1.0 | Labeled: Befunde\n",
      "5 important token(s) removed: ##ER / \t affects original sentence score: 1.0 | Labeled: Befunde\n",
      "\n",
      "Mean of all scores: 0.86\n"
     ]
    }
   ],
   "source": [
    "sent = data[\"Abschluss\"][2][1]\n",
    "target = tag2id[\"Abschluss\"]\n",
    "score = bench.score(sent)\n",
    "metr = bench.explain(sent, target=target)[0] ### SHAP ###\n",
    "scores = list(metr.scores[1:-1])\n",
    "tokens = [t if scores[i]>=0 else \"[MASK]\" for i, t in enumerate(metr.tokens[1:-1])] \n",
    "try:\n",
    "    assert score[f\"LABEL_{target}\"] <= bench.score(tokenizer.convert_tokens_to_string(list(filter(lambda x:x!=\"[MASK]\", tokens))))[f\"LABEL_{target}\"]\n",
    "except:\n",
    "    print(\"! Prediction swayed by removal of negative contributing tokens to label: \", \n",
    "          id2tag[np.argmax(list(bench.score(tokenizer.convert_tokens_to_string(list(filter(lambda x:x!=\"[MASK]\", tokens)))).values()))])\n",
    "aggr = []\n",
    "\n",
    "print(f\"Original sentence: {sent} \\tScore: {round(score[f'LABEL_{target}'],2)}\\nFiltered: {[(t, s) for t, s in zip(tokens, scores)]}\\n\")\n",
    "\n",
    "for i in np.arange(.1, 1.1, .1):\n",
    "    sect = round(len([s for s in scores if s>=0])*i)\n",
    "    sor_scores = np.sort(scores)[::-1][:sect]\n",
    "    sentence = metr.tokens[1:-1]\n",
    "    real_i = [scores.index(s) for s in sor_scores if s>=0]\n",
    "    for x in real_i:\n",
    "        sentence[x] = \"[MASK]\"\n",
    "    sentence = list(filter(lambda x: x!= \"[MASK]\", sentence))\n",
    "    sentence = tokenizer.convert_tokens_to_string(sentence)\n",
    "    new = score[f\"LABEL_{target}\"] - bench.score(sentence)[f\"LABEL_{target}\"]\n",
    "    print(f\"{sect} important token(s) removed: {sentence} \\t affects original sentence score: {round(new, 2)} | Labeled: {id2tag[np.max(list(bench.score(sentence).values()))]}: {np.argmax(list(bench.score(sentence).values()))}\")\n",
    "    if sect >= 1:\n",
    "        aggr.append(new)\n",
    "\n",
    "print(f\"\\nMean of all scores: {round(mean(set(aggr)),2)}\")"
   ]
  },
  {
   "cell_type": "markdown",
   "id": "9f194ed3-f806-4bbb-92ef-7101b75840a6",
   "metadata": {},
   "source": [
    "### Ablation Study:"
   ]
  },
  {
   "cell_type": "code",
   "execution_count": 120,
   "id": "f9d9a452-1bb0-4914-bf32-ce9fdf0f07f4",
   "metadata": {},
   "outputs": [
    {
     "data": {
      "application/vnd.jupyter.widget-view+json": {
       "model_id": "",
       "version_major": 2,
       "version_minor": 0
      },
      "text/plain": [
       "Explainer:   0%|          | 0/6 [00:00<?, ?it/s]"
      ]
     },
     "metadata": {},
     "output_type": "display_data"
    },
    {
     "name": "stdout",
     "output_type": "stream",
     "text": [
      "Original sentence: I-PER / I. \tScore: 1.0\n",
      "Filtered: [('I', 0.25506598567669786), ('-', 0.028151328163901368), ('P', 0.4423505310834274), ('##ER', 0.1508690330826476), ('/', 0.009240054490267876), ('I', 0.07202195016845155), ('.', 0.04230095412692484)]\n",
      "\n",
      "1 important token(s) removed: I -ER / I. \t affects original sentence score: 0.3 | Labeled: Abschluss: 0.6961265206336975\n",
      "1 important token(s) removed: I -ER / I. \t affects original sentence score: 0.3 | Labeled: Abschluss: 0.6961265206336975\n",
      "2 important token(s) removed: -ER / I. \t affects original sentence score: 1.0 | Labeled: Befunde: 0.9329257607460022\n",
      "3 important token(s) removed: - / I. \t affects original sentence score: 0.07 | Labeled: Abschluss: 0.9334296584129333\n",
      "4 important token(s) removed: - /. \t affects original sentence score: 0.17 | Labeled: Abschluss: 0.8323154449462891\n",
      "4 important token(s) removed: - /. \t affects original sentence score: 0.17 | Labeled: Abschluss: 0.8323154449462891\n",
      "5 important token(s) removed: - / \t affects original sentence score: 1.0 | Labeled: Diagnosen: 0.9651421308517456\n",
      "6 important token(s) removed: / \t affects original sentence score: 0.99 | Labeled: Zusammenfassung: 0.7896195650100708\n",
      "6 important token(s) removed: / \t affects original sentence score: 0.99 | Labeled: Zusammenfassung: 0.7896195650100708\n",
      "7 important token(s) removed:  \t affects original sentence score: 0.61 | Labeled: Abschluss: 0.3900226950645447\n",
      "\n",
      "Mean of all scores: 0.59\n"
     ]
    }
   ],
   "source": [
    "sent = data[\"Abschluss\"][2][1]\n",
    "target = tag2id[\"Abschluss\"]\n",
    "score = bench.score(sent)\n",
    "metr = bench.explain(sent, target=target)[0] ### SHAP ###\n",
    "scores = [abs(i) for i in metr.scores[1:-1]]\n",
    "tokens = [t if scores[i]>=0 else \"[MASK]\" for i, t in enumerate(metr.tokens[1:-1])] \n",
    "try:\n",
    "    assert score[f\"LABEL_{target}\"] <= bench.score(tokenizer.convert_tokens_to_string(list(filter(lambda x:x!=\"[MASK]\", tokens))))[f\"LABEL_{target}\"]\n",
    "except:\n",
    "    print(\"! Prediction swayed by removal of negative contributing tokens to label: \", \n",
    "          id2tag[np.argmax(list(bench.score(tokenizer.convert_tokens_to_string(list(filter(lambda x:x!=\"[MASK]\", tokens)))).values()))])\n",
    "aggr = []\n",
    "\n",
    "print(f\"Original sentence: {sent} \\tScore: {round(score[f'LABEL_{target}'],2)}\\nFiltered: {[(t, s) for t, s in zip(tokens, scores)]}\\n\")\n",
    "\n",
    "for i in np.arange(.1, 1.1, .1):\n",
    "    sect = round(len([s for s in scores if s>=0])*i)\n",
    "    sor_scores = np.sort(scores)[::-1][:sect]\n",
    "    sentence = metr.tokens[1:-1]\n",
    "    real_i = [scores.index(s) for s in sor_scores if s>=0]\n",
    "    for x in real_i:\n",
    "        sentence[x] = \"[MASK]\"\n",
    "    sentence = list(filter(lambda x: x!= \"[MASK]\", sentence))\n",
    "    sentence = tokenizer.convert_tokens_to_string(sentence)\n",
    "    new = score[f\"LABEL_{target}\"] - bench.score(sentence)[f\"LABEL_{target}\"]\n",
    "    print(f\"{sect} important token(s) removed: {sentence} \\t affects original sentence score: {round(new, 2)} | Labeled: {id2tag[np.argmax(list(bench.score(sentence).values()))]}: {np.max(list(bench.score(sentence).values()))}\")\n",
    "    if sect >= 1:\n",
    "        aggr.append(new)\n",
    "\n",
    "print(f\"\\nMean of all scores: {round(mean(set(aggr)),2)}\")"
   ]
  },
  {
   "cell_type": "code",
   "execution_count": 119,
   "id": "34ca8d02-0d94-4670-ab17-1674b6d5bdb7",
   "metadata": {},
   "outputs": [
    {
     "data": {
      "text/plain": [
       "{'LABEL_0': 0.00016349625366274267,\n",
       " 'LABEL_1': 0.00289585767313838,\n",
       " 'LABEL_2': 0.001133674057200551,\n",
       " 'LABEL_3': 0.20511578023433685,\n",
       " 'LABEL_4': 0.009475763887166977,\n",
       " 'LABEL_5': 0.0007412787526845932,\n",
       " 'LABEL_6': 0.08826104551553726,\n",
       " 'LABEL_7': 0.011516441591084003,\n",
       " 'LABEL_8': 0.28758105635643005,\n",
       " 'LABEL_9': 0.0030929988715797663,\n",
       " 'LABEL_10': 0.3900226950645447}"
      ]
     },
     "execution_count": 119,
     "metadata": {},
     "output_type": "execute_result"
    }
   ],
   "source": [
    "bench.score(\"\")"
   ]
  },
  {
   "cell_type": "markdown",
   "id": "97985fab-cd16-4737-bb25-6b80e3079136",
   "metadata": {},
   "source": [
    "<span style=\"color:purple\">**! Inclusion of negative tokens had disadvantage: doesn't stray that much away from right prediction, such that correct label in upper half is sometimes predicted** </span>"
   ]
  },
  {
   "cell_type": "code",
   "execution_count": 70,
   "id": "1034f3eb-e58e-480f-8b1a-f90c9f9a5a4d",
   "metadata": {},
   "outputs": [
    {
     "data": {
      "application/vnd.jupyter.widget-view+json": {
       "model_id": "",
       "version_major": 2,
       "version_minor": 0
      },
      "text/plain": [
       "Explainer:   0%|          | 0/6 [00:00<?, ?it/s]"
      ]
     },
     "metadata": {},
     "output_type": "display_data"
    },
    {
     "name": "stdout",
     "output_type": "stream",
     "text": [
      "! Prediction swayed by removal of negative contributing tokens to label:  Abschluss\n",
      "Original sentence: I-PER / I. \tScore: 1.0\n",
      "Filtered: [('[MASK]', -0.051868785885542876), ('[MASK]', -0.03826001713589519), ('P', 0.037529584085046766), ('##ER', 0.5228841551420212), ('[MASK]', -0.020026388897304626), ('I', 0.08666807399219652), ('[MASK]', -0.1685823047547219)]\n",
      "\n",
      "0 important token(s) removed: I - PER / I. \t affects original sentence score: 0.0 | Labeled: Abschluss\n",
      "1 important token(s) removed: I - P / I. \t affects original sentence score: 0.01 | Labeled: Abschluss\n",
      "1 important token(s) removed: I - P / I. \t affects original sentence score: 0.01 | Labeled: Abschluss\n",
      "1 important token(s) removed: I - P / I. \t affects original sentence score: 0.01 | Labeled: Abschluss\n",
      "2 important token(s) removed: I - P /. \t affects original sentence score: 0.04 | Labeled: Abschluss\n",
      "2 important token(s) removed: I - P /. \t affects original sentence score: 0.04 | Labeled: Abschluss\n",
      "2 important token(s) removed: I - P /. \t affects original sentence score: 0.04 | Labeled: Abschluss\n",
      "2 important token(s) removed: I - P /. \t affects original sentence score: 0.04 | Labeled: Abschluss\n",
      "3 important token(s) removed: I - /. \t affects original sentence score: 0.12 | Labeled: Abschluss\n",
      "3 important token(s) removed: I - /. \t affects original sentence score: 0.12 | Labeled: Abschluss\n",
      "\n",
      "Mean of all scores: 0.06\n"
     ]
    }
   ],
   "source": [
    "sent = data[\"Abschluss\"][2][1]\n",
    "target = tag2id[\"Abschluss\"]\n",
    "score = bench.score(sent)\n",
    "metr = bench.explain(sent, target=target)[4] ### IG ###\n",
    "scores = list(metr.scores[1:-1])\n",
    "tokens = [t if scores[i]>=0 else \"[MASK]\" for i, t in enumerate(metr.tokens[1:-1])] \n",
    "try:\n",
    "    assert score[f\"LABEL_{target}\"] <= bench.score(tokenizer.convert_tokens_to_string(list(filter(lambda x:x!=\"[MASK]\", tokens))))[f\"LABEL_{target}\"]\n",
    "except:\n",
    "    print(\"! Prediction swayed by removal of negative contributing tokens to label: \", \n",
    "          id2tag[np.argmax(list(bench.score(tokenizer.convert_tokens_to_string(list(filter(lambda x:x!=\"[MASK]\", tokens)))).values()))])\n",
    "aggr = []\n",
    "\n",
    "print(f\"Original sentence: {sent} \\tScore: {round(score[f'LABEL_{target}'],2)}\\nFiltered: {[(t, s) for t, s in zip(tokens, scores)]}\\n\")\n",
    "\n",
    "for i in np.arange(.1, 1.1, .1):\n",
    "    sect = round(len([s for s in scores if s>=0])*i)\n",
    "    sor_scores = np.sort(scores)[::-1][:sect]\n",
    "    sentence = metr.tokens[1:-1]\n",
    "    real_i = [scores.index(s) for s in sor_scores if s>=0]\n",
    "    for x in real_i:\n",
    "        sentence[x] = \"[MASK]\"\n",
    "    sentence = list(filter(lambda x: x!= \"[MASK]\", sentence))\n",
    "    sentence = tokenizer.convert_tokens_to_string(sentence)\n",
    "    new = score[f\"LABEL_{target}\"] - bench.score(sentence)[f\"LABEL_{target}\"]\n",
    "    print(f\"{sect} important token(s) removed: {sentence} \\t affects original sentence score: {round(new, 2)} | Labeled: {id2tag[np.max(list(bench.score(sentence).values()))]}\")\n",
    "    if sect >= 1:\n",
    "        aggr.append(new)\n",
    "\n",
    "print(f\"\\nMean of all scores: {round(mean(set(aggr)),2)}\")"
   ]
  },
  {
   "cell_type": "markdown",
   "id": "339ece08-e425-459b-a6f6-2fd8608b8c43",
   "metadata": {},
   "source": [
    "### Ablation study"
   ]
  },
  {
   "cell_type": "code",
   "execution_count": 109,
   "id": "682ae422-48d7-449b-9f83-773438659226",
   "metadata": {},
   "outputs": [
    {
     "data": {
      "application/vnd.jupyter.widget-view+json": {
       "model_id": "",
       "version_major": 2,
       "version_minor": 0
      },
      "text/plain": [
       "Explainer:   0%|          | 0/6 [00:00<?, ?it/s]"
      ]
     },
     "metadata": {},
     "output_type": "display_data"
    },
    {
     "name": "stdout",
     "output_type": "stream",
     "text": [
      "Original sentence: I-PER / I. \tScore: 1.0\n",
      "Filtered: [('I', 0.051868785885542876), ('-', 0.03826001713589519), ('P', 0.037529584085046766), ('##ER', 0.5228841551420212), ('/', 0.020026388897304626), ('I', 0.08666807399219652), ('.', 0.1685823047547219)]\n",
      "\n",
      "1 important token(s) removed: I - P / I. \t affects original sentence score: 0.01 | Labeled: Abschluss: 0.9940428137779236\n",
      "1 important token(s) removed: I - P / I. \t affects original sentence score: 0.01 | Labeled: Abschluss: 0.9940428137779236\n",
      "2 important token(s) removed: I - P / I \t affects original sentence score: 0.0 | Labeled: Abschluss: 0.9963114857673645\n",
      "3 important token(s) removed: I - P / \t affects original sentence score: 0.0 | Labeled: Abschluss: 0.997244119644165\n",
      "4 important token(s) removed: - P / \t affects original sentence score: 0.14 | Labeled: Abschluss: 0.8630074858665466\n",
      "4 important token(s) removed: - P / \t affects original sentence score: 0.14 | Labeled: Abschluss: 0.8630074858665466\n",
      "5 important token(s) removed: P / \t affects original sentence score: 0.18 | Labeled: Abschluss: 0.8178097009658813\n",
      "6 important token(s) removed: / \t affects original sentence score: 0.99 | Labeled: Zusammenfassung: 0.7896195650100708\n",
      "6 important token(s) removed: / \t affects original sentence score: 0.99 | Labeled: Zusammenfassung: 0.7896195650100708\n",
      "7 important token(s) removed:  \t affects original sentence score: 0.61 | Labeled: Abschluss: 0.3900226950645447\n",
      "\n",
      "Mean of all scores: 0.28\n"
     ]
    }
   ],
   "source": [
    "sent = data[\"Abschluss\"][2][1]\n",
    "target = tag2id[\"Abschluss\"]\n",
    "score = bench.score(sent)\n",
    "metr = bench.explain(sent, target=target)[4] ### IG ###\n",
    "scores = [abs(i) for i in metr.scores[1:-1]]\n",
    "tokens = [t if scores[i]>=0 else \"[MASK]\" for i, t in enumerate(metr.tokens[1:-1])] \n",
    "try:\n",
    "    assert score[f\"LABEL_{target}\"] <= bench.score(tokenizer.convert_tokens_to_string(list(filter(lambda x:x!=\"[MASK]\", tokens))))[f\"LABEL_{target}\"]\n",
    "except:\n",
    "    print(\"! Prediction swayed by removal of negative contributing tokens to label: \", \n",
    "          id2tag[np.argmax(list(bench.score(tokenizer.convert_tokens_to_string(list(filter(lambda x:x!=\"[MASK]\", tokens)))).values()))])\n",
    "aggr = []\n",
    "\n",
    "print(f\"Original sentence: {sent} \\tScore: {round(score[f'LABEL_{target}'],2)}\\nFiltered: {[(t, s) for t, s in zip(tokens, scores)]}\\n\")\n",
    "\n",
    "for i in np.arange(.1, 1.1, .1):\n",
    "    sect = round(len([s for s in scores if s>=0])*i)\n",
    "    sor_scores = np.sort(scores)[::-1][:sect]\n",
    "    sentence = metr.tokens[1:-1]\n",
    "    real_i = [scores.index(s) for s in sor_scores if s>=0]\n",
    "    for x in real_i:\n",
    "        sentence[x] = \"[MASK]\"\n",
    "    sentence = list(filter(lambda x: x!= \"[MASK]\", sentence))\n",
    "    sentence = tokenizer.convert_tokens_to_string(sentence)\n",
    "    new = score[f\"LABEL_{target}\"] - bench.score(sentence)[f\"LABEL_{target}\"]\n",
    "    print(f\"{sect} important token(s) removed: {sentence} \\t affects original sentence score: {round(new, 2)} | Labeled: {id2tag[np.argmax(list(bench.score(sentence).values()))]}: {np.max(list(bench.score(sentence).values()))}\")\n",
    "    if sect >= 1:\n",
    "        aggr.append(new)\n",
    "\n",
    "print(f\"\\nMean of all scores: {round(mean(set(aggr)),2)}\")"
   ]
  },
  {
   "cell_type": "markdown",
   "id": "d829f490-9bb9-4701-ba22-c6f6f5d78230",
   "metadata": {},
   "source": [
    "**improvement**"
   ]
  },
  {
   "cell_type": "markdown",
   "id": "db416662-d948-4678-8c9b-07df342f37aa",
   "metadata": {},
   "source": [
    "### 1.2. IG"
   ]
  },
  {
   "cell_type": "code",
   "execution_count": 322,
   "id": "1f69b242-a764-4871-adf7-9bbb9e0a1da5",
   "metadata": {},
   "outputs": [
    {
     "name": "stdout",
     "output_type": "stream",
     "text": [
      "Label                                Comprehensiveness mean scores\n",
      "-----------------------------------  -------------------------------\n",
      "Mix                                  [[0.64, -0.06]]\n",
      "Anrede                               [[0.4, 0.01]]\n",
      "Diagnosen                            [[0.31, nan]]\n",
      "AllergienUnverträglichkeitenRisiken  [[0.31, 0.0]]\n",
      "KUBefunde                            [[0.3, -0.0]]\n",
      "Abschluss                            [[0.3, -0.06]]\n",
      "EchoBefunde                          [[0.25, -0.02]]\n",
      "Befunde                              [[0.2, -0.3]]\n",
      "Zusammenfassung                      [[0.14, -0.09]]\n",
      "Medikation                           [[0.13, nan]]\n",
      "Anamnese                             [[0.02, -0.23]]\n"
     ]
    }
   ],
   "source": [
    "table = [(l, [[round(s, 2) for s in v] for k, v in compr[l].items() if k == \"IG\"]) for l in labels]\n",
    "table = sorted(table, key = lambda x: x[1][0][0], reverse = True)\n",
    "table.insert(0, [\"Label\", \"Comprehensiveness mean scores\"])\n",
    "\n",
    "print(tabulate(table, headers=\"firstrow\"))"
   ]
  },
  {
   "cell_type": "code",
   "execution_count": 82,
   "id": "b722a4c6-24f7-47cf-b70c-ee3a756261d3",
   "metadata": {
    "scrolled": true,
    "tags": []
   },
   "outputs": [
    {
     "data": {
      "text/plain": [
       "(10,\n",
       " [(30,\n",
       "   '- Wiedervorstellung zur nächsten Schrittmacherkontrolluntersuchung in unserer ORG am <[Pseudo] 05/11/2037> um 10 Uhr',\n",
       "   Evaluation(name='aopc_compr', score=0.17364438)),\n",
       "  (9,\n",
       "   'Externer Zuweiser: CPU',\n",
       "   Evaluation(name='aopc_compr', score=0.23609951)),\n",
       "  (34,\n",
       "   'Wir empfehlen regelmäßige angiologische Kontrolluntersuchungen in der Praxis des betreuenden B-SALUTE B-TITLE B-PER',\n",
       "   Evaluation(name='aopc_compr', score=0.48343337)),\n",
       "  (8,\n",
       "   '- Kostaufbau nach Ernährungskonsil',\n",
       "   Evaluation(name='aopc_compr', score=0.91242677)),\n",
       "  (7,\n",
       "   '- Übernahme Herzchirurgie',\n",
       "   Evaluation(name='aopc_compr', score=0.6101352)),\n",
       "  (12,\n",
       "   '- Kaliumkontrolle und klinische Kontrolle morgen beim Hausarzt',\n",
       "   Evaluation(name='aopc_compr', score=0.83366996)),\n",
       "  (22,\n",
       "   '- Termin in der kardiologischen Ambulanz am B-DATE, 10:30 Uhr',\n",
       "   Evaluation(name='aopc_compr', score=0.97942823)),\n",
       "  (11,\n",
       "   '- AB weiter, regelmäßige Entzündungswertkontrollen',\n",
       "   Evaluation(name='aopc_compr', score=0.33723667)),\n",
       "  (6,\n",
       "   'Indikationen für stationären Aufenthalt:',\n",
       "   Evaluation(name='aopc_compr', score=0.9221835)),\n",
       "  (35,\n",
       "   '- Bei beschwerdefreiem Verlauf empfehlen wir eine kardiologische Kontrolluntersuchung in 6 Monaten, gerne auch bei einer niedergelassenen B-SALUTE oder Kollegen.',\n",
       "   Evaluation(name='aopc_compr', score=0.9472746))])"
      ]
     },
     "execution_count": 82,
     "metadata": {},
     "output_type": "execute_result"
    }
   ],
   "source": [
    "len(eva_ig[\"Mix\"]), [(len(eva.explanation.tokens[1:-1]), eva.explanation.text, eva.evaluation_scores[0]) for eva in eva_ig[\"Mix\"]]"
   ]
  },
  {
   "cell_type": "markdown",
   "id": "e5599a34-f7bc-4d67-86a1-3fa809f459f1",
   "metadata": {},
   "source": [
    "#### IG - Best Label: Mix"
   ]
  },
  {
   "cell_type": "code",
   "execution_count": 101,
   "id": "cf3f00a6-76ee-4049-8423-d07a23a44a2d",
   "metadata": {},
   "outputs": [
    {
     "data": {
      "application/vnd.jupyter.widget-view+json": {
       "model_id": "",
       "version_major": 2,
       "version_minor": 0
      },
      "text/plain": [
       "Explainer:   0%|          | 0/6 [00:00<?, ?it/s]"
      ]
     },
     "metadata": {},
     "output_type": "display_data"
    },
    {
     "name": "stdout",
     "output_type": "stream",
     "text": [
      "! Prediction swayed by removal of negative contributing tokens to label:  Befunde\n",
      "Original sentence: - Kostaufbau nach Ernährungskonsil \tScore: 0.94\n",
      "Filtered: ['[MASK]', 'Kost', '##aufbau', '[MASK]', 'Ernährung', '##skon', '##s', '##il']\n",
      "\n",
      "1 important token(s) removed: -aufbau nach Ernährungskonsil \t affects original sentence score: 0.94 | Labeled: Befunde: 0.984224796295166\n",
      "1 important token(s) removed: -aufbau nach Ernährungskonsil \t affects original sentence score: 0.94 | Labeled: Befunde: 0.984224796295166\n",
      "2 important token(s) removed: -aufbau nach Ernährungskonil \t affects original sentence score: 0.93 | Labeled: Befunde: 0.9672594666481018\n",
      "2 important token(s) removed: -aufbau nach Ernährungskonil \t affects original sentence score: 0.93 | Labeled: Befunde: 0.9672594666481018\n",
      "3 important token(s) removed: -aufbau nach Ernährungil \t affects original sentence score: 0.94 | Labeled: Befunde: 0.9623121619224548\n",
      "4 important token(s) removed: - nach Ernährungil \t affects original sentence score: 0.93 | Labeled: Befunde: 0.9503203630447388\n",
      "4 important token(s) removed: - nach Ernährungil \t affects original sentence score: 0.93 | Labeled: Befunde: 0.9503203630447388\n",
      "5 important token(s) removed: - nachil \t affects original sentence score: 0.88 | Labeled: Befunde: 0.7724964022636414\n",
      "5 important token(s) removed: - nachil \t affects original sentence score: 0.88 | Labeled: Befunde: 0.7724964022636414\n",
      "6 important token(s) removed: - nach \t affects original sentence score: 0.86 | Labeled: Befunde: 0.80695641040802\n",
      "\n",
      "Mean of all scores: 0.91\n"
     ]
    }
   ],
   "source": [
    "sent = data[\"Mix\"][4][1]\n",
    "score = bench.score(sent)\n",
    "target = tag2id[\"Mix\"]\n",
    "metr = bench.explain(sent, target=target)[4] ### IG ###\n",
    "scores = list(metr.scores[1:-1])\n",
    "tokens = [t if scores[i]>=0 else \"[MASK]\" for i, t in enumerate(metr.tokens[1:-1])] \n",
    "try:\n",
    "    assert score[f\"LABEL_{target}\"] <= bench.score(tokenizer.convert_tokens_to_string(list(filter(lambda x:x!=\"[MASK]\", tokens))))[f\"LABEL_{target}\"]\n",
    "except:\n",
    "    print(\"! Prediction swayed by removal of negative contributing tokens to label: \", \n",
    "          id2tag[np.argmax(list(bench.score(tokenizer.convert_tokens_to_string(list(filter(lambda x:x!=\"[MASK]\", tokens)))).values()))])\n",
    "aggr = []\n",
    "\n",
    "print(f\"Original sentence: {sent} \\tScore: {round(score[f'LABEL_{target}'],2)}\\nFiltered: {tokens}\\n\")\n",
    "\n",
    "for i in np.arange(.1, 1.1, .1):\n",
    "    sect = round(len([s for s in scores if s>=0])*i)\n",
    "    sor_scores = np.sort(scores)[::-1][:sect]\n",
    "    sentence = metr.tokens[1:-1]\n",
    "    real_i = [scores.index(s) for s in sor_scores if s>=0]\n",
    "    for x in real_i:\n",
    "        sentence[x] = \"[MASK]\"\n",
    "    sentence = list(filter(lambda x: x!= \"[MASK]\", sentence))\n",
    "    sentence = tokenizer.convert_tokens_to_string(sentence)\n",
    "    new = score[f\"LABEL_{target}\"] - bench.score(sentence)[f\"LABEL_{target}\"]\n",
    "    print(f\"{sect} important token(s) removed: {sentence} \\t affects original sentence score: {round(new, 2)} | Labeled: {id2tag[np.argmax(list(bench.score(sentence).values()))]}: {np.max(list(bench.score(sentence).values()))}\")\n",
    "    if sect >= 1:\n",
    "        aggr.append(new)\n",
    "\n",
    "print(f\"\\nMean of all scores: {round(mean(set(aggr)),2)}\")"
   ]
  },
  {
   "cell_type": "markdown",
   "id": "c5fcb69e-9222-49d2-b508-fa3df699d50f",
   "metadata": {},
   "source": [
    "### Ablation"
   ]
  },
  {
   "cell_type": "code",
   "execution_count": 121,
   "id": "0d3c715d-6361-4a20-88cf-ca6886e61f22",
   "metadata": {},
   "outputs": [
    {
     "data": {
      "application/vnd.jupyter.widget-view+json": {
       "model_id": "",
       "version_major": 2,
       "version_minor": 0
      },
      "text/plain": [
       "Explainer:   0%|          | 0/6 [00:00<?, ?it/s]"
      ]
     },
     "metadata": {},
     "output_type": "display_data"
    },
    {
     "name": "stdout",
     "output_type": "stream",
     "text": [
      "Original sentence: - Kostaufbau nach Ernährungskonsil \tScore: 0.94\n",
      "Filtered: ['-', 'Kost', '##aufbau', 'nach', 'Ernährung', '##skon', '##s', '##il']\n",
      "\n",
      "1 important token(s) removed: -aufbau nach Ernährungskonsil \t affects original sentence score: 0.94 | Labeled: Befunde: 0.984224796295166\n",
      "2 important token(s) removed: -aufbau nach Ernährungskonil \t affects original sentence score: 0.93 | Labeled: Befunde: 0.9672594666481018\n",
      "2 important token(s) removed: -aufbau nach Ernährungskonil \t affects original sentence score: 0.93 | Labeled: Befunde: 0.9672594666481018\n",
      "3 important token(s) removed: ##aufbau nach Ernährungskonil \t affects original sentence score: 0.93 | Labeled: Befunde: 0.9658105969429016\n",
      "4 important token(s) removed: ##aufbau nach Ernährungil \t affects original sentence score: 0.94 | Labeled: Befunde: 0.959843635559082\n",
      "5 important token(s) removed: ##aufbau Ernährungil \t affects original sentence score: 0.94 | Labeled: Befunde: 0.9578065872192383\n",
      "6 important token(s) removed: Ernährungil \t affects original sentence score: 0.94 | Labeled: Befunde: 0.8708932995796204\n",
      "6 important token(s) removed: Ernährungil \t affects original sentence score: 0.94 | Labeled: Befunde: 0.8708932995796204\n",
      "7 important token(s) removed: ##il \t affects original sentence score: 0.93 | Labeled: Medikation: 0.7163811326026917\n",
      "8 important token(s) removed:  \t affects original sentence score: 0.93 | Labeled: Abschluss: 0.3900226950645447\n",
      "\n",
      "Mean of all scores: 0.93\n"
     ]
    }
   ],
   "source": [
    "sent = data[\"Mix\"][4][1]\n",
    "score = bench.score(sent)\n",
    "target = tag2id[\"Mix\"]\n",
    "metr = bench.explain(sent, target=target)[4] ### IG ###\n",
    "scores = [abs(i) for i in metr.scores[1:-1]]\n",
    "tokens = [t if scores[i]>=0 else \"[MASK]\" for i, t in enumerate(metr.tokens[1:-1])] \n",
    "try:\n",
    "    assert score[f\"LABEL_{target}\"] <= bench.score(tokenizer.convert_tokens_to_string(list(filter(lambda x:x!=\"[MASK]\", tokens))))[f\"LABEL_{target}\"]\n",
    "except:\n",
    "    print(\"! Prediction swayed by removal of negative contributing tokens to label: \", \n",
    "          id2tag[np.argmax(list(bench.score(tokenizer.convert_tokens_to_string(list(filter(lambda x:x!=\"[MASK]\", tokens)))).values()))])\n",
    "aggr = []\n",
    "\n",
    "print(f\"Original sentence: {sent} \\tScore: {round(score[f'LABEL_{target}'],2)}\\nFiltered: {tokens}\\n\")\n",
    "\n",
    "for i in np.arange(.1, 1.1, .1):\n",
    "    sect = round(len([s for s in scores if s>=0])*i)\n",
    "    sor_scores = np.sort(scores)[::-1][:sect]\n",
    "    sentence = metr.tokens[1:-1]\n",
    "    real_i = [scores.index(s) for s in sor_scores if s>=0]\n",
    "    for x in real_i:\n",
    "        sentence[x] = \"[MASK]\"\n",
    "    sentence = list(filter(lambda x: x!= \"[MASK]\", sentence))\n",
    "    sentence = tokenizer.convert_tokens_to_string(sentence)\n",
    "    new = score[f\"LABEL_{target}\"] - bench.score(sentence)[f\"LABEL_{target}\"]\n",
    "    print(f\"{sect} important token(s) removed: {sentence} \\t affects original sentence score: {round(new, 2)} | Labeled: {id2tag[np.argmax(list(bench.score(sentence).values()))]}: {np.max(list(bench.score(sentence).values()))}\")\n",
    "    if sect >= 1:\n",
    "        aggr.append(new)\n",
    "\n",
    "print(f\"\\nMean of all scores: {round(mean(set(aggr)),2)}\")"
   ]
  },
  {
   "cell_type": "markdown",
   "id": "fe59f128-550d-4c05-8c31-bf77e280f9d2",
   "metadata": {},
   "source": [
    "#### IG - Worst Label: Anamnese"
   ]
  },
  {
   "cell_type": "code",
   "execution_count": 328,
   "id": "07ed6a00-62cb-40e1-a3f5-a43f29cf3a67",
   "metadata": {
    "scrolled": true,
    "tags": []
   },
   "outputs": [
    {
     "data": {
      "text/plain": [
       "(14,\n",
       " [(15,\n",
       "   'Bei der Ankunft verneint der Patient Dyspnoe und AP-Beschwerden.',\n",
       "   Evaluation(name='aopc_compr', score=0.001142174)),\n",
       "  (10,\n",
       "   'Er sei gerne zu Formel1-Rennen gegangen.',\n",
       "   Evaluation(name='aopc_compr', score=0.00058760645)),\n",
       "  (22,\n",
       "   'Bislang habe sie sich gegen eine weitere Abklärung gesträubt, da sie im Alltag keine Beschwerden gehabt habe.',\n",
       "   Evaluation(name='aopc_compr', score=0.0029604794)),\n",
       "  (34,\n",
       "   'Inadäquate Belastungsdyspnoe wird nicht beschrieben, jedoch bestünden seit ca. 2 Tagen belastungsinduzierte pectanginöse Beschwerden.',\n",
       "   Evaluation(name='aopc_compr', score=0.00013010502)),\n",
       "  (20,\n",
       "   'Die ambulante Vorstellung erfolgt zur kardiologischen Abklärung bei bekannter arterieller Hypertonie.',\n",
       "   Evaluation(name='aopc_compr', score=-0.0137945535)),\n",
       "  (33,\n",
       "   'Diffuse, von epikardial ausgehende, teilweise transmurale KM-Anreicherung im gesamten LV mit Betonung septal nachweisbar',\n",
       "   Evaluation(name='aopc_compr', score=-0.00070842105)),\n",
       "  (12,\n",
       "   'Der Nachtschlaf sei mit flachem Oberkörper möglich.',\n",
       "   Evaluation(name='aopc_compr', score=0.031868458)),\n",
       "  (4, 'der Punktionsstelle', Evaluation(name='aopc_compr', score=0.02331992)),\n",
       "  (14,\n",
       "   'Beim Pulmologen konnte keine Lungenbeteiligung an den Beschwerden festgestellt werden.',\n",
       "   Evaluation(name='aopc_compr', score=0.037264265)),\n",
       "  (24,\n",
       "   'Die AP-Beschwerden seien einhergehend mit Dyspnoe, Übelkeit, Erbrechen und Schwitzen gewesen.',\n",
       "   Evaluation(name='aopc_compr', score=0.0002539754)),\n",
       "  (5, ', NYHA II', Evaluation(name='aopc_compr', score=0.17407352)),\n",
       "  (18,\n",
       "   'Die häuslichen Blutdruckmessungen seien um ca. 150/70 mmHg.',\n",
       "   Evaluation(name='aopc_compr', score=0.00021754504)),\n",
       "  (24,\n",
       "   'Die Aufnahme des Patienten erfolgte als Selbstvorstellung bei seit 3 Wochen subjektiv persistierendem Vorhofflimmern.',\n",
       "   Evaluation(name='aopc_compr', score=0.005736065)),\n",
       "  (28,\n",
       "   'Die aktuelle Wiedervorstellung erfolgte bei progredienter Dyspnoe und neu aufgetretenem Husten mit weißlichem Auswurf.',\n",
       "   Evaluation(name='aopc_compr', score=-0.97322327))])"
      ]
     },
     "execution_count": 328,
     "metadata": {},
     "output_type": "execute_result"
    }
   ],
   "source": [
    "len(eva_ig[\"Anamnese\"]), [(len(eva.explanation.tokens[1:-1]), eva.explanation.text, eva.evaluation_scores[0]) for eva in eva_ig[\"Anamnese\"]]"
   ]
  },
  {
   "cell_type": "code",
   "execution_count": 127,
   "id": "03fccbf2-bc08-4fe9-9608-da1ef1d797b1",
   "metadata": {},
   "outputs": [
    {
     "data": {
      "application/vnd.jupyter.widget-view+json": {
       "model_id": "",
       "version_major": 2,
       "version_minor": 0
      },
      "text/plain": [
       "Explainer:   0%|          | 0/6 [00:00<?, ?it/s]"
      ]
     },
     "metadata": {},
     "output_type": "display_data"
    },
    {
     "name": "stdout",
     "output_type": "stream",
     "text": [
      "! Prediction swayed by removal of negative contributing tokens to label:  Anamnese\n",
      "Original sentence: Er sei gerne zu Formel1-Rennen gegangen. \tScore: 1.0\n",
      "Filtered: [('[MASK]', -0.10933393885356124), ('[MASK]', -0.34029973576430217), ('gerne', 0.17127102563532673), ('zu', 0.08689371458475474), ('Formel', 0.06380813653177972), ('[MASK]', -0.03776140815005633), ('[MASK]', -0.05917119274571068), ('[MASK]', -0.013922973211541031), ('gegangen', 0.0400934260616394), ('.', 0.04118801767227825)]\n",
      "\n",
      "0 important token(s) removed: Er sei gerne zu Formel1 - Rennen gegangen. \t affects original sentence score: 0.0 | Labeled: Anamnese: 0.9973194003105164\n",
      "1 important token(s) removed: Er sei zu Formel1 - Rennen gegangen. \t affects original sentence score: 0.0 | Labeled: Anamnese: 0.9967516660690308\n",
      "2 important token(s) removed: Er sei Formel1 - Rennen gegangen. \t affects original sentence score: 0.0 | Labeled: Anamnese: 0.9968478083610535\n",
      "2 important token(s) removed: Er sei Formel1 - Rennen gegangen. \t affects original sentence score: 0.0 | Labeled: Anamnese: 0.9968478083610535\n",
      "2 important token(s) removed: Er sei Formel1 - Rennen gegangen. \t affects original sentence score: 0.0 | Labeled: Anamnese: 0.9968478083610535\n",
      "3 important token(s) removed: Er sei1 - Rennen gegangen. \t affects original sentence score: 0.0 | Labeled: Anamnese: 0.9972489476203918\n",
      "4 important token(s) removed: Er sei1 - Rennen gegangen \t affects original sentence score: 0.0 | Labeled: Anamnese: 0.9967142343521118\n",
      "4 important token(s) removed: Er sei1 - Rennen gegangen \t affects original sentence score: 0.0 | Labeled: Anamnese: 0.9967142343521118\n",
      "4 important token(s) removed: Er sei1 - Rennen gegangen \t affects original sentence score: 0.0 | Labeled: Anamnese: 0.9967142343521118\n",
      "5 important token(s) removed: Er sei1 - Rennen \t affects original sentence score: 0.0 | Labeled: Anamnese: 0.9960963129997253\n",
      "\n",
      "Mean of all scores: 0.0\n"
     ]
    }
   ],
   "source": [
    "sent = data[\"Anamnese\"][1][1]\n",
    "score = bench.score(sent)\n",
    "target = tag2id[f\"{data['Anamnese'][1][0]}\"]\n",
    "metr = bench.explain(sent, target=target)[4] ### IG ###\n",
    "scores = list(metr.scores[1:-1])\n",
    "tokens = [t if scores[i]>=0 else \"[MASK]\" for i, t in enumerate(metr.tokens[1:-1])] \n",
    "try:\n",
    "    assert score[f\"LABEL_{target}\"] <= bench.score(tokenizer.convert_tokens_to_string(list(filter(lambda x:x!=\"[MASK]\", tokens))))[f\"LABEL_{target}\"]\n",
    "except:\n",
    "    print(\"! Prediction swayed by removal of negative contributing tokens to label: \", \n",
    "          id2tag[np.argmax(list(bench.score(tokenizer.convert_tokens_to_string(list(filter(lambda x:x!=\"[MASK]\", tokens)))).values()))])\n",
    "aggr = []\n",
    "\n",
    "print(f\"Original sentence: {sent} \\tScore: {round(score[f'LABEL_{target}'],2)}\\nFiltered: {[(t, s) for t, s in zip(tokens, scores)]}\\n\")\n",
    "\n",
    "for i in np.arange(.1, 1.1, .1):\n",
    "    sect = round(len([s for s in scores if s>=0])*i)\n",
    "    sor_scores = np.sort(scores)[::-1][:sect]\n",
    "    sentence = metr.tokens[1:-1]\n",
    "    real_i = [scores.index(s) for s in sor_scores if s>=0]\n",
    "    for x in real_i:\n",
    "        sentence[x] = \"[MASK]\"\n",
    "    sentence = list(filter(lambda x: x!= \"[MASK]\", sentence))\n",
    "    sentence = tokenizer.convert_tokens_to_string(sentence)\n",
    "    new = score[f\"LABEL_{target}\"] - bench.score(sentence)[f\"LABEL_{target}\"]\n",
    "    print(f\"{sect} important token(s) removed: {sentence} \\t affects original sentence score: {round(new, 2)} | Labeled: {id2tag[np.argmax(list(bench.score(sentence).values()))]}: {np.max(list(bench.score(sentence).values()))}\")\n",
    "    if sect >= 1:\n",
    "        aggr.append(new)\n",
    "\n",
    "print(f\"\\nMean of all scores: {round(mean(aggr),2)}\")"
   ]
  },
  {
   "cell_type": "code",
   "execution_count": 128,
   "id": "61e38390-c4bb-400f-8d71-4be1b7b7acbc",
   "metadata": {},
   "outputs": [
    {
     "data": {
      "application/vnd.jupyter.widget-view+json": {
       "model_id": "",
       "version_major": 2,
       "version_minor": 0
      },
      "text/plain": [
       "Explainer:   0%|          | 0/6 [00:00<?, ?it/s]"
      ]
     },
     "metadata": {},
     "output_type": "display_data"
    },
    {
     "name": "stdout",
     "output_type": "stream",
     "text": [
      "Original sentence: Er sei gerne zu Formel1-Rennen gegangen. \tScore: 1.0\n",
      "Filtered: [('Er', 0.10933393885356124), ('sei', 0.34029973576430217), ('gerne', 0.17127102563532673), ('zu', 0.08689371458475474), ('Formel', 0.06380813653177972), ('##1', 0.03776140815005633), ('-', 0.05917119274571068), ('Rennen', 0.013922973211541031), ('gegangen', 0.0400934260616394), ('.', 0.04118801767227825)]\n",
      "\n",
      "1 important token(s) removed: Er gerne zu Formel1 - Rennen gegangen. \t affects original sentence score: 0.0 | Labeled: Anamnese: 0.9931164979934692\n",
      "2 important token(s) removed: Er zu Formel1 - Rennen gegangen. \t affects original sentence score: 0.01 | Labeled: Anamnese: 0.991295576095581\n",
      "3 important token(s) removed: zu Formel1 - Rennen gegangen. \t affects original sentence score: 0.01 | Labeled: Anamnese: 0.987916886806488\n",
      "4 important token(s) removed: Formel1 - Rennen gegangen. \t affects original sentence score: 0.45 | Labeled: Anamnese: 0.546699583530426\n",
      "5 important token(s) removed: ##1 - Rennen gegangen. \t affects original sentence score: 0.47 | Labeled: Anamnese: 0.5225491523742676\n",
      "6 important token(s) removed: ##1 Rennen gegangen. \t affects original sentence score: 0.13 | Labeled: Anamnese: 0.8623828291893005\n",
      "7 important token(s) removed: ##1 Rennen gegangen \t affects original sentence score: 0.84 | Labeled: Befunde: 0.7720754146575928\n",
      "8 important token(s) removed: ##1 Rennen \t affects original sentence score: 0.99 | Labeled: Befunde: 0.9433113932609558\n",
      "9 important token(s) removed: Rennen \t affects original sentence score: 0.86 | Labeled: Zusammenfassung: 0.5880115628242493\n",
      "10 important token(s) removed:  \t affects original sentence score: 0.79 | Labeled: Abschluss: 0.3900226950645447\n",
      "\n",
      "Mean of all scores: 0.46\n"
     ]
    }
   ],
   "source": [
    "sent = data[\"Anamnese\"][1][1]\n",
    "score = bench.score(sent)\n",
    "target = tag2id[f\"{data['Anamnese'][1][0]}\"]\n",
    "metr = bench.explain(sent, target=target)[4] ### IG ###\n",
    "scores = [abs(i) for i in metr.scores[1:-1]]\n",
    "tokens = [t if scores[i]>=0 else \"[MASK]\" for i, t in enumerate(metr.tokens[1:-1])] \n",
    "try:\n",
    "    assert score[f\"LABEL_{target}\"] <= bench.score(tokenizer.convert_tokens_to_string(list(filter(lambda x:x!=\"[MASK]\", tokens))))[f\"LABEL_{target}\"]\n",
    "except:\n",
    "    print(\"! Prediction swayed by removal of negative contributing tokens to label: \", \n",
    "          id2tag[np.argmax(list(bench.score(tokenizer.convert_tokens_to_string(list(filter(lambda x:x!=\"[MASK]\", tokens)))).values()))])\n",
    "aggr = []\n",
    "\n",
    "print(f\"Original sentence: {sent} \\tScore: {round(score[f'LABEL_{target}'],2)}\\nFiltered: {[(t, s) for t, s in zip(tokens, scores)]}\\n\")\n",
    "\n",
    "for i in np.arange(.1, 1.1, .1):\n",
    "    sect = round(len([s for s in scores if s>=0])*i)\n",
    "    sor_scores = np.sort(scores)[::-1][:sect]\n",
    "    sentence = metr.tokens[1:-1]\n",
    "    real_i = [scores.index(s) for s in sor_scores if s>=0]\n",
    "    for x in real_i:\n",
    "        sentence[x] = \"[MASK]\"\n",
    "    sentence = list(filter(lambda x: x!= \"[MASK]\", sentence))\n",
    "    sentence = tokenizer.convert_tokens_to_string(sentence)\n",
    "    new = score[f\"LABEL_{target}\"] - bench.score(sentence)[f\"LABEL_{target}\"]\n",
    "    print(f\"{sect} important token(s) removed: {sentence} \\t affects original sentence score: {round(new, 2)} | Labeled: {id2tag[np.argmax(list(bench.score(sentence).values()))]}: {np.max(list(bench.score(sentence).values()))}\")\n",
    "    if sect >= 1:\n",
    "        aggr.append(new)\n",
    "\n",
    "print(f\"\\nMean of all scores: {round(mean(aggr),2)}\")"
   ]
  },
  {
   "cell_type": "markdown",
   "id": "a6bdbc5c-2902-495b-842e-616454091565",
   "metadata": {},
   "source": [
    "<span style=\"color:purple\">**! Inclusion of negative tokens improves score such that Anamnese loses probability in upper half and flase positives are predicted in lower half** </span>"
   ]
  },
  {
   "cell_type": "code",
   "execution_count": null,
   "id": "f4ee4305-c9a8-4a39-902f-7106d9fdb428",
   "metadata": {},
   "outputs": [],
   "source": []
  }
 ],
 "metadata": {
  "kernelspec": {
   "display_name": "MIEdeep",
   "language": "python",
   "name": "miedeep"
  },
  "language_info": {
   "codemirror_mode": {
    "name": "ipython",
    "version": 3
   },
   "file_extension": ".py",
   "mimetype": "text/x-python",
   "name": "python",
   "nbconvert_exporter": "python",
   "pygments_lexer": "ipython3",
   "version": "3.9.2"
  }
 },
 "nbformat": 4,
 "nbformat_minor": 5
}
